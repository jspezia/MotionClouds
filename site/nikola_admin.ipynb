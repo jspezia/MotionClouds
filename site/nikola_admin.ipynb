{
 "metadata": {
  "name": "",
  "signature": "sha256:bd03b26c3815211d44a5fe6d2b5a6038b4a2e93dd7bcc57fc85e881303b06b99"
 },
 "nbformat": 3,
 "nbformat_minor": 0,
 "worksheets": [
  {
   "cells": [
    {
     "cell_type": "markdown",
     "metadata": {},
     "source": [
      "creating a new page\n",
      "-------------------"
     ]
    },
    {
     "cell_type": "code",
     "collapsed": false,
     "input": [
      "from nikola import utils\n",
      "title = u\"Motion Clouds utilities\"\n",
      "tags_list = ['python', 'motionclouds']\n",
      "tags = ', '.join(tags_list)\n",
      "\n",
      "print tags\n",
      "!nikola new_post -f ipynb -t \"{title}\" --tags=\"{tags}\""
     ],
     "language": "python",
     "metadata": {},
     "outputs": [
      {
       "output_type": "stream",
       "stream": "stdout",
       "text": [
        "python, motionclouds\n"
       ]
      },
      {
       "output_type": "stream",
       "stream": "stdout",
       "text": [
        "Creating New Post\r\n",
        "-----------------\r\n",
        "\r\n",
        "Title: Motion Clouds utilities\r\n",
        "Scanning posts..."
       ]
      },
      {
       "output_type": "stream",
       "stream": "stdout",
       "text": [
        "Traceback (most recent call last):\r\n",
        "  File \"/usr/local/lib/python2.7/site-packages/doit/doit_cmd.py\", line 120, in run\r\n",
        "    return command.parse_execute(args)\r\n",
        "  File \"/usr/local/lib/python2.7/site-packages/doit/cmd_base.py\", line 78, in parse_execute\r\n",
        "    return self.execute(params, args)\r\n",
        "  File \"/usr/local/lib/python2.7/site-packages/nikola/plugin_categories.py\", line 102, in execute\r\n",
        "    self._execute(options, args)\r\n",
        "  File \"/usr/local/lib/python2.7/site-packages/nikola/plugins/command/new_post.py\", line 291, in _execute\r\n",
        "    self.site.scan_posts()\r\n",
        "  File \"/usr/local/lib/python2.7/site-packages/nikola/nikola.py\", line 1191, in scan_posts\r\n",
        "    self.get_compiler(base_path)\r\n",
        "  File \"/usr/local/lib/python2.7/site-packages/nikola/post.py\", line 167, in __init__\r\n",
        "    source_path))\r\n",
        "OSError: You must set a title (found '\"input\": ['), a slug (found 'testing_utilities') and a date (found 'None')! [in file posts/testing_utilities.ipynb]\r\n"
       ]
      }
     ],
     "prompt_number": 5
    },
    {
     "cell_type": "code",
     "collapsed": false,
     "input": [
      "%pwd\n"
     ],
     "language": "python",
     "metadata": {},
     "outputs": [
      {
       "metadata": {},
       "output_type": "pyout",
       "prompt_number": 6,
       "text": [
        "u'/Users/lolo/Dropbox/science/MotionClouds'"
       ]
      }
     ],
     "prompt_number": 6
    },
    {
     "cell_type": "code",
     "collapsed": false,
     "input": [
      "%cat posts/testing_utilities.meta"
     ],
     "language": "python",
     "metadata": {},
     "outputs": [
      {
       "output_type": "stream",
       "stream": "stdout",
       "text": [
        "cat: posts/testing_utilities.meta: No such file or directory\r\n"
       ]
      }
     ],
     "prompt_number": 7
    },
    {
     "cell_type": "code",
     "collapsed": false,
     "input": [],
     "language": "python",
     "metadata": {},
     "outputs": []
    },
    {
     "cell_type": "code",
     "collapsed": false,
     "input": [
      "from nikola import utils\n",
      "title = u\"14-10-08 Moving from Mayavi to Matplotlib\"\n",
      "tags_list = ['python', 'motionclouds']\n",
      "tags = ', '.join(tags_list)\n",
      "\n",
      "print tags\n",
      "!nikola new_post -f ipynb -t \"{title}\" --tags=\"{tags}\""
     ],
     "language": "python",
     "metadata": {},
     "outputs": [
      {
       "output_type": "stream",
       "stream": "stdout",
       "text": [
        "python, motionclouds\n"
       ]
      },
      {
       "output_type": "stream",
       "stream": "stdout",
       "text": [
        "Creating New Post\r\n",
        "-----------------\r\n",
        "\r\n",
        "Title: 14-10-08 Moving from Mayavi to Matplotlib\r\n",
        "Scanning posts........done!\r\n",
        "\u001b[33;01m[2014-10-08T10:44:00Z] WARNING: new_post: This compiler does not support one-file posts.\r\n",
        "\u001b[39;49;00m\u001b[37m[2014-10-08T10:44:00Z] INFO: new_post: Your post's metadata is at: posts/14-10-08-moving-from-mayavi-to-matplotlib.meta\r\n",
        "\u001b[39;49;00m\u001b[37m[2014-10-08T10:44:00Z] INFO: new_post: Your post's text is at: posts/14-10-08-moving-from-mayavi-to-matplotlib.ipynb\r\n",
        "\u001b[39;49;00m"
       ]
      }
     ],
     "prompt_number": 1
    },
    {
     "cell_type": "code",
     "collapsed": false,
     "input": [
      "%cat posts/14-10-08-moving-from-mayavi-to-matplotlib.meta\n"
     ],
     "language": "python",
     "metadata": {},
     "outputs": [
      {
       "output_type": "stream",
       "stream": "stdout",
       "text": [
        ".. title: 14-10-08 Moving from Mayavi to Matplotlib\r\n",
        ".. slug: 14-10-08-moving-from-mayavi-to-matplotlib\r\n",
        ".. date: 2014-10-08 12:44:00 UTC+02:00\r\n",
        ".. tags: python, motionclouds\r\n",
        ".. link: \r\n",
        ".. description: \r\n",
        ".. type: text\r\n"
       ]
      }
     ],
     "prompt_number": 2
    },
    {
     "cell_type": "code",
     "collapsed": false,
     "input": [
      "!git s"
     ],
     "language": "python",
     "metadata": {},
     "outputs": [
      {
       "output_type": "stream",
       "stream": "stdout",
       "text": [
        "\u001b[36m??\u001b[m posts/14-10-08-moving-from-mayavi-to-matplotlib.ipynb\r\n",
        "\u001b[36m??\u001b[m posts/14-10-08-moving-from-mayavi-to-matplotlib.meta\r\n"
       ]
      }
     ],
     "prompt_number": 3
    },
    {
     "cell_type": "code",
     "collapsed": false,
     "input": [],
     "language": "python",
     "metadata": {},
     "outputs": []
    }
   ],
   "metadata": {}
  }
 ]
}