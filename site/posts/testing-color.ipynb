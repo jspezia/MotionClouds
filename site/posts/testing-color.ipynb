{
 "metadata": {
  "name": "",
  "signature": "sha256:64a13819b6169d530ae45bdc5304ee4e5f2fca767c11a802a379abdbe6bef5fc"
 },
 "nbformat": 3,
 "nbformat_minor": 0,
 "worksheets": [
  {
   "cells": [
    {
     "cell_type": "heading",
     "level": 1,
     "metadata": {},
     "source": [
      "Testing the Color"
     ]
    },
    {
     "cell_type": "code",
     "collapsed": false,
     "input": [
      "import numpy as np\n",
      "np.set_printoptions(precision=3, suppress=True)\n",
      "import pylab\n",
      "import matplotlib.pyplot as plt\n",
      "%matplotlib inline"
     ],
     "language": "python",
     "metadata": {},
     "outputs": [],
     "prompt_number": 1
    },
    {
     "cell_type": "code",
     "collapsed": false,
     "input": [
      "import MotionClouds as mc\n",
      "fx, fy, ft = mc.get_grids(mc.N_X, mc.N_Y, mc.N_frame)\n",
      "#mc.recompute = True\n",
      "mc.notebook = True"
     ],
     "language": "python",
     "metadata": {},
     "outputs": [],
     "prompt_number": 2
    },
    {
     "cell_type": "code",
     "collapsed": false,
     "input": [
      "name = 'color'\n",
      "fx, fy, ft = mc.get_grids(mc.N_X, mc.N_Y, mc.N_frame)\n",
      "z = mc.envelope_color(fx, fy, ft)\n",
      "mc.figures(z, name)\n",
      "\n",
      "# explore parameters\n",
      "for alpha in [0.0, 0.5, 1.0, 1.5, 2.0]:\n",
      "    # resp. white(0), pink(1), red(2) or brownian noise (see http://en.wikipedia.org/wiki/1/f_noise\n",
      "    name_ = name + '-alpha-' + str(alpha).replace('.', '_')\n",
      "    z = mc.envelope_color(fx, fy, ft, alpha)\n",
      "    mc.figures(z, name_)\n",
      "\n",
      "for ft_0 in [0.125, 0.25, 0.5, 1., 2., 4., np.inf]:# time space scaling\n",
      "    name_ = name + '-ft_0-' + str(ft_0).replace('.', '_')\n",
      "    z = mc.envelope_color(fx, fy, ft, ft_0=ft_0)\n",
      "    mc.figures(z, name_)\n",
      "\n",
      "for contrast in [0.1, 0.25, 0.5, 0.75, 1.0, 2.0]:\n",
      "    name_ = name + '-contrast-' + str(contrast).replace('.', '_')\n",
      "    im = mc.rectif(mc.random_cloud(mc.envelope_color(fx, fy, ft)), contrast)\n",
      "    mc.anim_save(im, os.path.join(mc.figpath, name_), display=False)\n",
      "\n",
      "for contrast in [0.1, 0.25, 0.5, 0.75, 1.0, 2.0]:\n",
      "    name_ = name + '-energy_contrast-' + str(contrast).replace('.', '_')\n",
      "    im = mc.rectif(mc.random_cloud(mc.envelope_color(fx, fy, ft)), contrast, method='energy')\n",
      "    mc.anim_save(im, os.path.join(mc.figpath, name_), display=False)\n",
      "\n",
      "for seed in [123456 + step for step in range(7)]:\n",
      "    name_ = name + '-seed-' + str(seed)\n",
      "    mc.anim_save(mc.rectif(mc.random_cloud(mc.envelope_color(fx, fy, ft), seed=seed)), os.path.join(mc.figpath, name_), display=False)\n",
      "\n",
      "for size in range(5, 7):\n",
      "    N_X, N_Y, N_frame = 2**size, 2**size, 2**size\n",
      "    fx, fy, ft = mc.get_grids(N_X, N_Y, N_frame)\n",
      "    ft_0 = N_X/float(N_frame)\n",
      "    name_ = name + '-size-' + str(size).replace('.', '_')\n",
      "    z = mc.envelope_color(fx, fy, ft, ft_0=ft_0)\n",
      "    mc.figures(z, name_)\n",
      "\n",
      "for size in range(5, 7):\n",
      "    N_frame = 2**size\n",
      "    fx, fy, ft = mc.get_grids(mc.N_X, mc.N_Y, N_frame)\n",
      "    ft_0 = N_X/float(N_frame)\n",
      "    name_ = name + '-size_T-' + str(size).replace('.', '_')\n",
      "    z = mc.envelope_color(fx, fy, ft, ft_0=ft_0)\n",
      "    mc.figures(z, name_, do_figs=False)"
     ],
     "language": "python",
     "metadata": {},
     "outputs": []
    }
   ],
   "metadata": {}
  }
 ]
}