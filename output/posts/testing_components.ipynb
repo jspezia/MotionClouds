{
 "metadata": {
  "name": "",
  "signature": "sha256:db609bf839e20c447483186f9b6d1b3cca8138a9a356a9e558159c39075234a7"
 },
 "nbformat": 3,
 "nbformat_minor": 0,
 "worksheets": [
  {
   "cells": [
    {
     "cell_type": "heading",
     "level": 1,
     "metadata": {},
     "source": [
      "Motion Clouds: testing components of the envelope"
     ]
    },
    {
     "cell_type": "code",
     "collapsed": false,
     "input": [
      "import numpy as np\n",
      "np.set_printoptions(precision=3, suppress=True)\n",
      "import pylab\n",
      "import matplotlib.pyplot as plt\n",
      "%matplotlib inline"
     ],
     "language": "python",
     "metadata": {},
     "outputs": [],
     "prompt_number": 1
    },
    {
     "cell_type": "code",
     "collapsed": false,
     "input": [
      "import os, sys\n",
      "sys.path.append('..')\n",
      "import MotionClouds as mc\n",
      "fx, fy, ft = mc.get_grids(mc.N_X, mc.N_Y, mc.N_frame)\n",
      "#mc.recompute = True\n",
      "mc.notebook = True"
     ],
     "language": "python",
     "metadata": {},
     "outputs": [],
     "prompt_number": 2
    },
    {
     "cell_type": "heading",
     "level": 2,
     "metadata": {},
     "source": [
      "Testing the color"
     ]
    },
    {
     "cell_type": "code",
     "collapsed": false,
     "input": [
      "%bookmark root"
     ],
     "language": "python",
     "metadata": {},
     "outputs": [],
     "prompt_number": 3
    },
    {
     "cell_type": "code",
     "collapsed": false,
     "input": [
      "%cd .."
     ],
     "language": "python",
     "metadata": {},
     "outputs": [
      {
       "output_type": "stream",
       "stream": "stdout",
       "text": [
        "/Users/lolo/Dropbox/science/MotionClouds\n"
       ]
      }
     ],
     "prompt_number": 4
    },
    {
     "cell_type": "code",
     "collapsed": false,
     "input": [
      "%run test_color.py"
     ],
     "language": "python",
     "metadata": {},
     "outputs": [
      {
       "output_type": "stream",
       "stream": "stderr",
       "text": [
        "WARNING:traits.has_traits:DEPRECATED: traits.has_traits.wrapped_class, 'the 'implements' class advisor has been deprecated. Use the 'provides' class decorator.\n"
       ]
      },
      {
       "output_type": "stream",
       "stream": "stderr",
       "text": [
        "\r",
        "[  0 %] elapsed[sec]: 0.000"
       ]
      },
      {
       "output_type": "stream",
       "stream": "stdout",
       "text": [
        "Imported Mayavi\n",
        "Saving sequence results/color-contrast-0_1.webm"
       ]
      },
      {
       "output_type": "stream",
       "stream": "stderr",
       "text": [
        "\r",
        "[  0 %] elapsed[sec]: 0.013 | ETA[sec]: 1.685 "
       ]
      },
      {
       "output_type": "stream",
       "stream": "stderr",
       "text": [
        "\r",
        "[  2 %] elapsed[sec]: 0.017 | ETA[sec]: 0.724 "
       ]
      },
      {
       "output_type": "stream",
       "stream": "stderr",
       "text": [
        "\r",
        "[  4 %] elapsed[sec]: 0.020 | ETA[sec]: 0.416 "
       ]
      },
      {
       "output_type": "stream",
       "stream": "stderr",
       "text": [
        "\r",
        "[  7 %] elapsed[sec]: 0.024 | ETA[sec]: 0.282 "
       ]
      },
      {
       "output_type": "stream",
       "stream": "stderr",
       "text": [
        "\r",
        "[ 11 %] elapsed[sec]: 0.028 | ETA[sec]: 0.210 "
       ]
      },
      {
       "output_type": "stream",
       "stream": "stderr",
       "text": [
        "\r",
        "[ 16 %] elapsed[sec]: 0.032 | ETA[sec]: 0.162 "
       ]
      },
      {
       "output_type": "stream",
       "stream": "stderr",
       "text": [
        "\r",
        "[ 21 %] elapsed[sec]: 0.036 | ETA[sec]: 0.128 "
       ]
      },
      {
       "output_type": "stream",
       "stream": "stderr",
       "text": [
        "\r",
        "[ 28 %] elapsed[sec]: 0.040 | ETA[sec]: 0.102 "
       ]
      },
      {
       "output_type": "stream",
       "stream": "stderr",
       "text": [
        "\r",
        "[ 35 %] elapsed[sec]: 0.044 | ETA[sec]: 0.081 "
       ]
      },
      {
       "output_type": "stream",
       "stream": "stderr",
       "text": [
        "\r",
        "[ 42 %] elapsed[sec]: 0.047 | ETA[sec]: 0.062 "
       ]
      },
      {
       "output_type": "stream",
       "stream": "stderr",
       "text": [
        "\r",
        "[ 51 %] elapsed[sec]: 0.050 | ETA[sec]: 0.047 "
       ]
      },
      {
       "output_type": "stream",
       "stream": "stderr",
       "text": [
        "\r",
        "[ 60 %] elapsed[sec]: 0.054 | ETA[sec]: 0.034 "
       ]
      },
      {
       "output_type": "stream",
       "stream": "stderr",
       "text": [
        "\r",
        "[ 71 %] elapsed[sec]: 0.057 | ETA[sec]: 0.023 "
       ]
      },
      {
       "output_type": "stream",
       "stream": "stderr",
       "text": [
        "\r",
        "[ 82 %] elapsed[sec]: 0.060 | ETA[sec]: 0.013 "
       ]
      },
      {
       "output_type": "stream",
       "stream": "stderr",
       "text": [
        "\r",
        "[ 93 %] elapsed[sec]: 0.063 | ETA[sec]: 0.004 "
       ]
      },
      {
       "output_type": "stream",
       "stream": "stderr",
       "text": [
        "\r",
        "[106 %] elapsed[sec]: 0.066 | ETA[sec]: -0.004 "
       ]
      },
      {
       "output_type": "stream",
       "stream": "stderr",
       "text": [
        "\r",
        "[119 %] elapsed[sec]: 0.069 | ETA[sec]: -0.011 "
       ]
      },
      {
       "output_type": "stream",
       "stream": "stderr",
       "text": [
        "\r",
        "[133 %] elapsed[sec]: 0.072 | ETA[sec]: -0.018 "
       ]
      },
      {
       "output_type": "stream",
       "stream": "stderr",
       "text": [
        "\r",
        "[148 %] elapsed[sec]: 0.075 | ETA[sec]: -0.025 "
       ]
      },
      {
       "output_type": "stream",
       "stream": "stderr",
       "text": [
        "\r",
        "[164 %] elapsed[sec]: 0.078 | ETA[sec]: -0.031 "
       ]
      },
      {
       "output_type": "stream",
       "stream": "stderr",
       "text": [
        "\r",
        "[180 %] elapsed[sec]: 0.081 | ETA[sec]: -0.036 "
       ]
      },
      {
       "output_type": "stream",
       "stream": "stderr",
       "text": [
        "\r",
        "[197 %] elapsed[sec]: 0.084 | ETA[sec]: -0.042 "
       ]
      },
      {
       "output_type": "stream",
       "stream": "stderr",
       "text": [
        "\r",
        "[215 %] elapsed[sec]: 0.087 | ETA[sec]: -0.047 "
       ]
      },
      {
       "output_type": "stream",
       "stream": "stderr",
       "text": [
        "\r",
        "[234 %] elapsed[sec]: 0.090 | ETA[sec]: -0.051 "
       ]
      },
      {
       "output_type": "stream",
       "stream": "stderr",
       "text": [
        "\r",
        "[253 %] elapsed[sec]: 0.092 | ETA[sec]: -0.056 "
       ]
      },
      {
       "output_type": "stream",
       "stream": "stderr",
       "text": [
        "\r",
        "[274 %] elapsed[sec]: 0.095 | ETA[sec]: -0.061 "
       ]
      },
      {
       "output_type": "stream",
       "stream": "stderr",
       "text": [
        "\r",
        "[295 %] elapsed[sec]: 0.098 | ETA[sec]: -0.065 "
       ]
      },
      {
       "output_type": "stream",
       "stream": "stderr",
       "text": [
        "\r",
        "[317 %] elapsed[sec]: 0.102 | ETA[sec]: -0.070 "
       ]
      },
      {
       "output_type": "stream",
       "stream": "stderr",
       "text": [
        "\r",
        "[339 %] elapsed[sec]: 0.106 | ETA[sec]: -0.075 "
       ]
      },
      {
       "output_type": "stream",
       "stream": "stderr",
       "text": [
        "\r",
        "[363 %] elapsed[sec]: 0.110 | ETA[sec]: -0.080 "
       ]
      },
      {
       "output_type": "stream",
       "stream": "stderr",
       "text": [
        "\r",
        "[387 %] elapsed[sec]: 0.113 | ETA[sec]: -0.084 "
       ]
      },
      {
       "output_type": "stream",
       "stream": "stderr",
       "text": [
        "\r",
        "[412 %] elapsed[sec]: 0.115 | ETA[sec]: -0.087 "
       ]
      },
      {
       "output_type": "stream",
       "stream": "stderr",
       "text": [
        "\r",
        "[438 %] elapsed[sec]: 0.118 | ETA[sec]: -0.091 "
       ]
      },
      {
       "output_type": "stream",
       "stream": "stderr",
       "text": [
        "\r",
        "[464 %] elapsed[sec]: 0.121 | ETA[sec]: -0.095 "
       ]
      },
      {
       "output_type": "stream",
       "stream": "stderr",
       "text": [
        "\r",
        "[492 %] elapsed[sec]: 0.124 | ETA[sec]: -0.099 "
       ]
      },
      {
       "output_type": "stream",
       "stream": "stderr",
       "text": [
        "\r",
        "[520 %] elapsed[sec]: 0.127 | ETA[sec]: -0.103 "
       ]
      },
      {
       "output_type": "stream",
       "stream": "stderr",
       "text": [
        "\r",
        "[549 %] elapsed[sec]: 0.130 | ETA[sec]: -0.106 "
       ]
      },
      {
       "output_type": "stream",
       "stream": "stderr",
       "text": [
        "\r",
        "[578 %] elapsed[sec]: 0.133 | ETA[sec]: -0.110 "
       ]
      },
      {
       "output_type": "stream",
       "stream": "stderr",
       "text": [
        "\r",
        "[609 %] elapsed[sec]: 0.136 | ETA[sec]: -0.113 "
       ]
      },
      {
       "output_type": "stream",
       "stream": "stderr",
       "text": [
        "\r",
        "[640 %] elapsed[sec]: 0.139 | ETA[sec]: -0.117 "
       ]
      },
      {
       "output_type": "stream",
       "stream": "stderr",
       "text": [
        "\r",
        "[672 %] elapsed[sec]: 0.142 | ETA[sec]: -0.121 "
       ]
      },
      {
       "output_type": "stream",
       "stream": "stderr",
       "text": [
        "\r",
        "[705 %] elapsed[sec]: 0.144 | ETA[sec]: -0.124 "
       ]
      },
      {
       "output_type": "stream",
       "stream": "stderr",
       "text": [
        "\r",
        "[739 %] elapsed[sec]: 0.148 | ETA[sec]: -0.128 "
       ]
      },
      {
       "output_type": "stream",
       "stream": "stderr",
       "text": [
        "\r",
        "[773 %] elapsed[sec]: 0.151 | ETA[sec]: -0.131 "
       ]
      },
      {
       "output_type": "stream",
       "stream": "stderr",
       "text": [
        "\r",
        "[808 %] elapsed[sec]: 0.154 | ETA[sec]: -0.135 "
       ]
      },
      {
       "output_type": "stream",
       "stream": "stderr",
       "text": [
        "\r",
        "[844 %] elapsed[sec]: 0.156 | ETA[sec]: -0.138 "
       ]
      },
      {
       "output_type": "stream",
       "stream": "stderr",
       "text": [
        "\r",
        "[881 %] elapsed[sec]: 0.160 | ETA[sec]: -0.142 "
       ]
      },
      {
       "output_type": "stream",
       "stream": "stderr",
       "text": [
        "\r",
        "[918 %] elapsed[sec]: 0.163 | ETA[sec]: -0.145 "
       ]
      },
      {
       "output_type": "stream",
       "stream": "stderr",
       "text": [
        "\r",
        "[957 %] elapsed[sec]: 0.167 | ETA[sec]: -0.150 "
       ]
      },
      {
       "output_type": "stream",
       "stream": "stderr",
       "text": [
        "\r",
        "[996 %] elapsed[sec]: 0.171 | ETA[sec]: -0.154 "
       ]
      },
      {
       "output_type": "stream",
       "stream": "stderr",
       "text": [
        "\r",
        "[1035 %] elapsed[sec]: 0.174 | ETA[sec]: -0.157 "
       ]
      },
      {
       "output_type": "stream",
       "stream": "stderr",
       "text": [
        "\r",
        "[1076 %] elapsed[sec]: 0.177 | ETA[sec]: -0.160 "
       ]
      },
      {
       "output_type": "stream",
       "stream": "stderr",
       "text": [
        "\r",
        "[1117 %] elapsed[sec]: 0.180 | ETA[sec]: -0.164 "
       ]
      },
      {
       "output_type": "stream",
       "stream": "stderr",
       "text": [
        "\r",
        "[1160 %] elapsed[sec]: 0.182 | ETA[sec]: -0.167 "
       ]
      },
      {
       "output_type": "stream",
       "stream": "stderr",
       "text": [
        "\r",
        "[1203 %] elapsed[sec]: 0.185 | ETA[sec]: -0.170 "
       ]
      },
      {
       "output_type": "stream",
       "stream": "stderr",
       "text": [
        "\r",
        "[1246 %] elapsed[sec]: 0.188 | ETA[sec]: -0.173 "
       ]
      },
      {
       "output_type": "stream",
       "stream": "stderr",
       "text": [
        "\r",
        "[1291 %] elapsed[sec]: 0.191 | ETA[sec]: -0.176 "
       ]
      },
      {
       "output_type": "stream",
       "stream": "stderr",
       "text": [
        "\r",
        "[1336 %] elapsed[sec]: 0.194 | ETA[sec]: -0.179 "
       ]
      },
      {
       "output_type": "stream",
       "stream": "stderr",
       "text": [
        "\r",
        "[1382 %] elapsed[sec]: 0.197 | ETA[sec]: -0.182 "
       ]
      },
      {
       "output_type": "stream",
       "stream": "stderr",
       "text": [
        "\r",
        "[1429 %] elapsed[sec]: 0.200 | ETA[sec]: -0.186 "
       ]
      },
      {
       "output_type": "stream",
       "stream": "stderr",
       "text": [
        "\r",
        "[1477 %] elapsed[sec]: 0.203 | ETA[sec]: -0.189 "
       ]
      },
      {
       "output_type": "stream",
       "stream": "stderr",
       "text": [
        "\r",
        "[1525 %] elapsed[sec]: 0.206 | ETA[sec]: -0.192 "
       ]
      },
      {
       "output_type": "stream",
       "stream": "stderr",
       "text": [
        "\r",
        "[1575 %] elapsed[sec]: 0.209 | ETA[sec]: -0.195 "
       ]
      },
      {
       "output_type": "stream",
       "stream": "stderr",
       "text": [
        "\r",
        "[1625 %] elapsed[sec]: 0.211 | ETA[sec]: -0.198 "
       ]
      },
      {
       "output_type": "stream",
       "stream": "stderr",
       "text": [
        "\r",
        "[1675 %] elapsed[sec]: 0.214 | ETA[sec]: -0.201 "
       ]
      },
      {
       "output_type": "stream",
       "stream": "stderr",
       "text": [
        "\r",
        "[1727 %] elapsed[sec]: 0.217 | ETA[sec]: -0.204 "
       ]
      },
      {
       "output_type": "stream",
       "stream": "stderr",
       "text": [
        "\r",
        "[1779 %] elapsed[sec]: 0.220 | ETA[sec]: -0.208 "
       ]
      },
      {
       "output_type": "stream",
       "stream": "stderr",
       "text": [
        "\r",
        "[1832 %] elapsed[sec]: 0.223 | ETA[sec]: -0.210 "
       ]
      },
      {
       "output_type": "stream",
       "stream": "stderr",
       "text": [
        "\r",
        "[1886 %] elapsed[sec]: 0.225 | ETA[sec]: -0.213 "
       ]
      },
      {
       "output_type": "stream",
       "stream": "stderr",
       "text": [
        "\r",
        "[1941 %] elapsed[sec]: 0.228 | ETA[sec]: -0.216 "
       ]
      },
      {
       "output_type": "stream",
       "stream": "stderr",
       "text": [
        "\r",
        "[1996 %] elapsed[sec]: 0.231 | ETA[sec]: -0.219 "
       ]
      },
      {
       "output_type": "stream",
       "stream": "stderr",
       "text": [
        "\r",
        "[2053 %] elapsed[sec]: 0.234 | ETA[sec]: -0.222 "
       ]
      },
      {
       "output_type": "stream",
       "stream": "stderr",
       "text": [
        "\r",
        "[2110 %] elapsed[sec]: 0.237 | ETA[sec]: -0.226 "
       ]
      },
      {
       "output_type": "stream",
       "stream": "stderr",
       "text": [
        "\r",
        "[2167 %] elapsed[sec]: 0.240 | ETA[sec]: -0.229 "
       ]
      },
      {
       "output_type": "stream",
       "stream": "stderr",
       "text": [
        "\r",
        "[2226 %] elapsed[sec]: 0.243 | ETA[sec]: -0.232 "
       ]
      },
      {
       "output_type": "stream",
       "stream": "stderr",
       "text": [
        "\r",
        "[2285 %] elapsed[sec]: 0.245 | ETA[sec]: -0.235 "
       ]
      },
      {
       "output_type": "stream",
       "stream": "stderr",
       "text": [
        "\r",
        "[2346 %] elapsed[sec]: 0.248 | ETA[sec]: -0.238 "
       ]
      },
      {
       "output_type": "stream",
       "stream": "stderr",
       "text": [
        "\r",
        "[2407 %] elapsed[sec]: 0.251 | ETA[sec]: -0.241 "
       ]
      },
      {
       "output_type": "stream",
       "stream": "stderr",
       "text": [
        "\r",
        "[2468 %] elapsed[sec]: 0.254 | ETA[sec]: -0.244 "
       ]
      },
      {
       "output_type": "stream",
       "stream": "stderr",
       "text": [
        "\r",
        "[2531 %] elapsed[sec]: 0.257 | ETA[sec]: -0.247 "
       ]
      },
      {
       "output_type": "stream",
       "stream": "stderr",
       "text": [
        "\r",
        "[2594 %] elapsed[sec]: 0.259 | ETA[sec]: -0.249 "
       ]
      },
      {
       "output_type": "stream",
       "stream": "stderr",
       "text": [
        "\r",
        "[2658 %] elapsed[sec]: 0.262 | ETA[sec]: -0.252 "
       ]
      },
      {
       "output_type": "stream",
       "stream": "stderr",
       "text": [
        "\r",
        "[2723 %] elapsed[sec]: 0.266 | ETA[sec]: -0.257 "
       ]
      },
      {
       "output_type": "stream",
       "stream": "stderr",
       "text": [
        "\r",
        "[2789 %] elapsed[sec]: 0.271 | ETA[sec]: -0.261 "
       ]
      },
      {
       "output_type": "stream",
       "stream": "stderr",
       "text": [
        "\r",
        "[2855 %] elapsed[sec]: 0.274 | ETA[sec]: -0.264 "
       ]
      },
      {
       "output_type": "stream",
       "stream": "stderr",
       "text": [
        "\r",
        "[2922 %] elapsed[sec]: 0.278 | ETA[sec]: -0.269 "
       ]
      },
      {
       "output_type": "stream",
       "stream": "stderr",
       "text": [
        "\r",
        "[2990 %] elapsed[sec]: 0.282 | ETA[sec]: -0.273 "
       ]
      },
      {
       "output_type": "stream",
       "stream": "stderr",
       "text": [
        "\r",
        "[3059 %] elapsed[sec]: 0.285 | ETA[sec]: -0.276 "
       ]
      },
      {
       "output_type": "stream",
       "stream": "stderr",
       "text": [
        "\r",
        "[3128 %] elapsed[sec]: 0.288 | ETA[sec]: -0.279 "
       ]
      },
      {
       "output_type": "stream",
       "stream": "stderr",
       "text": [
        "\r",
        "[3199 %] elapsed[sec]: 0.291 | ETA[sec]: -0.282 "
       ]
      },
      {
       "output_type": "stream",
       "stream": "stderr",
       "text": [
        "\r",
        "[3270 %] elapsed[sec]: 0.294 | ETA[sec]: -0.285 "
       ]
      },
      {
       "output_type": "stream",
       "stream": "stderr",
       "text": [
        "\r",
        "[3342 %] elapsed[sec]: 0.297 | ETA[sec]: -0.288 "
       ]
      },
      {
       "output_type": "stream",
       "stream": "stderr",
       "text": [
        "\r",
        "[3414 %] elapsed[sec]: 0.300 | ETA[sec]: -0.291 "
       ]
      },
      {
       "output_type": "stream",
       "stream": "stderr",
       "text": [
        "\r",
        "[3488 %] elapsed[sec]: 0.303 | ETA[sec]: -0.294 "
       ]
      },
      {
       "output_type": "stream",
       "stream": "stderr",
       "text": [
        "\r",
        "[3562 %] elapsed[sec]: 0.305 | ETA[sec]: -0.297 "
       ]
      },
      {
       "output_type": "stream",
       "stream": "stderr",
       "text": [
        "\r",
        "[3637 %] elapsed[sec]: 0.308 | ETA[sec]: -0.300 "
       ]
      },
      {
       "output_type": "stream",
       "stream": "stderr",
       "text": [
        "\r",
        "[3713 %] elapsed[sec]: 0.311 | ETA[sec]: -0.303 "
       ]
      },
      {
       "output_type": "stream",
       "stream": "stderr",
       "text": [
        "\r",
        "[3789 %] elapsed[sec]: 0.314 | ETA[sec]: -0.306 "
       ]
      },
      {
       "output_type": "stream",
       "stream": "stderr",
       "text": [
        "\r",
        "[3867 %] elapsed[sec]: 0.317 | ETA[sec]: -0.309 "
       ]
      },
      {
       "output_type": "stream",
       "stream": "stderr",
       "text": [
        "\r",
        "[3945 %] elapsed[sec]: 0.321 | ETA[sec]: -0.313 "
       ]
      },
      {
       "output_type": "stream",
       "stream": "stderr",
       "text": [
        "\r",
        "[4024 %] elapsed[sec]: 0.324 | ETA[sec]: -0.316 "
       ]
      },
      {
       "output_type": "stream",
       "stream": "stderr",
       "text": [
        "\r",
        "[4103 %] elapsed[sec]: 0.326 | ETA[sec]: -0.318 "
       ]
      },
      {
       "output_type": "stream",
       "stream": "stderr",
       "text": [
        "\r",
        "[4184 %] elapsed[sec]: 0.329 | ETA[sec]: -0.321 "
       ]
      },
      {
       "output_type": "stream",
       "stream": "stderr",
       "text": [
        "\r",
        "[4265 %] elapsed[sec]: 0.332 | ETA[sec]: -0.325 "
       ]
      },
      {
       "output_type": "stream",
       "stream": "stderr",
       "text": [
        "\r",
        "[4347 %] elapsed[sec]: 0.335 | ETA[sec]: -0.328 "
       ]
      },
      {
       "output_type": "stream",
       "stream": "stderr",
       "text": [
        "\r",
        "[4430 %] elapsed[sec]: 0.338 | ETA[sec]: -0.331 "
       ]
      },
      {
       "output_type": "stream",
       "stream": "stderr",
       "text": [
        "\r",
        "[4514 %] elapsed[sec]: 0.341 | ETA[sec]: -0.334 "
       ]
      },
      {
       "output_type": "stream",
       "stream": "stderr",
       "text": [
        "\r",
        "[4598 %] elapsed[sec]: 0.344 | ETA[sec]: -0.337 "
       ]
      },
      {
       "output_type": "stream",
       "stream": "stderr",
       "text": [
        "\r",
        "[4683 %] elapsed[sec]: 0.347 | ETA[sec]: -0.340 "
       ]
      },
      {
       "output_type": "stream",
       "stream": "stderr",
       "text": [
        "\r",
        "[4769 %] elapsed[sec]: 0.350 | ETA[sec]: -0.343 "
       ]
      },
      {
       "output_type": "stream",
       "stream": "stderr",
       "text": [
        "\r",
        "[4856 %] elapsed[sec]: 0.353 | ETA[sec]: -0.346 "
       ]
      },
      {
       "output_type": "stream",
       "stream": "stderr",
       "text": [
        "\r",
        "[4943 %] elapsed[sec]: 0.356 | ETA[sec]: -0.349 "
       ]
      },
      {
       "output_type": "stream",
       "stream": "stderr",
       "text": [
        "\r",
        "[5032 %] elapsed[sec]: 0.359 | ETA[sec]: -0.352 "
       ]
      },
      {
       "output_type": "stream",
       "stream": "stderr",
       "text": [
        "\r",
        "[5121 %] elapsed[sec]: 0.361 | ETA[sec]: -0.354 "
       ]
      },
      {
       "output_type": "stream",
       "stream": "stderr",
       "text": [
        "\r",
        "[5210 %] elapsed[sec]: 0.365 | ETA[sec]: -0.358 "
       ]
      },
      {
       "output_type": "stream",
       "stream": "stderr",
       "text": [
        "\r",
        "[5301 %] elapsed[sec]: 0.369 | ETA[sec]: -0.362 "
       ]
      },
      {
       "output_type": "stream",
       "stream": "stderr",
       "text": [
        "\r",
        "[5392 %] elapsed[sec]: 0.373 | ETA[sec]: -0.366 "
       ]
      },
      {
       "output_type": "stream",
       "stream": "stderr",
       "text": [
        "\r",
        "[5485 %] elapsed[sec]: 0.376 | ETA[sec]: -0.369 "
       ]
      },
      {
       "output_type": "stream",
       "stream": "stderr",
       "text": [
        "\r",
        "[5578 %] elapsed[sec]: 0.379 | ETA[sec]: -0.372 "
       ]
      },
      {
       "output_type": "stream",
       "stream": "stderr",
       "text": [
        "\r",
        "[5671 %] elapsed[sec]: 0.382 | ETA[sec]: -0.375 "
       ]
      },
      {
       "output_type": "stream",
       "stream": "stderr",
       "text": [
        "\r",
        "[5766 %] elapsed[sec]: 0.385 | ETA[sec]: -0.378 "
       ]
      },
      {
       "output_type": "stream",
       "stream": "stderr",
       "text": [
        "\r",
        "[5861 %] elapsed[sec]: 0.388 | ETA[sec]: -0.381 "
       ]
      },
      {
       "output_type": "stream",
       "stream": "stderr",
       "text": [
        "\r",
        "[5957 %] elapsed[sec]: 0.391 | ETA[sec]: -0.384 "
       ]
      },
      {
       "output_type": "stream",
       "stream": "stderr",
       "text": [
        "\r",
        "[6054 %] elapsed[sec]: 0.394 | ETA[sec]: -0.387 "
       ]
      },
      {
       "output_type": "stream",
       "stream": "stderr",
       "text": [
        "\r",
        "[6152 %] elapsed[sec]: 0.397 | ETA[sec]: -0.390 "
       ]
      },
      {
       "output_type": "stream",
       "stream": "stderr",
       "text": [
        "\r",
        "[6250 %] elapsed[sec]: 0.400 | ETA[sec]: -0.393 "
       ]
      },
      {
       "output_type": "stream",
       "stream": "stderr",
       "text": [
        "\r",
        "[6350 %] elapsed[sec]: 0.403 | ETA[sec]: -0.396 "
       ]
      },
      {
       "output_type": "stream",
       "stream": "stdout",
       "text": [
        "\n",
        "Title: \n",
        "                      Started: 09/22/2014 17:23:31\n",
        "                      Finished: 09/22/2014 17:23:31\n",
        "                      Total time elapsed: 0.000 sec"
       ]
      },
      {
       "output_type": "stream",
       "stream": "stderr",
       "text": [
        "\r",
        "[  0 %] elapsed[sec]: 0.000"
       ]
      },
      {
       "output_type": "stream",
       "stream": "stdout",
       "text": [
        "\n",
        "Saving sequence results/color-contrast-0_25.webm"
       ]
      },
      {
       "output_type": "stream",
       "stream": "stderr",
       "text": [
        "\r",
        "[  0 %] elapsed[sec]: 0.002 | ETA[sec]: 0.258 "
       ]
      },
      {
       "output_type": "stream",
       "stream": "stderr",
       "text": [
        "\r",
        "[  2 %] elapsed[sec]: 0.004 | ETA[sec]: 0.151 "
       ]
      },
      {
       "output_type": "stream",
       "stream": "stderr",
       "text": [
        "\r",
        "[  4 %] elapsed[sec]: 0.005 | ETA[sec]: 0.106 "
       ]
      },
      {
       "output_type": "stream",
       "stream": "stderr",
       "text": [
        "\r",
        "[  7 %] elapsed[sec]: 0.007 | ETA[sec]: 0.080 "
       ]
      },
      {
       "output_type": "stream",
       "stream": "stderr",
       "text": [
        "\r",
        "[ 11 %] elapsed[sec]: 0.009 | ETA[sec]: 0.066 "
       ]
      },
      {
       "output_type": "stream",
       "stream": "stderr",
       "text": [
        "\r",
        "[ 16 %] elapsed[sec]: 0.010 | ETA[sec]: 0.053 "
       ]
      },
      {
       "output_type": "stream",
       "stream": "stderr",
       "text": [
        "\r",
        "[ 21 %] elapsed[sec]: 0.012 | ETA[sec]: 0.045 "
       ]
      },
      {
       "output_type": "stream",
       "stream": "stderr",
       "text": [
        "\r",
        "[ 28 %] elapsed[sec]: 0.014 | ETA[sec]: 0.037 "
       ]
      },
      {
       "output_type": "stream",
       "stream": "stderr",
       "text": [
        "\r",
        "[ 35 %] elapsed[sec]: 0.016 | ETA[sec]: 0.030 "
       ]
      },
      {
       "output_type": "stream",
       "stream": "stderr",
       "text": [
        "\r",
        "[ 42 %] elapsed[sec]: 0.018 | ETA[sec]: 0.024 "
       ]
      },
      {
       "output_type": "stream",
       "stream": "stderr",
       "text": [
        "\r",
        "[ 51 %] elapsed[sec]: 0.019 | ETA[sec]: 0.018 "
       ]
      },
      {
       "output_type": "stream",
       "stream": "stderr",
       "text": [
        "\r",
        "[ 60 %] elapsed[sec]: 0.021 | ETA[sec]: 0.014 "
       ]
      },
      {
       "output_type": "stream",
       "stream": "stderr",
       "text": [
        "\r",
        "[ 71 %] elapsed[sec]: 0.023 | ETA[sec]: 0.009 "
       ]
      },
      {
       "output_type": "stream",
       "stream": "stderr",
       "text": [
        "\r",
        "[ 82 %] elapsed[sec]: 0.024 | ETA[sec]: 0.005 "
       ]
      },
      {
       "output_type": "stream",
       "stream": "stderr",
       "text": [
        "\r",
        "[ 93 %] elapsed[sec]: 0.026 | ETA[sec]: 0.002 "
       ]
      },
      {
       "output_type": "stream",
       "stream": "stderr",
       "text": [
        "\r",
        "[106 %] elapsed[sec]: 0.028 | ETA[sec]: -0.002 "
       ]
      },
      {
       "output_type": "stream",
       "stream": "stderr",
       "text": [
        "\r",
        "[119 %] elapsed[sec]: 0.030 | ETA[sec]: -0.005 "
       ]
      },
      {
       "output_type": "stream",
       "stream": "stderr",
       "text": [
        "\r",
        "[133 %] elapsed[sec]: 0.031 | ETA[sec]: -0.008 "
       ]
      },
      {
       "output_type": "stream",
       "stream": "stderr",
       "text": [
        "\r",
        "[148 %] elapsed[sec]: 0.034 | ETA[sec]: -0.011 "
       ]
      },
      {
       "output_type": "stream",
       "stream": "stderr",
       "text": [
        "\r",
        "[164 %] elapsed[sec]: 0.036 | ETA[sec]: -0.014 "
       ]
      },
      {
       "output_type": "stream",
       "stream": "stderr",
       "text": [
        "\r",
        "[180 %] elapsed[sec]: 0.037 | ETA[sec]: -0.017 "
       ]
      },
      {
       "output_type": "stream",
       "stream": "stderr",
       "text": [
        "\r",
        "[197 %] elapsed[sec]: 0.039 | ETA[sec]: -0.019 "
       ]
      },
      {
       "output_type": "stream",
       "stream": "stderr",
       "text": [
        "\r",
        "[215 %] elapsed[sec]: 0.041 | ETA[sec]: -0.022 "
       ]
      },
      {
       "output_type": "stream",
       "stream": "stderr",
       "text": [
        "\r",
        "[234 %] elapsed[sec]: 0.043 | ETA[sec]: -0.024 "
       ]
      },
      {
       "output_type": "stream",
       "stream": "stderr",
       "text": [
        "\r",
        "[253 %] elapsed[sec]: 0.045 | ETA[sec]: -0.027 "
       ]
      },
      {
       "output_type": "stream",
       "stream": "stderr",
       "text": [
        "\r",
        "[274 %] elapsed[sec]: 0.047 | ETA[sec]: -0.030 "
       ]
      },
      {
       "output_type": "stream",
       "stream": "stderr",
       "text": [
        "\r",
        "[295 %] elapsed[sec]: 0.050 | ETA[sec]: -0.033 "
       ]
      },
      {
       "output_type": "stream",
       "stream": "stderr",
       "text": [
        "\r",
        "[317 %] elapsed[sec]: 0.052 | ETA[sec]: -0.036 "
       ]
      },
      {
       "output_type": "stream",
       "stream": "stderr",
       "text": [
        "\r",
        "[339 %] elapsed[sec]: 0.054 | ETA[sec]: -0.038 "
       ]
      },
      {
       "output_type": "stream",
       "stream": "stderr",
       "text": [
        "\r",
        "[363 %] elapsed[sec]: 0.056 | ETA[sec]: -0.040 "
       ]
      },
      {
       "output_type": "stream",
       "stream": "stderr",
       "text": [
        "\r",
        "[387 %] elapsed[sec]: 0.057 | ETA[sec]: -0.043 "
       ]
      },
      {
       "output_type": "stream",
       "stream": "stderr",
       "text": [
        "\r",
        "[412 %] elapsed[sec]: 0.059 | ETA[sec]: -0.045 "
       ]
      },
      {
       "output_type": "stream",
       "stream": "stderr",
       "text": [
        "\r",
        "[438 %] elapsed[sec]: 0.060 | ETA[sec]: -0.047 "
       ]
      },
      {
       "output_type": "stream",
       "stream": "stderr",
       "text": [
        "\r",
        "[464 %] elapsed[sec]: 0.062 | ETA[sec]: -0.049 "
       ]
      },
      {
       "output_type": "stream",
       "stream": "stderr",
       "text": [
        "\r",
        "[492 %] elapsed[sec]: 0.064 | ETA[sec]: -0.051 "
       ]
      },
      {
       "output_type": "stream",
       "stream": "stderr",
       "text": [
        "\r",
        "[520 %] elapsed[sec]: 0.066 | ETA[sec]: -0.053 "
       ]
      },
      {
       "output_type": "stream",
       "stream": "stderr",
       "text": [
        "\r",
        "[549 %] elapsed[sec]: 0.067 | ETA[sec]: -0.055 "
       ]
      },
      {
       "output_type": "stream",
       "stream": "stderr",
       "text": [
        "\r",
        "[578 %] elapsed[sec]: 0.069 | ETA[sec]: -0.057 "
       ]
      },
      {
       "output_type": "stream",
       "stream": "stderr",
       "text": [
        "\r",
        "[609 %] elapsed[sec]: 0.071 | ETA[sec]: -0.059 "
       ]
      },
      {
       "output_type": "stream",
       "stream": "stderr",
       "text": [
        "\r",
        "[640 %] elapsed[sec]: 0.073 | ETA[sec]: -0.061 "
       ]
      },
      {
       "output_type": "stream",
       "stream": "stderr",
       "text": [
        "\r",
        "[672 %] elapsed[sec]: 0.074 | ETA[sec]: -0.063 "
       ]
      },
      {
       "output_type": "stream",
       "stream": "stderr",
       "text": [
        "\r",
        "[705 %] elapsed[sec]: 0.076 | ETA[sec]: -0.065 "
       ]
      },
      {
       "output_type": "stream",
       "stream": "stderr",
       "text": [
        "\r",
        "[739 %] elapsed[sec]: 0.078 | ETA[sec]: -0.067 "
       ]
      },
      {
       "output_type": "stream",
       "stream": "stderr",
       "text": [
        "\r",
        "[773 %] elapsed[sec]: 0.080 | ETA[sec]: -0.069 "
       ]
      },
      {
       "output_type": "stream",
       "stream": "stderr",
       "text": [
        "\r",
        "[808 %] elapsed[sec]: 0.081 | ETA[sec]: -0.071 "
       ]
      },
      {
       "output_type": "stream",
       "stream": "stderr",
       "text": [
        "\r",
        "[844 %] elapsed[sec]: 0.083 | ETA[sec]: -0.073 "
       ]
      },
      {
       "output_type": "stream",
       "stream": "stderr",
       "text": [
        "\r",
        "[881 %] elapsed[sec]: 0.085 | ETA[sec]: -0.075 "
       ]
      },
      {
       "output_type": "stream",
       "stream": "stderr",
       "text": [
        "\r",
        "[918 %] elapsed[sec]: 0.086 | ETA[sec]: -0.077 "
       ]
      },
      {
       "output_type": "stream",
       "stream": "stderr",
       "text": [
        "\r",
        "[957 %] elapsed[sec]: 0.088 | ETA[sec]: -0.079 "
       ]
      },
      {
       "output_type": "stream",
       "stream": "stderr",
       "text": [
        "\r",
        "[996 %] elapsed[sec]: 0.090 | ETA[sec]: -0.081 "
       ]
      },
      {
       "output_type": "stream",
       "stream": "stderr",
       "text": [
        "\r",
        "[1035 %] elapsed[sec]: 0.092 | ETA[sec]: -0.084 "
       ]
      },
      {
       "output_type": "stream",
       "stream": "stderr",
       "text": [
        "\r",
        "[1076 %] elapsed[sec]: 0.094 | ETA[sec]: -0.086 "
       ]
      },
      {
       "output_type": "stream",
       "stream": "stderr",
       "text": [
        "\r",
        "[1117 %] elapsed[sec]: 0.096 | ETA[sec]: -0.087 "
       ]
      },
      {
       "output_type": "stream",
       "stream": "stderr",
       "text": [
        "\r",
        "[1160 %] elapsed[sec]: 0.098 | ETA[sec]: -0.089 "
       ]
      },
      {
       "output_type": "stream",
       "stream": "stderr",
       "text": [
        "\r",
        "[1203 %] elapsed[sec]: 0.099 | ETA[sec]: -0.091 "
       ]
      },
      {
       "output_type": "stream",
       "stream": "stderr",
       "text": [
        "\r",
        "[1246 %] elapsed[sec]: 0.101 | ETA[sec]: -0.093 "
       ]
      },
      {
       "output_type": "stream",
       "stream": "stderr",
       "text": [
        "\r",
        "[1291 %] elapsed[sec]: 0.102 | ETA[sec]: -0.095 "
       ]
      },
      {
       "output_type": "stream",
       "stream": "stderr",
       "text": [
        "\r",
        "[1336 %] elapsed[sec]: 0.104 | ETA[sec]: -0.096 "
       ]
      },
      {
       "output_type": "stream",
       "stream": "stderr",
       "text": [
        "\r",
        "[1382 %] elapsed[sec]: 0.106 | ETA[sec]: -0.098 "
       ]
      },
      {
       "output_type": "stream",
       "stream": "stderr",
       "text": [
        "\r",
        "[1429 %] elapsed[sec]: 0.107 | ETA[sec]: -0.100 "
       ]
      },
      {
       "output_type": "stream",
       "stream": "stderr",
       "text": [
        "\r",
        "[1477 %] elapsed[sec]: 0.109 | ETA[sec]: -0.102 "
       ]
      },
      {
       "output_type": "stream",
       "stream": "stderr",
       "text": [
        "\r",
        "[1525 %] elapsed[sec]: 0.111 | ETA[sec]: -0.104 "
       ]
      },
      {
       "output_type": "stream",
       "stream": "stderr",
       "text": [
        "\r",
        "[1575 %] elapsed[sec]: 0.113 | ETA[sec]: -0.106 "
       ]
      },
      {
       "output_type": "stream",
       "stream": "stderr",
       "text": [
        "\r",
        "[1625 %] elapsed[sec]: 0.114 | ETA[sec]: -0.107 "
       ]
      },
      {
       "output_type": "stream",
       "stream": "stderr",
       "text": [
        "\r",
        "[1675 %] elapsed[sec]: 0.116 | ETA[sec]: -0.109 "
       ]
      },
      {
       "output_type": "stream",
       "stream": "stderr",
       "text": [
        "\r",
        "[1727 %] elapsed[sec]: 0.118 | ETA[sec]: -0.111 "
       ]
      },
      {
       "output_type": "stream",
       "stream": "stderr",
       "text": [
        "\r",
        "[1779 %] elapsed[sec]: 0.119 | ETA[sec]: -0.113 "
       ]
      },
      {
       "output_type": "stream",
       "stream": "stderr",
       "text": [
        "\r",
        "[1832 %] elapsed[sec]: 0.121 | ETA[sec]: -0.114 "
       ]
      },
      {
       "output_type": "stream",
       "stream": "stderr",
       "text": [
        "\r",
        "[1886 %] elapsed[sec]: 0.123 | ETA[sec]: -0.116 "
       ]
      },
      {
       "output_type": "stream",
       "stream": "stderr",
       "text": [
        "\r",
        "[1941 %] elapsed[sec]: 0.124 | ETA[sec]: -0.118 "
       ]
      },
      {
       "output_type": "stream",
       "stream": "stderr",
       "text": [
        "\r",
        "[1996 %] elapsed[sec]: 0.126 | ETA[sec]: -0.120 "
       ]
      },
      {
       "output_type": "stream",
       "stream": "stderr",
       "text": [
        "\r",
        "[2053 %] elapsed[sec]: 0.127 | ETA[sec]: -0.121 "
       ]
      },
      {
       "output_type": "stream",
       "stream": "stderr",
       "text": [
        "\r",
        "[2110 %] elapsed[sec]: 0.129 | ETA[sec]: -0.123 "
       ]
      },
      {
       "output_type": "stream",
       "stream": "stderr",
       "text": [
        "\r",
        "[2167 %] elapsed[sec]: 0.131 | ETA[sec]: -0.125 "
       ]
      },
      {
       "output_type": "stream",
       "stream": "stderr",
       "text": [
        "\r",
        "[2226 %] elapsed[sec]: 0.132 | ETA[sec]: -0.126 "
       ]
      },
      {
       "output_type": "stream",
       "stream": "stderr",
       "text": [
        "\r",
        "[2285 %] elapsed[sec]: 0.134 | ETA[sec]: -0.128 "
       ]
      },
      {
       "output_type": "stream",
       "stream": "stderr",
       "text": [
        "\r",
        "[2346 %] elapsed[sec]: 0.136 | ETA[sec]: -0.130 "
       ]
      },
      {
       "output_type": "stream",
       "stream": "stderr",
       "text": [
        "\r",
        "[2407 %] elapsed[sec]: 0.137 | ETA[sec]: -0.131 "
       ]
      },
      {
       "output_type": "stream",
       "stream": "stderr",
       "text": [
        "\r",
        "[2468 %] elapsed[sec]: 0.139 | ETA[sec]: -0.133 "
       ]
      },
      {
       "output_type": "stream",
       "stream": "stderr",
       "text": [
        "\r",
        "[2531 %] elapsed[sec]: 0.140 | ETA[sec]: -0.135 "
       ]
      },
      {
       "output_type": "stream",
       "stream": "stderr",
       "text": [
        "\r",
        "[2594 %] elapsed[sec]: 0.143 | ETA[sec]: -0.137 "
       ]
      },
      {
       "output_type": "stream",
       "stream": "stderr",
       "text": [
        "\r",
        "[2658 %] elapsed[sec]: 0.144 | ETA[sec]: -0.139 "
       ]
      },
      {
       "output_type": "stream",
       "stream": "stderr",
       "text": [
        "\r",
        "[2723 %] elapsed[sec]: 0.146 | ETA[sec]: -0.140 "
       ]
      },
      {
       "output_type": "stream",
       "stream": "stderr",
       "text": [
        "\r",
        "[2789 %] elapsed[sec]: 0.147 | ETA[sec]: -0.142 "
       ]
      },
      {
       "output_type": "stream",
       "stream": "stderr",
       "text": [
        "\r",
        "[2855 %] elapsed[sec]: 0.149 | ETA[sec]: -0.144 "
       ]
      },
      {
       "output_type": "stream",
       "stream": "stderr",
       "text": [
        "\r",
        "[2922 %] elapsed[sec]: 0.151 | ETA[sec]: -0.145 "
       ]
      },
      {
       "output_type": "stream",
       "stream": "stderr",
       "text": [
        "\r",
        "[2990 %] elapsed[sec]: 0.152 | ETA[sec]: -0.147 "
       ]
      },
      {
       "output_type": "stream",
       "stream": "stderr",
       "text": [
        "\r",
        "[3059 %] elapsed[sec]: 0.154 | ETA[sec]: -0.149 "
       ]
      },
      {
       "output_type": "stream",
       "stream": "stderr",
       "text": [
        "\r",
        "[3128 %] elapsed[sec]: 0.156 | ETA[sec]: -0.151 "
       ]
      },
      {
       "output_type": "stream",
       "stream": "stderr",
       "text": [
        "\r",
        "[3199 %] elapsed[sec]: 0.157 | ETA[sec]: -0.152 "
       ]
      },
      {
       "output_type": "stream",
       "stream": "stderr",
       "text": [
        "\r",
        "[3270 %] elapsed[sec]: 0.159 | ETA[sec]: -0.154 "
       ]
      },
      {
       "output_type": "stream",
       "stream": "stderr",
       "text": [
        "\r",
        "[3342 %] elapsed[sec]: 0.160 | ETA[sec]: -0.155 "
       ]
      },
      {
       "output_type": "stream",
       "stream": "stderr",
       "text": [
        "\r",
        "[3414 %] elapsed[sec]: 0.162 | ETA[sec]: -0.157 "
       ]
      },
      {
       "output_type": "stream",
       "stream": "stderr",
       "text": [
        "\r",
        "[3488 %] elapsed[sec]: 0.163 | ETA[sec]: -0.159 "
       ]
      },
      {
       "output_type": "stream",
       "stream": "stderr",
       "text": [
        "\r",
        "[3562 %] elapsed[sec]: 0.165 | ETA[sec]: -0.160 "
       ]
      },
      {
       "output_type": "stream",
       "stream": "stderr",
       "text": [
        "\r",
        "[3637 %] elapsed[sec]: 0.167 | ETA[sec]: -0.162 "
       ]
      },
      {
       "output_type": "stream",
       "stream": "stderr",
       "text": [
        "\r",
        "[3713 %] elapsed[sec]: 0.168 | ETA[sec]: -0.164 "
       ]
      },
      {
       "output_type": "stream",
       "stream": "stderr",
       "text": [
        "\r",
        "[3789 %] elapsed[sec]: 0.170 | ETA[sec]: -0.165 "
       ]
      },
      {
       "output_type": "stream",
       "stream": "stderr",
       "text": [
        "\r",
        "[3867 %] elapsed[sec]: 0.171 | ETA[sec]: -0.167 "
       ]
      },
      {
       "output_type": "stream",
       "stream": "stderr",
       "text": [
        "\r",
        "[3945 %] elapsed[sec]: 0.173 | ETA[sec]: -0.168 "
       ]
      },
      {
       "output_type": "stream",
       "stream": "stderr",
       "text": [
        "\r",
        "[4024 %] elapsed[sec]: 0.174 | ETA[sec]: -0.170 "
       ]
      },
      {
       "output_type": "stream",
       "stream": "stderr",
       "text": [
        "\r",
        "[4103 %] elapsed[sec]: 0.176 | ETA[sec]: -0.172 "
       ]
      },
      {
       "output_type": "stream",
       "stream": "stderr",
       "text": [
        "\r",
        "[4184 %] elapsed[sec]: 0.178 | ETA[sec]: -0.174 "
       ]
      },
      {
       "output_type": "stream",
       "stream": "stderr",
       "text": [
        "\r",
        "[4265 %] elapsed[sec]: 0.180 | ETA[sec]: -0.175 "
       ]
      },
      {
       "output_type": "stream",
       "stream": "stderr",
       "text": [
        "\r",
        "[4347 %] elapsed[sec]: 0.181 | ETA[sec]: -0.177 "
       ]
      },
      {
       "output_type": "stream",
       "stream": "stderr",
       "text": [
        "\r",
        "[4430 %] elapsed[sec]: 0.183 | ETA[sec]: -0.179 "
       ]
      },
      {
       "output_type": "stream",
       "stream": "stderr",
       "text": [
        "\r",
        "[4514 %] elapsed[sec]: 0.185 | ETA[sec]: -0.181 "
       ]
      },
      {
       "output_type": "stream",
       "stream": "stderr",
       "text": [
        "\r",
        "[4598 %] elapsed[sec]: 0.187 | ETA[sec]: -0.183 "
       ]
      },
      {
       "output_type": "stream",
       "stream": "stderr",
       "text": [
        "\r",
        "[4683 %] elapsed[sec]: 0.189 | ETA[sec]: -0.185 "
       ]
      },
      {
       "output_type": "stream",
       "stream": "stderr",
       "text": [
        "\r",
        "[4769 %] elapsed[sec]: 0.190 | ETA[sec]: -0.186 "
       ]
      },
      {
       "output_type": "stream",
       "stream": "stderr",
       "text": [
        "\r",
        "[4856 %] elapsed[sec]: 0.192 | ETA[sec]: -0.188 "
       ]
      },
      {
       "output_type": "stream",
       "stream": "stderr",
       "text": [
        "\r",
        "[4943 %] elapsed[sec]: 0.194 | ETA[sec]: -0.190 "
       ]
      },
      {
       "output_type": "stream",
       "stream": "stderr",
       "text": [
        "\r",
        "[5032 %] elapsed[sec]: 0.196 | ETA[sec]: -0.192 "
       ]
      },
      {
       "output_type": "stream",
       "stream": "stderr",
       "text": [
        "\r",
        "[5121 %] elapsed[sec]: 0.197 | ETA[sec]: -0.193 "
       ]
      },
      {
       "output_type": "stream",
       "stream": "stderr",
       "text": [
        "\r",
        "[5210 %] elapsed[sec]: 0.199 | ETA[sec]: -0.195 "
       ]
      },
      {
       "output_type": "stream",
       "stream": "stderr",
       "text": [
        "\r",
        "[5301 %] elapsed[sec]: 0.200 | ETA[sec]: -0.197 "
       ]
      },
      {
       "output_type": "stream",
       "stream": "stderr",
       "text": [
        "\r",
        "[5392 %] elapsed[sec]: 0.202 | ETA[sec]: -0.198 "
       ]
      },
      {
       "output_type": "stream",
       "stream": "stderr",
       "text": [
        "\r",
        "[5485 %] elapsed[sec]: 0.203 | ETA[sec]: -0.200 "
       ]
      },
      {
       "output_type": "stream",
       "stream": "stderr",
       "text": [
        "\r",
        "[5578 %] elapsed[sec]: 0.205 | ETA[sec]: -0.201 "
       ]
      },
      {
       "output_type": "stream",
       "stream": "stderr",
       "text": [
        "\r",
        "[5671 %] elapsed[sec]: 0.207 | ETA[sec]: -0.203 "
       ]
      },
      {
       "output_type": "stream",
       "stream": "stderr",
       "text": [
        "\r",
        "[5766 %] elapsed[sec]: 0.208 | ETA[sec]: -0.205 "
       ]
      },
      {
       "output_type": "stream",
       "stream": "stderr",
       "text": [
        "\r",
        "[5861 %] elapsed[sec]: 0.210 | ETA[sec]: -0.206 "
       ]
      },
      {
       "output_type": "stream",
       "stream": "stderr",
       "text": [
        "\r",
        "[5957 %] elapsed[sec]: 0.211 | ETA[sec]: -0.208 "
       ]
      },
      {
       "output_type": "stream",
       "stream": "stderr",
       "text": [
        "\r",
        "[6054 %] elapsed[sec]: 0.213 | ETA[sec]: -0.209 "
       ]
      },
      {
       "output_type": "stream",
       "stream": "stderr",
       "text": [
        "\r",
        "[6152 %] elapsed[sec]: 0.214 | ETA[sec]: -0.211 "
       ]
      },
      {
       "output_type": "stream",
       "stream": "stderr",
       "text": [
        "\r",
        "[6250 %] elapsed[sec]: 0.216 | ETA[sec]: -0.213 "
       ]
      },
      {
       "output_type": "stream",
       "stream": "stderr",
       "text": [
        "\r",
        "[6350 %] elapsed[sec]: 0.218 | ETA[sec]: -0.215 "
       ]
      },
      {
       "output_type": "stream",
       "stream": "stdout",
       "text": [
        "\n",
        "Title: \n",
        "                      Started: 09/22/2014 17:23:31\n",
        "                      Finished: 09/22/2014 17:23:32\n",
        "                      Total time elapsed: 0.000 sec"
       ]
      },
      {
       "output_type": "stream",
       "stream": "stderr",
       "text": [
        "\r",
        "[  0 %] elapsed[sec]: 0.000"
       ]
      },
      {
       "output_type": "stream",
       "stream": "stdout",
       "text": [
        "\n",
        "Saving sequence results/color-contrast-0_5.webm"
       ]
      },
      {
       "output_type": "stream",
       "stream": "stderr",
       "text": [
        "\r",
        "[  0 %] elapsed[sec]: 0.002 | ETA[sec]: 0.248 "
       ]
      },
      {
       "output_type": "stream",
       "stream": "stderr",
       "text": [
        "\r",
        "[  2 %] elapsed[sec]: 0.004 | ETA[sec]: 0.148 "
       ]
      },
      {
       "output_type": "stream",
       "stream": "stderr",
       "text": [
        "\r",
        "[  4 %] elapsed[sec]: 0.005 | ETA[sec]: 0.104 "
       ]
      },
      {
       "output_type": "stream",
       "stream": "stderr",
       "text": [
        "\r",
        "[  7 %] elapsed[sec]: 0.007 | ETA[sec]: 0.079 "
       ]
      },
      {
       "output_type": "stream",
       "stream": "stderr",
       "text": [
        "\r",
        "[ 11 %] elapsed[sec]: 0.008 | ETA[sec]: 0.061 "
       ]
      },
      {
       "output_type": "stream",
       "stream": "stderr",
       "text": [
        "\r",
        "[ 16 %] elapsed[sec]: 0.009 | ETA[sec]: 0.048 "
       ]
      },
      {
       "output_type": "stream",
       "stream": "stderr",
       "text": [
        "\r",
        "[ 21 %] elapsed[sec]: 0.011 | ETA[sec]: 0.039 "
       ]
      },
      {
       "output_type": "stream",
       "stream": "stderr",
       "text": [
        "\r",
        "[ 28 %] elapsed[sec]: 0.013 | ETA[sec]: 0.033 "
       ]
      },
      {
       "output_type": "stream",
       "stream": "stderr",
       "text": [
        "\r",
        "[ 35 %] elapsed[sec]: 0.014 | ETA[sec]: 0.026 "
       ]
      },
      {
       "output_type": "stream",
       "stream": "stderr",
       "text": [
        "\r",
        "[ 42 %] elapsed[sec]: 0.016 | ETA[sec]: 0.021 "
       ]
      },
      {
       "output_type": "stream",
       "stream": "stderr",
       "text": [
        "\r",
        "[ 51 %] elapsed[sec]: 0.017 | ETA[sec]: 0.016 "
       ]
      },
      {
       "output_type": "stream",
       "stream": "stderr",
       "text": [
        "\r",
        "[ 60 %] elapsed[sec]: 0.018 | ETA[sec]: 0.012 "
       ]
      },
      {
       "output_type": "stream",
       "stream": "stderr",
       "text": [
        "\r",
        "[ 71 %] elapsed[sec]: 0.020 | ETA[sec]: 0.008 "
       ]
      },
      {
       "output_type": "stream",
       "stream": "stderr",
       "text": [
        "\r",
        "[ 82 %] elapsed[sec]: 0.021 | ETA[sec]: 0.005 "
       ]
      },
      {
       "output_type": "stream",
       "stream": "stderr",
       "text": [
        "\r",
        "[ 93 %] elapsed[sec]: 0.023 | ETA[sec]: 0.002 "
       ]
      },
      {
       "output_type": "stream",
       "stream": "stderr",
       "text": [
        "\r",
        "[106 %] elapsed[sec]: 0.025 | ETA[sec]: -0.001 "
       ]
      },
      {
       "output_type": "stream",
       "stream": "stderr",
       "text": [
        "\r",
        "[119 %] elapsed[sec]: 0.027 | ETA[sec]: -0.004 "
       ]
      },
      {
       "output_type": "stream",
       "stream": "stderr",
       "text": [
        "\r",
        "[133 %] elapsed[sec]: 0.029 | ETA[sec]: -0.007 "
       ]
      },
      {
       "output_type": "stream",
       "stream": "stderr",
       "text": [
        "\r",
        "[148 %] elapsed[sec]: 0.031 | ETA[sec]: -0.010 "
       ]
      },
      {
       "output_type": "stream",
       "stream": "stderr",
       "text": [
        "\r",
        "[164 %] elapsed[sec]: 0.033 | ETA[sec]: -0.013 "
       ]
      },
      {
       "output_type": "stream",
       "stream": "stderr",
       "text": [
        "\r",
        "[180 %] elapsed[sec]: 0.035 | ETA[sec]: -0.016 "
       ]
      },
      {
       "output_type": "stream",
       "stream": "stderr",
       "text": [
        "\r",
        "[197 %] elapsed[sec]: 0.037 | ETA[sec]: -0.018 "
       ]
      },
      {
       "output_type": "stream",
       "stream": "stderr",
       "text": [
        "\r",
        "[215 %] elapsed[sec]: 0.039 | ETA[sec]: -0.021 "
       ]
      },
      {
       "output_type": "stream",
       "stream": "stderr",
       "text": [
        "\r",
        "[234 %] elapsed[sec]: 0.042 | ETA[sec]: -0.024 "
       ]
      },
      {
       "output_type": "stream",
       "stream": "stderr",
       "text": [
        "\r",
        "[253 %] elapsed[sec]: 0.044 | ETA[sec]: -0.026 "
       ]
      },
      {
       "output_type": "stream",
       "stream": "stderr",
       "text": [
        "\r",
        "[274 %] elapsed[sec]: 0.045 | ETA[sec]: -0.029 "
       ]
      },
      {
       "output_type": "stream",
       "stream": "stderr",
       "text": [
        "\r",
        "[295 %] elapsed[sec]: 0.047 | ETA[sec]: -0.031 "
       ]
      },
      {
       "output_type": "stream",
       "stream": "stderr",
       "text": [
        "\r",
        "[317 %] elapsed[sec]: 0.049 | ETA[sec]: -0.034 "
       ]
      },
      {
       "output_type": "stream",
       "stream": "stderr",
       "text": [
        "\r",
        "[339 %] elapsed[sec]: 0.050 | ETA[sec]: -0.036 "
       ]
      },
      {
       "output_type": "stream",
       "stream": "stderr",
       "text": [
        "\r",
        "[363 %] elapsed[sec]: 0.052 | ETA[sec]: -0.038 "
       ]
      },
      {
       "output_type": "stream",
       "stream": "stderr",
       "text": [
        "\r",
        "[387 %] elapsed[sec]: 0.053 | ETA[sec]: -0.040 "
       ]
      },
      {
       "output_type": "stream",
       "stream": "stderr",
       "text": [
        "\r",
        "[412 %] elapsed[sec]: 0.055 | ETA[sec]: -0.042 "
       ]
      },
      {
       "output_type": "stream",
       "stream": "stderr",
       "text": [
        "\r",
        "[438 %] elapsed[sec]: 0.056 | ETA[sec]: -0.043 "
       ]
      },
      {
       "output_type": "stream",
       "stream": "stderr",
       "text": [
        "\r",
        "[464 %] elapsed[sec]: 0.058 | ETA[sec]: -0.045 "
       ]
      },
      {
       "output_type": "stream",
       "stream": "stderr",
       "text": [
        "\r",
        "[492 %] elapsed[sec]: 0.059 | ETA[sec]: -0.047 "
       ]
      },
      {
       "output_type": "stream",
       "stream": "stderr",
       "text": [
        "\r",
        "[520 %] elapsed[sec]: 0.060 | ETA[sec]: -0.049 "
       ]
      },
      {
       "output_type": "stream",
       "stream": "stderr",
       "text": [
        "\r",
        "[549 %] elapsed[sec]: 0.062 | ETA[sec]: -0.051 "
       ]
      },
      {
       "output_type": "stream",
       "stream": "stderr",
       "text": [
        "\r",
        "[578 %] elapsed[sec]: 0.064 | ETA[sec]: -0.053 "
       ]
      },
      {
       "output_type": "stream",
       "stream": "stderr",
       "text": [
        "\r",
        "[609 %] elapsed[sec]: 0.066 | ETA[sec]: -0.055 "
       ]
      },
      {
       "output_type": "stream",
       "stream": "stderr",
       "text": [
        "\r",
        "[640 %] elapsed[sec]: 0.068 | ETA[sec]: -0.058 "
       ]
      },
      {
       "output_type": "stream",
       "stream": "stderr",
       "text": [
        "\r",
        "[672 %] elapsed[sec]: 0.070 | ETA[sec]: -0.060 "
       ]
      },
      {
       "output_type": "stream",
       "stream": "stderr",
       "text": [
        "\r",
        "[705 %] elapsed[sec]: 0.072 | ETA[sec]: -0.062 "
       ]
      },
      {
       "output_type": "stream",
       "stream": "stderr",
       "text": [
        "\r",
        "[739 %] elapsed[sec]: 0.074 | ETA[sec]: -0.064 "
       ]
      },
      {
       "output_type": "stream",
       "stream": "stderr",
       "text": [
        "\r",
        "[773 %] elapsed[sec]: 0.076 | ETA[sec]: -0.066 "
       ]
      },
      {
       "output_type": "stream",
       "stream": "stderr",
       "text": [
        "\r",
        "[808 %] elapsed[sec]: 0.077 | ETA[sec]: -0.068 "
       ]
      },
      {
       "output_type": "stream",
       "stream": "stderr",
       "text": [
        "\r",
        "[844 %] elapsed[sec]: 0.079 | ETA[sec]: -0.070 "
       ]
      },
      {
       "output_type": "stream",
       "stream": "stderr",
       "text": [
        "\r",
        "[881 %] elapsed[sec]: 0.081 | ETA[sec]: -0.071 "
       ]
      },
      {
       "output_type": "stream",
       "stream": "stderr",
       "text": [
        "\r",
        "[918 %] elapsed[sec]: 0.082 | ETA[sec]: -0.073 "
       ]
      },
      {
       "output_type": "stream",
       "stream": "stderr",
       "text": [
        "\r",
        "[957 %] elapsed[sec]: 0.084 | ETA[sec]: -0.075 "
       ]
      },
      {
       "output_type": "stream",
       "stream": "stderr",
       "text": [
        "\r",
        "[996 %] elapsed[sec]: 0.085 | ETA[sec]: -0.077 "
       ]
      },
      {
       "output_type": "stream",
       "stream": "stderr",
       "text": [
        "\r",
        "[1035 %] elapsed[sec]: 0.087 | ETA[sec]: -0.078 "
       ]
      },
      {
       "output_type": "stream",
       "stream": "stderr",
       "text": [
        "\r",
        "[1076 %] elapsed[sec]: 0.088 | ETA[sec]: -0.080 "
       ]
      },
      {
       "output_type": "stream",
       "stream": "stderr",
       "text": [
        "\r",
        "[1117 %] elapsed[sec]: 0.090 | ETA[sec]: -0.082 "
       ]
      },
      {
       "output_type": "stream",
       "stream": "stderr",
       "text": [
        "\r",
        "[1160 %] elapsed[sec]: 0.091 | ETA[sec]: -0.083 "
       ]
      },
      {
       "output_type": "stream",
       "stream": "stderr",
       "text": [
        "\r",
        "[1203 %] elapsed[sec]: 0.093 | ETA[sec]: -0.085 "
       ]
      },
      {
       "output_type": "stream",
       "stream": "stderr",
       "text": [
        "\r",
        "[1246 %] elapsed[sec]: 0.094 | ETA[sec]: -0.087 "
       ]
      },
      {
       "output_type": "stream",
       "stream": "stderr",
       "text": [
        "\r",
        "[1291 %] elapsed[sec]: 0.096 | ETA[sec]: -0.089 "
       ]
      },
      {
       "output_type": "stream",
       "stream": "stderr",
       "text": [
        "\r",
        "[1336 %] elapsed[sec]: 0.097 | ETA[sec]: -0.090 "
       ]
      },
      {
       "output_type": "stream",
       "stream": "stderr",
       "text": [
        "\r",
        "[1382 %] elapsed[sec]: 0.099 | ETA[sec]: -0.092 "
       ]
      },
      {
       "output_type": "stream",
       "stream": "stderr",
       "text": [
        "\r",
        "[1429 %] elapsed[sec]: 0.101 | ETA[sec]: -0.094 "
       ]
      },
      {
       "output_type": "stream",
       "stream": "stderr",
       "text": [
        "\r",
        "[1477 %] elapsed[sec]: 0.103 | ETA[sec]: -0.096 "
       ]
      },
      {
       "output_type": "stream",
       "stream": "stderr",
       "text": [
        "\r",
        "[1525 %] elapsed[sec]: 0.105 | ETA[sec]: -0.098 "
       ]
      },
      {
       "output_type": "stream",
       "stream": "stderr",
       "text": [
        "\r",
        "[1575 %] elapsed[sec]: 0.107 | ETA[sec]: -0.100 "
       ]
      },
      {
       "output_type": "stream",
       "stream": "stderr",
       "text": [
        "\r",
        "[1625 %] elapsed[sec]: 0.109 | ETA[sec]: -0.102 "
       ]
      },
      {
       "output_type": "stream",
       "stream": "stderr",
       "text": [
        "\r",
        "[1675 %] elapsed[sec]: 0.111 | ETA[sec]: -0.104 "
       ]
      },
      {
       "output_type": "stream",
       "stream": "stderr",
       "text": [
        "\r",
        "[1727 %] elapsed[sec]: 0.112 | ETA[sec]: -0.106 "
       ]
      },
      {
       "output_type": "stream",
       "stream": "stderr",
       "text": [
        "\r",
        "[1779 %] elapsed[sec]: 0.114 | ETA[sec]: -0.108 "
       ]
      },
      {
       "output_type": "stream",
       "stream": "stderr",
       "text": [
        "\r",
        "[1832 %] elapsed[sec]: 0.116 | ETA[sec]: -0.109 "
       ]
      },
      {
       "output_type": "stream",
       "stream": "stderr",
       "text": [
        "\r",
        "[1886 %] elapsed[sec]: 0.117 | ETA[sec]: -0.111 "
       ]
      },
      {
       "output_type": "stream",
       "stream": "stderr",
       "text": [
        "\r",
        "[1941 %] elapsed[sec]: 0.118 | ETA[sec]: -0.112 "
       ]
      },
      {
       "output_type": "stream",
       "stream": "stderr",
       "text": [
        "\r",
        "[1996 %] elapsed[sec]: 0.120 | ETA[sec]: -0.114 "
       ]
      },
      {
       "output_type": "stream",
       "stream": "stderr",
       "text": [
        "\r",
        "[2053 %] elapsed[sec]: 0.121 | ETA[sec]: -0.115 "
       ]
      },
      {
       "output_type": "stream",
       "stream": "stderr",
       "text": [
        "\r",
        "[2110 %] elapsed[sec]: 0.123 | ETA[sec]: -0.117 "
       ]
      },
      {
       "output_type": "stream",
       "stream": "stderr",
       "text": [
        "\r",
        "[2167 %] elapsed[sec]: 0.125 | ETA[sec]: -0.120 "
       ]
      },
      {
       "output_type": "stream",
       "stream": "stderr",
       "text": [
        "\r",
        "[2226 %] elapsed[sec]: 0.128 | ETA[sec]: -0.122 "
       ]
      },
      {
       "output_type": "stream",
       "stream": "stderr",
       "text": [
        "\r",
        "[2285 %] elapsed[sec]: 0.130 | ETA[sec]: -0.124 "
       ]
      },
      {
       "output_type": "stream",
       "stream": "stderr",
       "text": [
        "\r",
        "[2346 %] elapsed[sec]: 0.131 | ETA[sec]: -0.126 "
       ]
      },
      {
       "output_type": "stream",
       "stream": "stderr",
       "text": [
        "\r",
        "[2407 %] elapsed[sec]: 0.133 | ETA[sec]: -0.127 "
       ]
      },
      {
       "output_type": "stream",
       "stream": "stderr",
       "text": [
        "\r",
        "[2468 %] elapsed[sec]: 0.135 | ETA[sec]: -0.130 "
       ]
      },
      {
       "output_type": "stream",
       "stream": "stderr",
       "text": [
        "\r",
        "[2531 %] elapsed[sec]: 0.137 | ETA[sec]: -0.131 "
       ]
      },
      {
       "output_type": "stream",
       "stream": "stderr",
       "text": [
        "\r",
        "[2594 %] elapsed[sec]: 0.138 | ETA[sec]: -0.133 "
       ]
      },
      {
       "output_type": "stream",
       "stream": "stderr",
       "text": [
        "\r",
        "[2658 %] elapsed[sec]: 0.139 | ETA[sec]: -0.134 "
       ]
      },
      {
       "output_type": "stream",
       "stream": "stderr",
       "text": [
        "\r",
        "[2723 %] elapsed[sec]: 0.141 | ETA[sec]: -0.136 "
       ]
      },
      {
       "output_type": "stream",
       "stream": "stderr",
       "text": [
        "\r",
        "[2789 %] elapsed[sec]: 0.142 | ETA[sec]: -0.137 "
       ]
      },
      {
       "output_type": "stream",
       "stream": "stderr",
       "text": [
        "\r",
        "[2855 %] elapsed[sec]: 0.144 | ETA[sec]: -0.139 "
       ]
      },
      {
       "output_type": "stream",
       "stream": "stderr",
       "text": [
        "\r",
        "[2922 %] elapsed[sec]: 0.145 | ETA[sec]: -0.140 "
       ]
      },
      {
       "output_type": "stream",
       "stream": "stderr",
       "text": [
        "\r",
        "[2990 %] elapsed[sec]: 0.147 | ETA[sec]: -0.142 "
       ]
      },
      {
       "output_type": "stream",
       "stream": "stderr",
       "text": [
        "\r",
        "[3059 %] elapsed[sec]: 0.148 | ETA[sec]: -0.144 "
       ]
      },
      {
       "output_type": "stream",
       "stream": "stderr",
       "text": [
        "\r",
        "[3128 %] elapsed[sec]: 0.150 | ETA[sec]: -0.145 "
       ]
      },
      {
       "output_type": "stream",
       "stream": "stderr",
       "text": [
        "\r",
        "[3199 %] elapsed[sec]: 0.151 | ETA[sec]: -0.147 "
       ]
      },
      {
       "output_type": "stream",
       "stream": "stderr",
       "text": [
        "\r",
        "[3270 %] elapsed[sec]: 0.153 | ETA[sec]: -0.148 "
       ]
      },
      {
       "output_type": "stream",
       "stream": "stderr",
       "text": [
        "\r",
        "[3342 %] elapsed[sec]: 0.154 | ETA[sec]: -0.150 "
       ]
      },
      {
       "output_type": "stream",
       "stream": "stderr",
       "text": [
        "\r",
        "[3414 %] elapsed[sec]: 0.156 | ETA[sec]: -0.151 "
       ]
      },
      {
       "output_type": "stream",
       "stream": "stderr",
       "text": [
        "\r",
        "[3488 %] elapsed[sec]: 0.157 | ETA[sec]: -0.153 "
       ]
      },
      {
       "output_type": "stream",
       "stream": "stderr",
       "text": [
        "\r",
        "[3562 %] elapsed[sec]: 0.160 | ETA[sec]: -0.155 "
       ]
      },
      {
       "output_type": "stream",
       "stream": "stderr",
       "text": [
        "\r",
        "[3637 %] elapsed[sec]: 0.162 | ETA[sec]: -0.157 "
       ]
      },
      {
       "output_type": "stream",
       "stream": "stderr",
       "text": [
        "\r",
        "[3713 %] elapsed[sec]: 0.164 | ETA[sec]: -0.159 "
       ]
      },
      {
       "output_type": "stream",
       "stream": "stderr",
       "text": [
        "\r",
        "[3789 %] elapsed[sec]: 0.166 | ETA[sec]: -0.161 "
       ]
      },
      {
       "output_type": "stream",
       "stream": "stderr",
       "text": [
        "\r",
        "[3867 %] elapsed[sec]: 0.168 | ETA[sec]: -0.163 "
       ]
      },
      {
       "output_type": "stream",
       "stream": "stderr",
       "text": [
        "\r",
        "[3945 %] elapsed[sec]: 0.170 | ETA[sec]: -0.166 "
       ]
      },
      {
       "output_type": "stream",
       "stream": "stderr",
       "text": [
        "\r",
        "[4024 %] elapsed[sec]: 0.172 | ETA[sec]: -0.167 "
       ]
      },
      {
       "output_type": "stream",
       "stream": "stderr",
       "text": [
        "\r",
        "[4103 %] elapsed[sec]: 0.173 | ETA[sec]: -0.169 "
       ]
      },
      {
       "output_type": "stream",
       "stream": "stderr",
       "text": [
        "\r",
        "[4184 %] elapsed[sec]: 0.176 | ETA[sec]: -0.171 "
       ]
      },
      {
       "output_type": "stream",
       "stream": "stderr",
       "text": [
        "\r",
        "[4265 %] elapsed[sec]: 0.178 | ETA[sec]: -0.174 "
       ]
      },
      {
       "output_type": "stream",
       "stream": "stderr",
       "text": [
        "\r",
        "[4347 %] elapsed[sec]: 0.180 | ETA[sec]: -0.176 "
       ]
      },
      {
       "output_type": "stream",
       "stream": "stderr",
       "text": [
        "\r",
        "[4430 %] elapsed[sec]: 0.181 | ETA[sec]: -0.177 "
       ]
      },
      {
       "output_type": "stream",
       "stream": "stderr",
       "text": [
        "\r",
        "[4514 %] elapsed[sec]: 0.183 | ETA[sec]: -0.179 "
       ]
      },
      {
       "output_type": "stream",
       "stream": "stderr",
       "text": [
        "\r",
        "[4598 %] elapsed[sec]: 0.184 | ETA[sec]: -0.180 "
       ]
      },
      {
       "output_type": "stream",
       "stream": "stderr",
       "text": [
        "\r",
        "[4683 %] elapsed[sec]: 0.186 | ETA[sec]: -0.182 "
       ]
      },
      {
       "output_type": "stream",
       "stream": "stderr",
       "text": [
        "\r",
        "[4769 %] elapsed[sec]: 0.188 | ETA[sec]: -0.184 "
       ]
      },
      {
       "output_type": "stream",
       "stream": "stderr",
       "text": [
        "\r",
        "[4856 %] elapsed[sec]: 0.190 | ETA[sec]: -0.186 "
       ]
      },
      {
       "output_type": "stream",
       "stream": "stderr",
       "text": [
        "\r",
        "[4943 %] elapsed[sec]: 0.192 | ETA[sec]: -0.188 "
       ]
      },
      {
       "output_type": "stream",
       "stream": "stderr",
       "text": [
        "\r",
        "[5032 %] elapsed[sec]: 0.194 | ETA[sec]: -0.190 "
       ]
      },
      {
       "output_type": "stream",
       "stream": "stderr",
       "text": [
        "\r",
        "[5121 %] elapsed[sec]: 0.196 | ETA[sec]: -0.193 "
       ]
      },
      {
       "output_type": "stream",
       "stream": "stderr",
       "text": [
        "\r",
        "[5210 %] elapsed[sec]: 0.199 | ETA[sec]: -0.195 "
       ]
      },
      {
       "output_type": "stream",
       "stream": "stderr",
       "text": [
        "\r",
        "[5301 %] elapsed[sec]: 0.201 | ETA[sec]: -0.197 "
       ]
      },
      {
       "output_type": "stream",
       "stream": "stderr",
       "text": [
        "\r",
        "[5392 %] elapsed[sec]: 0.202 | ETA[sec]: -0.198 "
       ]
      },
      {
       "output_type": "stream",
       "stream": "stderr",
       "text": [
        "\r",
        "[5485 %] elapsed[sec]: 0.204 | ETA[sec]: -0.200 "
       ]
      },
      {
       "output_type": "stream",
       "stream": "stderr",
       "text": [
        "\r",
        "[5578 %] elapsed[sec]: 0.205 | ETA[sec]: -0.202 "
       ]
      },
      {
       "output_type": "stream",
       "stream": "stderr",
       "text": [
        "\r",
        "[5671 %] elapsed[sec]: 0.207 | ETA[sec]: -0.203 "
       ]
      },
      {
       "output_type": "stream",
       "stream": "stderr",
       "text": [
        "\r",
        "[5766 %] elapsed[sec]: 0.208 | ETA[sec]: -0.205 "
       ]
      },
      {
       "output_type": "stream",
       "stream": "stderr",
       "text": [
        "\r",
        "[5861 %] elapsed[sec]: 0.210 | ETA[sec]: -0.207 "
       ]
      },
      {
       "output_type": "stream",
       "stream": "stderr",
       "text": [
        "\r",
        "[5957 %] elapsed[sec]: 0.212 | ETA[sec]: -0.209 "
       ]
      },
      {
       "output_type": "stream",
       "stream": "stderr",
       "text": [
        "\r",
        "[6054 %] elapsed[sec]: 0.215 | ETA[sec]: -0.211 "
       ]
      },
      {
       "output_type": "stream",
       "stream": "stderr",
       "text": [
        "\r",
        "[6152 %] elapsed[sec]: 0.217 | ETA[sec]: -0.214 "
       ]
      },
      {
       "output_type": "stream",
       "stream": "stderr",
       "text": [
        "\r",
        "[6250 %] elapsed[sec]: 0.219 | ETA[sec]: -0.216 "
       ]
      },
      {
       "output_type": "stream",
       "stream": "stderr",
       "text": [
        "\r",
        "[6350 %] elapsed[sec]: 0.222 | ETA[sec]: -0.218 "
       ]
      },
      {
       "output_type": "stream",
       "stream": "stdout",
       "text": [
        "\n",
        "Title: \n",
        "                      Started: 09/22/2014 17:23:32\n",
        "                      Finished: 09/22/2014 17:23:32\n",
        "                      Total time elapsed: 0.000 sec"
       ]
      },
      {
       "output_type": "stream",
       "stream": "stderr",
       "text": [
        "\r",
        "[  0 %] elapsed[sec]: 0.000"
       ]
      },
      {
       "output_type": "stream",
       "stream": "stdout",
       "text": [
        "\n",
        "Saving sequence results/color-contrast-0_75.webm"
       ]
      },
      {
       "output_type": "stream",
       "stream": "stderr",
       "text": [
        "\r",
        "[  0 %] elapsed[sec]: 0.002 | ETA[sec]: 0.220 "
       ]
      },
      {
       "output_type": "stream",
       "stream": "stderr",
       "text": [
        "\r",
        "[  2 %] elapsed[sec]: 0.003 | ETA[sec]: 0.125 "
       ]
      },
      {
       "output_type": "stream",
       "stream": "stderr",
       "text": [
        "\r",
        "[  4 %] elapsed[sec]: 0.005 | ETA[sec]: 0.092 "
       ]
      },
      {
       "output_type": "stream",
       "stream": "stderr",
       "text": [
        "\r",
        "[  7 %] elapsed[sec]: 0.006 | ETA[sec]: 0.069 "
       ]
      },
      {
       "output_type": "stream",
       "stream": "stderr",
       "text": [
        "\r",
        "[ 11 %] elapsed[sec]: 0.007 | ETA[sec]: 0.053 "
       ]
      },
      {
       "output_type": "stream",
       "stream": "stderr",
       "text": [
        "\r",
        "[ 16 %] elapsed[sec]: 0.008 | ETA[sec]: 0.043 "
       ]
      },
      {
       "output_type": "stream",
       "stream": "stderr",
       "text": [
        "\r",
        "[ 21 %] elapsed[sec]: 0.010 | ETA[sec]: 0.034 "
       ]
      },
      {
       "output_type": "stream",
       "stream": "stderr",
       "text": [
        "\r",
        "[ 28 %] elapsed[sec]: 0.011 | ETA[sec]: 0.029 "
       ]
      },
      {
       "output_type": "stream",
       "stream": "stderr",
       "text": [
        "\r",
        "[ 35 %] elapsed[sec]: 0.013 | ETA[sec]: 0.025 "
       ]
      },
      {
       "output_type": "stream",
       "stream": "stderr",
       "text": [
        "\r",
        "[ 42 %] elapsed[sec]: 0.015 | ETA[sec]: 0.020 "
       ]
      },
      {
       "output_type": "stream",
       "stream": "stderr",
       "text": [
        "\r",
        "[ 51 %] elapsed[sec]: 0.016 | ETA[sec]: 0.015 "
       ]
      },
      {
       "output_type": "stream",
       "stream": "stderr",
       "text": [
        "\r",
        "[ 60 %] elapsed[sec]: 0.017 | ETA[sec]: 0.011 "
       ]
      },
      {
       "output_type": "stream",
       "stream": "stderr",
       "text": [
        "\r",
        "[ 71 %] elapsed[sec]: 0.019 | ETA[sec]: 0.008 "
       ]
      },
      {
       "output_type": "stream",
       "stream": "stderr",
       "text": [
        "\r",
        "[ 82 %] elapsed[sec]: 0.020 | ETA[sec]: 0.004 "
       ]
      },
      {
       "output_type": "stream",
       "stream": "stderr",
       "text": [
        "\r",
        "[ 93 %] elapsed[sec]: 0.022 | ETA[sec]: 0.001 "
       ]
      },
      {
       "output_type": "stream",
       "stream": "stderr",
       "text": [
        "\r",
        "[106 %] elapsed[sec]: 0.024 | ETA[sec]: -0.001 "
       ]
      },
      {
       "output_type": "stream",
       "stream": "stderr",
       "text": [
        "\r",
        "[119 %] elapsed[sec]: 0.025 | ETA[sec]: -0.004 "
       ]
      },
      {
       "output_type": "stream",
       "stream": "stderr",
       "text": [
        "\r",
        "[133 %] elapsed[sec]: 0.027 | ETA[sec]: -0.007 "
       ]
      },
      {
       "output_type": "stream",
       "stream": "stderr",
       "text": [
        "\r",
        "[148 %] elapsed[sec]: 0.028 | ETA[sec]: -0.009 "
       ]
      },
      {
       "output_type": "stream",
       "stream": "stderr",
       "text": [
        "\r",
        "[164 %] elapsed[sec]: 0.029 | ETA[sec]: -0.011 "
       ]
      },
      {
       "output_type": "stream",
       "stream": "stderr",
       "text": [
        "\r",
        "[180 %] elapsed[sec]: 0.030 | ETA[sec]: -0.014 "
       ]
      },
      {
       "output_type": "stream",
       "stream": "stderr",
       "text": [
        "\r",
        "[197 %] elapsed[sec]: 0.032 | ETA[sec]: -0.016 "
       ]
      },
      {
       "output_type": "stream",
       "stream": "stderr",
       "text": [
        "\r",
        "[215 %] elapsed[sec]: 0.033 | ETA[sec]: -0.018 "
       ]
      },
      {
       "output_type": "stream",
       "stream": "stderr",
       "text": [
        "\r",
        "[234 %] elapsed[sec]: 0.035 | ETA[sec]: -0.020 "
       ]
      },
      {
       "output_type": "stream",
       "stream": "stderr",
       "text": [
        "\r",
        "[253 %] elapsed[sec]: 0.036 | ETA[sec]: -0.022 "
       ]
      },
      {
       "output_type": "stream",
       "stream": "stderr",
       "text": [
        "\r",
        "[274 %] elapsed[sec]: 0.038 | ETA[sec]: -0.024 "
       ]
      },
      {
       "output_type": "stream",
       "stream": "stderr",
       "text": [
        "\r",
        "[295 %] elapsed[sec]: 0.039 | ETA[sec]: -0.026 "
       ]
      },
      {
       "output_type": "stream",
       "stream": "stderr",
       "text": [
        "\r",
        "[317 %] elapsed[sec]: 0.040 | ETA[sec]: -0.028 "
       ]
      },
      {
       "output_type": "stream",
       "stream": "stderr",
       "text": [
        "\r",
        "[339 %] elapsed[sec]: 0.042 | ETA[sec]: -0.029 "
       ]
      },
      {
       "output_type": "stream",
       "stream": "stderr",
       "text": [
        "\r",
        "[363 %] elapsed[sec]: 0.043 | ETA[sec]: -0.031 "
       ]
      },
      {
       "output_type": "stream",
       "stream": "stderr",
       "text": [
        "\r",
        "[387 %] elapsed[sec]: 0.044 | ETA[sec]: -0.033 "
       ]
      },
      {
       "output_type": "stream",
       "stream": "stderr",
       "text": [
        "\r",
        "[412 %] elapsed[sec]: 0.046 | ETA[sec]: -0.035 "
       ]
      },
      {
       "output_type": "stream",
       "stream": "stderr",
       "text": [
        "\r",
        "[438 %] elapsed[sec]: 0.048 | ETA[sec]: -0.037 "
       ]
      },
      {
       "output_type": "stream",
       "stream": "stderr",
       "text": [
        "\r",
        "[464 %] elapsed[sec]: 0.050 | ETA[sec]: -0.039 "
       ]
      },
      {
       "output_type": "stream",
       "stream": "stderr",
       "text": [
        "\r",
        "[492 %] elapsed[sec]: 0.052 | ETA[sec]: -0.042 "
       ]
      },
      {
       "output_type": "stream",
       "stream": "stderr",
       "text": [
        "\r",
        "[520 %] elapsed[sec]: 0.054 | ETA[sec]: -0.044 "
       ]
      },
      {
       "output_type": "stream",
       "stream": "stderr",
       "text": [
        "\r",
        "[549 %] elapsed[sec]: 0.056 | ETA[sec]: -0.046 "
       ]
      },
      {
       "output_type": "stream",
       "stream": "stderr",
       "text": [
        "\r",
        "[578 %] elapsed[sec]: 0.058 | ETA[sec]: -0.048 "
       ]
      },
      {
       "output_type": "stream",
       "stream": "stderr",
       "text": [
        "\r",
        "[609 %] elapsed[sec]: 0.061 | ETA[sec]: -0.051 "
       ]
      },
      {
       "output_type": "stream",
       "stream": "stderr",
       "text": [
        "\r",
        "[640 %] elapsed[sec]: 0.063 | ETA[sec]: -0.053 "
       ]
      },
      {
       "output_type": "stream",
       "stream": "stderr",
       "text": [
        "\r",
        "[672 %] elapsed[sec]: 0.065 | ETA[sec]: -0.055 "
       ]
      },
      {
       "output_type": "stream",
       "stream": "stderr",
       "text": [
        "\r",
        "[705 %] elapsed[sec]: 0.066 | ETA[sec]: -0.057 "
       ]
      },
      {
       "output_type": "stream",
       "stream": "stderr",
       "text": [
        "\r",
        "[739 %] elapsed[sec]: 0.068 | ETA[sec]: -0.059 "
       ]
      },
      {
       "output_type": "stream",
       "stream": "stderr",
       "text": [
        "\r",
        "[773 %] elapsed[sec]: 0.069 | ETA[sec]: -0.060 "
       ]
      },
      {
       "output_type": "stream",
       "stream": "stderr",
       "text": [
        "\r",
        "[808 %] elapsed[sec]: 0.070 | ETA[sec]: -0.062 "
       ]
      },
      {
       "output_type": "stream",
       "stream": "stderr",
       "text": [
        "\r",
        "[844 %] elapsed[sec]: 0.072 | ETA[sec]: -0.064 "
       ]
      },
      {
       "output_type": "stream",
       "stream": "stderr",
       "text": [
        "\r",
        "[881 %] elapsed[sec]: 0.074 | ETA[sec]: -0.065 "
       ]
      },
      {
       "output_type": "stream",
       "stream": "stderr",
       "text": [
        "\r",
        "[918 %] elapsed[sec]: 0.075 | ETA[sec]: -0.067 "
       ]
      },
      {
       "output_type": "stream",
       "stream": "stderr",
       "text": [
        "\r",
        "[957 %] elapsed[sec]: 0.077 | ETA[sec]: -0.069 "
       ]
      },
      {
       "output_type": "stream",
       "stream": "stderr",
       "text": [
        "\r",
        "[996 %] elapsed[sec]: 0.078 | ETA[sec]: -0.070 "
       ]
      },
      {
       "output_type": "stream",
       "stream": "stderr",
       "text": [
        "\r",
        "[1035 %] elapsed[sec]: 0.079 | ETA[sec]: -0.072 "
       ]
      },
      {
       "output_type": "stream",
       "stream": "stderr",
       "text": [
        "\r",
        "[1076 %] elapsed[sec]: 0.081 | ETA[sec]: -0.073 "
       ]
      },
      {
       "output_type": "stream",
       "stream": "stderr",
       "text": [
        "\r",
        "[1117 %] elapsed[sec]: 0.082 | ETA[sec]: -0.075 "
       ]
      },
      {
       "output_type": "stream",
       "stream": "stderr",
       "text": [
        "\r",
        "[1160 %] elapsed[sec]: 0.084 | ETA[sec]: -0.076 "
       ]
      },
      {
       "output_type": "stream",
       "stream": "stderr",
       "text": [
        "\r",
        "[1203 %] elapsed[sec]: 0.085 | ETA[sec]: -0.078 "
       ]
      },
      {
       "output_type": "stream",
       "stream": "stderr",
       "text": [
        "\r",
        "[1246 %] elapsed[sec]: 0.086 | ETA[sec]: -0.079 "
       ]
      },
      {
       "output_type": "stream",
       "stream": "stderr",
       "text": [
        "\r",
        "[1291 %] elapsed[sec]: 0.087 | ETA[sec]: -0.081 "
       ]
      },
      {
       "output_type": "stream",
       "stream": "stderr",
       "text": [
        "\r",
        "[1336 %] elapsed[sec]: 0.089 | ETA[sec]: -0.082 "
       ]
      },
      {
       "output_type": "stream",
       "stream": "stderr",
       "text": [
        "\r",
        "[1382 %] elapsed[sec]: 0.091 | ETA[sec]: -0.084 "
       ]
      },
      {
       "output_type": "stream",
       "stream": "stderr",
       "text": [
        "\r",
        "[1429 %] elapsed[sec]: 0.093 | ETA[sec]: -0.086 "
       ]
      },
      {
       "output_type": "stream",
       "stream": "stderr",
       "text": [
        "\r",
        "[1477 %] elapsed[sec]: 0.095 | ETA[sec]: -0.088 "
       ]
      },
      {
       "output_type": "stream",
       "stream": "stderr",
       "text": [
        "\r",
        "[1525 %] elapsed[sec]: 0.097 | ETA[sec]: -0.090 "
       ]
      },
      {
       "output_type": "stream",
       "stream": "stderr",
       "text": [
        "\r",
        "[1575 %] elapsed[sec]: 0.099 | ETA[sec]: -0.092 "
       ]
      },
      {
       "output_type": "stream",
       "stream": "stderr",
       "text": [
        "\r",
        "[1625 %] elapsed[sec]: 0.100 | ETA[sec]: -0.094 "
       ]
      },
      {
       "output_type": "stream",
       "stream": "stderr",
       "text": [
        "\r",
        "[1675 %] elapsed[sec]: 0.102 | ETA[sec]: -0.096 "
       ]
      },
      {
       "output_type": "stream",
       "stream": "stderr",
       "text": [
        "\r",
        "[1727 %] elapsed[sec]: 0.103 | ETA[sec]: -0.097 "
       ]
      },
      {
       "output_type": "stream",
       "stream": "stderr",
       "text": [
        "\r",
        "[1779 %] elapsed[sec]: 0.105 | ETA[sec]: -0.099 "
       ]
      },
      {
       "output_type": "stream",
       "stream": "stderr",
       "text": [
        "\r",
        "[1832 %] elapsed[sec]: 0.106 | ETA[sec]: -0.101 "
       ]
      },
      {
       "output_type": "stream",
       "stream": "stderr",
       "text": [
        "\r",
        "[1886 %] elapsed[sec]: 0.108 | ETA[sec]: -0.102 "
       ]
      },
      {
       "output_type": "stream",
       "stream": "stderr",
       "text": [
        "\r",
        "[1941 %] elapsed[sec]: 0.109 | ETA[sec]: -0.103 "
       ]
      },
      {
       "output_type": "stream",
       "stream": "stderr",
       "text": [
        "\r",
        "[1996 %] elapsed[sec]: 0.110 | ETA[sec]: -0.105 "
       ]
      },
      {
       "output_type": "stream",
       "stream": "stderr",
       "text": [
        "\r",
        "[2053 %] elapsed[sec]: 0.112 | ETA[sec]: -0.106 "
       ]
      },
      {
       "output_type": "stream",
       "stream": "stderr",
       "text": [
        "\r",
        "[2110 %] elapsed[sec]: 0.113 | ETA[sec]: -0.108 "
       ]
      },
      {
       "output_type": "stream",
       "stream": "stderr",
       "text": [
        "\r",
        "[2167 %] elapsed[sec]: 0.114 | ETA[sec]: -0.109 "
       ]
      },
      {
       "output_type": "stream",
       "stream": "stderr",
       "text": [
        "\r",
        "[2226 %] elapsed[sec]: 0.116 | ETA[sec]: -0.110 "
       ]
      },
      {
       "output_type": "stream",
       "stream": "stderr",
       "text": [
        "\r",
        "[2285 %] elapsed[sec]: 0.117 | ETA[sec]: -0.112 "
       ]
      },
      {
       "output_type": "stream",
       "stream": "stderr",
       "text": [
        "\r",
        "[2346 %] elapsed[sec]: 0.118 | ETA[sec]: -0.113 "
       ]
      },
      {
       "output_type": "stream",
       "stream": "stderr",
       "text": [
        "\r",
        "[2407 %] elapsed[sec]: 0.120 | ETA[sec]: -0.115 "
       ]
      },
      {
       "output_type": "stream",
       "stream": "stderr",
       "text": [
        "\r",
        "[2468 %] elapsed[sec]: 0.121 | ETA[sec]: -0.116 "
       ]
      },
      {
       "output_type": "stream",
       "stream": "stderr",
       "text": [
        "\r",
        "[2531 %] elapsed[sec]: 0.122 | ETA[sec]: -0.118 "
       ]
      },
      {
       "output_type": "stream",
       "stream": "stderr",
       "text": [
        "\r",
        "[2594 %] elapsed[sec]: 0.125 | ETA[sec]: -0.120 "
       ]
      },
      {
       "output_type": "stream",
       "stream": "stderr",
       "text": [
        "\r",
        "[2658 %] elapsed[sec]: 0.126 | ETA[sec]: -0.122 "
       ]
      },
      {
       "output_type": "stream",
       "stream": "stderr",
       "text": [
        "\r",
        "[2723 %] elapsed[sec]: 0.128 | ETA[sec]: -0.123 "
       ]
      },
      {
       "output_type": "stream",
       "stream": "stderr",
       "text": [
        "\r",
        "[2789 %] elapsed[sec]: 0.129 | ETA[sec]: -0.124 "
       ]
      },
      {
       "output_type": "stream",
       "stream": "stderr",
       "text": [
        "\r",
        "[2855 %] elapsed[sec]: 0.130 | ETA[sec]: -0.126 "
       ]
      },
      {
       "output_type": "stream",
       "stream": "stderr",
       "text": [
        "\r",
        "[2922 %] elapsed[sec]: 0.132 | ETA[sec]: -0.127 "
       ]
      },
      {
       "output_type": "stream",
       "stream": "stderr",
       "text": [
        "\r",
        "[2990 %] elapsed[sec]: 0.133 | ETA[sec]: -0.129 "
       ]
      },
      {
       "output_type": "stream",
       "stream": "stderr",
       "text": [
        "\r",
        "[3059 %] elapsed[sec]: 0.135 | ETA[sec]: -0.130 "
       ]
      },
      {
       "output_type": "stream",
       "stream": "stderr",
       "text": [
        "\r",
        "[3128 %] elapsed[sec]: 0.136 | ETA[sec]: -0.132 "
       ]
      },
      {
       "output_type": "stream",
       "stream": "stderr",
       "text": [
        "\r",
        "[3199 %] elapsed[sec]: 0.137 | ETA[sec]: -0.133 "
       ]
      },
      {
       "output_type": "stream",
       "stream": "stderr",
       "text": [
        "\r",
        "[3270 %] elapsed[sec]: 0.139 | ETA[sec]: -0.134 "
       ]
      },
      {
       "output_type": "stream",
       "stream": "stderr",
       "text": [
        "\r",
        "[3342 %] elapsed[sec]: 0.140 | ETA[sec]: -0.136 "
       ]
      },
      {
       "output_type": "stream",
       "stream": "stderr",
       "text": [
        "\r",
        "[3414 %] elapsed[sec]: 0.141 | ETA[sec]: -0.137 "
       ]
      },
      {
       "output_type": "stream",
       "stream": "stderr",
       "text": [
        "\r",
        "[3488 %] elapsed[sec]: 0.142 | ETA[sec]: -0.138 "
       ]
      },
      {
       "output_type": "stream",
       "stream": "stderr",
       "text": [
        "\r",
        "[3562 %] elapsed[sec]: 0.143 | ETA[sec]: -0.139 "
       ]
      },
      {
       "output_type": "stream",
       "stream": "stderr",
       "text": [
        "\r",
        "[3637 %] elapsed[sec]: 0.145 | ETA[sec]: -0.141 "
       ]
      },
      {
       "output_type": "stream",
       "stream": "stderr",
       "text": [
        "\r",
        "[3713 %] elapsed[sec]: 0.146 | ETA[sec]: -0.142 "
       ]
      },
      {
       "output_type": "stream",
       "stream": "stderr",
       "text": [
        "\r",
        "[3789 %] elapsed[sec]: 0.148 | ETA[sec]: -0.144 "
       ]
      },
      {
       "output_type": "stream",
       "stream": "stderr",
       "text": [
        "\r",
        "[3867 %] elapsed[sec]: 0.149 | ETA[sec]: -0.145 "
       ]
      },
      {
       "output_type": "stream",
       "stream": "stderr",
       "text": [
        "\r",
        "[3945 %] elapsed[sec]: 0.150 | ETA[sec]: -0.146 "
       ]
      },
      {
       "output_type": "stream",
       "stream": "stderr",
       "text": [
        "\r",
        "[4024 %] elapsed[sec]: 0.151 | ETA[sec]: -0.148 "
       ]
      },
      {
       "output_type": "stream",
       "stream": "stderr",
       "text": [
        "\r",
        "[4103 %] elapsed[sec]: 0.153 | ETA[sec]: -0.149 "
       ]
      },
      {
       "output_type": "stream",
       "stream": "stderr",
       "text": [
        "\r",
        "[4184 %] elapsed[sec]: 0.154 | ETA[sec]: -0.150 "
       ]
      },
      {
       "output_type": "stream",
       "stream": "stderr",
       "text": [
        "\r",
        "[4265 %] elapsed[sec]: 0.155 | ETA[sec]: -0.152 "
       ]
      },
      {
       "output_type": "stream",
       "stream": "stderr",
       "text": [
        "\r",
        "[4347 %] elapsed[sec]: 0.157 | ETA[sec]: -0.153 "
       ]
      },
      {
       "output_type": "stream",
       "stream": "stderr",
       "text": [
        "\r",
        "[4430 %] elapsed[sec]: 0.158 | ETA[sec]: -0.154 "
       ]
      },
      {
       "output_type": "stream",
       "stream": "stderr",
       "text": [
        "\r",
        "[4514 %] elapsed[sec]: 0.159 | ETA[sec]: -0.156 "
       ]
      },
      {
       "output_type": "stream",
       "stream": "stderr",
       "text": [
        "\r",
        "[4598 %] elapsed[sec]: 0.161 | ETA[sec]: -0.157 "
       ]
      },
      {
       "output_type": "stream",
       "stream": "stderr",
       "text": [
        "\r",
        "[4683 %] elapsed[sec]: 0.162 | ETA[sec]: -0.158 "
       ]
      },
      {
       "output_type": "stream",
       "stream": "stderr",
       "text": [
        "\r",
        "[4769 %] elapsed[sec]: 0.163 | ETA[sec]: -0.160 "
       ]
      },
      {
       "output_type": "stream",
       "stream": "stderr",
       "text": [
        "\r",
        "[4856 %] elapsed[sec]: 0.165 | ETA[sec]: -0.161 "
       ]
      },
      {
       "output_type": "stream",
       "stream": "stderr",
       "text": [
        "\r",
        "[4943 %] elapsed[sec]: 0.166 | ETA[sec]: -0.163 "
       ]
      },
      {
       "output_type": "stream",
       "stream": "stderr",
       "text": [
        "\r",
        "[5032 %] elapsed[sec]: 0.168 | ETA[sec]: -0.165 "
       ]
      },
      {
       "output_type": "stream",
       "stream": "stderr",
       "text": [
        "\r",
        "[5121 %] elapsed[sec]: 0.170 | ETA[sec]: -0.166 "
       ]
      },
      {
       "output_type": "stream",
       "stream": "stderr",
       "text": [
        "\r",
        "[5210 %] elapsed[sec]: 0.171 | ETA[sec]: -0.168 "
       ]
      },
      {
       "output_type": "stream",
       "stream": "stderr",
       "text": [
        "\r",
        "[5301 %] elapsed[sec]: 0.172 | ETA[sec]: -0.169 "
       ]
      },
      {
       "output_type": "stream",
       "stream": "stderr",
       "text": [
        "\r",
        "[5392 %] elapsed[sec]: 0.174 | ETA[sec]: -0.170 "
       ]
      },
      {
       "output_type": "stream",
       "stream": "stderr",
       "text": [
        "\r",
        "[5485 %] elapsed[sec]: 0.175 | ETA[sec]: -0.172 "
       ]
      },
      {
       "output_type": "stream",
       "stream": "stderr",
       "text": [
        "\r",
        "[5578 %] elapsed[sec]: 0.176 | ETA[sec]: -0.173 "
       ]
      },
      {
       "output_type": "stream",
       "stream": "stderr",
       "text": [
        "\r",
        "[5671 %] elapsed[sec]: 0.177 | ETA[sec]: -0.174 "
       ]
      },
      {
       "output_type": "stream",
       "stream": "stderr",
       "text": [
        "\r",
        "[5766 %] elapsed[sec]: 0.179 | ETA[sec]: -0.176 "
       ]
      },
      {
       "output_type": "stream",
       "stream": "stderr",
       "text": [
        "\r",
        "[5861 %] elapsed[sec]: 0.180 | ETA[sec]: -0.177 "
       ]
      },
      {
       "output_type": "stream",
       "stream": "stderr",
       "text": [
        "\r",
        "[5957 %] elapsed[sec]: 0.181 | ETA[sec]: -0.178 "
       ]
      },
      {
       "output_type": "stream",
       "stream": "stderr",
       "text": [
        "\r",
        "[6054 %] elapsed[sec]: 0.183 | ETA[sec]: -0.180 "
       ]
      },
      {
       "output_type": "stream",
       "stream": "stderr",
       "text": [
        "\r",
        "[6152 %] elapsed[sec]: 0.184 | ETA[sec]: -0.181 "
       ]
      },
      {
       "output_type": "stream",
       "stream": "stderr",
       "text": [
        "\r",
        "[6250 %] elapsed[sec]: 0.185 | ETA[sec]: -0.182 "
       ]
      },
      {
       "output_type": "stream",
       "stream": "stderr",
       "text": [
        "\r",
        "[6350 %] elapsed[sec]: 0.186 | ETA[sec]: -0.183 "
       ]
      },
      {
       "output_type": "stream",
       "stream": "stdout",
       "text": [
        "\n",
        "Title: \n",
        "                      Started: 09/22/2014 17:23:33\n",
        "                      Finished: 09/22/2014 17:23:33\n",
        "                      Total time elapsed: 0.000 sec"
       ]
      },
      {
       "output_type": "stream",
       "stream": "stderr",
       "text": [
        "\r",
        "[  0 %] elapsed[sec]: 0.000"
       ]
      },
      {
       "output_type": "stream",
       "stream": "stdout",
       "text": [
        "\n",
        "Saving sequence results/color-contrast-1_0.webm"
       ]
      },
      {
       "output_type": "stream",
       "stream": "stderr",
       "text": [
        "\r",
        "[  0 %] elapsed[sec]: 0.002 | ETA[sec]: 0.241 "
       ]
      },
      {
       "output_type": "stream",
       "stream": "stderr",
       "text": [
        "\r",
        "[  2 %] elapsed[sec]: 0.004 | ETA[sec]: 0.161 "
       ]
      },
      {
       "output_type": "stream",
       "stream": "stderr",
       "text": [
        "\r",
        "[  4 %] elapsed[sec]: 0.006 | ETA[sec]: 0.119 "
       ]
      },
      {
       "output_type": "stream",
       "stream": "stderr",
       "text": [
        "\r",
        "[  7 %] elapsed[sec]: 0.008 | ETA[sec]: 0.093 "
       ]
      },
      {
       "output_type": "stream",
       "stream": "stderr",
       "text": [
        "\r",
        "[ 11 %] elapsed[sec]: 0.010 | ETA[sec]: 0.075 "
       ]
      },
      {
       "output_type": "stream",
       "stream": "stderr",
       "text": [
        "\r",
        "[ 16 %] elapsed[sec]: 0.012 | ETA[sec]: 0.061 "
       ]
      },
      {
       "output_type": "stream",
       "stream": "stderr",
       "text": [
        "\r",
        "[ 21 %] elapsed[sec]: 0.014 | ETA[sec]: 0.050 "
       ]
      },
      {
       "output_type": "stream",
       "stream": "stderr",
       "text": [
        "\r",
        "[ 28 %] elapsed[sec]: 0.015 | ETA[sec]: 0.039 "
       ]
      },
      {
       "output_type": "stream",
       "stream": "stderr",
       "text": [
        "\r",
        "[ 35 %] elapsed[sec]: 0.016 | ETA[sec]: 0.030 "
       ]
      },
      {
       "output_type": "stream",
       "stream": "stderr",
       "text": [
        "\r",
        "[ 42 %] elapsed[sec]: 0.018 | ETA[sec]: 0.023 "
       ]
      },
      {
       "output_type": "stream",
       "stream": "stderr",
       "text": [
        "\r",
        "[ 51 %] elapsed[sec]: 0.019 | ETA[sec]: 0.018 "
       ]
      },
      {
       "output_type": "stream",
       "stream": "stderr",
       "text": [
        "\r",
        "[ 60 %] elapsed[sec]: 0.020 | ETA[sec]: 0.013 "
       ]
      },
      {
       "output_type": "stream",
       "stream": "stderr",
       "text": [
        "\r",
        "[ 71 %] elapsed[sec]: 0.021 | ETA[sec]: 0.009 "
       ]
      },
      {
       "output_type": "stream",
       "stream": "stderr",
       "text": [
        "\r",
        "[ 82 %] elapsed[sec]: 0.023 | ETA[sec]: 0.005 "
       ]
      },
      {
       "output_type": "stream",
       "stream": "stderr",
       "text": [
        "\r",
        "[ 93 %] elapsed[sec]: 0.025 | ETA[sec]: 0.002 "
       ]
      },
      {
       "output_type": "stream",
       "stream": "stderr",
       "text": [
        "\r",
        "[106 %] elapsed[sec]: 0.026 | ETA[sec]: -0.002 "
       ]
      },
      {
       "output_type": "stream",
       "stream": "stderr",
       "text": [
        "\r",
        "[119 %] elapsed[sec]: 0.028 | ETA[sec]: -0.005 "
       ]
      },
      {
       "output_type": "stream",
       "stream": "stderr",
       "text": [
        "\r",
        "[133 %] elapsed[sec]: 0.029 | ETA[sec]: -0.007 "
       ]
      },
      {
       "output_type": "stream",
       "stream": "stderr",
       "text": [
        "\r",
        "[148 %] elapsed[sec]: 0.030 | ETA[sec]: -0.010 "
       ]
      },
      {
       "output_type": "stream",
       "stream": "stderr",
       "text": [
        "\r",
        "[164 %] elapsed[sec]: 0.031 | ETA[sec]: -0.012 "
       ]
      },
      {
       "output_type": "stream",
       "stream": "stderr",
       "text": [
        "\r",
        "[180 %] elapsed[sec]: 0.033 | ETA[sec]: -0.015 "
       ]
      },
      {
       "output_type": "stream",
       "stream": "stderr",
       "text": [
        "\r",
        "[197 %] elapsed[sec]: 0.034 | ETA[sec]: -0.017 "
       ]
      },
      {
       "output_type": "stream",
       "stream": "stderr",
       "text": [
        "\r",
        "[215 %] elapsed[sec]: 0.035 | ETA[sec]: -0.019 "
       ]
      },
      {
       "output_type": "stream",
       "stream": "stderr",
       "text": [
        "\r",
        "[234 %] elapsed[sec]: 0.036 | ETA[sec]: -0.021 "
       ]
      },
      {
       "output_type": "stream",
       "stream": "stderr",
       "text": [
        "\r",
        "[253 %] elapsed[sec]: 0.038 | ETA[sec]: -0.023 "
       ]
      },
      {
       "output_type": "stream",
       "stream": "stderr",
       "text": [
        "\r",
        "[274 %] elapsed[sec]: 0.039 | ETA[sec]: -0.025 "
       ]
      },
      {
       "output_type": "stream",
       "stream": "stderr",
       "text": [
        "\r",
        "[295 %] elapsed[sec]: 0.041 | ETA[sec]: -0.027 "
       ]
      },
      {
       "output_type": "stream",
       "stream": "stderr",
       "text": [
        "\r",
        "[317 %] elapsed[sec]: 0.043 | ETA[sec]: -0.029 "
       ]
      },
      {
       "output_type": "stream",
       "stream": "stderr",
       "text": [
        "\r",
        "[339 %] elapsed[sec]: 0.045 | ETA[sec]: -0.031 "
       ]
      },
      {
       "output_type": "stream",
       "stream": "stderr",
       "text": [
        "\r",
        "[363 %] elapsed[sec]: 0.046 | ETA[sec]: -0.033 "
       ]
      },
      {
       "output_type": "stream",
       "stream": "stderr",
       "text": [
        "\r",
        "[387 %] elapsed[sec]: 0.047 | ETA[sec]: -0.035 "
       ]
      },
      {
       "output_type": "stream",
       "stream": "stderr",
       "text": [
        "\r",
        "[412 %] elapsed[sec]: 0.049 | ETA[sec]: -0.037 "
       ]
      },
      {
       "output_type": "stream",
       "stream": "stderr",
       "text": [
        "\r",
        "[438 %] elapsed[sec]: 0.050 | ETA[sec]: -0.039 "
       ]
      },
      {
       "output_type": "stream",
       "stream": "stderr",
       "text": [
        "\r",
        "[464 %] elapsed[sec]: 0.051 | ETA[sec]: -0.040 "
       ]
      },
      {
       "output_type": "stream",
       "stream": "stderr",
       "text": [
        "\r",
        "[492 %] elapsed[sec]: 0.053 | ETA[sec]: -0.042 "
       ]
      },
      {
       "output_type": "stream",
       "stream": "stderr",
       "text": [
        "\r",
        "[520 %] elapsed[sec]: 0.054 | ETA[sec]: -0.044 "
       ]
      },
      {
       "output_type": "stream",
       "stream": "stderr",
       "text": [
        "\r",
        "[549 %] elapsed[sec]: 0.056 | ETA[sec]: -0.046 "
       ]
      },
      {
       "output_type": "stream",
       "stream": "stderr",
       "text": [
        "\r",
        "[578 %] elapsed[sec]: 0.057 | ETA[sec]: -0.047 "
       ]
      },
      {
       "output_type": "stream",
       "stream": "stderr",
       "text": [
        "\r",
        "[609 %] elapsed[sec]: 0.059 | ETA[sec]: -0.049 "
       ]
      },
      {
       "output_type": "stream",
       "stream": "stderr",
       "text": [
        "\r",
        "[640 %] elapsed[sec]: 0.061 | ETA[sec]: -0.051 "
       ]
      },
      {
       "output_type": "stream",
       "stream": "stderr",
       "text": [
        "\r",
        "[672 %] elapsed[sec]: 0.062 | ETA[sec]: -0.053 "
       ]
      },
      {
       "output_type": "stream",
       "stream": "stderr",
       "text": [
        "\r",
        "[705 %] elapsed[sec]: 0.063 | ETA[sec]: -0.054 "
       ]
      },
      {
       "output_type": "stream",
       "stream": "stderr",
       "text": [
        "\r",
        "[739 %] elapsed[sec]: 0.064 | ETA[sec]: -0.056 "
       ]
      },
      {
       "output_type": "stream",
       "stream": "stderr",
       "text": [
        "\r",
        "[773 %] elapsed[sec]: 0.066 | ETA[sec]: -0.057 "
       ]
      },
      {
       "output_type": "stream",
       "stream": "stderr",
       "text": [
        "\r",
        "[808 %] elapsed[sec]: 0.067 | ETA[sec]: -0.059 "
       ]
      },
      {
       "output_type": "stream",
       "stream": "stderr",
       "text": [
        "\r",
        "[844 %] elapsed[sec]: 0.069 | ETA[sec]: -0.060 "
       ]
      },
      {
       "output_type": "stream",
       "stream": "stderr",
       "text": [
        "\r",
        "[881 %] elapsed[sec]: 0.070 | ETA[sec]: -0.062 "
       ]
      },
      {
       "output_type": "stream",
       "stream": "stderr",
       "text": [
        "\r",
        "[918 %] elapsed[sec]: 0.071 | ETA[sec]: -0.063 "
       ]
      },
      {
       "output_type": "stream",
       "stream": "stderr",
       "text": [
        "\r",
        "[957 %] elapsed[sec]: 0.073 | ETA[sec]: -0.065 "
       ]
      },
      {
       "output_type": "stream",
       "stream": "stderr",
       "text": [
        "\r",
        "[996 %] elapsed[sec]: 0.074 | ETA[sec]: -0.066 "
       ]
      },
      {
       "output_type": "stream",
       "stream": "stderr",
       "text": [
        "\r",
        "[1035 %] elapsed[sec]: 0.075 | ETA[sec]: -0.068 "
       ]
      },
      {
       "output_type": "stream",
       "stream": "stderr",
       "text": [
        "\r",
        "[1076 %] elapsed[sec]: 0.076 | ETA[sec]: -0.069 "
       ]
      },
      {
       "output_type": "stream",
       "stream": "stderr",
       "text": [
        "\r",
        "[1117 %] elapsed[sec]: 0.078 | ETA[sec]: -0.071 "
       ]
      },
      {
       "output_type": "stream",
       "stream": "stderr",
       "text": [
        "\r",
        "[1160 %] elapsed[sec]: 0.079 | ETA[sec]: -0.072 "
       ]
      },
      {
       "output_type": "stream",
       "stream": "stderr",
       "text": [
        "\r",
        "[1203 %] elapsed[sec]: 0.080 | ETA[sec]: -0.073 "
       ]
      },
      {
       "output_type": "stream",
       "stream": "stderr",
       "text": [
        "\r",
        "[1246 %] elapsed[sec]: 0.081 | ETA[sec]: -0.075 "
       ]
      },
      {
       "output_type": "stream",
       "stream": "stderr",
       "text": [
        "\r",
        "[1291 %] elapsed[sec]: 0.082 | ETA[sec]: -0.076 "
       ]
      },
      {
       "output_type": "stream",
       "stream": "stderr",
       "text": [
        "\r",
        "[1336 %] elapsed[sec]: 0.084 | ETA[sec]: -0.077 "
       ]
      },
      {
       "output_type": "stream",
       "stream": "stderr",
       "text": [
        "\r",
        "[1382 %] elapsed[sec]: 0.085 | ETA[sec]: -0.079 "
       ]
      },
      {
       "output_type": "stream",
       "stream": "stderr",
       "text": [
        "\r",
        "[1429 %] elapsed[sec]: 0.086 | ETA[sec]: -0.080 "
       ]
      },
      {
       "output_type": "stream",
       "stream": "stderr",
       "text": [
        "\r",
        "[1477 %] elapsed[sec]: 0.087 | ETA[sec]: -0.082 "
       ]
      },
      {
       "output_type": "stream",
       "stream": "stderr",
       "text": [
        "\r",
        "[1525 %] elapsed[sec]: 0.089 | ETA[sec]: -0.083 "
       ]
      },
      {
       "output_type": "stream",
       "stream": "stderr",
       "text": [
        "\r",
        "[1575 %] elapsed[sec]: 0.090 | ETA[sec]: -0.084 "
       ]
      },
      {
       "output_type": "stream",
       "stream": "stderr",
       "text": [
        "\r",
        "[1625 %] elapsed[sec]: 0.091 | ETA[sec]: -0.086 "
       ]
      },
      {
       "output_type": "stream",
       "stream": "stderr",
       "text": [
        "\r",
        "[1675 %] elapsed[sec]: 0.092 | ETA[sec]: -0.087 "
       ]
      },
      {
       "output_type": "stream",
       "stream": "stderr",
       "text": [
        "\r",
        "[1727 %] elapsed[sec]: 0.094 | ETA[sec]: -0.088 "
       ]
      },
      {
       "output_type": "stream",
       "stream": "stderr",
       "text": [
        "\r",
        "[1779 %] elapsed[sec]: 0.095 | ETA[sec]: -0.089 "
       ]
      },
      {
       "output_type": "stream",
       "stream": "stderr",
       "text": [
        "\r",
        "[1832 %] elapsed[sec]: 0.096 | ETA[sec]: -0.091 "
       ]
      },
      {
       "output_type": "stream",
       "stream": "stderr",
       "text": [
        "\r",
        "[1886 %] elapsed[sec]: 0.098 | ETA[sec]: -0.093 "
       ]
      },
      {
       "output_type": "stream",
       "stream": "stderr",
       "text": [
        "\r",
        "[1941 %] elapsed[sec]: 0.100 | ETA[sec]: -0.095 "
       ]
      },
      {
       "output_type": "stream",
       "stream": "stderr",
       "text": [
        "\r",
        "[1996 %] elapsed[sec]: 0.102 | ETA[sec]: -0.097 "
       ]
      },
      {
       "output_type": "stream",
       "stream": "stderr",
       "text": [
        "\r",
        "[2053 %] elapsed[sec]: 0.104 | ETA[sec]: -0.099 "
       ]
      },
      {
       "output_type": "stream",
       "stream": "stderr",
       "text": [
        "\r",
        "[2110 %] elapsed[sec]: 0.106 | ETA[sec]: -0.101 "
       ]
      },
      {
       "output_type": "stream",
       "stream": "stderr",
       "text": [
        "\r",
        "[2167 %] elapsed[sec]: 0.107 | ETA[sec]: -0.102 "
       ]
      },
      {
       "output_type": "stream",
       "stream": "stderr",
       "text": [
        "\r",
        "[2226 %] elapsed[sec]: 0.109 | ETA[sec]: -0.104 "
       ]
      },
      {
       "output_type": "stream",
       "stream": "stderr",
       "text": [
        "\r",
        "[2285 %] elapsed[sec]: 0.110 | ETA[sec]: -0.105 "
       ]
      },
      {
       "output_type": "stream",
       "stream": "stderr",
       "text": [
        "\r",
        "[2346 %] elapsed[sec]: 0.111 | ETA[sec]: -0.107 "
       ]
      },
      {
       "output_type": "stream",
       "stream": "stderr",
       "text": [
        "\r",
        "[2407 %] elapsed[sec]: 0.113 | ETA[sec]: -0.108 "
       ]
      },
      {
       "output_type": "stream",
       "stream": "stderr",
       "text": [
        "\r",
        "[2468 %] elapsed[sec]: 0.114 | ETA[sec]: -0.109 "
       ]
      },
      {
       "output_type": "stream",
       "stream": "stderr",
       "text": [
        "\r",
        "[2531 %] elapsed[sec]: 0.115 | ETA[sec]: -0.111 "
       ]
      },
      {
       "output_type": "stream",
       "stream": "stderr",
       "text": [
        "\r",
        "[2594 %] elapsed[sec]: 0.116 | ETA[sec]: -0.112 "
       ]
      },
      {
       "output_type": "stream",
       "stream": "stderr",
       "text": [
        "\r",
        "[2658 %] elapsed[sec]: 0.118 | ETA[sec]: -0.113 "
       ]
      },
      {
       "output_type": "stream",
       "stream": "stderr",
       "text": [
        "\r",
        "[2723 %] elapsed[sec]: 0.119 | ETA[sec]: -0.114 "
       ]
      },
      {
       "output_type": "stream",
       "stream": "stderr",
       "text": [
        "\r",
        "[2789 %] elapsed[sec]: 0.120 | ETA[sec]: -0.116 "
       ]
      },
      {
       "output_type": "stream",
       "stream": "stderr",
       "text": [
        "\r",
        "[2855 %] elapsed[sec]: 0.121 | ETA[sec]: -0.117 "
       ]
      },
      {
       "output_type": "stream",
       "stream": "stderr",
       "text": [
        "\r",
        "[2922 %] elapsed[sec]: 0.123 | ETA[sec]: -0.118 "
       ]
      },
      {
       "output_type": "stream",
       "stream": "stderr",
       "text": [
        "\r",
        "[2990 %] elapsed[sec]: 0.124 | ETA[sec]: -0.120 "
       ]
      },
      {
       "output_type": "stream",
       "stream": "stderr",
       "text": [
        "\r",
        "[3059 %] elapsed[sec]: 0.125 | ETA[sec]: -0.121 "
       ]
      },
      {
       "output_type": "stream",
       "stream": "stderr",
       "text": [
        "\r",
        "[3128 %] elapsed[sec]: 0.126 | ETA[sec]: -0.122 "
       ]
      },
      {
       "output_type": "stream",
       "stream": "stderr",
       "text": [
        "\r",
        "[3199 %] elapsed[sec]: 0.127 | ETA[sec]: -0.123 "
       ]
      },
      {
       "output_type": "stream",
       "stream": "stderr",
       "text": [
        "\r",
        "[3270 %] elapsed[sec]: 0.129 | ETA[sec]: -0.125 "
       ]
      },
      {
       "output_type": "stream",
       "stream": "stderr",
       "text": [
        "\r",
        "[3342 %] elapsed[sec]: 0.130 | ETA[sec]: -0.126 "
       ]
      },
      {
       "output_type": "stream",
       "stream": "stderr",
       "text": [
        "\r",
        "[3414 %] elapsed[sec]: 0.132 | ETA[sec]: -0.128 "
       ]
      },
      {
       "output_type": "stream",
       "stream": "stderr",
       "text": [
        "\r",
        "[3488 %] elapsed[sec]: 0.133 | ETA[sec]: -0.129 "
       ]
      },
      {
       "output_type": "stream",
       "stream": "stderr",
       "text": [
        "\r",
        "[3562 %] elapsed[sec]: 0.134 | ETA[sec]: -0.130 "
       ]
      },
      {
       "output_type": "stream",
       "stream": "stderr",
       "text": [
        "\r",
        "[3637 %] elapsed[sec]: 0.135 | ETA[sec]: -0.132 "
       ]
      },
      {
       "output_type": "stream",
       "stream": "stderr",
       "text": [
        "\r",
        "[3713 %] elapsed[sec]: 0.137 | ETA[sec]: -0.133 "
       ]
      },
      {
       "output_type": "stream",
       "stream": "stderr",
       "text": [
        "\r",
        "[3789 %] elapsed[sec]: 0.138 | ETA[sec]: -0.134 "
       ]
      },
      {
       "output_type": "stream",
       "stream": "stderr",
       "text": [
        "\r",
        "[3867 %] elapsed[sec]: 0.139 | ETA[sec]: -0.135 "
       ]
      },
      {
       "output_type": "stream",
       "stream": "stderr",
       "text": [
        "\r",
        "[3945 %] elapsed[sec]: 0.140 | ETA[sec]: -0.137 "
       ]
      },
      {
       "output_type": "stream",
       "stream": "stderr",
       "text": [
        "\r",
        "[4024 %] elapsed[sec]: 0.142 | ETA[sec]: -0.138 "
       ]
      },
      {
       "output_type": "stream",
       "stream": "stderr",
       "text": [
        "\r",
        "[4103 %] elapsed[sec]: 0.143 | ETA[sec]: -0.139 "
       ]
      },
      {
       "output_type": "stream",
       "stream": "stderr",
       "text": [
        "\r",
        "[4184 %] elapsed[sec]: 0.144 | ETA[sec]: -0.141 "
       ]
      },
      {
       "output_type": "stream",
       "stream": "stderr",
       "text": [
        "\r",
        "[4265 %] elapsed[sec]: 0.145 | ETA[sec]: -0.142 "
       ]
      },
      {
       "output_type": "stream",
       "stream": "stderr",
       "text": [
        "\r",
        "[4347 %] elapsed[sec]: 0.147 | ETA[sec]: -0.144 "
       ]
      },
      {
       "output_type": "stream",
       "stream": "stderr",
       "text": [
        "\r",
        "[4430 %] elapsed[sec]: 0.148 | ETA[sec]: -0.145 "
       ]
      },
      {
       "output_type": "stream",
       "stream": "stderr",
       "text": [
        "\r",
        "[4514 %] elapsed[sec]: 0.150 | ETA[sec]: -0.146 "
       ]
      },
      {
       "output_type": "stream",
       "stream": "stderr",
       "text": [
        "\r",
        "[4598 %] elapsed[sec]: 0.151 | ETA[sec]: -0.148 "
       ]
      },
      {
       "output_type": "stream",
       "stream": "stderr",
       "text": [
        "\r",
        "[4683 %] elapsed[sec]: 0.153 | ETA[sec]: -0.150 "
       ]
      },
      {
       "output_type": "stream",
       "stream": "stderr",
       "text": [
        "\r",
        "[4769 %] elapsed[sec]: 0.155 | ETA[sec]: -0.152 "
       ]
      },
      {
       "output_type": "stream",
       "stream": "stderr",
       "text": [
        "\r",
        "[4856 %] elapsed[sec]: 0.157 | ETA[sec]: -0.154 "
       ]
      },
      {
       "output_type": "stream",
       "stream": "stderr",
       "text": [
        "\r",
        "[4943 %] elapsed[sec]: 0.159 | ETA[sec]: -0.156 "
       ]
      },
      {
       "output_type": "stream",
       "stream": "stderr",
       "text": [
        "\r",
        "[5032 %] elapsed[sec]: 0.161 | ETA[sec]: -0.157 "
       ]
      },
      {
       "output_type": "stream",
       "stream": "stderr",
       "text": [
        "\r",
        "[5121 %] elapsed[sec]: 0.162 | ETA[sec]: -0.159 "
       ]
      },
      {
       "output_type": "stream",
       "stream": "stderr",
       "text": [
        "\r",
        "[5210 %] elapsed[sec]: 0.164 | ETA[sec]: -0.160 "
       ]
      },
      {
       "output_type": "stream",
       "stream": "stderr",
       "text": [
        "\r",
        "[5301 %] elapsed[sec]: 0.165 | ETA[sec]: -0.162 "
       ]
      },
      {
       "output_type": "stream",
       "stream": "stderr",
       "text": [
        "\r",
        "[5392 %] elapsed[sec]: 0.166 | ETA[sec]: -0.163 "
       ]
      },
      {
       "output_type": "stream",
       "stream": "stderr",
       "text": [
        "\r",
        "[5485 %] elapsed[sec]: 0.167 | ETA[sec]: -0.164 "
       ]
      },
      {
       "output_type": "stream",
       "stream": "stderr",
       "text": [
        "\r",
        "[5578 %] elapsed[sec]: 0.168 | ETA[sec]: -0.165 "
       ]
      },
      {
       "output_type": "stream",
       "stream": "stderr",
       "text": [
        "\r",
        "[5671 %] elapsed[sec]: 0.170 | ETA[sec]: -0.167 "
       ]
      },
      {
       "output_type": "stream",
       "stream": "stderr",
       "text": [
        "\r",
        "[5766 %] elapsed[sec]: 0.171 | ETA[sec]: -0.168 "
       ]
      },
      {
       "output_type": "stream",
       "stream": "stderr",
       "text": [
        "\r",
        "[5861 %] elapsed[sec]: 0.173 | ETA[sec]: -0.170 "
       ]
      },
      {
       "output_type": "stream",
       "stream": "stderr",
       "text": [
        "\r",
        "[5957 %] elapsed[sec]: 0.174 | ETA[sec]: -0.171 "
       ]
      },
      {
       "output_type": "stream",
       "stream": "stderr",
       "text": [
        "\r",
        "[6054 %] elapsed[sec]: 0.175 | ETA[sec]: -0.172 "
       ]
      },
      {
       "output_type": "stream",
       "stream": "stderr",
       "text": [
        "\r",
        "[6152 %] elapsed[sec]: 0.177 | ETA[sec]: -0.174 "
       ]
      },
      {
       "output_type": "stream",
       "stream": "stderr",
       "text": [
        "\r",
        "[6250 %] elapsed[sec]: 0.178 | ETA[sec]: -0.175 "
       ]
      },
      {
       "output_type": "stream",
       "stream": "stderr",
       "text": [
        "\r",
        "[6350 %] elapsed[sec]: 0.179 | ETA[sec]: -0.176 "
       ]
      },
      {
       "output_type": "stream",
       "stream": "stdout",
       "text": [
        "\n",
        "Title: \n",
        "                      Started: 09/22/2014 17:23:34\n",
        "                      Finished: 09/22/2014 17:23:34\n",
        "                      Total time elapsed: 0.000 sec"
       ]
      },
      {
       "output_type": "stream",
       "stream": "stderr",
       "text": [
        "\r",
        "[  0 %] elapsed[sec]: 0.000"
       ]
      },
      {
       "output_type": "stream",
       "stream": "stdout",
       "text": [
        "\n",
        "Saving sequence results/color-contrast-2_0.webm"
       ]
      },
      {
       "output_type": "stream",
       "stream": "stderr",
       "text": [
        "\r",
        "[  0 %] elapsed[sec]: 0.003 | ETA[sec]: 0.326 "
       ]
      },
      {
       "output_type": "stream",
       "stream": "stderr",
       "text": [
        "\r",
        "[  2 %] elapsed[sec]: 0.004 | ETA[sec]: 0.171 "
       ]
      },
      {
       "output_type": "stream",
       "stream": "stderr",
       "text": [
        "\r",
        "[  4 %] elapsed[sec]: 0.005 | ETA[sec]: 0.110 "
       ]
      },
      {
       "output_type": "stream",
       "stream": "stderr",
       "text": [
        "\r",
        "[  7 %] elapsed[sec]: 0.007 | ETA[sec]: 0.079 "
       ]
      },
      {
       "output_type": "stream",
       "stream": "stderr",
       "text": [
        "\r",
        "[ 11 %] elapsed[sec]: 0.008 | ETA[sec]: 0.060 "
       ]
      },
      {
       "output_type": "stream",
       "stream": "stderr",
       "text": [
        "\r",
        "[ 16 %] elapsed[sec]: 0.009 | ETA[sec]: 0.047 "
       ]
      },
      {
       "output_type": "stream",
       "stream": "stderr",
       "text": [
        "\r",
        "[ 21 %] elapsed[sec]: 0.010 | ETA[sec]: 0.037 "
       ]
      },
      {
       "output_type": "stream",
       "stream": "stderr",
       "text": [
        "\r",
        "[ 28 %] elapsed[sec]: 0.012 | ETA[sec]: 0.030 "
       ]
      },
      {
       "output_type": "stream",
       "stream": "stderr",
       "text": [
        "\r",
        "[ 35 %] elapsed[sec]: 0.013 | ETA[sec]: 0.024 "
       ]
      },
      {
       "output_type": "stream",
       "stream": "stderr",
       "text": [
        "\r",
        "[ 42 %] elapsed[sec]: 0.014 | ETA[sec]: 0.019 "
       ]
      },
      {
       "output_type": "stream",
       "stream": "stderr",
       "text": [
        "\r",
        "[ 51 %] elapsed[sec]: 0.016 | ETA[sec]: 0.015 "
       ]
      },
      {
       "output_type": "stream",
       "stream": "stderr",
       "text": [
        "\r",
        "[ 60 %] elapsed[sec]: 0.017 | ETA[sec]: 0.011 "
       ]
      },
      {
       "output_type": "stream",
       "stream": "stderr",
       "text": [
        "\r",
        "[ 71 %] elapsed[sec]: 0.018 | ETA[sec]: 0.008 "
       ]
      },
      {
       "output_type": "stream",
       "stream": "stderr",
       "text": [
        "\r",
        "[ 82 %] elapsed[sec]: 0.020 | ETA[sec]: 0.004 "
       ]
      },
      {
       "output_type": "stream",
       "stream": "stderr",
       "text": [
        "\r",
        "[ 93 %] elapsed[sec]: 0.022 | ETA[sec]: 0.001 "
       ]
      },
      {
       "output_type": "stream",
       "stream": "stderr",
       "text": [
        "\r",
        "[106 %] elapsed[sec]: 0.023 | ETA[sec]: -0.001 "
       ]
      },
      {
       "output_type": "stream",
       "stream": "stderr",
       "text": [
        "\r",
        "[119 %] elapsed[sec]: 0.024 | ETA[sec]: -0.004 "
       ]
      },
      {
       "output_type": "stream",
       "stream": "stderr",
       "text": [
        "\r",
        "[133 %] elapsed[sec]: 0.026 | ETA[sec]: -0.007 "
       ]
      },
      {
       "output_type": "stream",
       "stream": "stderr",
       "text": [
        "\r",
        "[148 %] elapsed[sec]: 0.027 | ETA[sec]: -0.009 "
       ]
      },
      {
       "output_type": "stream",
       "stream": "stderr",
       "text": [
        "\r",
        "[164 %] elapsed[sec]: 0.029 | ETA[sec]: -0.011 "
       ]
      },
      {
       "output_type": "stream",
       "stream": "stderr",
       "text": [
        "\r",
        "[180 %] elapsed[sec]: 0.030 | ETA[sec]: -0.013 "
       ]
      },
      {
       "output_type": "stream",
       "stream": "stderr",
       "text": [
        "\r",
        "[197 %] elapsed[sec]: 0.031 | ETA[sec]: -0.015 "
       ]
      },
      {
       "output_type": "stream",
       "stream": "stderr",
       "text": [
        "\r",
        "[215 %] elapsed[sec]: 0.033 | ETA[sec]: -0.017 "
       ]
      },
      {
       "output_type": "stream",
       "stream": "stderr",
       "text": [
        "\r",
        "[234 %] elapsed[sec]: 0.034 | ETA[sec]: -0.020 "
       ]
      },
      {
       "output_type": "stream",
       "stream": "stderr",
       "text": [
        "\r",
        "[253 %] elapsed[sec]: 0.036 | ETA[sec]: -0.022 "
       ]
      },
      {
       "output_type": "stream",
       "stream": "stderr",
       "text": [
        "\r",
        "[274 %] elapsed[sec]: 0.038 | ETA[sec]: -0.024 "
       ]
      },
      {
       "output_type": "stream",
       "stream": "stderr",
       "text": [
        "\r",
        "[295 %] elapsed[sec]: 0.040 | ETA[sec]: -0.027 "
       ]
      },
      {
       "output_type": "stream",
       "stream": "stderr",
       "text": [
        "\r",
        "[317 %] elapsed[sec]: 0.042 | ETA[sec]: -0.029 "
       ]
      },
      {
       "output_type": "stream",
       "stream": "stderr",
       "text": [
        "\r",
        "[339 %] elapsed[sec]: 0.044 | ETA[sec]: -0.031 "
       ]
      },
      {
       "output_type": "stream",
       "stream": "stderr",
       "text": [
        "\r",
        "[363 %] elapsed[sec]: 0.045 | ETA[sec]: -0.033 "
       ]
      },
      {
       "output_type": "stream",
       "stream": "stderr",
       "text": [
        "\r",
        "[387 %] elapsed[sec]: 0.046 | ETA[sec]: -0.035 "
       ]
      },
      {
       "output_type": "stream",
       "stream": "stderr",
       "text": [
        "\r",
        "[412 %] elapsed[sec]: 0.048 | ETA[sec]: -0.036 "
       ]
      },
      {
       "output_type": "stream",
       "stream": "stderr",
       "text": [
        "\r",
        "[438 %] elapsed[sec]: 0.049 | ETA[sec]: -0.038 "
       ]
      },
      {
       "output_type": "stream",
       "stream": "stderr",
       "text": [
        "\r",
        "[464 %] elapsed[sec]: 0.051 | ETA[sec]: -0.040 "
       ]
      },
      {
       "output_type": "stream",
       "stream": "stderr",
       "text": [
        "\r",
        "[492 %] elapsed[sec]: 0.053 | ETA[sec]: -0.042 "
       ]
      },
      {
       "output_type": "stream",
       "stream": "stderr",
       "text": [
        "\r",
        "[520 %] elapsed[sec]: 0.054 | ETA[sec]: -0.044 "
       ]
      },
      {
       "output_type": "stream",
       "stream": "stderr",
       "text": [
        "\r",
        "[549 %] elapsed[sec]: 0.056 | ETA[sec]: -0.046 "
       ]
      },
      {
       "output_type": "stream",
       "stream": "stderr",
       "text": [
        "\r",
        "[578 %] elapsed[sec]: 0.058 | ETA[sec]: -0.048 "
       ]
      },
      {
       "output_type": "stream",
       "stream": "stderr",
       "text": [
        "\r",
        "[609 %] elapsed[sec]: 0.059 | ETA[sec]: -0.049 "
       ]
      },
      {
       "output_type": "stream",
       "stream": "stderr",
       "text": [
        "\r",
        "[640 %] elapsed[sec]: 0.060 | ETA[sec]: -0.051 "
       ]
      },
      {
       "output_type": "stream",
       "stream": "stderr",
       "text": [
        "\r",
        "[672 %] elapsed[sec]: 0.061 | ETA[sec]: -0.052 "
       ]
      },
      {
       "output_type": "stream",
       "stream": "stderr",
       "text": [
        "\r",
        "[705 %] elapsed[sec]: 0.063 | ETA[sec]: -0.054 "
       ]
      },
      {
       "output_type": "stream",
       "stream": "stderr",
       "text": [
        "\r",
        "[739 %] elapsed[sec]: 0.064 | ETA[sec]: -0.055 "
       ]
      },
      {
       "output_type": "stream",
       "stream": "stderr",
       "text": [
        "\r",
        "[773 %] elapsed[sec]: 0.065 | ETA[sec]: -0.057 "
       ]
      },
      {
       "output_type": "stream",
       "stream": "stderr",
       "text": [
        "\r",
        "[808 %] elapsed[sec]: 0.068 | ETA[sec]: -0.059 "
       ]
      },
      {
       "output_type": "stream",
       "stream": "stderr",
       "text": [
        "\r",
        "[844 %] elapsed[sec]: 0.070 | ETA[sec]: -0.062 "
       ]
      },
      {
       "output_type": "stream",
       "stream": "stderr",
       "text": [
        "\r",
        "[881 %] elapsed[sec]: 0.071 | ETA[sec]: -0.063 "
       ]
      },
      {
       "output_type": "stream",
       "stream": "stderr",
       "text": [
        "\r",
        "[918 %] elapsed[sec]: 0.073 | ETA[sec]: -0.065 "
       ]
      },
      {
       "output_type": "stream",
       "stream": "stderr",
       "text": [
        "\r",
        "[957 %] elapsed[sec]: 0.074 | ETA[sec]: -0.067 "
       ]
      },
      {
       "output_type": "stream",
       "stream": "stderr",
       "text": [
        "\r",
        "[996 %] elapsed[sec]: 0.076 | ETA[sec]: -0.068 "
       ]
      },
      {
       "output_type": "stream",
       "stream": "stderr",
       "text": [
        "\r",
        "[1035 %] elapsed[sec]: 0.078 | ETA[sec]: -0.070 "
       ]
      },
      {
       "output_type": "stream",
       "stream": "stderr",
       "text": [
        "\r",
        "[1076 %] elapsed[sec]: 0.080 | ETA[sec]: -0.072 "
       ]
      },
      {
       "output_type": "stream",
       "stream": "stderr",
       "text": [
        "\r",
        "[1117 %] elapsed[sec]: 0.082 | ETA[sec]: -0.074 "
       ]
      },
      {
       "output_type": "stream",
       "stream": "stderr",
       "text": [
        "\r",
        "[1160 %] elapsed[sec]: 0.084 | ETA[sec]: -0.076 "
       ]
      },
      {
       "output_type": "stream",
       "stream": "stderr",
       "text": [
        "\r",
        "[1203 %] elapsed[sec]: 0.086 | ETA[sec]: -0.079 "
       ]
      },
      {
       "output_type": "stream",
       "stream": "stderr",
       "text": [
        "\r",
        "[1246 %] elapsed[sec]: 0.087 | ETA[sec]: -0.080 "
       ]
      },
      {
       "output_type": "stream",
       "stream": "stderr",
       "text": [
        "\r",
        "[1291 %] elapsed[sec]: 0.089 | ETA[sec]: -0.083 "
       ]
      },
      {
       "output_type": "stream",
       "stream": "stderr",
       "text": [
        "\r",
        "[1336 %] elapsed[sec]: 0.091 | ETA[sec]: -0.085 "
       ]
      },
      {
       "output_type": "stream",
       "stream": "stderr",
       "text": [
        "\r",
        "[1382 %] elapsed[sec]: 0.093 | ETA[sec]: -0.087 "
       ]
      },
      {
       "output_type": "stream",
       "stream": "stderr",
       "text": [
        "\r",
        "[1429 %] elapsed[sec]: 0.095 | ETA[sec]: -0.089 "
       ]
      },
      {
       "output_type": "stream",
       "stream": "stderr",
       "text": [
        "\r",
        "[1477 %] elapsed[sec]: 0.097 | ETA[sec]: -0.090 "
       ]
      },
      {
       "output_type": "stream",
       "stream": "stderr",
       "text": [
        "\r",
        "[1525 %] elapsed[sec]: 0.098 | ETA[sec]: -0.092 "
       ]
      },
      {
       "output_type": "stream",
       "stream": "stderr",
       "text": [
        "\r",
        "[1575 %] elapsed[sec]: 0.100 | ETA[sec]: -0.094 "
       ]
      },
      {
       "output_type": "stream",
       "stream": "stderr",
       "text": [
        "\r",
        "[1625 %] elapsed[sec]: 0.102 | ETA[sec]: -0.096 "
       ]
      },
      {
       "output_type": "stream",
       "stream": "stderr",
       "text": [
        "\r",
        "[1675 %] elapsed[sec]: 0.104 | ETA[sec]: -0.098 "
       ]
      },
      {
       "output_type": "stream",
       "stream": "stderr",
       "text": [
        "\r",
        "[1727 %] elapsed[sec]: 0.106 | ETA[sec]: -0.100 "
       ]
      },
      {
       "output_type": "stream",
       "stream": "stderr",
       "text": [
        "\r",
        "[1779 %] elapsed[sec]: 0.107 | ETA[sec]: -0.101 "
       ]
      },
      {
       "output_type": "stream",
       "stream": "stderr",
       "text": [
        "\r",
        "[1832 %] elapsed[sec]: 0.109 | ETA[sec]: -0.103 "
       ]
      },
      {
       "output_type": "stream",
       "stream": "stderr",
       "text": [
        "\r",
        "[1886 %] elapsed[sec]: 0.110 | ETA[sec]: -0.104 "
       ]
      },
      {
       "output_type": "stream",
       "stream": "stderr",
       "text": [
        "\r",
        "[1941 %] elapsed[sec]: 0.112 | ETA[sec]: -0.106 "
       ]
      },
      {
       "output_type": "stream",
       "stream": "stderr",
       "text": [
        "\r",
        "[1996 %] elapsed[sec]: 0.113 | ETA[sec]: -0.108 "
       ]
      },
      {
       "output_type": "stream",
       "stream": "stderr",
       "text": [
        "\r",
        "[2053 %] elapsed[sec]: 0.115 | ETA[sec]: -0.109 "
       ]
      },
      {
       "output_type": "stream",
       "stream": "stderr",
       "text": [
        "\r",
        "[2110 %] elapsed[sec]: 0.116 | ETA[sec]: -0.110 "
       ]
      },
      {
       "output_type": "stream",
       "stream": "stderr",
       "text": [
        "\r",
        "[2167 %] elapsed[sec]: 0.117 | ETA[sec]: -0.112 "
       ]
      },
      {
       "output_type": "stream",
       "stream": "stderr",
       "text": [
        "\r",
        "[2226 %] elapsed[sec]: 0.119 | ETA[sec]: -0.113 "
       ]
      },
      {
       "output_type": "stream",
       "stream": "stderr",
       "text": [
        "\r",
        "[2285 %] elapsed[sec]: 0.120 | ETA[sec]: -0.115 "
       ]
      },
      {
       "output_type": "stream",
       "stream": "stderr",
       "text": [
        "\r",
        "[2346 %] elapsed[sec]: 0.122 | ETA[sec]: -0.117 "
       ]
      },
      {
       "output_type": "stream",
       "stream": "stderr",
       "text": [
        "\r",
        "[2407 %] elapsed[sec]: 0.123 | ETA[sec]: -0.118 "
       ]
      },
      {
       "output_type": "stream",
       "stream": "stderr",
       "text": [
        "\r",
        "[2468 %] elapsed[sec]: 0.124 | ETA[sec]: -0.119 "
       ]
      },
      {
       "output_type": "stream",
       "stream": "stderr",
       "text": [
        "\r",
        "[2531 %] elapsed[sec]: 0.126 | ETA[sec]: -0.121 "
       ]
      },
      {
       "output_type": "stream",
       "stream": "stderr",
       "text": [
        "\r",
        "[2594 %] elapsed[sec]: 0.127 | ETA[sec]: -0.122 "
       ]
      },
      {
       "output_type": "stream",
       "stream": "stderr",
       "text": [
        "\r",
        "[2658 %] elapsed[sec]: 0.128 | ETA[sec]: -0.123 "
       ]
      },
      {
       "output_type": "stream",
       "stream": "stderr",
       "text": [
        "\r",
        "[2723 %] elapsed[sec]: 0.129 | ETA[sec]: -0.125 "
       ]
      },
      {
       "output_type": "stream",
       "stream": "stderr",
       "text": [
        "\r",
        "[2789 %] elapsed[sec]: 0.132 | ETA[sec]: -0.127 "
       ]
      },
      {
       "output_type": "stream",
       "stream": "stderr",
       "text": [
        "\r",
        "[2855 %] elapsed[sec]: 0.134 | ETA[sec]: -0.129 "
       ]
      },
      {
       "output_type": "stream",
       "stream": "stderr",
       "text": [
        "\r",
        "[2922 %] elapsed[sec]: 0.135 | ETA[sec]: -0.130 "
       ]
      },
      {
       "output_type": "stream",
       "stream": "stderr",
       "text": [
        "\r",
        "[2990 %] elapsed[sec]: 0.136 | ETA[sec]: -0.132 "
       ]
      },
      {
       "output_type": "stream",
       "stream": "stderr",
       "text": [
        "\r",
        "[3059 %] elapsed[sec]: 0.137 | ETA[sec]: -0.133 "
       ]
      },
      {
       "output_type": "stream",
       "stream": "stderr",
       "text": [
        "\r",
        "[3128 %] elapsed[sec]: 0.139 | ETA[sec]: -0.134 "
       ]
      },
      {
       "output_type": "stream",
       "stream": "stderr",
       "text": [
        "\r",
        "[3199 %] elapsed[sec]: 0.140 | ETA[sec]: -0.135 "
       ]
      },
      {
       "output_type": "stream",
       "stream": "stderr",
       "text": [
        "\r",
        "[3270 %] elapsed[sec]: 0.141 | ETA[sec]: -0.137 "
       ]
      },
      {
       "output_type": "stream",
       "stream": "stderr",
       "text": [
        "\r",
        "[3342 %] elapsed[sec]: 0.143 | ETA[sec]: -0.138 "
       ]
      },
      {
       "output_type": "stream",
       "stream": "stderr",
       "text": [
        "\r",
        "[3414 %] elapsed[sec]: 0.144 | ETA[sec]: -0.140 "
       ]
      },
      {
       "output_type": "stream",
       "stream": "stderr",
       "text": [
        "\r",
        "[3488 %] elapsed[sec]: 0.145 | ETA[sec]: -0.141 "
       ]
      },
      {
       "output_type": "stream",
       "stream": "stderr",
       "text": [
        "\r",
        "[3562 %] elapsed[sec]: 0.146 | ETA[sec]: -0.142 "
       ]
      },
      {
       "output_type": "stream",
       "stream": "stderr",
       "text": [
        "\r",
        "[3637 %] elapsed[sec]: 0.148 | ETA[sec]: -0.144 "
       ]
      },
      {
       "output_type": "stream",
       "stream": "stderr",
       "text": [
        "\r",
        "[3713 %] elapsed[sec]: 0.149 | ETA[sec]: -0.145 "
       ]
      },
      {
       "output_type": "stream",
       "stream": "stderr",
       "text": [
        "\r",
        "[3789 %] elapsed[sec]: 0.150 | ETA[sec]: -0.146 "
       ]
      },
      {
       "output_type": "stream",
       "stream": "stderr",
       "text": [
        "\r",
        "[3867 %] elapsed[sec]: 0.152 | ETA[sec]: -0.148 "
       ]
      },
      {
       "output_type": "stream",
       "stream": "stderr",
       "text": [
        "\r",
        "[3945 %] elapsed[sec]: 0.153 | ETA[sec]: -0.149 "
       ]
      },
      {
       "output_type": "stream",
       "stream": "stderr",
       "text": [
        "\r",
        "[4024 %] elapsed[sec]: 0.154 | ETA[sec]: -0.150 "
       ]
      },
      {
       "output_type": "stream",
       "stream": "stderr",
       "text": [
        "\r",
        "[4103 %] elapsed[sec]: 0.156 | ETA[sec]: -0.152 "
       ]
      },
      {
       "output_type": "stream",
       "stream": "stderr",
       "text": [
        "\r",
        "[4184 %] elapsed[sec]: 0.158 | ETA[sec]: -0.154 "
       ]
      },
      {
       "output_type": "stream",
       "stream": "stderr",
       "text": [
        "\r",
        "[4265 %] elapsed[sec]: 0.160 | ETA[sec]: -0.156 "
       ]
      },
      {
       "output_type": "stream",
       "stream": "stderr",
       "text": [
        "\r",
        "[4347 %] elapsed[sec]: 0.162 | ETA[sec]: -0.158 "
       ]
      },
      {
       "output_type": "stream",
       "stream": "stderr",
       "text": [
        "\r",
        "[4430 %] elapsed[sec]: 0.164 | ETA[sec]: -0.160 "
       ]
      },
      {
       "output_type": "stream",
       "stream": "stderr",
       "text": [
        "\r",
        "[4514 %] elapsed[sec]: 0.165 | ETA[sec]: -0.162 "
       ]
      },
      {
       "output_type": "stream",
       "stream": "stderr",
       "text": [
        "\r",
        "[4598 %] elapsed[sec]: 0.167 | ETA[sec]: -0.163 "
       ]
      },
      {
       "output_type": "stream",
       "stream": "stderr",
       "text": [
        "\r",
        "[4683 %] elapsed[sec]: 0.168 | ETA[sec]: -0.164 "
       ]
      },
      {
       "output_type": "stream",
       "stream": "stderr",
       "text": [
        "\r",
        "[4769 %] elapsed[sec]: 0.169 | ETA[sec]: -0.166 "
       ]
      },
      {
       "output_type": "stream",
       "stream": "stderr",
       "text": [
        "\r",
        "[4856 %] elapsed[sec]: 0.171 | ETA[sec]: -0.167 "
       ]
      },
      {
       "output_type": "stream",
       "stream": "stderr",
       "text": [
        "\r",
        "[4943 %] elapsed[sec]: 0.175 | ETA[sec]: -0.171 "
       ]
      },
      {
       "output_type": "stream",
       "stream": "stderr",
       "text": [
        "\r",
        "[5032 %] elapsed[sec]: 0.177 | ETA[sec]: -0.173 "
       ]
      },
      {
       "output_type": "stream",
       "stream": "stderr",
       "text": [
        "\r",
        "[5121 %] elapsed[sec]: 0.179 | ETA[sec]: -0.176 "
       ]
      },
      {
       "output_type": "stream",
       "stream": "stderr",
       "text": [
        "\r",
        "[5210 %] elapsed[sec]: 0.180 | ETA[sec]: -0.177 "
       ]
      },
      {
       "output_type": "stream",
       "stream": "stderr",
       "text": [
        "\r",
        "[5301 %] elapsed[sec]: 0.182 | ETA[sec]: -0.179 "
       ]
      },
      {
       "output_type": "stream",
       "stream": "stderr",
       "text": [
        "\r",
        "[5392 %] elapsed[sec]: 0.184 | ETA[sec]: -0.181 "
       ]
      },
      {
       "output_type": "stream",
       "stream": "stderr",
       "text": [
        "\r",
        "[5485 %] elapsed[sec]: 0.185 | ETA[sec]: -0.182 "
       ]
      },
      {
       "output_type": "stream",
       "stream": "stderr",
       "text": [
        "\r",
        "[5578 %] elapsed[sec]: 0.187 | ETA[sec]: -0.183 "
       ]
      },
      {
       "output_type": "stream",
       "stream": "stderr",
       "text": [
        "\r",
        "[5671 %] elapsed[sec]: 0.188 | ETA[sec]: -0.185 "
       ]
      },
      {
       "output_type": "stream",
       "stream": "stderr",
       "text": [
        "\r",
        "[5766 %] elapsed[sec]: 0.190 | ETA[sec]: -0.187 "
       ]
      },
      {
       "output_type": "stream",
       "stream": "stderr",
       "text": [
        "\r",
        "[5861 %] elapsed[sec]: 0.192 | ETA[sec]: -0.188 "
       ]
      },
      {
       "output_type": "stream",
       "stream": "stderr",
       "text": [
        "\r",
        "[5957 %] elapsed[sec]: 0.193 | ETA[sec]: -0.190 "
       ]
      },
      {
       "output_type": "stream",
       "stream": "stderr",
       "text": [
        "\r",
        "[6054 %] elapsed[sec]: 0.195 | ETA[sec]: -0.191 "
       ]
      },
      {
       "output_type": "stream",
       "stream": "stderr",
       "text": [
        "\r",
        "[6152 %] elapsed[sec]: 0.196 | ETA[sec]: -0.193 "
       ]
      },
      {
       "output_type": "stream",
       "stream": "stderr",
       "text": [
        "\r",
        "[6250 %] elapsed[sec]: 0.197 | ETA[sec]: -0.194 "
       ]
      },
      {
       "output_type": "stream",
       "stream": "stderr",
       "text": [
        "\r",
        "[6350 %] elapsed[sec]: 0.198 | ETA[sec]: -0.195 "
       ]
      },
      {
       "output_type": "stream",
       "stream": "stdout",
       "text": [
        "\n",
        "Title: \n",
        "                      Started: 09/22/2014 17:23:34\n",
        "                      Finished: 09/22/2014 17:23:34\n",
        "                      Total time elapsed: 0.000 sec"
       ]
      },
      {
       "output_type": "stream",
       "stream": "stderr",
       "text": [
        "\r",
        "[  0 %] elapsed[sec]: 0.000"
       ]
      },
      {
       "output_type": "stream",
       "stream": "stdout",
       "text": [
        "\n",
        "Saving sequence results/color-energy_contrast-0_1.webm"
       ]
      },
      {
       "output_type": "stream",
       "stream": "stderr",
       "text": [
        "\r",
        "[  0 %] elapsed[sec]: 0.002 | ETA[sec]: 0.235 "
       ]
      },
      {
       "output_type": "stream",
       "stream": "stderr",
       "text": [
        "\r",
        "[  2 %] elapsed[sec]: 0.004 | ETA[sec]: 0.184 "
       ]
      },
      {
       "output_type": "stream",
       "stream": "stderr",
       "text": [
        "\r",
        "[  4 %] elapsed[sec]: 0.007 | ETA[sec]: 0.135 "
       ]
      },
      {
       "output_type": "stream",
       "stream": "stderr",
       "text": [
        "\r",
        "[  7 %] elapsed[sec]: 0.009 | ETA[sec]: 0.101 "
       ]
      },
      {
       "output_type": "stream",
       "stream": "stderr",
       "text": [
        "\r",
        "[ 11 %] elapsed[sec]: 0.011 | ETA[sec]: 0.080 "
       ]
      },
      {
       "output_type": "stream",
       "stream": "stderr",
       "text": [
        "\r",
        "[ 16 %] elapsed[sec]: 0.013 | ETA[sec]: 0.064 "
       ]
      },
      {
       "output_type": "stream",
       "stream": "stderr",
       "text": [
        "\r",
        "[ 21 %] elapsed[sec]: 0.014 | ETA[sec]: 0.050 "
       ]
      },
      {
       "output_type": "stream",
       "stream": "stderr",
       "text": [
        "\r",
        "[ 28 %] elapsed[sec]: 0.015 | ETA[sec]: 0.040 "
       ]
      },
      {
       "output_type": "stream",
       "stream": "stderr",
       "text": [
        "\r",
        "[ 35 %] elapsed[sec]: 0.017 | ETA[sec]: 0.031 "
       ]
      },
      {
       "output_type": "stream",
       "stream": "stderr",
       "text": [
        "\r",
        "[ 42 %] elapsed[sec]: 0.018 | ETA[sec]: 0.025 "
       ]
      },
      {
       "output_type": "stream",
       "stream": "stderr",
       "text": [
        "\r",
        "[ 51 %] elapsed[sec]: 0.020 | ETA[sec]: 0.019 "
       ]
      },
      {
       "output_type": "stream",
       "stream": "stderr",
       "text": [
        "\r",
        "[ 60 %] elapsed[sec]: 0.022 | ETA[sec]: 0.014 "
       ]
      },
      {
       "output_type": "stream",
       "stream": "stderr",
       "text": [
        "\r",
        "[ 71 %] elapsed[sec]: 0.023 | ETA[sec]: 0.010 "
       ]
      },
      {
       "output_type": "stream",
       "stream": "stderr",
       "text": [
        "\r",
        "[ 82 %] elapsed[sec]: 0.025 | ETA[sec]: 0.005 "
       ]
      },
      {
       "output_type": "stream",
       "stream": "stderr",
       "text": [
        "\r",
        "[ 93 %] elapsed[sec]: 0.026 | ETA[sec]: 0.002 "
       ]
      },
      {
       "output_type": "stream",
       "stream": "stderr",
       "text": [
        "\r",
        "[106 %] elapsed[sec]: 0.027 | ETA[sec]: -0.002 "
       ]
      },
      {
       "output_type": "stream",
       "stream": "stderr",
       "text": [
        "\r",
        "[119 %] elapsed[sec]: 0.029 | ETA[sec]: -0.005 "
       ]
      },
      {
       "output_type": "stream",
       "stream": "stderr",
       "text": [
        "\r",
        "[133 %] elapsed[sec]: 0.030 | ETA[sec]: -0.008 "
       ]
      },
      {
       "output_type": "stream",
       "stream": "stderr",
       "text": [
        "\r",
        "[148 %] elapsed[sec]: 0.032 | ETA[sec]: -0.010 "
       ]
      },
      {
       "output_type": "stream",
       "stream": "stderr",
       "text": [
        "\r",
        "[164 %] elapsed[sec]: 0.033 | ETA[sec]: -0.013 "
       ]
      },
      {
       "output_type": "stream",
       "stream": "stderr",
       "text": [
        "\r",
        "[180 %] elapsed[sec]: 0.035 | ETA[sec]: -0.015 "
       ]
      },
      {
       "output_type": "stream",
       "stream": "stderr",
       "text": [
        "\r",
        "[197 %] elapsed[sec]: 0.036 | ETA[sec]: -0.018 "
       ]
      },
      {
       "output_type": "stream",
       "stream": "stderr",
       "text": [
        "\r",
        "[215 %] elapsed[sec]: 0.037 | ETA[sec]: -0.020 "
       ]
      },
      {
       "output_type": "stream",
       "stream": "stderr",
       "text": [
        "\r",
        "[234 %] elapsed[sec]: 0.039 | ETA[sec]: -0.022 "
       ]
      },
      {
       "output_type": "stream",
       "stream": "stderr",
       "text": [
        "\r",
        "[253 %] elapsed[sec]: 0.040 | ETA[sec]: -0.025 "
       ]
      },
      {
       "output_type": "stream",
       "stream": "stderr",
       "text": [
        "\r",
        "[274 %] elapsed[sec]: 0.042 | ETA[sec]: -0.027 "
       ]
      },
      {
       "output_type": "stream",
       "stream": "stderr",
       "text": [
        "\r",
        "[295 %] elapsed[sec]: 0.043 | ETA[sec]: -0.029 "
       ]
      },
      {
       "output_type": "stream",
       "stream": "stderr",
       "text": [
        "\r",
        "[317 %] elapsed[sec]: 0.045 | ETA[sec]: -0.031 "
       ]
      },
      {
       "output_type": "stream",
       "stream": "stderr",
       "text": [
        "\r",
        "[339 %] elapsed[sec]: 0.046 | ETA[sec]: -0.033 "
       ]
      },
      {
       "output_type": "stream",
       "stream": "stderr",
       "text": [
        "\r",
        "[363 %] elapsed[sec]: 0.047 | ETA[sec]: -0.034 "
       ]
      },
      {
       "output_type": "stream",
       "stream": "stderr",
       "text": [
        "\r",
        "[387 %] elapsed[sec]: 0.049 | ETA[sec]: -0.036 "
       ]
      },
      {
       "output_type": "stream",
       "stream": "stderr",
       "text": [
        "\r",
        "[412 %] elapsed[sec]: 0.050 | ETA[sec]: -0.038 "
       ]
      },
      {
       "output_type": "stream",
       "stream": "stderr",
       "text": [
        "\r",
        "[438 %] elapsed[sec]: 0.052 | ETA[sec]: -0.040 "
       ]
      },
      {
       "output_type": "stream",
       "stream": "stderr",
       "text": [
        "\r",
        "[464 %] elapsed[sec]: 0.054 | ETA[sec]: -0.042 "
       ]
      },
      {
       "output_type": "stream",
       "stream": "stderr",
       "text": [
        "\r",
        "[492 %] elapsed[sec]: 0.055 | ETA[sec]: -0.044 "
       ]
      },
      {
       "output_type": "stream",
       "stream": "stderr",
       "text": [
        "\r",
        "[520 %] elapsed[sec]: 0.057 | ETA[sec]: -0.046 "
       ]
      },
      {
       "output_type": "stream",
       "stream": "stderr",
       "text": [
        "\r",
        "[549 %] elapsed[sec]: 0.058 | ETA[sec]: -0.048 "
       ]
      },
      {
       "output_type": "stream",
       "stream": "stderr",
       "text": [
        "\r",
        "[578 %] elapsed[sec]: 0.060 | ETA[sec]: -0.049 "
       ]
      },
      {
       "output_type": "stream",
       "stream": "stderr",
       "text": [
        "\r",
        "[609 %] elapsed[sec]: 0.061 | ETA[sec]: -0.051 "
       ]
      },
      {
       "output_type": "stream",
       "stream": "stderr",
       "text": [
        "\r",
        "[640 %] elapsed[sec]: 0.062 | ETA[sec]: -0.053 "
       ]
      },
      {
       "output_type": "stream",
       "stream": "stderr",
       "text": [
        "\r",
        "[672 %] elapsed[sec]: 0.064 | ETA[sec]: -0.054 "
       ]
      },
      {
       "output_type": "stream",
       "stream": "stderr",
       "text": [
        "\r",
        "[705 %] elapsed[sec]: 0.065 | ETA[sec]: -0.056 "
       ]
      },
      {
       "output_type": "stream",
       "stream": "stderr",
       "text": [
        "\r",
        "[739 %] elapsed[sec]: 0.067 | ETA[sec]: -0.058 "
       ]
      },
      {
       "output_type": "stream",
       "stream": "stderr",
       "text": [
        "\r",
        "[773 %] elapsed[sec]: 0.068 | ETA[sec]: -0.060 "
       ]
      },
      {
       "output_type": "stream",
       "stream": "stderr",
       "text": [
        "\r",
        "[808 %] elapsed[sec]: 0.070 | ETA[sec]: -0.061 "
       ]
      },
      {
       "output_type": "stream",
       "stream": "stderr",
       "text": [
        "\r",
        "[844 %] elapsed[sec]: 0.071 | ETA[sec]: -0.063 "
       ]
      },
      {
       "output_type": "stream",
       "stream": "stderr",
       "text": [
        "\r",
        "[881 %] elapsed[sec]: 0.073 | ETA[sec]: -0.064 "
       ]
      },
      {
       "output_type": "stream",
       "stream": "stderr",
       "text": [
        "\r",
        "[918 %] elapsed[sec]: 0.074 | ETA[sec]: -0.066 "
       ]
      },
      {
       "output_type": "stream",
       "stream": "stderr",
       "text": [
        "\r",
        "[957 %] elapsed[sec]: 0.075 | ETA[sec]: -0.068 "
       ]
      },
      {
       "output_type": "stream",
       "stream": "stderr",
       "text": [
        "\r",
        "[996 %] elapsed[sec]: 0.077 | ETA[sec]: -0.070 "
       ]
      },
      {
       "output_type": "stream",
       "stream": "stderr",
       "text": [
        "\r",
        "[1035 %] elapsed[sec]: 0.080 | ETA[sec]: -0.072 "
       ]
      },
      {
       "output_type": "stream",
       "stream": "stderr",
       "text": [
        "\r",
        "[1076 %] elapsed[sec]: 0.081 | ETA[sec]: -0.073 "
       ]
      },
      {
       "output_type": "stream",
       "stream": "stderr",
       "text": [
        "\r",
        "[1117 %] elapsed[sec]: 0.082 | ETA[sec]: -0.075 "
       ]
      },
      {
       "output_type": "stream",
       "stream": "stderr",
       "text": [
        "\r",
        "[1160 %] elapsed[sec]: 0.084 | ETA[sec]: -0.077 "
       ]
      },
      {
       "output_type": "stream",
       "stream": "stderr",
       "text": [
        "\r",
        "[1203 %] elapsed[sec]: 0.085 | ETA[sec]: -0.078 "
       ]
      },
      {
       "output_type": "stream",
       "stream": "stderr",
       "text": [
        "\r",
        "[1246 %] elapsed[sec]: 0.086 | ETA[sec]: -0.080 "
       ]
      },
      {
       "output_type": "stream",
       "stream": "stderr",
       "text": [
        "\r",
        "[1291 %] elapsed[sec]: 0.088 | ETA[sec]: -0.081 "
       ]
      },
      {
       "output_type": "stream",
       "stream": "stderr",
       "text": [
        "\r",
        "[1336 %] elapsed[sec]: 0.089 | ETA[sec]: -0.083 "
       ]
      },
      {
       "output_type": "stream",
       "stream": "stderr",
       "text": [
        "\r",
        "[1382 %] elapsed[sec]: 0.091 | ETA[sec]: -0.084 "
       ]
      },
      {
       "output_type": "stream",
       "stream": "stderr",
       "text": [
        "\r",
        "[1429 %] elapsed[sec]: 0.092 | ETA[sec]: -0.086 "
       ]
      },
      {
       "output_type": "stream",
       "stream": "stderr",
       "text": [
        "\r",
        "[1477 %] elapsed[sec]: 0.095 | ETA[sec]: -0.088 "
       ]
      },
      {
       "output_type": "stream",
       "stream": "stderr",
       "text": [
        "\r",
        "[1525 %] elapsed[sec]: 0.097 | ETA[sec]: -0.090 "
       ]
      },
      {
       "output_type": "stream",
       "stream": "stderr",
       "text": [
        "\r",
        "[1575 %] elapsed[sec]: 0.099 | ETA[sec]: -0.093 "
       ]
      },
      {
       "output_type": "stream",
       "stream": "stderr",
       "text": [
        "\r",
        "[1625 %] elapsed[sec]: 0.101 | ETA[sec]: -0.095 "
       ]
      },
      {
       "output_type": "stream",
       "stream": "stderr",
       "text": [
        "\r",
        "[1675 %] elapsed[sec]: 0.103 | ETA[sec]: -0.096 "
       ]
      },
      {
       "output_type": "stream",
       "stream": "stderr",
       "text": [
        "\r",
        "[1727 %] elapsed[sec]: 0.104 | ETA[sec]: -0.098 "
       ]
      },
      {
       "output_type": "stream",
       "stream": "stderr",
       "text": [
        "\r",
        "[1779 %] elapsed[sec]: 0.105 | ETA[sec]: -0.099 "
       ]
      },
      {
       "output_type": "stream",
       "stream": "stderr",
       "text": [
        "\r",
        "[1832 %] elapsed[sec]: 0.107 | ETA[sec]: -0.101 "
       ]
      },
      {
       "output_type": "stream",
       "stream": "stderr",
       "text": [
        "\r",
        "[1886 %] elapsed[sec]: 0.108 | ETA[sec]: -0.102 "
       ]
      },
      {
       "output_type": "stream",
       "stream": "stderr",
       "text": [
        "\r",
        "[1941 %] elapsed[sec]: 0.109 | ETA[sec]: -0.104 "
       ]
      },
      {
       "output_type": "stream",
       "stream": "stderr",
       "text": [
        "\r",
        "[1996 %] elapsed[sec]: 0.111 | ETA[sec]: -0.105 "
       ]
      },
      {
       "output_type": "stream",
       "stream": "stderr",
       "text": [
        "\r",
        "[2053 %] elapsed[sec]: 0.112 | ETA[sec]: -0.107 "
       ]
      },
      {
       "output_type": "stream",
       "stream": "stderr",
       "text": [
        "\r",
        "[2110 %] elapsed[sec]: 0.113 | ETA[sec]: -0.108 "
       ]
      },
      {
       "output_type": "stream",
       "stream": "stderr",
       "text": [
        "\r",
        "[2167 %] elapsed[sec]: 0.115 | ETA[sec]: -0.109 "
       ]
      },
      {
       "output_type": "stream",
       "stream": "stderr",
       "text": [
        "\r",
        "[2226 %] elapsed[sec]: 0.116 | ETA[sec]: -0.111 "
       ]
      },
      {
       "output_type": "stream",
       "stream": "stderr",
       "text": [
        "\r",
        "[2285 %] elapsed[sec]: 0.117 | ETA[sec]: -0.112 "
       ]
      },
      {
       "output_type": "stream",
       "stream": "stderr",
       "text": [
        "\r",
        "[2346 %] elapsed[sec]: 0.119 | ETA[sec]: -0.114 "
       ]
      },
      {
       "output_type": "stream",
       "stream": "stderr",
       "text": [
        "\r",
        "[2407 %] elapsed[sec]: 0.120 | ETA[sec]: -0.115 "
       ]
      },
      {
       "output_type": "stream",
       "stream": "stderr",
       "text": [
        "\r",
        "[2468 %] elapsed[sec]: 0.121 | ETA[sec]: -0.117 "
       ]
      },
      {
       "output_type": "stream",
       "stream": "stderr",
       "text": [
        "\r",
        "[2531 %] elapsed[sec]: 0.123 | ETA[sec]: -0.118 "
       ]
      },
      {
       "output_type": "stream",
       "stream": "stderr",
       "text": [
        "\r",
        "[2594 %] elapsed[sec]: 0.124 | ETA[sec]: -0.119 "
       ]
      },
      {
       "output_type": "stream",
       "stream": "stderr",
       "text": [
        "\r",
        "[2658 %] elapsed[sec]: 0.125 | ETA[sec]: -0.121 "
       ]
      },
      {
       "output_type": "stream",
       "stream": "stderr",
       "text": [
        "\r",
        "[2723 %] elapsed[sec]: 0.127 | ETA[sec]: -0.123 "
       ]
      },
      {
       "output_type": "stream",
       "stream": "stderr",
       "text": [
        "\r",
        "[2789 %] elapsed[sec]: 0.129 | ETA[sec]: -0.124 "
       ]
      },
      {
       "output_type": "stream",
       "stream": "stderr",
       "text": [
        "\r",
        "[2855 %] elapsed[sec]: 0.130 | ETA[sec]: -0.126 "
       ]
      },
      {
       "output_type": "stream",
       "stream": "stderr",
       "text": [
        "\r",
        "[2922 %] elapsed[sec]: 0.131 | ETA[sec]: -0.127 "
       ]
      },
      {
       "output_type": "stream",
       "stream": "stderr",
       "text": [
        "\r",
        "[2990 %] elapsed[sec]: 0.133 | ETA[sec]: -0.129 "
       ]
      },
      {
       "output_type": "stream",
       "stream": "stderr",
       "text": [
        "\r",
        "[3059 %] elapsed[sec]: 0.134 | ETA[sec]: -0.130 "
       ]
      },
      {
       "output_type": "stream",
       "stream": "stderr",
       "text": [
        "\r",
        "[3128 %] elapsed[sec]: 0.136 | ETA[sec]: -0.131 "
       ]
      },
      {
       "output_type": "stream",
       "stream": "stderr",
       "text": [
        "\r",
        "[3199 %] elapsed[sec]: 0.137 | ETA[sec]: -0.133 "
       ]
      },
      {
       "output_type": "stream",
       "stream": "stderr",
       "text": [
        "\r",
        "[3270 %] elapsed[sec]: 0.138 | ETA[sec]: -0.134 "
       ]
      },
      {
       "output_type": "stream",
       "stream": "stderr",
       "text": [
        "\r",
        "[3342 %] elapsed[sec]: 0.140 | ETA[sec]: -0.136 "
       ]
      },
      {
       "output_type": "stream",
       "stream": "stderr",
       "text": [
        "\r",
        "[3414 %] elapsed[sec]: 0.141 | ETA[sec]: -0.137 "
       ]
      },
      {
       "output_type": "stream",
       "stream": "stderr",
       "text": [
        "\r",
        "[3488 %] elapsed[sec]: 0.142 | ETA[sec]: -0.138 "
       ]
      },
      {
       "output_type": "stream",
       "stream": "stderr",
       "text": [
        "\r",
        "[3562 %] elapsed[sec]: 0.144 | ETA[sec]: -0.140 "
       ]
      },
      {
       "output_type": "stream",
       "stream": "stderr",
       "text": [
        "\r",
        "[3637 %] elapsed[sec]: 0.146 | ETA[sec]: -0.142 "
       ]
      },
      {
       "output_type": "stream",
       "stream": "stderr",
       "text": [
        "\r",
        "[3713 %] elapsed[sec]: 0.148 | ETA[sec]: -0.144 "
       ]
      },
      {
       "output_type": "stream",
       "stream": "stderr",
       "text": [
        "\r",
        "[3789 %] elapsed[sec]: 0.149 | ETA[sec]: -0.145 "
       ]
      },
      {
       "output_type": "stream",
       "stream": "stderr",
       "text": [
        "\r",
        "[3867 %] elapsed[sec]: 0.153 | ETA[sec]: -0.149 "
       ]
      },
      {
       "output_type": "stream",
       "stream": "stderr",
       "text": [
        "\r",
        "[3945 %] elapsed[sec]: 0.155 | ETA[sec]: -0.151 "
       ]
      },
      {
       "output_type": "stream",
       "stream": "stderr",
       "text": [
        "\r",
        "[4024 %] elapsed[sec]: 0.157 | ETA[sec]: -0.153 "
       ]
      },
      {
       "output_type": "stream",
       "stream": "stderr",
       "text": [
        "\r",
        "[4103 %] elapsed[sec]: 0.158 | ETA[sec]: -0.154 "
       ]
      },
      {
       "output_type": "stream",
       "stream": "stderr",
       "text": [
        "\r",
        "[4184 %] elapsed[sec]: 0.160 | ETA[sec]: -0.156 "
       ]
      },
      {
       "output_type": "stream",
       "stream": "stderr",
       "text": [
        "\r",
        "[4265 %] elapsed[sec]: 0.161 | ETA[sec]: -0.157 "
       ]
      },
      {
       "output_type": "stream",
       "stream": "stderr",
       "text": [
        "\r",
        "[4347 %] elapsed[sec]: 0.162 | ETA[sec]: -0.159 "
       ]
      },
      {
       "output_type": "stream",
       "stream": "stderr",
       "text": [
        "\r",
        "[4430 %] elapsed[sec]: 0.164 | ETA[sec]: -0.160 "
       ]
      },
      {
       "output_type": "stream",
       "stream": "stderr",
       "text": [
        "\r",
        "[4514 %] elapsed[sec]: 0.165 | ETA[sec]: -0.161 "
       ]
      },
      {
       "output_type": "stream",
       "stream": "stderr",
       "text": [
        "\r",
        "[4598 %] elapsed[sec]: 0.167 | ETA[sec]: -0.163 "
       ]
      },
      {
       "output_type": "stream",
       "stream": "stderr",
       "text": [
        "\r",
        "[4683 %] elapsed[sec]: 0.169 | ETA[sec]: -0.165 "
       ]
      },
      {
       "output_type": "stream",
       "stream": "stderr",
       "text": [
        "\r",
        "[4769 %] elapsed[sec]: 0.170 | ETA[sec]: -0.167 "
       ]
      },
      {
       "output_type": "stream",
       "stream": "stderr",
       "text": [
        "\r",
        "[4856 %] elapsed[sec]: 0.171 | ETA[sec]: -0.168 "
       ]
      },
      {
       "output_type": "stream",
       "stream": "stderr",
       "text": [
        "\r",
        "[4943 %] elapsed[sec]: 0.173 | ETA[sec]: -0.169 "
       ]
      },
      {
       "output_type": "stream",
       "stream": "stderr",
       "text": [
        "\r",
        "[5032 %] elapsed[sec]: 0.174 | ETA[sec]: -0.171 "
       ]
      },
      {
       "output_type": "stream",
       "stream": "stderr",
       "text": [
        "\r",
        "[5121 %] elapsed[sec]: 0.176 | ETA[sec]: -0.172 "
       ]
      },
      {
       "output_type": "stream",
       "stream": "stderr",
       "text": [
        "\r",
        "[5210 %] elapsed[sec]: 0.177 | ETA[sec]: -0.174 "
       ]
      },
      {
       "output_type": "stream",
       "stream": "stderr",
       "text": [
        "\r",
        "[5301 %] elapsed[sec]: 0.178 | ETA[sec]: -0.175 "
       ]
      },
      {
       "output_type": "stream",
       "stream": "stderr",
       "text": [
        "\r",
        "[5392 %] elapsed[sec]: 0.180 | ETA[sec]: -0.176 "
       ]
      },
      {
       "output_type": "stream",
       "stream": "stderr",
       "text": [
        "\r",
        "[5485 %] elapsed[sec]: 0.181 | ETA[sec]: -0.178 "
       ]
      },
      {
       "output_type": "stream",
       "stream": "stderr",
       "text": [
        "\r",
        "[5578 %] elapsed[sec]: 0.182 | ETA[sec]: -0.179 "
       ]
      },
      {
       "output_type": "stream",
       "stream": "stderr",
       "text": [
        "\r",
        "[5671 %] elapsed[sec]: 0.184 | ETA[sec]: -0.181 "
       ]
      },
      {
       "output_type": "stream",
       "stream": "stderr",
       "text": [
        "\r",
        "[5766 %] elapsed[sec]: 0.185 | ETA[sec]: -0.182 "
       ]
      },
      {
       "output_type": "stream",
       "stream": "stderr",
       "text": [
        "\r",
        "[5861 %] elapsed[sec]: 0.186 | ETA[sec]: -0.183 "
       ]
      },
      {
       "output_type": "stream",
       "stream": "stderr",
       "text": [
        "\r",
        "[5957 %] elapsed[sec]: 0.188 | ETA[sec]: -0.185 "
       ]
      },
      {
       "output_type": "stream",
       "stream": "stderr",
       "text": [
        "\r",
        "[6054 %] elapsed[sec]: 0.189 | ETA[sec]: -0.186 "
       ]
      },
      {
       "output_type": "stream",
       "stream": "stderr",
       "text": [
        "\r",
        "[6152 %] elapsed[sec]: 0.191 | ETA[sec]: -0.187 "
       ]
      },
      {
       "output_type": "stream",
       "stream": "stderr",
       "text": [
        "\r",
        "[6250 %] elapsed[sec]: 0.192 | ETA[sec]: -0.189 "
       ]
      },
      {
       "output_type": "stream",
       "stream": "stderr",
       "text": [
        "\r",
        "[6350 %] elapsed[sec]: 0.193 | ETA[sec]: -0.190 "
       ]
      },
      {
       "output_type": "stream",
       "stream": "stdout",
       "text": [
        "\n",
        "Title: \n",
        "                      Started: 09/22/2014 17:23:35\n",
        "                      Finished: 09/22/2014 17:23:35\n",
        "                      Total time elapsed: 0.000 sec"
       ]
      },
      {
       "output_type": "stream",
       "stream": "stderr",
       "text": [
        "\r",
        "[  0 %] elapsed[sec]: 0.000"
       ]
      },
      {
       "output_type": "stream",
       "stream": "stdout",
       "text": [
        "\n",
        "Saving sequence results/color-energy_contrast-0_25.webm"
       ]
      },
      {
       "output_type": "stream",
       "stream": "stderr",
       "text": [
        "\r",
        "[  0 %] elapsed[sec]: 0.002 | ETA[sec]: 0.268 "
       ]
      },
      {
       "output_type": "stream",
       "stream": "stderr",
       "text": [
        "\r",
        "[  2 %] elapsed[sec]: 0.004 | ETA[sec]: 0.174 "
       ]
      },
      {
       "output_type": "stream",
       "stream": "stderr",
       "text": [
        "\r",
        "[  4 %] elapsed[sec]: 0.006 | ETA[sec]: 0.127 "
       ]
      },
      {
       "output_type": "stream",
       "stream": "stderr",
       "text": [
        "\r",
        "[  7 %] elapsed[sec]: 0.008 | ETA[sec]: 0.096 "
       ]
      },
      {
       "output_type": "stream",
       "stream": "stderr",
       "text": [
        "\r",
        "[ 11 %] elapsed[sec]: 0.010 | ETA[sec]: 0.076 "
       ]
      },
      {
       "output_type": "stream",
       "stream": "stderr",
       "text": [
        "\r",
        "[ 16 %] elapsed[sec]: 0.012 | ETA[sec]: 0.062 "
       ]
      },
      {
       "output_type": "stream",
       "stream": "stderr",
       "text": [
        "\r",
        "[ 21 %] elapsed[sec]: 0.014 | ETA[sec]: 0.049 "
       ]
      },
      {
       "output_type": "stream",
       "stream": "stderr",
       "text": [
        "\r",
        "[ 28 %] elapsed[sec]: 0.015 | ETA[sec]: 0.039 "
       ]
      },
      {
       "output_type": "stream",
       "stream": "stderr",
       "text": [
        "\r",
        "[ 35 %] elapsed[sec]: 0.016 | ETA[sec]: 0.030 "
       ]
      },
      {
       "output_type": "stream",
       "stream": "stderr",
       "text": [
        "\r",
        "[ 42 %] elapsed[sec]: 0.018 | ETA[sec]: 0.024 "
       ]
      },
      {
       "output_type": "stream",
       "stream": "stderr",
       "text": [
        "\r",
        "[ 51 %] elapsed[sec]: 0.020 | ETA[sec]: 0.018 "
       ]
      },
      {
       "output_type": "stream",
       "stream": "stderr",
       "text": [
        "\r",
        "[ 60 %] elapsed[sec]: 0.021 | ETA[sec]: 0.014 "
       ]
      },
      {
       "output_type": "stream",
       "stream": "stderr",
       "text": [
        "\r",
        "[ 71 %] elapsed[sec]: 0.023 | ETA[sec]: 0.009 "
       ]
      },
      {
       "output_type": "stream",
       "stream": "stderr",
       "text": [
        "\r",
        "[ 82 %] elapsed[sec]: 0.025 | ETA[sec]: 0.005 "
       ]
      },
      {
       "output_type": "stream",
       "stream": "stderr",
       "text": [
        "\r",
        "[ 93 %] elapsed[sec]: 0.027 | ETA[sec]: 0.002 "
       ]
      },
      {
       "output_type": "stream",
       "stream": "stderr",
       "text": [
        "\r",
        "[106 %] elapsed[sec]: 0.029 | ETA[sec]: -0.002 "
       ]
      },
      {
       "output_type": "stream",
       "stream": "stderr",
       "text": [
        "\r",
        "[119 %] elapsed[sec]: 0.031 | ETA[sec]: -0.005 "
       ]
      },
      {
       "output_type": "stream",
       "stream": "stderr",
       "text": [
        "\r",
        "[133 %] elapsed[sec]: 0.032 | ETA[sec]: -0.008 "
       ]
      },
      {
       "output_type": "stream",
       "stream": "stderr",
       "text": [
        "\r",
        "[148 %] elapsed[sec]: 0.033 | ETA[sec]: -0.011 "
       ]
      },
      {
       "output_type": "stream",
       "stream": "stderr",
       "text": [
        "\r",
        "[164 %] elapsed[sec]: 0.035 | ETA[sec]: -0.014 "
       ]
      },
      {
       "output_type": "stream",
       "stream": "stderr",
       "text": [
        "\r",
        "[180 %] elapsed[sec]: 0.036 | ETA[sec]: -0.016 "
       ]
      },
      {
       "output_type": "stream",
       "stream": "stderr",
       "text": [
        "\r",
        "[197 %] elapsed[sec]: 0.038 | ETA[sec]: -0.019 "
       ]
      },
      {
       "output_type": "stream",
       "stream": "stderr",
       "text": [
        "\r",
        "[215 %] elapsed[sec]: 0.039 | ETA[sec]: -0.021 "
       ]
      },
      {
       "output_type": "stream",
       "stream": "stderr",
       "text": [
        "\r",
        "[234 %] elapsed[sec]: 0.040 | ETA[sec]: -0.023 "
       ]
      },
      {
       "output_type": "stream",
       "stream": "stderr",
       "text": [
        "\r",
        "[253 %] elapsed[sec]: 0.041 | ETA[sec]: -0.025 "
       ]
      },
      {
       "output_type": "stream",
       "stream": "stderr",
       "text": [
        "\r",
        "[274 %] elapsed[sec]: 0.043 | ETA[sec]: -0.027 "
       ]
      },
      {
       "output_type": "stream",
       "stream": "stderr",
       "text": [
        "\r",
        "[295 %] elapsed[sec]: 0.044 | ETA[sec]: -0.029 "
       ]
      },
      {
       "output_type": "stream",
       "stream": "stderr",
       "text": [
        "\r",
        "[317 %] elapsed[sec]: 0.045 | ETA[sec]: -0.031 "
       ]
      },
      {
       "output_type": "stream",
       "stream": "stderr",
       "text": [
        "\r",
        "[339 %] elapsed[sec]: 0.047 | ETA[sec]: -0.033 "
       ]
      },
      {
       "output_type": "stream",
       "stream": "stderr",
       "text": [
        "\r",
        "[363 %] elapsed[sec]: 0.048 | ETA[sec]: -0.035 "
       ]
      },
      {
       "output_type": "stream",
       "stream": "stderr",
       "text": [
        "\r",
        "[387 %] elapsed[sec]: 0.050 | ETA[sec]: -0.037 "
       ]
      },
      {
       "output_type": "stream",
       "stream": "stderr",
       "text": [
        "\r",
        "[412 %] elapsed[sec]: 0.051 | ETA[sec]: -0.039 "
       ]
      },
      {
       "output_type": "stream",
       "stream": "stderr",
       "text": [
        "\r",
        "[438 %] elapsed[sec]: 0.052 | ETA[sec]: -0.040 "
       ]
      },
      {
       "output_type": "stream",
       "stream": "stderr",
       "text": [
        "\r",
        "[464 %] elapsed[sec]: 0.054 | ETA[sec]: -0.042 "
       ]
      },
      {
       "output_type": "stream",
       "stream": "stderr",
       "text": [
        "\r",
        "[492 %] elapsed[sec]: 0.055 | ETA[sec]: -0.044 "
       ]
      },
      {
       "output_type": "stream",
       "stream": "stderr",
       "text": [
        "\r",
        "[520 %] elapsed[sec]: 0.057 | ETA[sec]: -0.046 "
       ]
      },
      {
       "output_type": "stream",
       "stream": "stderr",
       "text": [
        "\r",
        "[549 %] elapsed[sec]: 0.058 | ETA[sec]: -0.047 "
       ]
      },
      {
       "output_type": "stream",
       "stream": "stderr",
       "text": [
        "\r",
        "[578 %] elapsed[sec]: 0.059 | ETA[sec]: -0.049 "
       ]
      },
      {
       "output_type": "stream",
       "stream": "stderr",
       "text": [
        "\r",
        "[609 %] elapsed[sec]: 0.061 | ETA[sec]: -0.051 "
       ]
      },
      {
       "output_type": "stream",
       "stream": "stderr",
       "text": [
        "\r",
        "[640 %] elapsed[sec]: 0.062 | ETA[sec]: -0.052 "
       ]
      },
      {
       "output_type": "stream",
       "stream": "stderr",
       "text": [
        "\r",
        "[672 %] elapsed[sec]: 0.063 | ETA[sec]: -0.054 "
       ]
      },
      {
       "output_type": "stream",
       "stream": "stderr",
       "text": [
        "\r",
        "[705 %] elapsed[sec]: 0.065 | ETA[sec]: -0.055 "
       ]
      },
      {
       "output_type": "stream",
       "stream": "stderr",
       "text": [
        "\r",
        "[739 %] elapsed[sec]: 0.067 | ETA[sec]: -0.058 "
       ]
      },
      {
       "output_type": "stream",
       "stream": "stderr",
       "text": [
        "\r",
        "[773 %] elapsed[sec]: 0.069 | ETA[sec]: -0.060 "
       ]
      },
      {
       "output_type": "stream",
       "stream": "stderr",
       "text": [
        "\r",
        "[808 %] elapsed[sec]: 0.070 | ETA[sec]: -0.061 "
       ]
      },
      {
       "output_type": "stream",
       "stream": "stderr",
       "text": [
        "\r",
        "[844 %] elapsed[sec]: 0.072 | ETA[sec]: -0.063 "
       ]
      },
      {
       "output_type": "stream",
       "stream": "stderr",
       "text": [
        "\r",
        "[881 %] elapsed[sec]: 0.073 | ETA[sec]: -0.064 "
       ]
      },
      {
       "output_type": "stream",
       "stream": "stderr",
       "text": [
        "\r",
        "[918 %] elapsed[sec]: 0.074 | ETA[sec]: -0.066 "
       ]
      },
      {
       "output_type": "stream",
       "stream": "stderr",
       "text": [
        "\r",
        "[957 %] elapsed[sec]: 0.075 | ETA[sec]: -0.067 "
       ]
      },
      {
       "output_type": "stream",
       "stream": "stderr",
       "text": [
        "\r",
        "[996 %] elapsed[sec]: 0.077 | ETA[sec]: -0.069 "
       ]
      },
      {
       "output_type": "stream",
       "stream": "stderr",
       "text": [
        "\r",
        "[1035 %] elapsed[sec]: 0.078 | ETA[sec]: -0.071 "
       ]
      },
      {
       "output_type": "stream",
       "stream": "stderr",
       "text": [
        "\r",
        "[1076 %] elapsed[sec]: 0.079 | ETA[sec]: -0.072 "
       ]
      },
      {
       "output_type": "stream",
       "stream": "stderr",
       "text": [
        "\r",
        "[1117 %] elapsed[sec]: 0.081 | ETA[sec]: -0.073 "
       ]
      },
      {
       "output_type": "stream",
       "stream": "stderr",
       "text": [
        "\r",
        "[1160 %] elapsed[sec]: 0.082 | ETA[sec]: -0.075 "
       ]
      },
      {
       "output_type": "stream",
       "stream": "stderr",
       "text": [
        "\r",
        "[1203 %] elapsed[sec]: 0.083 | ETA[sec]: -0.076 "
       ]
      },
      {
       "output_type": "stream",
       "stream": "stderr",
       "text": [
        "\r",
        "[1246 %] elapsed[sec]: 0.084 | ETA[sec]: -0.077 "
       ]
      },
      {
       "output_type": "stream",
       "stream": "stderr",
       "text": [
        "\r",
        "[1291 %] elapsed[sec]: 0.086 | ETA[sec]: -0.079 "
       ]
      },
      {
       "output_type": "stream",
       "stream": "stderr",
       "text": [
        "\r",
        "[1336 %] elapsed[sec]: 0.087 | ETA[sec]: -0.080 "
       ]
      },
      {
       "output_type": "stream",
       "stream": "stderr",
       "text": [
        "\r",
        "[1382 %] elapsed[sec]: 0.089 | ETA[sec]: -0.082 "
       ]
      },
      {
       "output_type": "stream",
       "stream": "stderr",
       "text": [
        "\r",
        "[1429 %] elapsed[sec]: 0.091 | ETA[sec]: -0.084 "
       ]
      },
      {
       "output_type": "stream",
       "stream": "stderr",
       "text": [
        "\r",
        "[1477 %] elapsed[sec]: 0.092 | ETA[sec]: -0.086 "
       ]
      },
      {
       "output_type": "stream",
       "stream": "stderr",
       "text": [
        "\r",
        "[1525 %] elapsed[sec]: 0.093 | ETA[sec]: -0.087 "
       ]
      },
      {
       "output_type": "stream",
       "stream": "stderr",
       "text": [
        "\r",
        "[1575 %] elapsed[sec]: 0.095 | ETA[sec]: -0.089 "
       ]
      },
      {
       "output_type": "stream",
       "stream": "stderr",
       "text": [
        "\r",
        "[1625 %] elapsed[sec]: 0.096 | ETA[sec]: -0.090 "
       ]
      },
      {
       "output_type": "stream",
       "stream": "stderr",
       "text": [
        "\r",
        "[1675 %] elapsed[sec]: 0.097 | ETA[sec]: -0.091 "
       ]
      },
      {
       "output_type": "stream",
       "stream": "stderr",
       "text": [
        "\r",
        "[1727 %] elapsed[sec]: 0.099 | ETA[sec]: -0.093 "
       ]
      },
      {
       "output_type": "stream",
       "stream": "stderr",
       "text": [
        "\r",
        "[1779 %] elapsed[sec]: 0.101 | ETA[sec]: -0.095 "
       ]
      },
      {
       "output_type": "stream",
       "stream": "stderr",
       "text": [
        "\r",
        "[1832 %] elapsed[sec]: 0.102 | ETA[sec]: -0.096 "
       ]
      },
      {
       "output_type": "stream",
       "stream": "stderr",
       "text": [
        "\r",
        "[1886 %] elapsed[sec]: 0.103 | ETA[sec]: -0.098 "
       ]
      },
      {
       "output_type": "stream",
       "stream": "stderr",
       "text": [
        "\r",
        "[1941 %] elapsed[sec]: 0.104 | ETA[sec]: -0.099 "
       ]
      },
      {
       "output_type": "stream",
       "stream": "stderr",
       "text": [
        "\r",
        "[1996 %] elapsed[sec]: 0.106 | ETA[sec]: -0.100 "
       ]
      },
      {
       "output_type": "stream",
       "stream": "stderr",
       "text": [
        "\r",
        "[2053 %] elapsed[sec]: 0.107 | ETA[sec]: -0.102 "
       ]
      },
      {
       "output_type": "stream",
       "stream": "stderr",
       "text": [
        "\r",
        "[2110 %] elapsed[sec]: 0.108 | ETA[sec]: -0.103 "
       ]
      },
      {
       "output_type": "stream",
       "stream": "stderr",
       "text": [
        "\r",
        "[2167 %] elapsed[sec]: 0.110 | ETA[sec]: -0.105 "
       ]
      },
      {
       "output_type": "stream",
       "stream": "stderr",
       "text": [
        "\r",
        "[2226 %] elapsed[sec]: 0.111 | ETA[sec]: -0.106 "
       ]
      },
      {
       "output_type": "stream",
       "stream": "stderr",
       "text": [
        "\r",
        "[2285 %] elapsed[sec]: 0.112 | ETA[sec]: -0.107 "
       ]
      },
      {
       "output_type": "stream",
       "stream": "stderr",
       "text": [
        "\r",
        "[2346 %] elapsed[sec]: 0.113 | ETA[sec]: -0.108 "
       ]
      },
      {
       "output_type": "stream",
       "stream": "stderr",
       "text": [
        "\r",
        "[2407 %] elapsed[sec]: 0.114 | ETA[sec]: -0.110 "
       ]
      },
      {
       "output_type": "stream",
       "stream": "stderr",
       "text": [
        "\r",
        "[2468 %] elapsed[sec]: 0.116 | ETA[sec]: -0.111 "
       ]
      },
      {
       "output_type": "stream",
       "stream": "stderr",
       "text": [
        "\r",
        "[2531 %] elapsed[sec]: 0.117 | ETA[sec]: -0.113 "
       ]
      },
      {
       "output_type": "stream",
       "stream": "stderr",
       "text": [
        "\r",
        "[2594 %] elapsed[sec]: 0.119 | ETA[sec]: -0.114 "
       ]
      },
      {
       "output_type": "stream",
       "stream": "stderr",
       "text": [
        "\r",
        "[2658 %] elapsed[sec]: 0.120 | ETA[sec]: -0.115 "
       ]
      },
      {
       "output_type": "stream",
       "stream": "stderr",
       "text": [
        "\r",
        "[2723 %] elapsed[sec]: 0.121 | ETA[sec]: -0.117 "
       ]
      },
      {
       "output_type": "stream",
       "stream": "stderr",
       "text": [
        "\r",
        "[2789 %] elapsed[sec]: 0.122 | ETA[sec]: -0.118 "
       ]
      },
      {
       "output_type": "stream",
       "stream": "stderr",
       "text": [
        "\r",
        "[2855 %] elapsed[sec]: 0.123 | ETA[sec]: -0.119 "
       ]
      },
      {
       "output_type": "stream",
       "stream": "stderr",
       "text": [
        "\r",
        "[2922 %] elapsed[sec]: 0.125 | ETA[sec]: -0.120 "
       ]
      },
      {
       "output_type": "stream",
       "stream": "stderr",
       "text": [
        "\r",
        "[2990 %] elapsed[sec]: 0.126 | ETA[sec]: -0.122 "
       ]
      },
      {
       "output_type": "stream",
       "stream": "stderr",
       "text": [
        "\r",
        "[3059 %] elapsed[sec]: 0.127 | ETA[sec]: -0.123 "
       ]
      },
      {
       "output_type": "stream",
       "stream": "stderr",
       "text": [
        "\r",
        "[3128 %] elapsed[sec]: 0.128 | ETA[sec]: -0.124 "
       ]
      },
      {
       "output_type": "stream",
       "stream": "stderr",
       "text": [
        "\r",
        "[3199 %] elapsed[sec]: 0.130 | ETA[sec]: -0.126 "
       ]
      },
      {
       "output_type": "stream",
       "stream": "stderr",
       "text": [
        "\r",
        "[3270 %] elapsed[sec]: 0.131 | ETA[sec]: -0.127 "
       ]
      },
      {
       "output_type": "stream",
       "stream": "stderr",
       "text": [
        "\r",
        "[3342 %] elapsed[sec]: 0.133 | ETA[sec]: -0.129 "
       ]
      },
      {
       "output_type": "stream",
       "stream": "stderr",
       "text": [
        "\r",
        "[3414 %] elapsed[sec]: 0.135 | ETA[sec]: -0.131 "
       ]
      },
      {
       "output_type": "stream",
       "stream": "stderr",
       "text": [
        "\r",
        "[3488 %] elapsed[sec]: 0.137 | ETA[sec]: -0.133 "
       ]
      },
      {
       "output_type": "stream",
       "stream": "stderr",
       "text": [
        "\r",
        "[3562 %] elapsed[sec]: 0.139 | ETA[sec]: -0.135 "
       ]
      },
      {
       "output_type": "stream",
       "stream": "stderr",
       "text": [
        "\r",
        "[3637 %] elapsed[sec]: 0.141 | ETA[sec]: -0.137 "
       ]
      },
      {
       "output_type": "stream",
       "stream": "stderr",
       "text": [
        "\r",
        "[3713 %] elapsed[sec]: 0.143 | ETA[sec]: -0.139 "
       ]
      },
      {
       "output_type": "stream",
       "stream": "stderr",
       "text": [
        "\r",
        "[3789 %] elapsed[sec]: 0.144 | ETA[sec]: -0.141 "
       ]
      },
      {
       "output_type": "stream",
       "stream": "stderr",
       "text": [
        "\r",
        "[3867 %] elapsed[sec]: 0.146 | ETA[sec]: -0.142 "
       ]
      },
      {
       "output_type": "stream",
       "stream": "stderr",
       "text": [
        "\r",
        "[3945 %] elapsed[sec]: 0.147 | ETA[sec]: -0.143 "
       ]
      },
      {
       "output_type": "stream",
       "stream": "stderr",
       "text": [
        "\r",
        "[4024 %] elapsed[sec]: 0.148 | ETA[sec]: -0.144 "
       ]
      },
      {
       "output_type": "stream",
       "stream": "stderr",
       "text": [
        "\r",
        "[4103 %] elapsed[sec]: 0.149 | ETA[sec]: -0.146 "
       ]
      },
      {
       "output_type": "stream",
       "stream": "stderr",
       "text": [
        "\r",
        "[4184 %] elapsed[sec]: 0.150 | ETA[sec]: -0.147 "
       ]
      },
      {
       "output_type": "stream",
       "stream": "stderr",
       "text": [
        "\r",
        "[4265 %] elapsed[sec]: 0.152 | ETA[sec]: -0.148 "
       ]
      },
      {
       "output_type": "stream",
       "stream": "stderr",
       "text": [
        "\r",
        "[4347 %] elapsed[sec]: 0.153 | ETA[sec]: -0.150 "
       ]
      },
      {
       "output_type": "stream",
       "stream": "stderr",
       "text": [
        "\r",
        "[4430 %] elapsed[sec]: 0.155 | ETA[sec]: -0.152 "
       ]
      },
      {
       "output_type": "stream",
       "stream": "stderr",
       "text": [
        "\r",
        "[4514 %] elapsed[sec]: 0.157 | ETA[sec]: -0.154 "
       ]
      },
      {
       "output_type": "stream",
       "stream": "stderr",
       "text": [
        "\r",
        "[4598 %] elapsed[sec]: 0.159 | ETA[sec]: -0.156 "
       ]
      },
      {
       "output_type": "stream",
       "stream": "stderr",
       "text": [
        "\r",
        "[4683 %] elapsed[sec]: 0.161 | ETA[sec]: -0.158 "
       ]
      },
      {
       "output_type": "stream",
       "stream": "stderr",
       "text": [
        "\r",
        "[4769 %] elapsed[sec]: 0.163 | ETA[sec]: -0.160 "
       ]
      },
      {
       "output_type": "stream",
       "stream": "stderr",
       "text": [
        "\r",
        "[4856 %] elapsed[sec]: 0.164 | ETA[sec]: -0.161 "
       ]
      },
      {
       "output_type": "stream",
       "stream": "stderr",
       "text": [
        "\r",
        "[4943 %] elapsed[sec]: 0.166 | ETA[sec]: -0.163 "
       ]
      },
      {
       "output_type": "stream",
       "stream": "stderr",
       "text": [
        "\r",
        "[5032 %] elapsed[sec]: 0.167 | ETA[sec]: -0.164 "
       ]
      },
      {
       "output_type": "stream",
       "stream": "stderr",
       "text": [
        "\r",
        "[5121 %] elapsed[sec]: 0.169 | ETA[sec]: -0.165 "
       ]
      },
      {
       "output_type": "stream",
       "stream": "stderr",
       "text": [
        "\r",
        "[5210 %] elapsed[sec]: 0.170 | ETA[sec]: -0.167 "
       ]
      },
      {
       "output_type": "stream",
       "stream": "stderr",
       "text": [
        "\r",
        "[5301 %] elapsed[sec]: 0.171 | ETA[sec]: -0.168 "
       ]
      },
      {
       "output_type": "stream",
       "stream": "stderr",
       "text": [
        "\r",
        "[5392 %] elapsed[sec]: 0.173 | ETA[sec]: -0.169 "
       ]
      },
      {
       "output_type": "stream",
       "stream": "stderr",
       "text": [
        "\r",
        "[5485 %] elapsed[sec]: 0.174 | ETA[sec]: -0.171 "
       ]
      },
      {
       "output_type": "stream",
       "stream": "stderr",
       "text": [
        "\r",
        "[5578 %] elapsed[sec]: 0.175 | ETA[sec]: -0.172 "
       ]
      },
      {
       "output_type": "stream",
       "stream": "stderr",
       "text": [
        "\r",
        "[5671 %] elapsed[sec]: 0.177 | ETA[sec]: -0.174 "
       ]
      },
      {
       "output_type": "stream",
       "stream": "stderr",
       "text": [
        "\r",
        "[5766 %] elapsed[sec]: 0.178 | ETA[sec]: -0.175 "
       ]
      },
      {
       "output_type": "stream",
       "stream": "stderr",
       "text": [
        "\r",
        "[5861 %] elapsed[sec]: 0.180 | ETA[sec]: -0.176 "
       ]
      },
      {
       "output_type": "stream",
       "stream": "stderr",
       "text": [
        "\r",
        "[5957 %] elapsed[sec]: 0.181 | ETA[sec]: -0.178 "
       ]
      },
      {
       "output_type": "stream",
       "stream": "stderr",
       "text": [
        "\r",
        "[6054 %] elapsed[sec]: 0.182 | ETA[sec]: -0.179 "
       ]
      },
      {
       "output_type": "stream",
       "stream": "stderr",
       "text": [
        "\r",
        "[6152 %] elapsed[sec]: 0.183 | ETA[sec]: -0.180 "
       ]
      },
      {
       "output_type": "stream",
       "stream": "stderr",
       "text": [
        "\r",
        "[6250 %] elapsed[sec]: 0.184 | ETA[sec]: -0.181 "
       ]
      },
      {
       "output_type": "stream",
       "stream": "stderr",
       "text": [
        "\r",
        "[6350 %] elapsed[sec]: 0.186 | ETA[sec]: -0.183 "
       ]
      },
      {
       "output_type": "stream",
       "stream": "stdout",
       "text": [
        "\n",
        "Title: \n",
        "                      Started: 09/22/2014 17:23:35\n",
        "                      Finished: 09/22/2014 17:23:36\n",
        "                      Total time elapsed: 0.000 sec"
       ]
      },
      {
       "output_type": "stream",
       "stream": "stderr",
       "text": [
        "\r",
        "[  0 %] elapsed[sec]: 0.000"
       ]
      },
      {
       "output_type": "stream",
       "stream": "stdout",
       "text": [
        "\n",
        "Saving sequence results/color-energy_contrast-0_5.webm"
       ]
      },
      {
       "output_type": "stream",
       "stream": "stderr",
       "text": [
        "\r",
        "[  0 %] elapsed[sec]: 0.002 | ETA[sec]: 0.222 "
       ]
      },
      {
       "output_type": "stream",
       "stream": "stderr",
       "text": [
        "\r",
        "[  2 %] elapsed[sec]: 0.003 | ETA[sec]: 0.126 "
       ]
      },
      {
       "output_type": "stream",
       "stream": "stderr",
       "text": [
        "\r",
        "[  4 %] elapsed[sec]: 0.004 | ETA[sec]: 0.087 "
       ]
      },
      {
       "output_type": "stream",
       "stream": "stderr",
       "text": [
        "\r",
        "[  7 %] elapsed[sec]: 0.005 | ETA[sec]: 0.065 "
       ]
      },
      {
       "output_type": "stream",
       "stream": "stderr",
       "text": [
        "\r",
        "[ 11 %] elapsed[sec]: 0.007 | ETA[sec]: 0.051 "
       ]
      },
      {
       "output_type": "stream",
       "stream": "stderr",
       "text": [
        "\r",
        "[ 16 %] elapsed[sec]: 0.008 | ETA[sec]: 0.041 "
       ]
      },
      {
       "output_type": "stream",
       "stream": "stderr",
       "text": [
        "\r",
        "[ 21 %] elapsed[sec]: 0.009 | ETA[sec]: 0.033 "
       ]
      },
      {
       "output_type": "stream",
       "stream": "stderr",
       "text": [
        "\r",
        "[ 28 %] elapsed[sec]: 0.011 | ETA[sec]: 0.027 "
       ]
      },
      {
       "output_type": "stream",
       "stream": "stderr",
       "text": [
        "\r",
        "[ 35 %] elapsed[sec]: 0.013 | ETA[sec]: 0.023 "
       ]
      },
      {
       "output_type": "stream",
       "stream": "stderr",
       "text": [
        "\r",
        "[ 42 %] elapsed[sec]: 0.014 | ETA[sec]: 0.019 "
       ]
      },
      {
       "output_type": "stream",
       "stream": "stderr",
       "text": [
        "\r",
        "[ 51 %] elapsed[sec]: 0.016 | ETA[sec]: 0.015 "
       ]
      },
      {
       "output_type": "stream",
       "stream": "stderr",
       "text": [
        "\r",
        "[ 60 %] elapsed[sec]: 0.017 | ETA[sec]: 0.011 "
       ]
      },
      {
       "output_type": "stream",
       "stream": "stderr",
       "text": [
        "\r",
        "[ 71 %] elapsed[sec]: 0.019 | ETA[sec]: 0.008 "
       ]
      },
      {
       "output_type": "stream",
       "stream": "stderr",
       "text": [
        "\r",
        "[ 82 %] elapsed[sec]: 0.020 | ETA[sec]: 0.004 "
       ]
      },
      {
       "output_type": "stream",
       "stream": "stderr",
       "text": [
        "\r",
        "[ 93 %] elapsed[sec]: 0.021 | ETA[sec]: 0.001 "
       ]
      },
      {
       "output_type": "stream",
       "stream": "stderr",
       "text": [
        "\r",
        "[106 %] elapsed[sec]: 0.023 | ETA[sec]: -0.001 "
       ]
      },
      {
       "output_type": "stream",
       "stream": "stderr",
       "text": [
        "\r",
        "[119 %] elapsed[sec]: 0.025 | ETA[sec]: -0.004 "
       ]
      },
      {
       "output_type": "stream",
       "stream": "stderr",
       "text": [
        "\r",
        "[133 %] elapsed[sec]: 0.026 | ETA[sec]: -0.007 "
       ]
      },
      {
       "output_type": "stream",
       "stream": "stderr",
       "text": [
        "\r",
        "[148 %] elapsed[sec]: 0.027 | ETA[sec]: -0.009 "
       ]
      },
      {
       "output_type": "stream",
       "stream": "stderr",
       "text": [
        "\r",
        "[164 %] elapsed[sec]: 0.028 | ETA[sec]: -0.011 "
       ]
      },
      {
       "output_type": "stream",
       "stream": "stderr",
       "text": [
        "\r",
        "[180 %] elapsed[sec]: 0.030 | ETA[sec]: -0.013 "
       ]
      },
      {
       "output_type": "stream",
       "stream": "stderr",
       "text": [
        "\r",
        "[197 %] elapsed[sec]: 0.031 | ETA[sec]: -0.015 "
       ]
      },
      {
       "output_type": "stream",
       "stream": "stderr",
       "text": [
        "\r",
        "[215 %] elapsed[sec]: 0.032 | ETA[sec]: -0.017 "
       ]
      },
      {
       "output_type": "stream",
       "stream": "stderr",
       "text": [
        "\r",
        "[234 %] elapsed[sec]: 0.034 | ETA[sec]: -0.020 "
       ]
      },
      {
       "output_type": "stream",
       "stream": "stderr",
       "text": [
        "\r",
        "[253 %] elapsed[sec]: 0.036 | ETA[sec]: -0.022 "
       ]
      },
      {
       "output_type": "stream",
       "stream": "stderr",
       "text": [
        "\r",
        "[274 %] elapsed[sec]: 0.037 | ETA[sec]: -0.024 "
       ]
      },
      {
       "output_type": "stream",
       "stream": "stderr",
       "text": [
        "\r",
        "[295 %] elapsed[sec]: 0.038 | ETA[sec]: -0.025 "
       ]
      },
      {
       "output_type": "stream",
       "stream": "stderr",
       "text": [
        "\r",
        "[317 %] elapsed[sec]: 0.040 | ETA[sec]: -0.027 "
       ]
      },
      {
       "output_type": "stream",
       "stream": "stderr",
       "text": [
        "\r",
        "[339 %] elapsed[sec]: 0.041 | ETA[sec]: -0.029 "
       ]
      },
      {
       "output_type": "stream",
       "stream": "stderr",
       "text": [
        "\r",
        "[363 %] elapsed[sec]: 0.042 | ETA[sec]: -0.030 "
       ]
      },
      {
       "output_type": "stream",
       "stream": "stderr",
       "text": [
        "\r",
        "[387 %] elapsed[sec]: 0.044 | ETA[sec]: -0.032 "
       ]
      },
      {
       "output_type": "stream",
       "stream": "stderr",
       "text": [
        "\r",
        "[412 %] elapsed[sec]: 0.045 | ETA[sec]: -0.034 "
       ]
      },
      {
       "output_type": "stream",
       "stream": "stderr",
       "text": [
        "\r",
        "[438 %] elapsed[sec]: 0.047 | ETA[sec]: -0.036 "
       ]
      },
      {
       "output_type": "stream",
       "stream": "stderr",
       "text": [
        "\r",
        "[464 %] elapsed[sec]: 0.048 | ETA[sec]: -0.038 "
       ]
      },
      {
       "output_type": "stream",
       "stream": "stderr",
       "text": [
        "\r",
        "[492 %] elapsed[sec]: 0.049 | ETA[sec]: -0.039 "
       ]
      },
      {
       "output_type": "stream",
       "stream": "stderr",
       "text": [
        "\r",
        "[520 %] elapsed[sec]: 0.050 | ETA[sec]: -0.041 "
       ]
      },
      {
       "output_type": "stream",
       "stream": "stderr",
       "text": [
        "\r",
        "[549 %] elapsed[sec]: 0.052 | ETA[sec]: -0.042 "
       ]
      },
      {
       "output_type": "stream",
       "stream": "stderr",
       "text": [
        "\r",
        "[578 %] elapsed[sec]: 0.053 | ETA[sec]: -0.044 "
       ]
      },
      {
       "output_type": "stream",
       "stream": "stderr",
       "text": [
        "\r",
        "[609 %] elapsed[sec]: 0.055 | ETA[sec]: -0.046 "
       ]
      },
      {
       "output_type": "stream",
       "stream": "stderr",
       "text": [
        "\r",
        "[640 %] elapsed[sec]: 0.057 | ETA[sec]: -0.048 "
       ]
      },
      {
       "output_type": "stream",
       "stream": "stderr",
       "text": [
        "\r",
        "[672 %] elapsed[sec]: 0.059 | ETA[sec]: -0.050 "
       ]
      },
      {
       "output_type": "stream",
       "stream": "stderr",
       "text": [
        "\r",
        "[705 %] elapsed[sec]: 0.061 | ETA[sec]: -0.053 "
       ]
      },
      {
       "output_type": "stream",
       "stream": "stderr",
       "text": [
        "\r",
        "[739 %] elapsed[sec]: 0.063 | ETA[sec]: -0.055 "
       ]
      },
      {
       "output_type": "stream",
       "stream": "stderr",
       "text": [
        "\r",
        "[773 %] elapsed[sec]: 0.065 | ETA[sec]: -0.056 "
       ]
      },
      {
       "output_type": "stream",
       "stream": "stderr",
       "text": [
        "\r",
        "[808 %] elapsed[sec]: 0.066 | ETA[sec]: -0.058 "
       ]
      },
      {
       "output_type": "stream",
       "stream": "stderr",
       "text": [
        "\r",
        "[844 %] elapsed[sec]: 0.067 | ETA[sec]: -0.059 "
       ]
      },
      {
       "output_type": "stream",
       "stream": "stderr",
       "text": [
        "\r",
        "[881 %] elapsed[sec]: 0.069 | ETA[sec]: -0.061 "
       ]
      },
      {
       "output_type": "stream",
       "stream": "stderr",
       "text": [
        "\r",
        "[918 %] elapsed[sec]: 0.070 | ETA[sec]: -0.063 "
       ]
      },
      {
       "output_type": "stream",
       "stream": "stderr",
       "text": [
        "\r",
        "[957 %] elapsed[sec]: 0.072 | ETA[sec]: -0.064 "
       ]
      },
      {
       "output_type": "stream",
       "stream": "stderr",
       "text": [
        "\r",
        "[996 %] elapsed[sec]: 0.073 | ETA[sec]: -0.065 "
       ]
      },
      {
       "output_type": "stream",
       "stream": "stderr",
       "text": [
        "\r",
        "[1035 %] elapsed[sec]: 0.074 | ETA[sec]: -0.067 "
       ]
      },
      {
       "output_type": "stream",
       "stream": "stderr",
       "text": [
        "\r",
        "[1076 %] elapsed[sec]: 0.076 | ETA[sec]: -0.069 "
       ]
      },
      {
       "output_type": "stream",
       "stream": "stderr",
       "text": [
        "\r",
        "[1117 %] elapsed[sec]: 0.077 | ETA[sec]: -0.070 "
       ]
      },
      {
       "output_type": "stream",
       "stream": "stderr",
       "text": [
        "\r",
        "[1160 %] elapsed[sec]: 0.078 | ETA[sec]: -0.072 "
       ]
      },
      {
       "output_type": "stream",
       "stream": "stderr",
       "text": [
        "\r",
        "[1203 %] elapsed[sec]: 0.080 | ETA[sec]: -0.073 "
       ]
      },
      {
       "output_type": "stream",
       "stream": "stderr",
       "text": [
        "\r",
        "[1246 %] elapsed[sec]: 0.081 | ETA[sec]: -0.075 "
       ]
      },
      {
       "output_type": "stream",
       "stream": "stderr",
       "text": [
        "\r",
        "[1291 %] elapsed[sec]: 0.082 | ETA[sec]: -0.076 "
       ]
      },
      {
       "output_type": "stream",
       "stream": "stderr",
       "text": [
        "\r",
        "[1336 %] elapsed[sec]: 0.084 | ETA[sec]: -0.078 "
       ]
      },
      {
       "output_type": "stream",
       "stream": "stderr",
       "text": [
        "\r",
        "[1382 %] elapsed[sec]: 0.086 | ETA[sec]: -0.079 "
       ]
      },
      {
       "output_type": "stream",
       "stream": "stderr",
       "text": [
        "\r",
        "[1429 %] elapsed[sec]: 0.088 | ETA[sec]: -0.082 "
       ]
      },
      {
       "output_type": "stream",
       "stream": "stderr",
       "text": [
        "\r",
        "[1477 %] elapsed[sec]: 0.089 | ETA[sec]: -0.083 "
       ]
      },
      {
       "output_type": "stream",
       "stream": "stderr",
       "text": [
        "\r",
        "[1525 %] elapsed[sec]: 0.091 | ETA[sec]: -0.085 "
       ]
      },
      {
       "output_type": "stream",
       "stream": "stderr",
       "text": [
        "\r",
        "[1575 %] elapsed[sec]: 0.092 | ETA[sec]: -0.086 "
       ]
      },
      {
       "output_type": "stream",
       "stream": "stderr",
       "text": [
        "\r",
        "[1625 %] elapsed[sec]: 0.093 | ETA[sec]: -0.088 "
       ]
      },
      {
       "output_type": "stream",
       "stream": "stderr",
       "text": [
        "\r",
        "[1675 %] elapsed[sec]: 0.095 | ETA[sec]: -0.089 "
       ]
      },
      {
       "output_type": "stream",
       "stream": "stderr",
       "text": [
        "\r",
        "[1727 %] elapsed[sec]: 0.096 | ETA[sec]: -0.091 "
       ]
      },
      {
       "output_type": "stream",
       "stream": "stderr",
       "text": [
        "\r",
        "[1779 %] elapsed[sec]: 0.098 | ETA[sec]: -0.092 "
       ]
      },
      {
       "output_type": "stream",
       "stream": "stderr",
       "text": [
        "\r",
        "[1832 %] elapsed[sec]: 0.099 | ETA[sec]: -0.094 "
       ]
      },
      {
       "output_type": "stream",
       "stream": "stderr",
       "text": [
        "\r",
        "[1886 %] elapsed[sec]: 0.101 | ETA[sec]: -0.096 "
       ]
      },
      {
       "output_type": "stream",
       "stream": "stderr",
       "text": [
        "\r",
        "[1941 %] elapsed[sec]: 0.102 | ETA[sec]: -0.097 "
       ]
      },
      {
       "output_type": "stream",
       "stream": "stderr",
       "text": [
        "\r",
        "[1996 %] elapsed[sec]: 0.104 | ETA[sec]: -0.099 "
       ]
      },
      {
       "output_type": "stream",
       "stream": "stderr",
       "text": [
        "\r",
        "[2053 %] elapsed[sec]: 0.106 | ETA[sec]: -0.101 "
       ]
      },
      {
       "output_type": "stream",
       "stream": "stderr",
       "text": [
        "\r",
        "[2110 %] elapsed[sec]: 0.108 | ETA[sec]: -0.103 "
       ]
      },
      {
       "output_type": "stream",
       "stream": "stderr",
       "text": [
        "\r",
        "[2167 %] elapsed[sec]: 0.110 | ETA[sec]: -0.105 "
       ]
      },
      {
       "output_type": "stream",
       "stream": "stderr",
       "text": [
        "\r",
        "[2226 %] elapsed[sec]: 0.112 | ETA[sec]: -0.107 "
       ]
      },
      {
       "output_type": "stream",
       "stream": "stderr",
       "text": [
        "\r",
        "[2285 %] elapsed[sec]: 0.114 | ETA[sec]: -0.109 "
       ]
      },
      {
       "output_type": "stream",
       "stream": "stderr",
       "text": [
        "\r",
        "[2346 %] elapsed[sec]: 0.115 | ETA[sec]: -0.110 "
       ]
      },
      {
       "output_type": "stream",
       "stream": "stderr",
       "text": [
        "\r",
        "[2407 %] elapsed[sec]: 0.117 | ETA[sec]: -0.112 "
       ]
      },
      {
       "output_type": "stream",
       "stream": "stderr",
       "text": [
        "\r",
        "[2468 %] elapsed[sec]: 0.118 | ETA[sec]: -0.113 "
       ]
      },
      {
       "output_type": "stream",
       "stream": "stderr",
       "text": [
        "\r",
        "[2531 %] elapsed[sec]: 0.120 | ETA[sec]: -0.115 "
       ]
      },
      {
       "output_type": "stream",
       "stream": "stderr",
       "text": [
        "\r",
        "[2594 %] elapsed[sec]: 0.121 | ETA[sec]: -0.116 "
       ]
      },
      {
       "output_type": "stream",
       "stream": "stderr",
       "text": [
        "\r",
        "[2658 %] elapsed[sec]: 0.123 | ETA[sec]: -0.118 "
       ]
      },
      {
       "output_type": "stream",
       "stream": "stderr",
       "text": [
        "\r",
        "[2723 %] elapsed[sec]: 0.124 | ETA[sec]: -0.119 "
       ]
      },
      {
       "output_type": "stream",
       "stream": "stderr",
       "text": [
        "\r",
        "[2789 %] elapsed[sec]: 0.125 | ETA[sec]: -0.121 "
       ]
      },
      {
       "output_type": "stream",
       "stream": "stderr",
       "text": [
        "\r",
        "[2855 %] elapsed[sec]: 0.127 | ETA[sec]: -0.123 "
       ]
      },
      {
       "output_type": "stream",
       "stream": "stderr",
       "text": [
        "\r",
        "[2922 %] elapsed[sec]: 0.129 | ETA[sec]: -0.125 "
       ]
      },
      {
       "output_type": "stream",
       "stream": "stderr",
       "text": [
        "\r",
        "[2990 %] elapsed[sec]: 0.131 | ETA[sec]: -0.127 "
       ]
      },
      {
       "output_type": "stream",
       "stream": "stderr",
       "text": [
        "\r",
        "[3059 %] elapsed[sec]: 0.133 | ETA[sec]: -0.129 "
       ]
      },
      {
       "output_type": "stream",
       "stream": "stderr",
       "text": [
        "\r",
        "[3128 %] elapsed[sec]: 0.135 | ETA[sec]: -0.131 "
       ]
      },
      {
       "output_type": "stream",
       "stream": "stderr",
       "text": [
        "\r",
        "[3199 %] elapsed[sec]: 0.137 | ETA[sec]: -0.132 "
       ]
      },
      {
       "output_type": "stream",
       "stream": "stderr",
       "text": [
        "\r",
        "[3270 %] elapsed[sec]: 0.138 | ETA[sec]: -0.134 "
       ]
      },
      {
       "output_type": "stream",
       "stream": "stderr",
       "text": [
        "\r",
        "[3342 %] elapsed[sec]: 0.139 | ETA[sec]: -0.135 "
       ]
      },
      {
       "output_type": "stream",
       "stream": "stderr",
       "text": [
        "\r",
        "[3414 %] elapsed[sec]: 0.141 | ETA[sec]: -0.136 "
       ]
      },
      {
       "output_type": "stream",
       "stream": "stderr",
       "text": [
        "\r",
        "[3488 %] elapsed[sec]: 0.142 | ETA[sec]: -0.138 "
       ]
      },
      {
       "output_type": "stream",
       "stream": "stderr",
       "text": [
        "\r",
        "[3562 %] elapsed[sec]: 0.144 | ETA[sec]: -0.140 "
       ]
      },
      {
       "output_type": "stream",
       "stream": "stderr",
       "text": [
        "\r",
        "[3637 %] elapsed[sec]: 0.146 | ETA[sec]: -0.142 "
       ]
      },
      {
       "output_type": "stream",
       "stream": "stderr",
       "text": [
        "\r",
        "[3713 %] elapsed[sec]: 0.147 | ETA[sec]: -0.143 "
       ]
      },
      {
       "output_type": "stream",
       "stream": "stderr",
       "text": [
        "\r",
        "[3789 %] elapsed[sec]: 0.148 | ETA[sec]: -0.144 "
       ]
      },
      {
       "output_type": "stream",
       "stream": "stderr",
       "text": [
        "\r",
        "[3867 %] elapsed[sec]: 0.149 | ETA[sec]: -0.146 "
       ]
      },
      {
       "output_type": "stream",
       "stream": "stderr",
       "text": [
        "\r",
        "[3945 %] elapsed[sec]: 0.151 | ETA[sec]: -0.147 "
       ]
      },
      {
       "output_type": "stream",
       "stream": "stderr",
       "text": [
        "\r",
        "[4024 %] elapsed[sec]: 0.153 | ETA[sec]: -0.149 "
       ]
      },
      {
       "output_type": "stream",
       "stream": "stderr",
       "text": [
        "\r",
        "[4103 %] elapsed[sec]: 0.154 | ETA[sec]: -0.151 "
       ]
      },
      {
       "output_type": "stream",
       "stream": "stderr",
       "text": [
        "\r",
        "[4184 %] elapsed[sec]: 0.156 | ETA[sec]: -0.152 "
       ]
      },
      {
       "output_type": "stream",
       "stream": "stderr",
       "text": [
        "\r",
        "[4265 %] elapsed[sec]: 0.157 | ETA[sec]: -0.153 "
       ]
      },
      {
       "output_type": "stream",
       "stream": "stderr",
       "text": [
        "\r",
        "[4347 %] elapsed[sec]: 0.158 | ETA[sec]: -0.155 "
       ]
      },
      {
       "output_type": "stream",
       "stream": "stderr",
       "text": [
        "\r",
        "[4430 %] elapsed[sec]: 0.160 | ETA[sec]: -0.156 "
       ]
      },
      {
       "output_type": "stream",
       "stream": "stderr",
       "text": [
        "\r",
        "[4514 %] elapsed[sec]: 0.161 | ETA[sec]: -0.157 "
       ]
      },
      {
       "output_type": "stream",
       "stream": "stderr",
       "text": [
        "\r",
        "[4598 %] elapsed[sec]: 0.162 | ETA[sec]: -0.159 "
       ]
      },
      {
       "output_type": "stream",
       "stream": "stderr",
       "text": [
        "\r",
        "[4683 %] elapsed[sec]: 0.164 | ETA[sec]: -0.161 "
       ]
      },
      {
       "output_type": "stream",
       "stream": "stderr",
       "text": [
        "\r",
        "[4769 %] elapsed[sec]: 0.165 | ETA[sec]: -0.162 "
       ]
      },
      {
       "output_type": "stream",
       "stream": "stderr",
       "text": [
        "\r",
        "[4856 %] elapsed[sec]: 0.167 | ETA[sec]: -0.163 "
       ]
      },
      {
       "output_type": "stream",
       "stream": "stderr",
       "text": [
        "\r",
        "[4943 %] elapsed[sec]: 0.168 | ETA[sec]: -0.164 "
       ]
      },
      {
       "output_type": "stream",
       "stream": "stderr",
       "text": [
        "\r",
        "[5032 %] elapsed[sec]: 0.169 | ETA[sec]: -0.166 "
       ]
      },
      {
       "output_type": "stream",
       "stream": "stderr",
       "text": [
        "\r",
        "[5121 %] elapsed[sec]: 0.170 | ETA[sec]: -0.167 "
       ]
      },
      {
       "output_type": "stream",
       "stream": "stderr",
       "text": [
        "\r",
        "[5210 %] elapsed[sec]: 0.172 | ETA[sec]: -0.168 "
       ]
      },
      {
       "output_type": "stream",
       "stream": "stderr",
       "text": [
        "\r",
        "[5301 %] elapsed[sec]: 0.173 | ETA[sec]: -0.170 "
       ]
      },
      {
       "output_type": "stream",
       "stream": "stderr",
       "text": [
        "\r",
        "[5392 %] elapsed[sec]: 0.174 | ETA[sec]: -0.171 "
       ]
      },
      {
       "output_type": "stream",
       "stream": "stderr",
       "text": [
        "\r",
        "[5485 %] elapsed[sec]: 0.176 | ETA[sec]: -0.173 "
       ]
      },
      {
       "output_type": "stream",
       "stream": "stderr",
       "text": [
        "\r",
        "[5578 %] elapsed[sec]: 0.177 | ETA[sec]: -0.174 "
       ]
      },
      {
       "output_type": "stream",
       "stream": "stderr",
       "text": [
        "\r",
        "[5671 %] elapsed[sec]: 0.178 | ETA[sec]: -0.175 "
       ]
      },
      {
       "output_type": "stream",
       "stream": "stderr",
       "text": [
        "\r",
        "[5766 %] elapsed[sec]: 0.180 | ETA[sec]: -0.177 "
       ]
      },
      {
       "output_type": "stream",
       "stream": "stderr",
       "text": [
        "\r",
        "[5861 %] elapsed[sec]: 0.181 | ETA[sec]: -0.178 "
       ]
      },
      {
       "output_type": "stream",
       "stream": "stderr",
       "text": [
        "\r",
        "[5957 %] elapsed[sec]: 0.182 | ETA[sec]: -0.179 "
       ]
      },
      {
       "output_type": "stream",
       "stream": "stderr",
       "text": [
        "\r",
        "[6054 %] elapsed[sec]: 0.184 | ETA[sec]: -0.181 "
       ]
      },
      {
       "output_type": "stream",
       "stream": "stderr",
       "text": [
        "\r",
        "[6152 %] elapsed[sec]: 0.186 | ETA[sec]: -0.183 "
       ]
      },
      {
       "output_type": "stream",
       "stream": "stderr",
       "text": [
        "\r",
        "[6250 %] elapsed[sec]: 0.187 | ETA[sec]: -0.184 "
       ]
      },
      {
       "output_type": "stream",
       "stream": "stderr",
       "text": [
        "\r",
        "[6350 %] elapsed[sec]: 0.188 | ETA[sec]: -0.185 "
       ]
      },
      {
       "output_type": "stream",
       "stream": "stdout",
       "text": [
        "\n",
        "Title: \n",
        "                      Started: 09/22/2014 17:23:36\n",
        "                      Finished: 09/22/2014 17:23:36\n",
        "                      Total time elapsed: 0.000 sec"
       ]
      },
      {
       "output_type": "stream",
       "stream": "stderr",
       "text": [
        "\r",
        "[  0 %] elapsed[sec]: 0.000"
       ]
      },
      {
       "output_type": "stream",
       "stream": "stdout",
       "text": [
        "\n",
        "Saving sequence results/color-energy_contrast-0_75.webm"
       ]
      },
      {
       "output_type": "stream",
       "stream": "stderr",
       "text": [
        "\r",
        "[  0 %] elapsed[sec]: 0.002 | ETA[sec]: 0.250 "
       ]
      },
      {
       "output_type": "stream",
       "stream": "stderr",
       "text": [
        "\r",
        "[  2 %] elapsed[sec]: 0.003 | ETA[sec]: 0.141 "
       ]
      },
      {
       "output_type": "stream",
       "stream": "stderr",
       "text": [
        "\r",
        "[  4 %] elapsed[sec]: 0.005 | ETA[sec]: 0.110 "
       ]
      },
      {
       "output_type": "stream",
       "stream": "stderr",
       "text": [
        "\r",
        "[  7 %] elapsed[sec]: 0.007 | ETA[sec]: 0.087 "
       ]
      },
      {
       "output_type": "stream",
       "stream": "stderr",
       "text": [
        "\r",
        "[ 11 %] elapsed[sec]: 0.009 | ETA[sec]: 0.071 "
       ]
      },
      {
       "output_type": "stream",
       "stream": "stderr",
       "text": [
        "\r",
        "[ 16 %] elapsed[sec]: 0.011 | ETA[sec]: 0.058 "
       ]
      },
      {
       "output_type": "stream",
       "stream": "stderr",
       "text": [
        "\r",
        "[ 21 %] elapsed[sec]: 0.013 | ETA[sec]: 0.047 "
       ]
      },
      {
       "output_type": "stream",
       "stream": "stderr",
       "text": [
        "\r",
        "[ 28 %] elapsed[sec]: 0.015 | ETA[sec]: 0.038 "
       ]
      },
      {
       "output_type": "stream",
       "stream": "stderr",
       "text": [
        "\r",
        "[ 35 %] elapsed[sec]: 0.016 | ETA[sec]: 0.030 "
       ]
      },
      {
       "output_type": "stream",
       "stream": "stderr",
       "text": [
        "\r",
        "[ 42 %] elapsed[sec]: 0.018 | ETA[sec]: 0.023 "
       ]
      },
      {
       "output_type": "stream",
       "stream": "stderr",
       "text": [
        "\r",
        "[ 51 %] elapsed[sec]: 0.019 | ETA[sec]: 0.018 "
       ]
      },
      {
       "output_type": "stream",
       "stream": "stderr",
       "text": [
        "\r",
        "[ 60 %] elapsed[sec]: 0.020 | ETA[sec]: 0.013 "
       ]
      },
      {
       "output_type": "stream",
       "stream": "stderr",
       "text": [
        "\r",
        "[ 71 %] elapsed[sec]: 0.022 | ETA[sec]: 0.009 "
       ]
      },
      {
       "output_type": "stream",
       "stream": "stderr",
       "text": [
        "\r",
        "[ 82 %] elapsed[sec]: 0.023 | ETA[sec]: 0.005 "
       ]
      },
      {
       "output_type": "stream",
       "stream": "stderr",
       "text": [
        "\r",
        "[ 93 %] elapsed[sec]: 0.025 | ETA[sec]: 0.002 "
       ]
      },
      {
       "output_type": "stream",
       "stream": "stderr",
       "text": [
        "\r",
        "[106 %] elapsed[sec]: 0.026 | ETA[sec]: -0.002 "
       ]
      },
      {
       "output_type": "stream",
       "stream": "stderr",
       "text": [
        "\r",
        "[119 %] elapsed[sec]: 0.028 | ETA[sec]: -0.005 "
       ]
      },
      {
       "output_type": "stream",
       "stream": "stderr",
       "text": [
        "\r",
        "[133 %] elapsed[sec]: 0.029 | ETA[sec]: -0.007 "
       ]
      },
      {
       "output_type": "stream",
       "stream": "stderr",
       "text": [
        "\r",
        "[148 %] elapsed[sec]: 0.030 | ETA[sec]: -0.010 "
       ]
      },
      {
       "output_type": "stream",
       "stream": "stderr",
       "text": [
        "\r",
        "[164 %] elapsed[sec]: 0.032 | ETA[sec]: -0.012 "
       ]
      },
      {
       "output_type": "stream",
       "stream": "stderr",
       "text": [
        "\r",
        "[180 %] elapsed[sec]: 0.033 | ETA[sec]: -0.015 "
       ]
      },
      {
       "output_type": "stream",
       "stream": "stderr",
       "text": [
        "\r",
        "[197 %] elapsed[sec]: 0.035 | ETA[sec]: -0.017 "
       ]
      },
      {
       "output_type": "stream",
       "stream": "stderr",
       "text": [
        "\r",
        "[215 %] elapsed[sec]: 0.036 | ETA[sec]: -0.019 "
       ]
      },
      {
       "output_type": "stream",
       "stream": "stderr",
       "text": [
        "\r",
        "[234 %] elapsed[sec]: 0.038 | ETA[sec]: -0.022 "
       ]
      },
      {
       "output_type": "stream",
       "stream": "stderr",
       "text": [
        "\r",
        "[253 %] elapsed[sec]: 0.039 | ETA[sec]: -0.024 "
       ]
      },
      {
       "output_type": "stream",
       "stream": "stderr",
       "text": [
        "\r",
        "[274 %] elapsed[sec]: 0.040 | ETA[sec]: -0.026 "
       ]
      },
      {
       "output_type": "stream",
       "stream": "stderr",
       "text": [
        "\r",
        "[295 %] elapsed[sec]: 0.042 | ETA[sec]: -0.028 "
       ]
      },
      {
       "output_type": "stream",
       "stream": "stderr",
       "text": [
        "\r",
        "[317 %] elapsed[sec]: 0.043 | ETA[sec]: -0.030 "
       ]
      },
      {
       "output_type": "stream",
       "stream": "stderr",
       "text": [
        "\r",
        "[339 %] elapsed[sec]: 0.044 | ETA[sec]: -0.031 "
       ]
      },
      {
       "output_type": "stream",
       "stream": "stderr",
       "text": [
        "\r",
        "[363 %] elapsed[sec]: 0.046 | ETA[sec]: -0.033 "
       ]
      },
      {
       "output_type": "stream",
       "stream": "stderr",
       "text": [
        "\r",
        "[387 %] elapsed[sec]: 0.048 | ETA[sec]: -0.035 "
       ]
      },
      {
       "output_type": "stream",
       "stream": "stderr",
       "text": [
        "\r",
        "[412 %] elapsed[sec]: 0.049 | ETA[sec]: -0.037 "
       ]
      },
      {
       "output_type": "stream",
       "stream": "stderr",
       "text": [
        "\r",
        "[438 %] elapsed[sec]: 0.051 | ETA[sec]: -0.039 "
       ]
      },
      {
       "output_type": "stream",
       "stream": "stderr",
       "text": [
        "\r",
        "[464 %] elapsed[sec]: 0.052 | ETA[sec]: -0.041 "
       ]
      },
      {
       "output_type": "stream",
       "stream": "stderr",
       "text": [
        "\r",
        "[492 %] elapsed[sec]: 0.054 | ETA[sec]: -0.043 "
       ]
      },
      {
       "output_type": "stream",
       "stream": "stderr",
       "text": [
        "\r",
        "[520 %] elapsed[sec]: 0.055 | ETA[sec]: -0.044 "
       ]
      },
      {
       "output_type": "stream",
       "stream": "stderr",
       "text": [
        "\r",
        "[549 %] elapsed[sec]: 0.056 | ETA[sec]: -0.046 "
       ]
      },
      {
       "output_type": "stream",
       "stream": "stderr",
       "text": [
        "\r",
        "[578 %] elapsed[sec]: 0.058 | ETA[sec]: -0.048 "
       ]
      },
      {
       "output_type": "stream",
       "stream": "stderr",
       "text": [
        "\r",
        "[609 %] elapsed[sec]: 0.060 | ETA[sec]: -0.050 "
       ]
      },
      {
       "output_type": "stream",
       "stream": "stderr",
       "text": [
        "\r",
        "[640 %] elapsed[sec]: 0.061 | ETA[sec]: -0.052 "
       ]
      },
      {
       "output_type": "stream",
       "stream": "stderr",
       "text": [
        "\r",
        "[672 %] elapsed[sec]: 0.062 | ETA[sec]: -0.053 "
       ]
      },
      {
       "output_type": "stream",
       "stream": "stderr",
       "text": [
        "\r",
        "[705 %] elapsed[sec]: 0.064 | ETA[sec]: -0.055 "
       ]
      },
      {
       "output_type": "stream",
       "stream": "stderr",
       "text": [
        "\r",
        "[739 %] elapsed[sec]: 0.065 | ETA[sec]: -0.057 "
       ]
      },
      {
       "output_type": "stream",
       "stream": "stderr",
       "text": [
        "\r",
        "[773 %] elapsed[sec]: 0.067 | ETA[sec]: -0.058 "
       ]
      },
      {
       "output_type": "stream",
       "stream": "stderr",
       "text": [
        "\r",
        "[808 %] elapsed[sec]: 0.069 | ETA[sec]: -0.061 "
       ]
      },
      {
       "output_type": "stream",
       "stream": "stderr",
       "text": [
        "\r",
        "[844 %] elapsed[sec]: 0.071 | ETA[sec]: -0.062 "
       ]
      },
      {
       "output_type": "stream",
       "stream": "stderr",
       "text": [
        "\r",
        "[881 %] elapsed[sec]: 0.072 | ETA[sec]: -0.064 "
       ]
      },
      {
       "output_type": "stream",
       "stream": "stderr",
       "text": [
        "\r",
        "[918 %] elapsed[sec]: 0.074 | ETA[sec]: -0.066 "
       ]
      },
      {
       "output_type": "stream",
       "stream": "stderr",
       "text": [
        "\r",
        "[957 %] elapsed[sec]: 0.076 | ETA[sec]: -0.068 "
       ]
      },
      {
       "output_type": "stream",
       "stream": "stderr",
       "text": [
        "\r",
        "[996 %] elapsed[sec]: 0.077 | ETA[sec]: -0.069 "
       ]
      },
      {
       "output_type": "stream",
       "stream": "stderr",
       "text": [
        "\r",
        "[1035 %] elapsed[sec]: 0.079 | ETA[sec]: -0.071 "
       ]
      },
      {
       "output_type": "stream",
       "stream": "stderr",
       "text": [
        "\r",
        "[1076 %] elapsed[sec]: 0.080 | ETA[sec]: -0.073 "
       ]
      },
      {
       "output_type": "stream",
       "stream": "stderr",
       "text": [
        "\r",
        "[1117 %] elapsed[sec]: 0.082 | ETA[sec]: -0.074 "
       ]
      },
      {
       "output_type": "stream",
       "stream": "stderr",
       "text": [
        "\r",
        "[1160 %] elapsed[sec]: 0.083 | ETA[sec]: -0.076 "
       ]
      },
      {
       "output_type": "stream",
       "stream": "stderr",
       "text": [
        "\r",
        "[1203 %] elapsed[sec]: 0.084 | ETA[sec]: -0.077 "
       ]
      },
      {
       "output_type": "stream",
       "stream": "stderr",
       "text": [
        "\r",
        "[1246 %] elapsed[sec]: 0.086 | ETA[sec]: -0.079 "
       ]
      },
      {
       "output_type": "stream",
       "stream": "stderr",
       "text": [
        "\r",
        "[1291 %] elapsed[sec]: 0.087 | ETA[sec]: -0.080 "
       ]
      },
      {
       "output_type": "stream",
       "stream": "stderr",
       "text": [
        "\r",
        "[1336 %] elapsed[sec]: 0.089 | ETA[sec]: -0.082 "
       ]
      },
      {
       "output_type": "stream",
       "stream": "stderr",
       "text": [
        "\r",
        "[1382 %] elapsed[sec]: 0.090 | ETA[sec]: -0.084 "
       ]
      },
      {
       "output_type": "stream",
       "stream": "stderr",
       "text": [
        "\r",
        "[1429 %] elapsed[sec]: 0.092 | ETA[sec]: -0.085 "
       ]
      },
      {
       "output_type": "stream",
       "stream": "stderr",
       "text": [
        "\r",
        "[1477 %] elapsed[sec]: 0.093 | ETA[sec]: -0.087 "
       ]
      },
      {
       "output_type": "stream",
       "stream": "stderr",
       "text": [
        "\r",
        "[1525 %] elapsed[sec]: 0.095 | ETA[sec]: -0.089 "
       ]
      },
      {
       "output_type": "stream",
       "stream": "stderr",
       "text": [
        "\r",
        "[1575 %] elapsed[sec]: 0.096 | ETA[sec]: -0.090 "
       ]
      },
      {
       "output_type": "stream",
       "stream": "stderr",
       "text": [
        "\r",
        "[1625 %] elapsed[sec]: 0.098 | ETA[sec]: -0.092 "
       ]
      },
      {
       "output_type": "stream",
       "stream": "stderr",
       "text": [
        "\r",
        "[1675 %] elapsed[sec]: 0.099 | ETA[sec]: -0.093 "
       ]
      },
      {
       "output_type": "stream",
       "stream": "stderr",
       "text": [
        "\r",
        "[1727 %] elapsed[sec]: 0.101 | ETA[sec]: -0.095 "
       ]
      },
      {
       "output_type": "stream",
       "stream": "stderr",
       "text": [
        "\r",
        "[1779 %] elapsed[sec]: 0.103 | ETA[sec]: -0.097 "
       ]
      },
      {
       "output_type": "stream",
       "stream": "stderr",
       "text": [
        "\r",
        "[1832 %] elapsed[sec]: 0.104 | ETA[sec]: -0.098 "
       ]
      },
      {
       "output_type": "stream",
       "stream": "stderr",
       "text": [
        "\r",
        "[1886 %] elapsed[sec]: 0.106 | ETA[sec]: -0.100 "
       ]
      },
      {
       "output_type": "stream",
       "stream": "stderr",
       "text": [
        "\r",
        "[1941 %] elapsed[sec]: 0.107 | ETA[sec]: -0.101 "
       ]
      },
      {
       "output_type": "stream",
       "stream": "stderr",
       "text": [
        "\r",
        "[1996 %] elapsed[sec]: 0.108 | ETA[sec]: -0.103 "
       ]
      },
      {
       "output_type": "stream",
       "stream": "stderr",
       "text": [
        "\r",
        "[2053 %] elapsed[sec]: 0.110 | ETA[sec]: -0.104 "
       ]
      },
      {
       "output_type": "stream",
       "stream": "stderr",
       "text": [
        "\r",
        "[2110 %] elapsed[sec]: 0.111 | ETA[sec]: -0.106 "
       ]
      },
      {
       "output_type": "stream",
       "stream": "stderr",
       "text": [
        "\r",
        "[2167 %] elapsed[sec]: 0.113 | ETA[sec]: -0.108 "
       ]
      },
      {
       "output_type": "stream",
       "stream": "stderr",
       "text": [
        "\r",
        "[2226 %] elapsed[sec]: 0.114 | ETA[sec]: -0.109 "
       ]
      },
      {
       "output_type": "stream",
       "stream": "stderr",
       "text": [
        "\r",
        "[2285 %] elapsed[sec]: 0.116 | ETA[sec]: -0.111 "
       ]
      },
      {
       "output_type": "stream",
       "stream": "stderr",
       "text": [
        "\r",
        "[2346 %] elapsed[sec]: 0.117 | ETA[sec]: -0.112 "
       ]
      },
      {
       "output_type": "stream",
       "stream": "stderr",
       "text": [
        "\r",
        "[2407 %] elapsed[sec]: 0.119 | ETA[sec]: -0.114 "
       ]
      },
      {
       "output_type": "stream",
       "stream": "stderr",
       "text": [
        "\r",
        "[2468 %] elapsed[sec]: 0.120 | ETA[sec]: -0.115 "
       ]
      },
      {
       "output_type": "stream",
       "stream": "stderr",
       "text": [
        "\r",
        "[2531 %] elapsed[sec]: 0.122 | ETA[sec]: -0.118 "
       ]
      },
      {
       "output_type": "stream",
       "stream": "stderr",
       "text": [
        "\r",
        "[2594 %] elapsed[sec]: 0.124 | ETA[sec]: -0.119 "
       ]
      },
      {
       "output_type": "stream",
       "stream": "stderr",
       "text": [
        "\r",
        "[2658 %] elapsed[sec]: 0.126 | ETA[sec]: -0.121 "
       ]
      },
      {
       "output_type": "stream",
       "stream": "stderr",
       "text": [
        "\r",
        "[2723 %] elapsed[sec]: 0.127 | ETA[sec]: -0.122 "
       ]
      },
      {
       "output_type": "stream",
       "stream": "stderr",
       "text": [
        "\r",
        "[2789 %] elapsed[sec]: 0.128 | ETA[sec]: -0.124 "
       ]
      },
      {
       "output_type": "stream",
       "stream": "stderr",
       "text": [
        "\r",
        "[2855 %] elapsed[sec]: 0.130 | ETA[sec]: -0.125 "
       ]
      },
      {
       "output_type": "stream",
       "stream": "stderr",
       "text": [
        "\r",
        "[2922 %] elapsed[sec]: 0.132 | ETA[sec]: -0.127 "
       ]
      },
      {
       "output_type": "stream",
       "stream": "stderr",
       "text": [
        "\r",
        "[2990 %] elapsed[sec]: 0.134 | ETA[sec]: -0.129 "
       ]
      },
      {
       "output_type": "stream",
       "stream": "stderr",
       "text": [
        "\r",
        "[3059 %] elapsed[sec]: 0.135 | ETA[sec]: -0.131 "
       ]
      },
      {
       "output_type": "stream",
       "stream": "stderr",
       "text": [
        "\r",
        "[3128 %] elapsed[sec]: 0.137 | ETA[sec]: -0.132 "
       ]
      },
      {
       "output_type": "stream",
       "stream": "stderr",
       "text": [
        "\r",
        "[3199 %] elapsed[sec]: 0.138 | ETA[sec]: -0.134 "
       ]
      },
      {
       "output_type": "stream",
       "stream": "stderr",
       "text": [
        "\r",
        "[3270 %] elapsed[sec]: 0.140 | ETA[sec]: -0.135 "
       ]
      },
      {
       "output_type": "stream",
       "stream": "stderr",
       "text": [
        "\r",
        "[3342 %] elapsed[sec]: 0.141 | ETA[sec]: -0.137 "
       ]
      },
      {
       "output_type": "stream",
       "stream": "stderr",
       "text": [
        "\r",
        "[3414 %] elapsed[sec]: 0.142 | ETA[sec]: -0.138 "
       ]
      },
      {
       "output_type": "stream",
       "stream": "stderr",
       "text": [
        "\r",
        "[3488 %] elapsed[sec]: 0.144 | ETA[sec]: -0.140 "
       ]
      },
      {
       "output_type": "stream",
       "stream": "stderr",
       "text": [
        "\r",
        "[3562 %] elapsed[sec]: 0.147 | ETA[sec]: -0.142 "
       ]
      },
      {
       "output_type": "stream",
       "stream": "stderr",
       "text": [
        "\r",
        "[3637 %] elapsed[sec]: 0.149 | ETA[sec]: -0.145 "
       ]
      },
      {
       "output_type": "stream",
       "stream": "stderr",
       "text": [
        "\r",
        "[3713 %] elapsed[sec]: 0.151 | ETA[sec]: -0.147 "
       ]
      },
      {
       "output_type": "stream",
       "stream": "stderr",
       "text": [
        "\r",
        "[3789 %] elapsed[sec]: 0.153 | ETA[sec]: -0.149 "
       ]
      },
      {
       "output_type": "stream",
       "stream": "stderr",
       "text": [
        "\r",
        "[3867 %] elapsed[sec]: 0.155 | ETA[sec]: -0.151 "
       ]
      },
      {
       "output_type": "stream",
       "stream": "stderr",
       "text": [
        "\r",
        "[3945 %] elapsed[sec]: 0.156 | ETA[sec]: -0.152 "
       ]
      },
      {
       "output_type": "stream",
       "stream": "stderr",
       "text": [
        "\r",
        "[4024 %] elapsed[sec]: 0.157 | ETA[sec]: -0.153 "
       ]
      },
      {
       "output_type": "stream",
       "stream": "stderr",
       "text": [
        "\r",
        "[4103 %] elapsed[sec]: 0.159 | ETA[sec]: -0.155 "
       ]
      },
      {
       "output_type": "stream",
       "stream": "stderr",
       "text": [
        "\r",
        "[4184 %] elapsed[sec]: 0.160 | ETA[sec]: -0.156 "
       ]
      },
      {
       "output_type": "stream",
       "stream": "stderr",
       "text": [
        "\r",
        "[4265 %] elapsed[sec]: 0.162 | ETA[sec]: -0.158 "
       ]
      },
      {
       "output_type": "stream",
       "stream": "stderr",
       "text": [
        "\r",
        "[4347 %] elapsed[sec]: 0.163 | ETA[sec]: -0.159 "
       ]
      },
      {
       "output_type": "stream",
       "stream": "stderr",
       "text": [
        "\r",
        "[4430 %] elapsed[sec]: 0.164 | ETA[sec]: -0.161 "
       ]
      },
      {
       "output_type": "stream",
       "stream": "stderr",
       "text": [
        "\r",
        "[4514 %] elapsed[sec]: 0.166 | ETA[sec]: -0.163 "
       ]
      },
      {
       "output_type": "stream",
       "stream": "stderr",
       "text": [
        "\r",
        "[4598 %] elapsed[sec]: 0.168 | ETA[sec]: -0.165 "
       ]
      },
      {
       "output_type": "stream",
       "stream": "stderr",
       "text": [
        "\r",
        "[4683 %] elapsed[sec]: 0.170 | ETA[sec]: -0.166 "
       ]
      },
      {
       "output_type": "stream",
       "stream": "stderr",
       "text": [
        "\r",
        "[4769 %] elapsed[sec]: 0.171 | ETA[sec]: -0.167 "
       ]
      },
      {
       "output_type": "stream",
       "stream": "stderr",
       "text": [
        "\r",
        "[4856 %] elapsed[sec]: 0.172 | ETA[sec]: -0.169 "
       ]
      },
      {
       "output_type": "stream",
       "stream": "stderr",
       "text": [
        "\r",
        "[4943 %] elapsed[sec]: 0.174 | ETA[sec]: -0.170 "
       ]
      },
      {
       "output_type": "stream",
       "stream": "stderr",
       "text": [
        "\r",
        "[5032 %] elapsed[sec]: 0.176 | ETA[sec]: -0.173 "
       ]
      },
      {
       "output_type": "stream",
       "stream": "stderr",
       "text": [
        "\r",
        "[5121 %] elapsed[sec]: 0.179 | ETA[sec]: -0.175 "
       ]
      },
      {
       "output_type": "stream",
       "stream": "stderr",
       "text": [
        "\r",
        "[5210 %] elapsed[sec]: 0.180 | ETA[sec]: -0.177 "
       ]
      },
      {
       "output_type": "stream",
       "stream": "stderr",
       "text": [
        "\r",
        "[5301 %] elapsed[sec]: 0.181 | ETA[sec]: -0.178 "
       ]
      },
      {
       "output_type": "stream",
       "stream": "stderr",
       "text": [
        "\r",
        "[5392 %] elapsed[sec]: 0.183 | ETA[sec]: -0.180 "
       ]
      },
      {
       "output_type": "stream",
       "stream": "stderr",
       "text": [
        "\r",
        "[5485 %] elapsed[sec]: 0.184 | ETA[sec]: -0.181 "
       ]
      },
      {
       "output_type": "stream",
       "stream": "stderr",
       "text": [
        "\r",
        "[5578 %] elapsed[sec]: 0.186 | ETA[sec]: -0.182 "
       ]
      },
      {
       "output_type": "stream",
       "stream": "stderr",
       "text": [
        "\r",
        "[5671 %] elapsed[sec]: 0.187 | ETA[sec]: -0.184 "
       ]
      },
      {
       "output_type": "stream",
       "stream": "stderr",
       "text": [
        "\r",
        "[5766 %] elapsed[sec]: 0.189 | ETA[sec]: -0.185 "
       ]
      },
      {
       "output_type": "stream",
       "stream": "stderr",
       "text": [
        "\r",
        "[5861 %] elapsed[sec]: 0.191 | ETA[sec]: -0.187 "
       ]
      },
      {
       "output_type": "stream",
       "stream": "stderr",
       "text": [
        "\r",
        "[5957 %] elapsed[sec]: 0.192 | ETA[sec]: -0.189 "
       ]
      },
      {
       "output_type": "stream",
       "stream": "stderr",
       "text": [
        "\r",
        "[6054 %] elapsed[sec]: 0.194 | ETA[sec]: -0.190 "
       ]
      },
      {
       "output_type": "stream",
       "stream": "stderr",
       "text": [
        "\r",
        "[6152 %] elapsed[sec]: 0.196 | ETA[sec]: -0.192 "
       ]
      },
      {
       "output_type": "stream",
       "stream": "stderr",
       "text": [
        "\r",
        "[6250 %] elapsed[sec]: 0.197 | ETA[sec]: -0.194 "
       ]
      },
      {
       "output_type": "stream",
       "stream": "stderr",
       "text": [
        "\r",
        "[6350 %] elapsed[sec]: 0.199 | ETA[sec]: -0.196 "
       ]
      },
      {
       "output_type": "stream",
       "stream": "stdout",
       "text": [
        "\n",
        "Title: \n",
        "                      Started: 09/22/2014 17:23:37\n",
        "                      Finished: 09/22/2014 17:23:37\n",
        "                      Total time elapsed: 0.000 sec"
       ]
      },
      {
       "output_type": "stream",
       "stream": "stderr",
       "text": [
        "\r",
        "[  0 %] elapsed[sec]: 0.000"
       ]
      },
      {
       "output_type": "stream",
       "stream": "stdout",
       "text": [
        "\n",
        "Saving sequence results/color-energy_contrast-1_0.webm"
       ]
      },
      {
       "output_type": "stream",
       "stream": "stderr",
       "text": [
        "\r",
        "[  0 %] elapsed[sec]: 0.003 | ETA[sec]: 0.376 "
       ]
      },
      {
       "output_type": "stream",
       "stream": "stderr",
       "text": [
        "\r",
        "[  2 %] elapsed[sec]: 0.006 | ETA[sec]: 0.231 "
       ]
      },
      {
       "output_type": "stream",
       "stream": "stderr",
       "text": [
        "\r",
        "[  4 %] elapsed[sec]: 0.008 | ETA[sec]: 0.166 "
       ]
      },
      {
       "output_type": "stream",
       "stream": "stderr",
       "text": [
        "\r",
        "[  7 %] elapsed[sec]: 0.011 | ETA[sec]: 0.126 "
       ]
      },
      {
       "output_type": "stream",
       "stream": "stderr",
       "text": [
        "\r",
        "[ 11 %] elapsed[sec]: 0.013 | ETA[sec]: 0.096 "
       ]
      },
      {
       "output_type": "stream",
       "stream": "stderr",
       "text": [
        "\r",
        "[ 16 %] elapsed[sec]: 0.014 | ETA[sec]: 0.073 "
       ]
      },
      {
       "output_type": "stream",
       "stream": "stderr",
       "text": [
        "\r",
        "[ 21 %] elapsed[sec]: 0.016 | ETA[sec]: 0.057 "
       ]
      },
      {
       "output_type": "stream",
       "stream": "stderr",
       "text": [
        "\r",
        "[ 28 %] elapsed[sec]: 0.017 | ETA[sec]: 0.045 "
       ]
      },
      {
       "output_type": "stream",
       "stream": "stderr",
       "text": [
        "\r",
        "[ 35 %] elapsed[sec]: 0.019 | ETA[sec]: 0.036 "
       ]
      },
      {
       "output_type": "stream",
       "stream": "stderr",
       "text": [
        "\r",
        "[ 42 %] elapsed[sec]: 0.022 | ETA[sec]: 0.030 "
       ]
      },
      {
       "output_type": "stream",
       "stream": "stderr",
       "text": [
        "\r",
        "[ 51 %] elapsed[sec]: 0.024 | ETA[sec]: 0.023 "
       ]
      },
      {
       "output_type": "stream",
       "stream": "stderr",
       "text": [
        "\r",
        "[ 60 %] elapsed[sec]: 0.026 | ETA[sec]: 0.017 "
       ]
      },
      {
       "output_type": "stream",
       "stream": "stderr",
       "text": [
        "\r",
        "[ 71 %] elapsed[sec]: 0.028 | ETA[sec]: 0.011 "
       ]
      },
      {
       "output_type": "stream",
       "stream": "stderr",
       "text": [
        "\r",
        "[ 82 %] elapsed[sec]: 0.029 | ETA[sec]: 0.006 "
       ]
      },
      {
       "output_type": "stream",
       "stream": "stderr",
       "text": [
        "\r",
        "[ 93 %] elapsed[sec]: 0.031 | ETA[sec]: 0.002 "
       ]
      },
      {
       "output_type": "stream",
       "stream": "stderr",
       "text": [
        "\r",
        "[106 %] elapsed[sec]: 0.033 | ETA[sec]: -0.002 "
       ]
      },
      {
       "output_type": "stream",
       "stream": "stderr",
       "text": [
        "\r",
        "[119 %] elapsed[sec]: 0.035 | ETA[sec]: -0.006 "
       ]
      },
      {
       "output_type": "stream",
       "stream": "stderr",
       "text": [
        "\r",
        "[133 %] elapsed[sec]: 0.036 | ETA[sec]: -0.009 "
       ]
      },
      {
       "output_type": "stream",
       "stream": "stderr",
       "text": [
        "\r",
        "[148 %] elapsed[sec]: 0.038 | ETA[sec]: -0.012 "
       ]
      },
      {
       "output_type": "stream",
       "stream": "stderr",
       "text": [
        "\r",
        "[164 %] elapsed[sec]: 0.040 | ETA[sec]: -0.015 "
       ]
      },
      {
       "output_type": "stream",
       "stream": "stderr",
       "text": [
        "\r",
        "[180 %] elapsed[sec]: 0.042 | ETA[sec]: -0.019 "
       ]
      },
      {
       "output_type": "stream",
       "stream": "stderr",
       "text": [
        "\r",
        "[197 %] elapsed[sec]: 0.044 | ETA[sec]: -0.022 "
       ]
      },
      {
       "output_type": "stream",
       "stream": "stderr",
       "text": [
        "\r",
        "[215 %] elapsed[sec]: 0.047 | ETA[sec]: -0.025 "
       ]
      },
      {
       "output_type": "stream",
       "stream": "stderr",
       "text": [
        "\r",
        "[234 %] elapsed[sec]: 0.049 | ETA[sec]: -0.028 "
       ]
      },
      {
       "output_type": "stream",
       "stream": "stderr",
       "text": [
        "\r",
        "[253 %] elapsed[sec]: 0.051 | ETA[sec]: -0.031 "
       ]
      },
      {
       "output_type": "stream",
       "stream": "stderr",
       "text": [
        "\r",
        "[274 %] elapsed[sec]: 0.053 | ETA[sec]: -0.034 "
       ]
      },
      {
       "output_type": "stream",
       "stream": "stderr",
       "text": [
        "\r",
        "[295 %] elapsed[sec]: 0.055 | ETA[sec]: -0.036 "
       ]
      },
      {
       "output_type": "stream",
       "stream": "stderr",
       "text": [
        "\r",
        "[317 %] elapsed[sec]: 0.056 | ETA[sec]: -0.039 "
       ]
      },
      {
       "output_type": "stream",
       "stream": "stderr",
       "text": [
        "\r",
        "[339 %] elapsed[sec]: 0.058 | ETA[sec]: -0.041 "
       ]
      },
      {
       "output_type": "stream",
       "stream": "stderr",
       "text": [
        "\r",
        "[363 %] elapsed[sec]: 0.060 | ETA[sec]: -0.043 "
       ]
      },
      {
       "output_type": "stream",
       "stream": "stderr",
       "text": [
        "\r",
        "[387 %] elapsed[sec]: 0.061 | ETA[sec]: -0.046 "
       ]
      },
      {
       "output_type": "stream",
       "stream": "stderr",
       "text": [
        "\r",
        "[412 %] elapsed[sec]: 0.063 | ETA[sec]: -0.048 "
       ]
      },
      {
       "output_type": "stream",
       "stream": "stderr",
       "text": [
        "\r",
        "[438 %] elapsed[sec]: 0.065 | ETA[sec]: -0.050 "
       ]
      },
      {
       "output_type": "stream",
       "stream": "stderr",
       "text": [
        "\r",
        "[464 %] elapsed[sec]: 0.067 | ETA[sec]: -0.053 "
       ]
      },
      {
       "output_type": "stream",
       "stream": "stderr",
       "text": [
        "\r",
        "[492 %] elapsed[sec]: 0.069 | ETA[sec]: -0.055 "
       ]
      },
      {
       "output_type": "stream",
       "stream": "stderr",
       "text": [
        "\r",
        "[520 %] elapsed[sec]: 0.071 | ETA[sec]: -0.057 "
       ]
      },
      {
       "output_type": "stream",
       "stream": "stderr",
       "text": [
        "\r",
        "[549 %] elapsed[sec]: 0.073 | ETA[sec]: -0.060 "
       ]
      },
      {
       "output_type": "stream",
       "stream": "stderr",
       "text": [
        "\r",
        "[578 %] elapsed[sec]: 0.074 | ETA[sec]: -0.062 "
       ]
      },
      {
       "output_type": "stream",
       "stream": "stderr",
       "text": [
        "\r",
        "[609 %] elapsed[sec]: 0.077 | ETA[sec]: -0.064 "
       ]
      },
      {
       "output_type": "stream",
       "stream": "stderr",
       "text": [
        "\r",
        "[640 %] elapsed[sec]: 0.079 | ETA[sec]: -0.067 "
       ]
      },
      {
       "output_type": "stream",
       "stream": "stderr",
       "text": [
        "\r",
        "[672 %] elapsed[sec]: 0.082 | ETA[sec]: -0.069 "
       ]
      },
      {
       "output_type": "stream",
       "stream": "stderr",
       "text": [
        "\r",
        "[705 %] elapsed[sec]: 0.083 | ETA[sec]: -0.071 "
       ]
      },
      {
       "output_type": "stream",
       "stream": "stderr",
       "text": [
        "\r",
        "[739 %] elapsed[sec]: 0.085 | ETA[sec]: -0.073 "
       ]
      },
      {
       "output_type": "stream",
       "stream": "stderr",
       "text": [
        "\r",
        "[773 %] elapsed[sec]: 0.087 | ETA[sec]: -0.075 "
       ]
      },
      {
       "output_type": "stream",
       "stream": "stderr",
       "text": [
        "\r",
        "[808 %] elapsed[sec]: 0.088 | ETA[sec]: -0.077 "
       ]
      },
      {
       "output_type": "stream",
       "stream": "stderr",
       "text": [
        "\r",
        "[844 %] elapsed[sec]: 0.090 | ETA[sec]: -0.079 "
       ]
      },
      {
       "output_type": "stream",
       "stream": "stderr",
       "text": [
        "\r",
        "[881 %] elapsed[sec]: 0.091 | ETA[sec]: -0.081 "
       ]
      },
      {
       "output_type": "stream",
       "stream": "stderr",
       "text": [
        "\r",
        "[918 %] elapsed[sec]: 0.093 | ETA[sec]: -0.083 "
       ]
      },
      {
       "output_type": "stream",
       "stream": "stderr",
       "text": [
        "\r",
        "[957 %] elapsed[sec]: 0.095 | ETA[sec]: -0.085 "
       ]
      },
      {
       "output_type": "stream",
       "stream": "stderr",
       "text": [
        "\r",
        "[996 %] elapsed[sec]: 0.097 | ETA[sec]: -0.087 "
       ]
      },
      {
       "output_type": "stream",
       "stream": "stderr",
       "text": [
        "\r",
        "[1035 %] elapsed[sec]: 0.099 | ETA[sec]: -0.090 "
       ]
      },
      {
       "output_type": "stream",
       "stream": "stderr",
       "text": [
        "\r",
        "[1076 %] elapsed[sec]: 0.101 | ETA[sec]: -0.092 "
       ]
      },
      {
       "output_type": "stream",
       "stream": "stderr",
       "text": [
        "\r",
        "[1117 %] elapsed[sec]: 0.102 | ETA[sec]: -0.093 "
       ]
      },
      {
       "output_type": "stream",
       "stream": "stderr",
       "text": [
        "\r",
        "[1160 %] elapsed[sec]: 0.104 | ETA[sec]: -0.095 "
       ]
      },
      {
       "output_type": "stream",
       "stream": "stderr",
       "text": [
        "\r",
        "[1203 %] elapsed[sec]: 0.106 | ETA[sec]: -0.097 "
       ]
      },
      {
       "output_type": "stream",
       "stream": "stderr",
       "text": [
        "\r",
        "[1246 %] elapsed[sec]: 0.107 | ETA[sec]: -0.099 "
       ]
      },
      {
       "output_type": "stream",
       "stream": "stderr",
       "text": [
        "\r",
        "[1291 %] elapsed[sec]: 0.109 | ETA[sec]: -0.101 "
       ]
      },
      {
       "output_type": "stream",
       "stream": "stderr",
       "text": [
        "\r",
        "[1336 %] elapsed[sec]: 0.111 | ETA[sec]: -0.102 "
       ]
      },
      {
       "output_type": "stream",
       "stream": "stderr",
       "text": [
        "\r",
        "[1382 %] elapsed[sec]: 0.112 | ETA[sec]: -0.104 "
       ]
      },
      {
       "output_type": "stream",
       "stream": "stderr",
       "text": [
        "\r",
        "[1429 %] elapsed[sec]: 0.114 | ETA[sec]: -0.106 "
       ]
      },
      {
       "output_type": "stream",
       "stream": "stderr",
       "text": [
        "\r",
        "[1477 %] elapsed[sec]: 0.115 | ETA[sec]: -0.108 "
       ]
      },
      {
       "output_type": "stream",
       "stream": "stderr",
       "text": [
        "\r",
        "[1525 %] elapsed[sec]: 0.117 | ETA[sec]: -0.109 "
       ]
      },
      {
       "output_type": "stream",
       "stream": "stderr",
       "text": [
        "\r",
        "[1575 %] elapsed[sec]: 0.119 | ETA[sec]: -0.112 "
       ]
      },
      {
       "output_type": "stream",
       "stream": "stderr",
       "text": [
        "\r",
        "[1625 %] elapsed[sec]: 0.121 | ETA[sec]: -0.114 "
       ]
      },
      {
       "output_type": "stream",
       "stream": "stderr",
       "text": [
        "\r",
        "[1675 %] elapsed[sec]: 0.123 | ETA[sec]: -0.116 "
       ]
      },
      {
       "output_type": "stream",
       "stream": "stderr",
       "text": [
        "\r",
        "[1727 %] elapsed[sec]: 0.125 | ETA[sec]: -0.118 "
       ]
      },
      {
       "output_type": "stream",
       "stream": "stderr",
       "text": [
        "\r",
        "[1779 %] elapsed[sec]: 0.127 | ETA[sec]: -0.120 "
       ]
      },
      {
       "output_type": "stream",
       "stream": "stderr",
       "text": [
        "\r",
        "[1832 %] elapsed[sec]: 0.129 | ETA[sec]: -0.122 "
       ]
      },
      {
       "output_type": "stream",
       "stream": "stderr",
       "text": [
        "\r",
        "[1886 %] elapsed[sec]: 0.131 | ETA[sec]: -0.124 "
       ]
      },
      {
       "output_type": "stream",
       "stream": "stderr",
       "text": [
        "\r",
        "[1941 %] elapsed[sec]: 0.133 | ETA[sec]: -0.126 "
       ]
      },
      {
       "output_type": "stream",
       "stream": "stderr",
       "text": [
        "\r",
        "[1996 %] elapsed[sec]: 0.134 | ETA[sec]: -0.127 "
       ]
      },
      {
       "output_type": "stream",
       "stream": "stderr",
       "text": [
        "\r",
        "[2053 %] elapsed[sec]: 0.136 | ETA[sec]: -0.129 "
       ]
      },
      {
       "output_type": "stream",
       "stream": "stderr",
       "text": [
        "\r",
        "[2110 %] elapsed[sec]: 0.138 | ETA[sec]: -0.131 "
       ]
      },
      {
       "output_type": "stream",
       "stream": "stderr",
       "text": [
        "\r",
        "[2167 %] elapsed[sec]: 0.139 | ETA[sec]: -0.133 "
       ]
      },
      {
       "output_type": "stream",
       "stream": "stderr",
       "text": [
        "\r",
        "[2226 %] elapsed[sec]: 0.141 | ETA[sec]: -0.135 "
       ]
      },
      {
       "output_type": "stream",
       "stream": "stderr",
       "text": [
        "\r",
        "[2285 %] elapsed[sec]: 0.143 | ETA[sec]: -0.137 "
       ]
      },
      {
       "output_type": "stream",
       "stream": "stderr",
       "text": [
        "\r",
        "[2346 %] elapsed[sec]: 0.145 | ETA[sec]: -0.138 "
       ]
      },
      {
       "output_type": "stream",
       "stream": "stderr",
       "text": [
        "\r",
        "[2407 %] elapsed[sec]: 0.146 | ETA[sec]: -0.140 "
       ]
      },
      {
       "output_type": "stream",
       "stream": "stderr",
       "text": [
        "\r",
        "[2468 %] elapsed[sec]: 0.148 | ETA[sec]: -0.142 "
       ]
      },
      {
       "output_type": "stream",
       "stream": "stderr",
       "text": [
        "\r",
        "[2531 %] elapsed[sec]: 0.149 | ETA[sec]: -0.144 "
       ]
      },
      {
       "output_type": "stream",
       "stream": "stderr",
       "text": [
        "\r",
        "[2594 %] elapsed[sec]: 0.151 | ETA[sec]: -0.145 "
       ]
      },
      {
       "output_type": "stream",
       "stream": "stderr",
       "text": [
        "\r",
        "[2658 %] elapsed[sec]: 0.154 | ETA[sec]: -0.148 "
       ]
      },
      {
       "output_type": "stream",
       "stream": "stderr",
       "text": [
        "\r",
        "[2723 %] elapsed[sec]: 0.156 | ETA[sec]: -0.151 "
       ]
      },
      {
       "output_type": "stream",
       "stream": "stderr",
       "text": [
        "\r",
        "[2789 %] elapsed[sec]: 0.159 | ETA[sec]: -0.153 "
       ]
      },
      {
       "output_type": "stream",
       "stream": "stderr",
       "text": [
        "\r",
        "[2855 %] elapsed[sec]: 0.161 | ETA[sec]: -0.155 "
       ]
      },
      {
       "output_type": "stream",
       "stream": "stderr",
       "text": [
        "\r",
        "[2922 %] elapsed[sec]: 0.163 | ETA[sec]: -0.157 "
       ]
      },
      {
       "output_type": "stream",
       "stream": "stderr",
       "text": [
        "\r",
        "[2990 %] elapsed[sec]: 0.165 | ETA[sec]: -0.159 "
       ]
      },
      {
       "output_type": "stream",
       "stream": "stderr",
       "text": [
        "\r",
        "[3059 %] elapsed[sec]: 0.166 | ETA[sec]: -0.161 "
       ]
      },
      {
       "output_type": "stream",
       "stream": "stderr",
       "text": [
        "\r",
        "[3128 %] elapsed[sec]: 0.168 | ETA[sec]: -0.163 "
       ]
      },
      {
       "output_type": "stream",
       "stream": "stderr",
       "text": [
        "\r",
        "[3199 %] elapsed[sec]: 0.170 | ETA[sec]: -0.165 "
       ]
      },
      {
       "output_type": "stream",
       "stream": "stderr",
       "text": [
        "\r",
        "[3270 %] elapsed[sec]: 0.171 | ETA[sec]: -0.166 "
       ]
      },
      {
       "output_type": "stream",
       "stream": "stderr",
       "text": [
        "\r",
        "[3342 %] elapsed[sec]: 0.173 | ETA[sec]: -0.168 "
       ]
      },
      {
       "output_type": "stream",
       "stream": "stderr",
       "text": [
        "\r",
        "[3414 %] elapsed[sec]: 0.175 | ETA[sec]: -0.170 "
       ]
      },
      {
       "output_type": "stream",
       "stream": "stderr",
       "text": [
        "\r",
        "[3488 %] elapsed[sec]: 0.177 | ETA[sec]: -0.172 "
       ]
      },
      {
       "output_type": "stream",
       "stream": "stderr",
       "text": [
        "\r",
        "[3562 %] elapsed[sec]: 0.179 | ETA[sec]: -0.174 "
       ]
      },
      {
       "output_type": "stream",
       "stream": "stderr",
       "text": [
        "\r",
        "[3637 %] elapsed[sec]: 0.181 | ETA[sec]: -0.176 "
       ]
      },
      {
       "output_type": "stream",
       "stream": "stderr",
       "text": [
        "\r",
        "[3713 %] elapsed[sec]: 0.182 | ETA[sec]: -0.177 "
       ]
      },
      {
       "output_type": "stream",
       "stream": "stderr",
       "text": [
        "\r",
        "[3789 %] elapsed[sec]: 0.184 | ETA[sec]: -0.179 "
       ]
      },
      {
       "output_type": "stream",
       "stream": "stderr",
       "text": [
        "\r",
        "[3867 %] elapsed[sec]: 0.186 | ETA[sec]: -0.181 "
       ]
      },
      {
       "output_type": "stream",
       "stream": "stderr",
       "text": [
        "\r",
        "[3945 %] elapsed[sec]: 0.187 | ETA[sec]: -0.183 "
       ]
      },
      {
       "output_type": "stream",
       "stream": "stderr",
       "text": [
        "\r",
        "[4024 %] elapsed[sec]: 0.189 | ETA[sec]: -0.184 "
       ]
      },
      {
       "output_type": "stream",
       "stream": "stderr",
       "text": [
        "\r",
        "[4103 %] elapsed[sec]: 0.191 | ETA[sec]: -0.186 "
       ]
      },
      {
       "output_type": "stream",
       "stream": "stderr",
       "text": [
        "\r",
        "[4184 %] elapsed[sec]: 0.192 | ETA[sec]: -0.188 "
       ]
      },
      {
       "output_type": "stream",
       "stream": "stderr",
       "text": [
        "\r",
        "[4265 %] elapsed[sec]: 0.194 | ETA[sec]: -0.189 "
       ]
      },
      {
       "output_type": "stream",
       "stream": "stderr",
       "text": [
        "\r",
        "[4347 %] elapsed[sec]: 0.196 | ETA[sec]: -0.191 "
       ]
      },
      {
       "output_type": "stream",
       "stream": "stderr",
       "text": [
        "\r",
        "[4430 %] elapsed[sec]: 0.197 | ETA[sec]: -0.193 "
       ]
      },
      {
       "output_type": "stream",
       "stream": "stderr",
       "text": [
        "\r",
        "[4514 %] elapsed[sec]: 0.199 | ETA[sec]: -0.194 "
       ]
      },
      {
       "output_type": "stream",
       "stream": "stderr",
       "text": [
        "\r",
        "[4598 %] elapsed[sec]: 0.200 | ETA[sec]: -0.196 "
       ]
      },
      {
       "output_type": "stream",
       "stream": "stderr",
       "text": [
        "\r",
        "[4683 %] elapsed[sec]: 0.202 | ETA[sec]: -0.198 "
       ]
      },
      {
       "output_type": "stream",
       "stream": "stderr",
       "text": [
        "\r",
        "[4769 %] elapsed[sec]: 0.204 | ETA[sec]: -0.199 "
       ]
      },
      {
       "output_type": "stream",
       "stream": "stderr",
       "text": [
        "\r",
        "[4856 %] elapsed[sec]: 0.205 | ETA[sec]: -0.201 "
       ]
      },
      {
       "output_type": "stream",
       "stream": "stderr",
       "text": [
        "\r",
        "[4943 %] elapsed[sec]: 0.207 | ETA[sec]: -0.203 "
       ]
      },
      {
       "output_type": "stream",
       "stream": "stderr",
       "text": [
        "\r",
        "[5032 %] elapsed[sec]: 0.210 | ETA[sec]: -0.205 "
       ]
      },
      {
       "output_type": "stream",
       "stream": "stderr",
       "text": [
        "\r",
        "[5121 %] elapsed[sec]: 0.212 | ETA[sec]: -0.208 "
       ]
      },
      {
       "output_type": "stream",
       "stream": "stderr",
       "text": [
        "\r",
        "[5210 %] elapsed[sec]: 0.214 | ETA[sec]: -0.210 "
       ]
      },
      {
       "output_type": "stream",
       "stream": "stderr",
       "text": [
        "\r",
        "[5301 %] elapsed[sec]: 0.216 | ETA[sec]: -0.212 "
       ]
      },
      {
       "output_type": "stream",
       "stream": "stderr",
       "text": [
        "\r",
        "[5392 %] elapsed[sec]: 0.219 | ETA[sec]: -0.215 "
       ]
      },
      {
       "output_type": "stream",
       "stream": "stderr",
       "text": [
        "\r",
        "[5485 %] elapsed[sec]: 0.220 | ETA[sec]: -0.216 "
       ]
      },
      {
       "output_type": "stream",
       "stream": "stderr",
       "text": [
        "\r",
        "[5578 %] elapsed[sec]: 0.222 | ETA[sec]: -0.218 "
       ]
      },
      {
       "output_type": "stream",
       "stream": "stderr",
       "text": [
        "\r",
        "[5671 %] elapsed[sec]: 0.224 | ETA[sec]: -0.220 "
       ]
      },
      {
       "output_type": "stream",
       "stream": "stderr",
       "text": [
        "\r",
        "[5766 %] elapsed[sec]: 0.226 | ETA[sec]: -0.222 "
       ]
      },
      {
       "output_type": "stream",
       "stream": "stderr",
       "text": [
        "\r",
        "[5861 %] elapsed[sec]: 0.228 | ETA[sec]: -0.224 "
       ]
      },
      {
       "output_type": "stream",
       "stream": "stderr",
       "text": [
        "\r",
        "[5957 %] elapsed[sec]: 0.229 | ETA[sec]: -0.225 "
       ]
      },
      {
       "output_type": "stream",
       "stream": "stderr",
       "text": [
        "\r",
        "[6054 %] elapsed[sec]: 0.231 | ETA[sec]: -0.227 "
       ]
      },
      {
       "output_type": "stream",
       "stream": "stderr",
       "text": [
        "\r",
        "[6152 %] elapsed[sec]: 0.232 | ETA[sec]: -0.229 "
       ]
      },
      {
       "output_type": "stream",
       "stream": "stderr",
       "text": [
        "\r",
        "[6250 %] elapsed[sec]: 0.234 | ETA[sec]: -0.230 "
       ]
      },
      {
       "output_type": "stream",
       "stream": "stderr",
       "text": [
        "\r",
        "[6350 %] elapsed[sec]: 0.236 | ETA[sec]: -0.232 "
       ]
      },
      {
       "output_type": "stream",
       "stream": "stdout",
       "text": [
        "\n",
        "Title: \n",
        "                      Started: 09/22/2014 17:23:37\n",
        "                      Finished: 09/22/2014 17:23:38\n",
        "                      Total time elapsed: 0.000 sec"
       ]
      },
      {
       "output_type": "stream",
       "stream": "stderr",
       "text": [
        "\r",
        "[  0 %] elapsed[sec]: 0.000"
       ]
      },
      {
       "output_type": "stream",
       "stream": "stdout",
       "text": [
        "\n",
        "Saving sequence results/color-energy_contrast-2_0.webm"
       ]
      },
      {
       "output_type": "stream",
       "stream": "stderr",
       "text": [
        "\r",
        "[  0 %] elapsed[sec]: 0.003 | ETA[sec]: 0.359 "
       ]
      },
      {
       "output_type": "stream",
       "stream": "stderr",
       "text": [
        "\r",
        "[  2 %] elapsed[sec]: 0.005 | ETA[sec]: 0.215 "
       ]
      },
      {
       "output_type": "stream",
       "stream": "stderr",
       "text": [
        "\r",
        "[  4 %] elapsed[sec]: 0.008 | ETA[sec]: 0.155 "
       ]
      },
      {
       "output_type": "stream",
       "stream": "stderr",
       "text": [
        "\r",
        "[  7 %] elapsed[sec]: 0.010 | ETA[sec]: 0.120 "
       ]
      },
      {
       "output_type": "stream",
       "stream": "stderr",
       "text": [
        "\r",
        "[ 11 %] elapsed[sec]: 0.013 | ETA[sec]: 0.100 "
       ]
      },
      {
       "output_type": "stream",
       "stream": "stderr",
       "text": [
        "\r",
        "[ 16 %] elapsed[sec]: 0.016 | ETA[sec]: 0.084 "
       ]
      },
      {
       "output_type": "stream",
       "stream": "stderr",
       "text": [
        "\r",
        "[ 21 %] elapsed[sec]: 0.019 | ETA[sec]: 0.070 "
       ]
      },
      {
       "output_type": "stream",
       "stream": "stderr",
       "text": [
        "\r",
        "[ 28 %] elapsed[sec]: 0.023 | ETA[sec]: 0.058 "
       ]
      },
      {
       "output_type": "stream",
       "stream": "stderr",
       "text": [
        "\r",
        "[ 35 %] elapsed[sec]: 0.026 | ETA[sec]: 0.048 "
       ]
      },
      {
       "output_type": "stream",
       "stream": "stderr",
       "text": [
        "\r",
        "[ 42 %] elapsed[sec]: 0.029 | ETA[sec]: 0.038 "
       ]
      },
      {
       "output_type": "stream",
       "stream": "stderr",
       "text": [
        "\r",
        "[ 51 %] elapsed[sec]: 0.032 | ETA[sec]: 0.030 "
       ]
      },
      {
       "output_type": "stream",
       "stream": "stderr",
       "text": [
        "\r",
        "[ 60 %] elapsed[sec]: 0.034 | ETA[sec]: 0.022 "
       ]
      },
      {
       "output_type": "stream",
       "stream": "stderr",
       "text": [
        "\r",
        "[ 71 %] elapsed[sec]: 0.036 | ETA[sec]: 0.015 "
       ]
      },
      {
       "output_type": "stream",
       "stream": "stderr",
       "text": [
        "\r",
        "[ 82 %] elapsed[sec]: 0.039 | ETA[sec]: 0.008 "
       ]
      },
      {
       "output_type": "stream",
       "stream": "stderr",
       "text": [
        "\r",
        "[ 93 %] elapsed[sec]: 0.041 | ETA[sec]: 0.003 "
       ]
      },
      {
       "output_type": "stream",
       "stream": "stderr",
       "text": [
        "\r",
        "[106 %] elapsed[sec]: 0.043 | ETA[sec]: -0.003 "
       ]
      },
      {
       "output_type": "stream",
       "stream": "stderr",
       "text": [
        "\r",
        "[119 %] elapsed[sec]: 0.046 | ETA[sec]: -0.007 "
       ]
      },
      {
       "output_type": "stream",
       "stream": "stderr",
       "text": [
        "\r",
        "[133 %] elapsed[sec]: 0.048 | ETA[sec]: -0.012 "
       ]
      },
      {
       "output_type": "stream",
       "stream": "stderr",
       "text": [
        "\r",
        "[148 %] elapsed[sec]: 0.051 | ETA[sec]: -0.017 "
       ]
      },
      {
       "output_type": "stream",
       "stream": "stderr",
       "text": [
        "\r",
        "[164 %] elapsed[sec]: 0.053 | ETA[sec]: -0.021 "
       ]
      },
      {
       "output_type": "stream",
       "stream": "stderr",
       "text": [
        "\r",
        "[180 %] elapsed[sec]: 0.056 | ETA[sec]: -0.025 "
       ]
      },
      {
       "output_type": "stream",
       "stream": "stderr",
       "text": [
        "\r",
        "[197 %] elapsed[sec]: 0.059 | ETA[sec]: -0.029 "
       ]
      },
      {
       "output_type": "stream",
       "stream": "stderr",
       "text": [
        "\r",
        "[215 %] elapsed[sec]: 0.061 | ETA[sec]: -0.033 "
       ]
      },
      {
       "output_type": "stream",
       "stream": "stderr",
       "text": [
        "\r",
        "[234 %] elapsed[sec]: 0.064 | ETA[sec]: -0.037 "
       ]
      },
      {
       "output_type": "stream",
       "stream": "stderr",
       "text": [
        "\r",
        "[253 %] elapsed[sec]: 0.067 | ETA[sec]: -0.041 "
       ]
      },
      {
       "output_type": "stream",
       "stream": "stderr",
       "text": [
        "\r",
        "[274 %] elapsed[sec]: 0.070 | ETA[sec]: -0.045 "
       ]
      },
      {
       "output_type": "stream",
       "stream": "stderr",
       "text": [
        "\r",
        "[295 %] elapsed[sec]: 0.073 | ETA[sec]: -0.048 "
       ]
      },
      {
       "output_type": "stream",
       "stream": "stderr",
       "text": [
        "\r",
        "[317 %] elapsed[sec]: 0.075 | ETA[sec]: -0.051 "
       ]
      },
      {
       "output_type": "stream",
       "stream": "stderr",
       "text": [
        "\r",
        "[339 %] elapsed[sec]: 0.077 | ETA[sec]: -0.054 "
       ]
      },
      {
       "output_type": "stream",
       "stream": "stderr",
       "text": [
        "\r",
        "[363 %] elapsed[sec]: 0.080 | ETA[sec]: -0.058 "
       ]
      },
      {
       "output_type": "stream",
       "stream": "stderr",
       "text": [
        "\r",
        "[387 %] elapsed[sec]: 0.083 | ETA[sec]: -0.061 "
       ]
      },
      {
       "output_type": "stream",
       "stream": "stderr",
       "text": [
        "\r",
        "[412 %] elapsed[sec]: 0.086 | ETA[sec]: -0.065 "
       ]
      },
      {
       "output_type": "stream",
       "stream": "stderr",
       "text": [
        "\r",
        "[438 %] elapsed[sec]: 0.089 | ETA[sec]: -0.069 "
       ]
      },
      {
       "output_type": "stream",
       "stream": "stderr",
       "text": [
        "\r",
        "[464 %] elapsed[sec]: 0.092 | ETA[sec]: -0.072 "
       ]
      },
      {
       "output_type": "stream",
       "stream": "stderr",
       "text": [
        "\r",
        "[492 %] elapsed[sec]: 0.095 | ETA[sec]: -0.076 "
       ]
      },
      {
       "output_type": "stream",
       "stream": "stderr",
       "text": [
        "\r",
        "[520 %] elapsed[sec]: 0.098 | ETA[sec]: -0.079 "
       ]
      },
      {
       "output_type": "stream",
       "stream": "stderr",
       "text": [
        "\r",
        "[549 %] elapsed[sec]: 0.101 | ETA[sec]: -0.082 "
       ]
      },
      {
       "output_type": "stream",
       "stream": "stderr",
       "text": [
        "\r",
        "[578 %] elapsed[sec]: 0.103 | ETA[sec]: -0.085 "
       ]
      },
      {
       "output_type": "stream",
       "stream": "stderr",
       "text": [
        "\r",
        "[609 %] elapsed[sec]: 0.105 | ETA[sec]: -0.088 "
       ]
      },
      {
       "output_type": "stream",
       "stream": "stderr",
       "text": [
        "\r",
        "[640 %] elapsed[sec]: 0.108 | ETA[sec]: -0.091 "
       ]
      },
      {
       "output_type": "stream",
       "stream": "stderr",
       "text": [
        "\r",
        "[672 %] elapsed[sec]: 0.111 | ETA[sec]: -0.094 "
       ]
      },
      {
       "output_type": "stream",
       "stream": "stderr",
       "text": [
        "\r",
        "[705 %] elapsed[sec]: 0.113 | ETA[sec]: -0.097 "
       ]
      },
      {
       "output_type": "stream",
       "stream": "stderr",
       "text": [
        "\r",
        "[739 %] elapsed[sec]: 0.116 | ETA[sec]: -0.100 "
       ]
      },
      {
       "output_type": "stream",
       "stream": "stderr",
       "text": [
        "\r",
        "[773 %] elapsed[sec]: 0.118 | ETA[sec]: -0.103 "
       ]
      },
      {
       "output_type": "stream",
       "stream": "stderr",
       "text": [
        "\r",
        "[808 %] elapsed[sec]: 0.120 | ETA[sec]: -0.105 "
       ]
      },
      {
       "output_type": "stream",
       "stream": "stderr",
       "text": [
        "\r",
        "[844 %] elapsed[sec]: 0.122 | ETA[sec]: -0.108 "
       ]
      },
      {
       "output_type": "stream",
       "stream": "stderr",
       "text": [
        "\r",
        "[881 %] elapsed[sec]: 0.125 | ETA[sec]: -0.110 "
       ]
      },
      {
       "output_type": "stream",
       "stream": "stderr",
       "text": [
        "\r",
        "[918 %] elapsed[sec]: 0.128 | ETA[sec]: -0.114 "
       ]
      },
      {
       "output_type": "stream",
       "stream": "stderr",
       "text": [
        "\r",
        "[957 %] elapsed[sec]: 0.131 | ETA[sec]: -0.117 "
       ]
      },
      {
       "output_type": "stream",
       "stream": "stderr",
       "text": [
        "\r",
        "[996 %] elapsed[sec]: 0.134 | ETA[sec]: -0.120 "
       ]
      },
      {
       "output_type": "stream",
       "stream": "stderr",
       "text": [
        "\r",
        "[1035 %] elapsed[sec]: 0.136 | ETA[sec]: -0.123 "
       ]
      },
      {
       "output_type": "stream",
       "stream": "stderr",
       "text": [
        "\r",
        "[1076 %] elapsed[sec]: 0.139 | ETA[sec]: -0.126 "
       ]
      },
      {
       "output_type": "stream",
       "stream": "stderr",
       "text": [
        "\r",
        "[1117 %] elapsed[sec]: 0.141 | ETA[sec]: -0.128 "
       ]
      },
      {
       "output_type": "stream",
       "stream": "stderr",
       "text": [
        "\r",
        "[1160 %] elapsed[sec]: 0.143 | ETA[sec]: -0.131 "
       ]
      },
      {
       "output_type": "stream",
       "stream": "stderr",
       "text": [
        "\r",
        "[1203 %] elapsed[sec]: 0.146 | ETA[sec]: -0.134 "
       ]
      },
      {
       "output_type": "stream",
       "stream": "stderr",
       "text": [
        "\r",
        "[1246 %] elapsed[sec]: 0.148 | ETA[sec]: -0.137 "
       ]
      },
      {
       "output_type": "stream",
       "stream": "stderr",
       "text": [
        "\r",
        "[1291 %] elapsed[sec]: 0.151 | ETA[sec]: -0.139 "
       ]
      },
      {
       "output_type": "stream",
       "stream": "stderr",
       "text": [
        "\r",
        "[1336 %] elapsed[sec]: 0.153 | ETA[sec]: -0.142 "
       ]
      },
      {
       "output_type": "stream",
       "stream": "stderr",
       "text": [
        "\r",
        "[1382 %] elapsed[sec]: 0.156 | ETA[sec]: -0.145 "
       ]
      },
      {
       "output_type": "stream",
       "stream": "stderr",
       "text": [
        "\r",
        "[1429 %] elapsed[sec]: 0.158 | ETA[sec]: -0.147 "
       ]
      },
      {
       "output_type": "stream",
       "stream": "stderr",
       "text": [
        "\r",
        "[1477 %] elapsed[sec]: 0.161 | ETA[sec]: -0.150 "
       ]
      },
      {
       "output_type": "stream",
       "stream": "stderr",
       "text": [
        "\r",
        "[1525 %] elapsed[sec]: 0.163 | ETA[sec]: -0.153 "
       ]
      },
      {
       "output_type": "stream",
       "stream": "stderr",
       "text": [
        "\r",
        "[1575 %] elapsed[sec]: 0.166 | ETA[sec]: -0.155 "
       ]
      },
      {
       "output_type": "stream",
       "stream": "stderr",
       "text": [
        "\r",
        "[1625 %] elapsed[sec]: 0.168 | ETA[sec]: -0.158 "
       ]
      },
      {
       "output_type": "stream",
       "stream": "stderr",
       "text": [
        "\r",
        "[1675 %] elapsed[sec]: 0.171 | ETA[sec]: -0.161 "
       ]
      },
      {
       "output_type": "stream",
       "stream": "stderr",
       "text": [
        "\r",
        "[1727 %] elapsed[sec]: 0.175 | ETA[sec]: -0.165 "
       ]
      },
      {
       "output_type": "stream",
       "stream": "stderr",
       "text": [
        "\r",
        "[1779 %] elapsed[sec]: 0.178 | ETA[sec]: -0.168 "
       ]
      },
      {
       "output_type": "stream",
       "stream": "stderr",
       "text": [
        "\r",
        "[1832 %] elapsed[sec]: 0.180 | ETA[sec]: -0.170 "
       ]
      },
      {
       "output_type": "stream",
       "stream": "stderr",
       "text": [
        "\r",
        "[1886 %] elapsed[sec]: 0.182 | ETA[sec]: -0.173 "
       ]
      },
      {
       "output_type": "stream",
       "stream": "stderr",
       "text": [
        "\r",
        "[1941 %] elapsed[sec]: 0.185 | ETA[sec]: -0.176 "
       ]
      },
      {
       "output_type": "stream",
       "stream": "stderr",
       "text": [
        "\r",
        "[1996 %] elapsed[sec]: 0.189 | ETA[sec]: -0.179 "
       ]
      },
      {
       "output_type": "stream",
       "stream": "stderr",
       "text": [
        "\r",
        "[2053 %] elapsed[sec]: 0.192 | ETA[sec]: -0.182 "
       ]
      },
      {
       "output_type": "stream",
       "stream": "stderr",
       "text": [
        "\r",
        "[2110 %] elapsed[sec]: 0.194 | ETA[sec]: -0.185 "
       ]
      },
      {
       "output_type": "stream",
       "stream": "stderr",
       "text": [
        "\r",
        "[2167 %] elapsed[sec]: 0.196 | ETA[sec]: -0.187 "
       ]
      },
      {
       "output_type": "stream",
       "stream": "stderr",
       "text": [
        "\r",
        "[2226 %] elapsed[sec]: 0.199 | ETA[sec]: -0.190 "
       ]
      },
      {
       "output_type": "stream",
       "stream": "stderr",
       "text": [
        "\r",
        "[2285 %] elapsed[sec]: 0.201 | ETA[sec]: -0.193 "
       ]
      },
      {
       "output_type": "stream",
       "stream": "stderr",
       "text": [
        "\r",
        "[2346 %] elapsed[sec]: 0.204 | ETA[sec]: -0.195 "
       ]
      },
      {
       "output_type": "stream",
       "stream": "stderr",
       "text": [
        "\r",
        "[2407 %] elapsed[sec]: 0.206 | ETA[sec]: -0.198 "
       ]
      },
      {
       "output_type": "stream",
       "stream": "stderr",
       "text": [
        "\r",
        "[2468 %] elapsed[sec]: 0.209 | ETA[sec]: -0.200 "
       ]
      },
      {
       "output_type": "stream",
       "stream": "stderr",
       "text": [
        "\r",
        "[2531 %] elapsed[sec]: 0.211 | ETA[sec]: -0.203 "
       ]
      },
      {
       "output_type": "stream",
       "stream": "stderr",
       "text": [
        "\r",
        "[2594 %] elapsed[sec]: 0.214 | ETA[sec]: -0.206 "
       ]
      },
      {
       "output_type": "stream",
       "stream": "stderr",
       "text": [
        "\r",
        "[2658 %] elapsed[sec]: 0.216 | ETA[sec]: -0.208 "
       ]
      },
      {
       "output_type": "stream",
       "stream": "stderr",
       "text": [
        "\r",
        "[2723 %] elapsed[sec]: 0.219 | ETA[sec]: -0.211 "
       ]
      },
      {
       "output_type": "stream",
       "stream": "stderr",
       "text": [
        "\r",
        "[2789 %] elapsed[sec]: 0.221 | ETA[sec]: -0.213 "
       ]
      },
      {
       "output_type": "stream",
       "stream": "stderr",
       "text": [
        "\r",
        "[2855 %] elapsed[sec]: 0.223 | ETA[sec]: -0.215 "
       ]
      },
      {
       "output_type": "stream",
       "stream": "stderr",
       "text": [
        "\r",
        "[2922 %] elapsed[sec]: 0.226 | ETA[sec]: -0.218 "
       ]
      },
      {
       "output_type": "stream",
       "stream": "stderr",
       "text": [
        "\r",
        "[2990 %] elapsed[sec]: 0.228 | ETA[sec]: -0.221 "
       ]
      },
      {
       "output_type": "stream",
       "stream": "stderr",
       "text": [
        "\r",
        "[3059 %] elapsed[sec]: 0.231 | ETA[sec]: -0.224 "
       ]
      },
      {
       "output_type": "stream",
       "stream": "stderr",
       "text": [
        "\r",
        "[3128 %] elapsed[sec]: 0.235 | ETA[sec]: -0.227 "
       ]
      },
      {
       "output_type": "stream",
       "stream": "stderr",
       "text": [
        "\r",
        "[3199 %] elapsed[sec]: 0.238 | ETA[sec]: -0.231 "
       ]
      },
      {
       "output_type": "stream",
       "stream": "stderr",
       "text": [
        "\r",
        "[3270 %] elapsed[sec]: 0.241 | ETA[sec]: -0.233 "
       ]
      },
      {
       "output_type": "stream",
       "stream": "stderr",
       "text": [
        "\r",
        "[3342 %] elapsed[sec]: 0.243 | ETA[sec]: -0.236 "
       ]
      },
      {
       "output_type": "stream",
       "stream": "stderr",
       "text": [
        "\r",
        "[3414 %] elapsed[sec]: 0.246 | ETA[sec]: -0.239 "
       ]
      },
      {
       "output_type": "stream",
       "stream": "stderr",
       "text": [
        "\r",
        "[3488 %] elapsed[sec]: 0.249 | ETA[sec]: -0.242 "
       ]
      },
      {
       "output_type": "stream",
       "stream": "stderr",
       "text": [
        "\r",
        "[3562 %] elapsed[sec]: 0.251 | ETA[sec]: -0.244 "
       ]
      },
      {
       "output_type": "stream",
       "stream": "stderr",
       "text": [
        "\r",
        "[3637 %] elapsed[sec]: 0.253 | ETA[sec]: -0.246 "
       ]
      },
      {
       "output_type": "stream",
       "stream": "stderr",
       "text": [
        "\r",
        "[3713 %] elapsed[sec]: 0.255 | ETA[sec]: -0.249 "
       ]
      },
      {
       "output_type": "stream",
       "stream": "stderr",
       "text": [
        "\r",
        "[3789 %] elapsed[sec]: 0.258 | ETA[sec]: -0.251 "
       ]
      },
      {
       "output_type": "stream",
       "stream": "stderr",
       "text": [
        "\r",
        "[3867 %] elapsed[sec]: 0.260 | ETA[sec]: -0.254 "
       ]
      },
      {
       "output_type": "stream",
       "stream": "stderr",
       "text": [
        "\r",
        "[3945 %] elapsed[sec]: 0.263 | ETA[sec]: -0.256 "
       ]
      },
      {
       "output_type": "stream",
       "stream": "stderr",
       "text": [
        "\r",
        "[4024 %] elapsed[sec]: 0.265 | ETA[sec]: -0.259 "
       ]
      },
      {
       "output_type": "stream",
       "stream": "stderr",
       "text": [
        "\r",
        "[4103 %] elapsed[sec]: 0.267 | ETA[sec]: -0.261 "
       ]
      },
      {
       "output_type": "stream",
       "stream": "stderr",
       "text": [
        "\r",
        "[4184 %] elapsed[sec]: 0.270 | ETA[sec]: -0.263 "
       ]
      },
      {
       "output_type": "stream",
       "stream": "stderr",
       "text": [
        "\r",
        "[4265 %] elapsed[sec]: 0.272 | ETA[sec]: -0.266 "
       ]
      },
      {
       "output_type": "stream",
       "stream": "stderr",
       "text": [
        "\r",
        "[4347 %] elapsed[sec]: 0.274 | ETA[sec]: -0.268 "
       ]
      },
      {
       "output_type": "stream",
       "stream": "stderr",
       "text": [
        "\r",
        "[4430 %] elapsed[sec]: 0.276 | ETA[sec]: -0.270 "
       ]
      },
      {
       "output_type": "stream",
       "stream": "stderr",
       "text": [
        "\r",
        "[4514 %] elapsed[sec]: 0.279 | ETA[sec]: -0.273 "
       ]
      },
      {
       "output_type": "stream",
       "stream": "stderr",
       "text": [
        "\r",
        "[4598 %] elapsed[sec]: 0.281 | ETA[sec]: -0.275 "
       ]
      },
      {
       "output_type": "stream",
       "stream": "stderr",
       "text": [
        "\r",
        "[4683 %] elapsed[sec]: 0.283 | ETA[sec]: -0.277 "
       ]
      },
      {
       "output_type": "stream",
       "stream": "stderr",
       "text": [
        "\r",
        "[4769 %] elapsed[sec]: 0.286 | ETA[sec]: -0.280 "
       ]
      },
      {
       "output_type": "stream",
       "stream": "stderr",
       "text": [
        "\r",
        "[4856 %] elapsed[sec]: 0.288 | ETA[sec]: -0.282 "
       ]
      },
      {
       "output_type": "stream",
       "stream": "stderr",
       "text": [
        "\r",
        "[4943 %] elapsed[sec]: 0.291 | ETA[sec]: -0.285 "
       ]
      },
      {
       "output_type": "stream",
       "stream": "stderr",
       "text": [
        "\r",
        "[5032 %] elapsed[sec]: 0.293 | ETA[sec]: -0.287 "
       ]
      },
      {
       "output_type": "stream",
       "stream": "stderr",
       "text": [
        "\r",
        "[5121 %] elapsed[sec]: 0.295 | ETA[sec]: -0.290 "
       ]
      },
      {
       "output_type": "stream",
       "stream": "stderr",
       "text": [
        "\r",
        "[5210 %] elapsed[sec]: 0.298 | ETA[sec]: -0.292 "
       ]
      },
      {
       "output_type": "stream",
       "stream": "stderr",
       "text": [
        "\r",
        "[5301 %] elapsed[sec]: 0.300 | ETA[sec]: -0.295 "
       ]
      },
      {
       "output_type": "stream",
       "stream": "stderr",
       "text": [
        "\r",
        "[5392 %] elapsed[sec]: 0.303 | ETA[sec]: -0.297 "
       ]
      },
      {
       "output_type": "stream",
       "stream": "stderr",
       "text": [
        "\r",
        "[5485 %] elapsed[sec]: 0.305 | ETA[sec]: -0.299 "
       ]
      },
      {
       "output_type": "stream",
       "stream": "stderr",
       "text": [
        "\r",
        "[5578 %] elapsed[sec]: 0.308 | ETA[sec]: -0.303 "
       ]
      },
      {
       "output_type": "stream",
       "stream": "stderr",
       "text": [
        "\r",
        "[5671 %] elapsed[sec]: 0.311 | ETA[sec]: -0.306 "
       ]
      },
      {
       "output_type": "stream",
       "stream": "stderr",
       "text": [
        "\r",
        "[5766 %] elapsed[sec]: 0.314 | ETA[sec]: -0.309 "
       ]
      },
      {
       "output_type": "stream",
       "stream": "stderr",
       "text": [
        "\r",
        "[5861 %] elapsed[sec]: 0.317 | ETA[sec]: -0.312 "
       ]
      },
      {
       "output_type": "stream",
       "stream": "stderr",
       "text": [
        "\r",
        "[5957 %] elapsed[sec]: 0.319 | ETA[sec]: -0.314 "
       ]
      },
      {
       "output_type": "stream",
       "stream": "stderr",
       "text": [
        "\r",
        "[6054 %] elapsed[sec]: 0.323 | ETA[sec]: -0.317 "
       ]
      },
      {
       "output_type": "stream",
       "stream": "stderr",
       "text": [
        "\r",
        "[6152 %] elapsed[sec]: 0.325 | ETA[sec]: -0.320 "
       ]
      },
      {
       "output_type": "stream",
       "stream": "stderr",
       "text": [
        "\r",
        "[6250 %] elapsed[sec]: 0.327 | ETA[sec]: -0.322 "
       ]
      },
      {
       "output_type": "stream",
       "stream": "stderr",
       "text": [
        "\r",
        "[6350 %] elapsed[sec]: 0.329 | ETA[sec]: -0.324 "
       ]
      },
      {
       "output_type": "stream",
       "stream": "stdout",
       "text": [
        "\n",
        "Title: \n",
        "                      Started: 09/22/2014 17:23:38\n",
        "                      Finished: 09/22/2014 17:23:39\n",
        "                      Total time elapsed: 0.000 sec"
       ]
      },
      {
       "output_type": "stream",
       "stream": "stderr",
       "text": [
        "\r",
        "[  0 %] elapsed[sec]: 0.000"
       ]
      },
      {
       "output_type": "stream",
       "stream": "stdout",
       "text": [
        "\n",
        "Saving sequence results/color-seed-123456.webm"
       ]
      },
      {
       "output_type": "stream",
       "stream": "stderr",
       "text": [
        "\r",
        "[  0 %] elapsed[sec]: 0.002 | ETA[sec]: 0.269 "
       ]
      },
      {
       "output_type": "stream",
       "stream": "stderr",
       "text": [
        "\r",
        "[  2 %] elapsed[sec]: 0.004 | ETA[sec]: 0.178 "
       ]
      },
      {
       "output_type": "stream",
       "stream": "stderr",
       "text": [
        "\r",
        "[  4 %] elapsed[sec]: 0.006 | ETA[sec]: 0.128 "
       ]
      },
      {
       "output_type": "stream",
       "stream": "stderr",
       "text": [
        "\r",
        "[  7 %] elapsed[sec]: 0.008 | ETA[sec]: 0.098 "
       ]
      },
      {
       "output_type": "stream",
       "stream": "stderr",
       "text": [
        "\r",
        "[ 11 %] elapsed[sec]: 0.010 | ETA[sec]: 0.077 "
       ]
      },
      {
       "output_type": "stream",
       "stream": "stderr",
       "text": [
        "\r",
        "[ 16 %] elapsed[sec]: 0.012 | ETA[sec]: 0.060 "
       ]
      },
      {
       "output_type": "stream",
       "stream": "stderr",
       "text": [
        "\r",
        "[ 21 %] elapsed[sec]: 0.013 | ETA[sec]: 0.047 "
       ]
      },
      {
       "output_type": "stream",
       "stream": "stderr",
       "text": [
        "\r",
        "[ 28 %] elapsed[sec]: 0.014 | ETA[sec]: 0.037 "
       ]
      },
      {
       "output_type": "stream",
       "stream": "stderr",
       "text": [
        "\r",
        "[ 35 %] elapsed[sec]: 0.016 | ETA[sec]: 0.029 "
       ]
      },
      {
       "output_type": "stream",
       "stream": "stderr",
       "text": [
        "\r",
        "[ 42 %] elapsed[sec]: 0.017 | ETA[sec]: 0.022 "
       ]
      },
      {
       "output_type": "stream",
       "stream": "stderr",
       "text": [
        "\r",
        "[ 51 %] elapsed[sec]: 0.018 | ETA[sec]: 0.017 "
       ]
      },
      {
       "output_type": "stream",
       "stream": "stderr",
       "text": [
        "\r",
        "[ 60 %] elapsed[sec]: 0.019 | ETA[sec]: 0.012 "
       ]
      },
      {
       "output_type": "stream",
       "stream": "stderr",
       "text": [
        "\r",
        "[ 71 %] elapsed[sec]: 0.020 | ETA[sec]: 0.008 "
       ]
      },
      {
       "output_type": "stream",
       "stream": "stderr",
       "text": [
        "\r",
        "[ 82 %] elapsed[sec]: 0.022 | ETA[sec]: 0.005 "
       ]
      },
      {
       "output_type": "stream",
       "stream": "stderr",
       "text": [
        "\r",
        "[ 93 %] elapsed[sec]: 0.024 | ETA[sec]: 0.002 "
       ]
      },
      {
       "output_type": "stream",
       "stream": "stderr",
       "text": [
        "\r",
        "[106 %] elapsed[sec]: 0.025 | ETA[sec]: -0.001 "
       ]
      },
      {
       "output_type": "stream",
       "stream": "stderr",
       "text": [
        "\r",
        "[119 %] elapsed[sec]: 0.027 | ETA[sec]: -0.004 "
       ]
      },
      {
       "output_type": "stream",
       "stream": "stderr",
       "text": [
        "\r",
        "[133 %] elapsed[sec]: 0.028 | ETA[sec]: -0.007 "
       ]
      },
      {
       "output_type": "stream",
       "stream": "stderr",
       "text": [
        "\r",
        "[148 %] elapsed[sec]: 0.029 | ETA[sec]: -0.010 "
       ]
      },
      {
       "output_type": "stream",
       "stream": "stderr",
       "text": [
        "\r",
        "[164 %] elapsed[sec]: 0.030 | ETA[sec]: -0.012 "
       ]
      },
      {
       "output_type": "stream",
       "stream": "stderr",
       "text": [
        "\r",
        "[180 %] elapsed[sec]: 0.032 | ETA[sec]: -0.014 "
       ]
      },
      {
       "output_type": "stream",
       "stream": "stderr",
       "text": [
        "\r",
        "[197 %] elapsed[sec]: 0.033 | ETA[sec]: -0.016 "
       ]
      },
      {
       "output_type": "stream",
       "stream": "stderr",
       "text": [
        "\r",
        "[215 %] elapsed[sec]: 0.035 | ETA[sec]: -0.019 "
       ]
      },
      {
       "output_type": "stream",
       "stream": "stderr",
       "text": [
        "\r",
        "[234 %] elapsed[sec]: 0.037 | ETA[sec]: -0.021 "
       ]
      },
      {
       "output_type": "stream",
       "stream": "stderr",
       "text": [
        "\r",
        "[253 %] elapsed[sec]: 0.038 | ETA[sec]: -0.023 "
       ]
      },
      {
       "output_type": "stream",
       "stream": "stderr",
       "text": [
        "\r",
        "[274 %] elapsed[sec]: 0.040 | ETA[sec]: -0.025 "
       ]
      },
      {
       "output_type": "stream",
       "stream": "stderr",
       "text": [
        "\r",
        "[295 %] elapsed[sec]: 0.041 | ETA[sec]: -0.027 "
       ]
      },
      {
       "output_type": "stream",
       "stream": "stderr",
       "text": [
        "\r",
        "[317 %] elapsed[sec]: 0.042 | ETA[sec]: -0.029 "
       ]
      },
      {
       "output_type": "stream",
       "stream": "stderr",
       "text": [
        "\r",
        "[339 %] elapsed[sec]: 0.044 | ETA[sec]: -0.031 "
       ]
      },
      {
       "output_type": "stream",
       "stream": "stderr",
       "text": [
        "\r",
        "[363 %] elapsed[sec]: 0.045 | ETA[sec]: -0.033 "
       ]
      },
      {
       "output_type": "stream",
       "stream": "stderr",
       "text": [
        "\r",
        "[387 %] elapsed[sec]: 0.047 | ETA[sec]: -0.035 "
       ]
      },
      {
       "output_type": "stream",
       "stream": "stderr",
       "text": [
        "\r",
        "[412 %] elapsed[sec]: 0.048 | ETA[sec]: -0.037 "
       ]
      },
      {
       "output_type": "stream",
       "stream": "stderr",
       "text": [
        "\r",
        "[438 %] elapsed[sec]: 0.050 | ETA[sec]: -0.039 "
       ]
      },
      {
       "output_type": "stream",
       "stream": "stderr",
       "text": [
        "\r",
        "[464 %] elapsed[sec]: 0.052 | ETA[sec]: -0.041 "
       ]
      },
      {
       "output_type": "stream",
       "stream": "stderr",
       "text": [
        "\r",
        "[492 %] elapsed[sec]: 0.054 | ETA[sec]: -0.043 "
       ]
      },
      {
       "output_type": "stream",
       "stream": "stderr",
       "text": [
        "\r",
        "[520 %] elapsed[sec]: 0.056 | ETA[sec]: -0.045 "
       ]
      },
      {
       "output_type": "stream",
       "stream": "stderr",
       "text": [
        "\r",
        "[549 %] elapsed[sec]: 0.057 | ETA[sec]: -0.047 "
       ]
      },
      {
       "output_type": "stream",
       "stream": "stderr",
       "text": [
        "\r",
        "[578 %] elapsed[sec]: 0.059 | ETA[sec]: -0.049 "
       ]
      },
      {
       "output_type": "stream",
       "stream": "stderr",
       "text": [
        "\r",
        "[609 %] elapsed[sec]: 0.060 | ETA[sec]: -0.050 "
       ]
      },
      {
       "output_type": "stream",
       "stream": "stderr",
       "text": [
        "\r",
        "[640 %] elapsed[sec]: 0.062 | ETA[sec]: -0.052 "
       ]
      },
      {
       "output_type": "stream",
       "stream": "stderr",
       "text": [
        "\r",
        "[672 %] elapsed[sec]: 0.064 | ETA[sec]: -0.054 "
       ]
      },
      {
       "output_type": "stream",
       "stream": "stderr",
       "text": [
        "\r",
        "[705 %] elapsed[sec]: 0.066 | ETA[sec]: -0.056 "
       ]
      },
      {
       "output_type": "stream",
       "stream": "stderr",
       "text": [
        "\r",
        "[739 %] elapsed[sec]: 0.068 | ETA[sec]: -0.059 "
       ]
      },
      {
       "output_type": "stream",
       "stream": "stderr",
       "text": [
        "\r",
        "[773 %] elapsed[sec]: 0.069 | ETA[sec]: -0.060 "
       ]
      },
      {
       "output_type": "stream",
       "stream": "stderr",
       "text": [
        "\r",
        "[808 %] elapsed[sec]: 0.071 | ETA[sec]: -0.062 "
       ]
      },
      {
       "output_type": "stream",
       "stream": "stderr",
       "text": [
        "\r",
        "[844 %] elapsed[sec]: 0.072 | ETA[sec]: -0.063 "
       ]
      },
      {
       "output_type": "stream",
       "stream": "stderr",
       "text": [
        "\r",
        "[881 %] elapsed[sec]: 0.073 | ETA[sec]: -0.065 "
       ]
      },
      {
       "output_type": "stream",
       "stream": "stderr",
       "text": [
        "\r",
        "[918 %] elapsed[sec]: 0.074 | ETA[sec]: -0.066 "
       ]
      },
      {
       "output_type": "stream",
       "stream": "stderr",
       "text": [
        "\r",
        "[957 %] elapsed[sec]: 0.076 | ETA[sec]: -0.068 "
       ]
      },
      {
       "output_type": "stream",
       "stream": "stderr",
       "text": [
        "\r",
        "[996 %] elapsed[sec]: 0.077 | ETA[sec]: -0.069 "
       ]
      },
      {
       "output_type": "stream",
       "stream": "stderr",
       "text": [
        "\r",
        "[1035 %] elapsed[sec]: 0.079 | ETA[sec]: -0.071 "
       ]
      },
      {
       "output_type": "stream",
       "stream": "stderr",
       "text": [
        "\r",
        "[1076 %] elapsed[sec]: 0.080 | ETA[sec]: -0.073 "
       ]
      },
      {
       "output_type": "stream",
       "stream": "stderr",
       "text": [
        "\r",
        "[1117 %] elapsed[sec]: 0.082 | ETA[sec]: -0.074 "
       ]
      },
      {
       "output_type": "stream",
       "stream": "stderr",
       "text": [
        "\r",
        "[1160 %] elapsed[sec]: 0.083 | ETA[sec]: -0.076 "
       ]
      },
      {
       "output_type": "stream",
       "stream": "stderr",
       "text": [
        "\r",
        "[1203 %] elapsed[sec]: 0.084 | ETA[sec]: -0.077 "
       ]
      },
      {
       "output_type": "stream",
       "stream": "stderr",
       "text": [
        "\r",
        "[1246 %] elapsed[sec]: 0.086 | ETA[sec]: -0.079 "
       ]
      },
      {
       "output_type": "stream",
       "stream": "stderr",
       "text": [
        "\r",
        "[1291 %] elapsed[sec]: 0.087 | ETA[sec]: -0.080 "
       ]
      },
      {
       "output_type": "stream",
       "stream": "stderr",
       "text": [
        "\r",
        "[1336 %] elapsed[sec]: 0.089 | ETA[sec]: -0.082 "
       ]
      },
      {
       "output_type": "stream",
       "stream": "stderr",
       "text": [
        "\r",
        "[1382 %] elapsed[sec]: 0.090 | ETA[sec]: -0.084 "
       ]
      },
      {
       "output_type": "stream",
       "stream": "stderr",
       "text": [
        "\r",
        "[1429 %] elapsed[sec]: 0.092 | ETA[sec]: -0.085 "
       ]
      },
      {
       "output_type": "stream",
       "stream": "stderr",
       "text": [
        "\r",
        "[1477 %] elapsed[sec]: 0.093 | ETA[sec]: -0.087 "
       ]
      },
      {
       "output_type": "stream",
       "stream": "stderr",
       "text": [
        "\r",
        "[1525 %] elapsed[sec]: 0.094 | ETA[sec]: -0.088 "
       ]
      },
      {
       "output_type": "stream",
       "stream": "stderr",
       "text": [
        "\r",
        "[1575 %] elapsed[sec]: 0.096 | ETA[sec]: -0.090 "
       ]
      },
      {
       "output_type": "stream",
       "stream": "stderr",
       "text": [
        "\r",
        "[1625 %] elapsed[sec]: 0.097 | ETA[sec]: -0.091 "
       ]
      },
      {
       "output_type": "stream",
       "stream": "stderr",
       "text": [
        "\r",
        "[1675 %] elapsed[sec]: 0.099 | ETA[sec]: -0.093 "
       ]
      },
      {
       "output_type": "stream",
       "stream": "stderr",
       "text": [
        "\r",
        "[1727 %] elapsed[sec]: 0.100 | ETA[sec]: -0.095 "
       ]
      },
      {
       "output_type": "stream",
       "stream": "stderr",
       "text": [
        "\r",
        "[1779 %] elapsed[sec]: 0.102 | ETA[sec]: -0.097 "
       ]
      },
      {
       "output_type": "stream",
       "stream": "stderr",
       "text": [
        "\r",
        "[1832 %] elapsed[sec]: 0.104 | ETA[sec]: -0.098 "
       ]
      },
      {
       "output_type": "stream",
       "stream": "stderr",
       "text": [
        "\r",
        "[1886 %] elapsed[sec]: 0.105 | ETA[sec]: -0.100 "
       ]
      },
      {
       "output_type": "stream",
       "stream": "stderr",
       "text": [
        "\r",
        "[1941 %] elapsed[sec]: 0.107 | ETA[sec]: -0.101 "
       ]
      },
      {
       "output_type": "stream",
       "stream": "stderr",
       "text": [
        "\r",
        "[1996 %] elapsed[sec]: 0.108 | ETA[sec]: -0.102 "
       ]
      },
      {
       "output_type": "stream",
       "stream": "stderr",
       "text": [
        "\r",
        "[2053 %] elapsed[sec]: 0.109 | ETA[sec]: -0.104 "
       ]
      },
      {
       "output_type": "stream",
       "stream": "stderr",
       "text": [
        "\r",
        "[2110 %] elapsed[sec]: 0.111 | ETA[sec]: -0.106 "
       ]
      },
      {
       "output_type": "stream",
       "stream": "stderr",
       "text": [
        "\r",
        "[2167 %] elapsed[sec]: 0.113 | ETA[sec]: -0.108 "
       ]
      },
      {
       "output_type": "stream",
       "stream": "stderr",
       "text": [
        "\r",
        "[2226 %] elapsed[sec]: 0.115 | ETA[sec]: -0.110 "
       ]
      },
      {
       "output_type": "stream",
       "stream": "stderr",
       "text": [
        "\r",
        "[2285 %] elapsed[sec]: 0.117 | ETA[sec]: -0.112 "
       ]
      },
      {
       "output_type": "stream",
       "stream": "stderr",
       "text": [
        "\r",
        "[2346 %] elapsed[sec]: 0.120 | ETA[sec]: -0.115 "
       ]
      },
      {
       "output_type": "stream",
       "stream": "stderr",
       "text": [
        "\r",
        "[2407 %] elapsed[sec]: 0.122 | ETA[sec]: -0.117 "
       ]
      },
      {
       "output_type": "stream",
       "stream": "stderr",
       "text": [
        "\r",
        "[2468 %] elapsed[sec]: 0.124 | ETA[sec]: -0.119 "
       ]
      },
      {
       "output_type": "stream",
       "stream": "stderr",
       "text": [
        "\r",
        "[2531 %] elapsed[sec]: 0.125 | ETA[sec]: -0.120 "
       ]
      },
      {
       "output_type": "stream",
       "stream": "stderr",
       "text": [
        "\r",
        "[2594 %] elapsed[sec]: 0.127 | ETA[sec]: -0.122 "
       ]
      },
      {
       "output_type": "stream",
       "stream": "stderr",
       "text": [
        "\r",
        "[2658 %] elapsed[sec]: 0.130 | ETA[sec]: -0.125 "
       ]
      },
      {
       "output_type": "stream",
       "stream": "stderr",
       "text": [
        "\r",
        "[2723 %] elapsed[sec]: 0.132 | ETA[sec]: -0.127 "
       ]
      },
      {
       "output_type": "stream",
       "stream": "stderr",
       "text": [
        "\r",
        "[2789 %] elapsed[sec]: 0.134 | ETA[sec]: -0.129 "
       ]
      },
      {
       "output_type": "stream",
       "stream": "stderr",
       "text": [
        "\r",
        "[2855 %] elapsed[sec]: 0.136 | ETA[sec]: -0.131 "
       ]
      },
      {
       "output_type": "stream",
       "stream": "stderr",
       "text": [
        "\r",
        "[2922 %] elapsed[sec]: 0.137 | ETA[sec]: -0.132 "
       ]
      },
      {
       "output_type": "stream",
       "stream": "stderr",
       "text": [
        "\r",
        "[2990 %] elapsed[sec]: 0.138 | ETA[sec]: -0.134 "
       ]
      },
      {
       "output_type": "stream",
       "stream": "stderr",
       "text": [
        "\r",
        "[3059 %] elapsed[sec]: 0.140 | ETA[sec]: -0.136 "
       ]
      },
      {
       "output_type": "stream",
       "stream": "stderr",
       "text": [
        "\r",
        "[3128 %] elapsed[sec]: 0.142 | ETA[sec]: -0.137 "
       ]
      },
      {
       "output_type": "stream",
       "stream": "stderr",
       "text": [
        "\r",
        "[3199 %] elapsed[sec]: 0.143 | ETA[sec]: -0.139 "
       ]
      },
      {
       "output_type": "stream",
       "stream": "stderr",
       "text": [
        "\r",
        "[3270 %] elapsed[sec]: 0.145 | ETA[sec]: -0.140 "
       ]
      },
      {
       "output_type": "stream",
       "stream": "stderr",
       "text": [
        "\r",
        "[3342 %] elapsed[sec]: 0.146 | ETA[sec]: -0.142 "
       ]
      },
      {
       "output_type": "stream",
       "stream": "stderr",
       "text": [
        "\r",
        "[3414 %] elapsed[sec]: 0.148 | ETA[sec]: -0.144 "
       ]
      },
      {
       "output_type": "stream",
       "stream": "stderr",
       "text": [
        "\r",
        "[3488 %] elapsed[sec]: 0.150 | ETA[sec]: -0.145 "
       ]
      },
      {
       "output_type": "stream",
       "stream": "stderr",
       "text": [
        "\r",
        "[3562 %] elapsed[sec]: 0.151 | ETA[sec]: -0.147 "
       ]
      },
      {
       "output_type": "stream",
       "stream": "stderr",
       "text": [
        "\r",
        "[3637 %] elapsed[sec]: 0.153 | ETA[sec]: -0.149 "
       ]
      },
      {
       "output_type": "stream",
       "stream": "stderr",
       "text": [
        "\r",
        "[3713 %] elapsed[sec]: 0.154 | ETA[sec]: -0.150 "
       ]
      },
      {
       "output_type": "stream",
       "stream": "stderr",
       "text": [
        "\r",
        "[3789 %] elapsed[sec]: 0.156 | ETA[sec]: -0.152 "
       ]
      },
      {
       "output_type": "stream",
       "stream": "stderr",
       "text": [
        "\r",
        "[3867 %] elapsed[sec]: 0.157 | ETA[sec]: -0.153 "
       ]
      },
      {
       "output_type": "stream",
       "stream": "stderr",
       "text": [
        "\r",
        "[3945 %] elapsed[sec]: 0.159 | ETA[sec]: -0.155 "
       ]
      },
      {
       "output_type": "stream",
       "stream": "stderr",
       "text": [
        "\r",
        "[4024 %] elapsed[sec]: 0.161 | ETA[sec]: -0.157 "
       ]
      },
      {
       "output_type": "stream",
       "stream": "stderr",
       "text": [
        "\r",
        "[4103 %] elapsed[sec]: 0.163 | ETA[sec]: -0.159 "
       ]
      },
      {
       "output_type": "stream",
       "stream": "stderr",
       "text": [
        "\r",
        "[4184 %] elapsed[sec]: 0.165 | ETA[sec]: -0.161 "
       ]
      },
      {
       "output_type": "stream",
       "stream": "stderr",
       "text": [
        "\r",
        "[4265 %] elapsed[sec]: 0.167 | ETA[sec]: -0.163 "
       ]
      },
      {
       "output_type": "stream",
       "stream": "stderr",
       "text": [
        "\r",
        "[4347 %] elapsed[sec]: 0.169 | ETA[sec]: -0.165 "
       ]
      },
      {
       "output_type": "stream",
       "stream": "stderr",
       "text": [
        "\r",
        "[4430 %] elapsed[sec]: 0.170 | ETA[sec]: -0.167 "
       ]
      },
      {
       "output_type": "stream",
       "stream": "stderr",
       "text": [
        "\r",
        "[4514 %] elapsed[sec]: 0.172 | ETA[sec]: -0.168 "
       ]
      },
      {
       "output_type": "stream",
       "stream": "stderr",
       "text": [
        "\r",
        "[4598 %] elapsed[sec]: 0.174 | ETA[sec]: -0.170 "
       ]
      },
      {
       "output_type": "stream",
       "stream": "stderr",
       "text": [
        "\r",
        "[4683 %] elapsed[sec]: 0.175 | ETA[sec]: -0.171 "
       ]
      },
      {
       "output_type": "stream",
       "stream": "stderr",
       "text": [
        "\r",
        "[4769 %] elapsed[sec]: 0.176 | ETA[sec]: -0.173 "
       ]
      },
      {
       "output_type": "stream",
       "stream": "stderr",
       "text": [
        "\r",
        "[4856 %] elapsed[sec]: 0.178 | ETA[sec]: -0.174 "
       ]
      },
      {
       "output_type": "stream",
       "stream": "stderr",
       "text": [
        "\r",
        "[4943 %] elapsed[sec]: 0.179 | ETA[sec]: -0.176 "
       ]
      },
      {
       "output_type": "stream",
       "stream": "stderr",
       "text": [
        "\r",
        "[5032 %] elapsed[sec]: 0.181 | ETA[sec]: -0.177 "
       ]
      },
      {
       "output_type": "stream",
       "stream": "stderr",
       "text": [
        "\r",
        "[5121 %] elapsed[sec]: 0.182 | ETA[sec]: -0.178 "
       ]
      },
      {
       "output_type": "stream",
       "stream": "stderr",
       "text": [
        "\r",
        "[5210 %] elapsed[sec]: 0.183 | ETA[sec]: -0.180 "
       ]
      },
      {
       "output_type": "stream",
       "stream": "stderr",
       "text": [
        "\r",
        "[5301 %] elapsed[sec]: 0.185 | ETA[sec]: -0.181 "
       ]
      },
      {
       "output_type": "stream",
       "stream": "stderr",
       "text": [
        "\r",
        "[5392 %] elapsed[sec]: 0.187 | ETA[sec]: -0.183 "
       ]
      },
      {
       "output_type": "stream",
       "stream": "stderr",
       "text": [
        "\r",
        "[5485 %] elapsed[sec]: 0.188 | ETA[sec]: -0.185 "
       ]
      },
      {
       "output_type": "stream",
       "stream": "stderr",
       "text": [
        "\r",
        "[5578 %] elapsed[sec]: 0.190 | ETA[sec]: -0.187 "
       ]
      },
      {
       "output_type": "stream",
       "stream": "stderr",
       "text": [
        "\r",
        "[5671 %] elapsed[sec]: 0.191 | ETA[sec]: -0.188 "
       ]
      },
      {
       "output_type": "stream",
       "stream": "stderr",
       "text": [
        "\r",
        "[5766 %] elapsed[sec]: 0.193 | ETA[sec]: -0.190 "
       ]
      },
      {
       "output_type": "stream",
       "stream": "stderr",
       "text": [
        "\r",
        "[5861 %] elapsed[sec]: 0.194 | ETA[sec]: -0.191 "
       ]
      },
      {
       "output_type": "stream",
       "stream": "stderr",
       "text": [
        "\r",
        "[5957 %] elapsed[sec]: 0.195 | ETA[sec]: -0.192 "
       ]
      },
      {
       "output_type": "stream",
       "stream": "stderr",
       "text": [
        "\r",
        "[6054 %] elapsed[sec]: 0.198 | ETA[sec]: -0.194 "
       ]
      },
      {
       "output_type": "stream",
       "stream": "stderr",
       "text": [
        "\r",
        "[6152 %] elapsed[sec]: 0.199 | ETA[sec]: -0.196 "
       ]
      },
      {
       "output_type": "stream",
       "stream": "stderr",
       "text": [
        "\r",
        "[6250 %] elapsed[sec]: 0.200 | ETA[sec]: -0.197 "
       ]
      },
      {
       "output_type": "stream",
       "stream": "stderr",
       "text": [
        "\r",
        "[6350 %] elapsed[sec]: 0.201 | ETA[sec]: -0.198 "
       ]
      },
      {
       "output_type": "stream",
       "stream": "stdout",
       "text": [
        "\n",
        "Title: \n",
        "                      Started: 09/22/2014 17:23:39\n",
        "                      Finished: 09/22/2014 17:23:39\n",
        "                      Total time elapsed: 0.000 sec"
       ]
      },
      {
       "output_type": "stream",
       "stream": "stderr",
       "text": [
        "\r",
        "[  0 %] elapsed[sec]: 0.000"
       ]
      },
      {
       "output_type": "stream",
       "stream": "stdout",
       "text": [
        "\n",
        "Saving sequence results/color-seed-123457.webm"
       ]
      },
      {
       "output_type": "stream",
       "stream": "stderr",
       "text": [
        "\r",
        "[  0 %] elapsed[sec]: 0.002 | ETA[sec]: 0.286 "
       ]
      },
      {
       "output_type": "stream",
       "stream": "stderr",
       "text": [
        "\r",
        "[  2 %] elapsed[sec]: 0.004 | ETA[sec]: 0.179 "
       ]
      },
      {
       "output_type": "stream",
       "stream": "stderr",
       "text": [
        "\r",
        "[  4 %] elapsed[sec]: 0.006 | ETA[sec]: 0.121 "
       ]
      },
      {
       "output_type": "stream",
       "stream": "stderr",
       "text": [
        "\r",
        "[  7 %] elapsed[sec]: 0.008 | ETA[sec]: 0.095 "
       ]
      },
      {
       "output_type": "stream",
       "stream": "stderr",
       "text": [
        "\r",
        "[ 11 %] elapsed[sec]: 0.010 | ETA[sec]: 0.076 "
       ]
      },
      {
       "output_type": "stream",
       "stream": "stderr",
       "text": [
        "\r",
        "[ 16 %] elapsed[sec]: 0.012 | ETA[sec]: 0.062 "
       ]
      },
      {
       "output_type": "stream",
       "stream": "stderr",
       "text": [
        "\r",
        "[ 21 %] elapsed[sec]: 0.014 | ETA[sec]: 0.050 "
       ]
      },
      {
       "output_type": "stream",
       "stream": "stderr",
       "text": [
        "\r",
        "[ 28 %] elapsed[sec]: 0.034 | ETA[sec]: 0.086 "
       ]
      },
      {
       "output_type": "stream",
       "stream": "stderr",
       "text": [
        "\r",
        "[ 35 %] elapsed[sec]: 0.035 | ETA[sec]: 0.065 "
       ]
      },
      {
       "output_type": "stream",
       "stream": "stderr",
       "text": [
        "\r",
        "[ 42 %] elapsed[sec]: 0.036 | ETA[sec]: 0.048 "
       ]
      },
      {
       "output_type": "stream",
       "stream": "stderr",
       "text": [
        "\r",
        "[ 51 %] elapsed[sec]: 0.038 | ETA[sec]: 0.035 "
       ]
      },
      {
       "output_type": "stream",
       "stream": "stderr",
       "text": [
        "\r",
        "[ 60 %] elapsed[sec]: 0.039 | ETA[sec]: 0.025 "
       ]
      },
      {
       "output_type": "stream",
       "stream": "stderr",
       "text": [
        "\r",
        "[ 71 %] elapsed[sec]: 0.041 | ETA[sec]: 0.016 "
       ]
      },
      {
       "output_type": "stream",
       "stream": "stderr",
       "text": [
        "\r",
        "[ 82 %] elapsed[sec]: 0.042 | ETA[sec]: 0.009 "
       ]
      },
      {
       "output_type": "stream",
       "stream": "stderr",
       "text": [
        "\r",
        "[ 93 %] elapsed[sec]: 0.043 | ETA[sec]: 0.003 "
       ]
      },
      {
       "output_type": "stream",
       "stream": "stderr",
       "text": [
        "\r",
        "[106 %] elapsed[sec]: 0.045 | ETA[sec]: -0.003 "
       ]
      },
      {
       "output_type": "stream",
       "stream": "stderr",
       "text": [
        "\r",
        "[119 %] elapsed[sec]: 0.046 | ETA[sec]: -0.008 "
       ]
      },
      {
       "output_type": "stream",
       "stream": "stderr",
       "text": [
        "\r",
        "[133 %] elapsed[sec]: 0.047 | ETA[sec]: -0.012 "
       ]
      },
      {
       "output_type": "stream",
       "stream": "stderr",
       "text": [
        "\r",
        "[148 %] elapsed[sec]: 0.049 | ETA[sec]: -0.016 "
       ]
      },
      {
       "output_type": "stream",
       "stream": "stderr",
       "text": [
        "\r",
        "[164 %] elapsed[sec]: 0.050 | ETA[sec]: -0.019 "
       ]
      },
      {
       "output_type": "stream",
       "stream": "stderr",
       "text": [
        "\r",
        "[180 %] elapsed[sec]: 0.051 | ETA[sec]: -0.023 "
       ]
      },
      {
       "output_type": "stream",
       "stream": "stderr",
       "text": [
        "\r",
        "[197 %] elapsed[sec]: 0.052 | ETA[sec]: -0.026 "
       ]
      },
      {
       "output_type": "stream",
       "stream": "stderr",
       "text": [
        "\r",
        "[215 %] elapsed[sec]: 0.054 | ETA[sec]: -0.029 "
       ]
      },
      {
       "output_type": "stream",
       "stream": "stderr",
       "text": [
        "\r",
        "[234 %] elapsed[sec]: 0.055 | ETA[sec]: -0.031 "
       ]
      },
      {
       "output_type": "stream",
       "stream": "stderr",
       "text": [
        "\r",
        "[253 %] elapsed[sec]: 0.056 | ETA[sec]: -0.034 "
       ]
      },
      {
       "output_type": "stream",
       "stream": "stderr",
       "text": [
        "\r",
        "[274 %] elapsed[sec]: 0.058 | ETA[sec]: -0.037 "
       ]
      },
      {
       "output_type": "stream",
       "stream": "stderr",
       "text": [
        "\r",
        "[295 %] elapsed[sec]: 0.059 | ETA[sec]: -0.039 "
       ]
      },
      {
       "output_type": "stream",
       "stream": "stderr",
       "text": [
        "\r",
        "[317 %] elapsed[sec]: 0.061 | ETA[sec]: -0.041 "
       ]
      },
      {
       "output_type": "stream",
       "stream": "stderr",
       "text": [
        "\r",
        "[339 %] elapsed[sec]: 0.062 | ETA[sec]: -0.044 "
       ]
      },
      {
       "output_type": "stream",
       "stream": "stderr",
       "text": [
        "\r",
        "[363 %] elapsed[sec]: 0.063 | ETA[sec]: -0.046 "
       ]
      },
      {
       "output_type": "stream",
       "stream": "stderr",
       "text": [
        "\r",
        "[387 %] elapsed[sec]: 0.064 | ETA[sec]: -0.048 "
       ]
      },
      {
       "output_type": "stream",
       "stream": "stderr",
       "text": [
        "\r",
        "[412 %] elapsed[sec]: 0.067 | ETA[sec]: -0.050 "
       ]
      },
      {
       "output_type": "stream",
       "stream": "stderr",
       "text": [
        "\r",
        "[438 %] elapsed[sec]: 0.069 | ETA[sec]: -0.053 "
       ]
      },
      {
       "output_type": "stream",
       "stream": "stderr",
       "text": [
        "\r",
        "[464 %] elapsed[sec]: 0.071 | ETA[sec]: -0.056 "
       ]
      },
      {
       "output_type": "stream",
       "stream": "stderr",
       "text": [
        "\r",
        "[492 %] elapsed[sec]: 0.073 | ETA[sec]: -0.058 "
       ]
      },
      {
       "output_type": "stream",
       "stream": "stderr",
       "text": [
        "\r",
        "[520 %] elapsed[sec]: 0.075 | ETA[sec]: -0.060 "
       ]
      },
      {
       "output_type": "stream",
       "stream": "stderr",
       "text": [
        "\r",
        "[549 %] elapsed[sec]: 0.077 | ETA[sec]: -0.063 "
       ]
      },
      {
       "output_type": "stream",
       "stream": "stderr",
       "text": [
        "\r",
        "[578 %] elapsed[sec]: 0.078 | ETA[sec]: -0.065 "
       ]
      },
      {
       "output_type": "stream",
       "stream": "stderr",
       "text": [
        "\r",
        "[609 %] elapsed[sec]: 0.080 | ETA[sec]: -0.066 "
       ]
      },
      {
       "output_type": "stream",
       "stream": "stderr",
       "text": [
        "\r",
        "[640 %] elapsed[sec]: 0.081 | ETA[sec]: -0.068 "
       ]
      },
      {
       "output_type": "stream",
       "stream": "stderr",
       "text": [
        "\r",
        "[672 %] elapsed[sec]: 0.082 | ETA[sec]: -0.070 "
       ]
      },
      {
       "output_type": "stream",
       "stream": "stderr",
       "text": [
        "\r",
        "[705 %] elapsed[sec]: 0.083 | ETA[sec]: -0.072 "
       ]
      },
      {
       "output_type": "stream",
       "stream": "stderr",
       "text": [
        "\r",
        "[739 %] elapsed[sec]: 0.085 | ETA[sec]: -0.073 "
       ]
      },
      {
       "output_type": "stream",
       "stream": "stderr",
       "text": [
        "\r",
        "[773 %] elapsed[sec]: 0.086 | ETA[sec]: -0.075 "
       ]
      },
      {
       "output_type": "stream",
       "stream": "stderr",
       "text": [
        "\r",
        "[808 %] elapsed[sec]: 0.087 | ETA[sec]: -0.077 "
       ]
      },
      {
       "output_type": "stream",
       "stream": "stderr",
       "text": [
        "\r",
        "[844 %] elapsed[sec]: 0.089 | ETA[sec]: -0.078 "
       ]
      },
      {
       "output_type": "stream",
       "stream": "stderr",
       "text": [
        "\r",
        "[881 %] elapsed[sec]: 0.090 | ETA[sec]: -0.080 "
       ]
      },
      {
       "output_type": "stream",
       "stream": "stderr",
       "text": [
        "\r",
        "[918 %] elapsed[sec]: 0.091 | ETA[sec]: -0.082 "
       ]
      },
      {
       "output_type": "stream",
       "stream": "stderr",
       "text": [
        "\r",
        "[957 %] elapsed[sec]: 0.093 | ETA[sec]: -0.084 "
       ]
      },
      {
       "output_type": "stream",
       "stream": "stderr",
       "text": [
        "\r",
        "[996 %] elapsed[sec]: 0.095 | ETA[sec]: -0.085 "
       ]
      },
      {
       "output_type": "stream",
       "stream": "stderr",
       "text": [
        "\r",
        "[1035 %] elapsed[sec]: 0.096 | ETA[sec]: -0.087 "
       ]
      },
      {
       "output_type": "stream",
       "stream": "stderr",
       "text": [
        "\r",
        "[1076 %] elapsed[sec]: 0.098 | ETA[sec]: -0.089 "
       ]
      },
      {
       "output_type": "stream",
       "stream": "stderr",
       "text": [
        "\r",
        "[1117 %] elapsed[sec]: 0.099 | ETA[sec]: -0.090 "
       ]
      },
      {
       "output_type": "stream",
       "stream": "stderr",
       "text": [
        "\r",
        "[1160 %] elapsed[sec]: 0.101 | ETA[sec]: -0.092 "
       ]
      },
      {
       "output_type": "stream",
       "stream": "stderr",
       "text": [
        "\r",
        "[1203 %] elapsed[sec]: 0.102 | ETA[sec]: -0.094 "
       ]
      },
      {
       "output_type": "stream",
       "stream": "stderr",
       "text": [
        "\r",
        "[1246 %] elapsed[sec]: 0.103 | ETA[sec]: -0.095 "
       ]
      },
      {
       "output_type": "stream",
       "stream": "stderr",
       "text": [
        "\r",
        "[1291 %] elapsed[sec]: 0.104 | ETA[sec]: -0.096 "
       ]
      },
      {
       "output_type": "stream",
       "stream": "stderr",
       "text": [
        "\r",
        "[1336 %] elapsed[sec]: 0.106 | ETA[sec]: -0.098 "
       ]
      },
      {
       "output_type": "stream",
       "stream": "stderr",
       "text": [
        "\r",
        "[1382 %] elapsed[sec]: 0.107 | ETA[sec]: -0.099 "
       ]
      },
      {
       "output_type": "stream",
       "stream": "stderr",
       "text": [
        "\r",
        "[1429 %] elapsed[sec]: 0.108 | ETA[sec]: -0.101 "
       ]
      },
      {
       "output_type": "stream",
       "stream": "stderr",
       "text": [
        "\r",
        "[1477 %] elapsed[sec]: 0.110 | ETA[sec]: -0.102 "
       ]
      },
      {
       "output_type": "stream",
       "stream": "stderr",
       "text": [
        "\r",
        "[1525 %] elapsed[sec]: 0.111 | ETA[sec]: -0.104 "
       ]
      },
      {
       "output_type": "stream",
       "stream": "stderr",
       "text": [
        "\r",
        "[1575 %] elapsed[sec]: 0.112 | ETA[sec]: -0.105 "
       ]
      },
      {
       "output_type": "stream",
       "stream": "stderr",
       "text": [
        "\r",
        "[1625 %] elapsed[sec]: 0.113 | ETA[sec]: -0.106 "
       ]
      },
      {
       "output_type": "stream",
       "stream": "stderr",
       "text": [
        "\r",
        "[1675 %] elapsed[sec]: 0.114 | ETA[sec]: -0.108 "
       ]
      },
      {
       "output_type": "stream",
       "stream": "stderr",
       "text": [
        "\r",
        "[1727 %] elapsed[sec]: 0.116 | ETA[sec]: -0.109 "
       ]
      },
      {
       "output_type": "stream",
       "stream": "stderr",
       "text": [
        "\r",
        "[1779 %] elapsed[sec]: 0.117 | ETA[sec]: -0.110 "
       ]
      },
      {
       "output_type": "stream",
       "stream": "stderr",
       "text": [
        "\r",
        "[1832 %] elapsed[sec]: 0.118 | ETA[sec]: -0.112 "
       ]
      },
      {
       "output_type": "stream",
       "stream": "stderr",
       "text": [
        "\r",
        "[1886 %] elapsed[sec]: 0.119 | ETA[sec]: -0.113 "
       ]
      },
      {
       "output_type": "stream",
       "stream": "stderr",
       "text": [
        "\r",
        "[1941 %] elapsed[sec]: 0.121 | ETA[sec]: -0.114 "
       ]
      },
      {
       "output_type": "stream",
       "stream": "stderr",
       "text": [
        "\r",
        "[1996 %] elapsed[sec]: 0.122 | ETA[sec]: -0.116 "
       ]
      },
      {
       "output_type": "stream",
       "stream": "stderr",
       "text": [
        "\r",
        "[2053 %] elapsed[sec]: 0.123 | ETA[sec]: -0.117 "
       ]
      },
      {
       "output_type": "stream",
       "stream": "stderr",
       "text": [
        "\r",
        "[2110 %] elapsed[sec]: 0.125 | ETA[sec]: -0.119 "
       ]
      },
      {
       "output_type": "stream",
       "stream": "stderr",
       "text": [
        "\r",
        "[2167 %] elapsed[sec]: 0.126 | ETA[sec]: -0.120 "
       ]
      },
      {
       "output_type": "stream",
       "stream": "stderr",
       "text": [
        "\r",
        "[2226 %] elapsed[sec]: 0.128 | ETA[sec]: -0.122 "
       ]
      },
      {
       "output_type": "stream",
       "stream": "stderr",
       "text": [
        "\r",
        "[2285 %] elapsed[sec]: 0.129 | ETA[sec]: -0.123 "
       ]
      },
      {
       "output_type": "stream",
       "stream": "stderr",
       "text": [
        "\r",
        "[2346 %] elapsed[sec]: 0.131 | ETA[sec]: -0.125 "
       ]
      },
      {
       "output_type": "stream",
       "stream": "stderr",
       "text": [
        "\r",
        "[2407 %] elapsed[sec]: 0.133 | ETA[sec]: -0.127 "
       ]
      },
      {
       "output_type": "stream",
       "stream": "stderr",
       "text": [
        "\r",
        "[2468 %] elapsed[sec]: 0.134 | ETA[sec]: -0.128 "
       ]
      },
      {
       "output_type": "stream",
       "stream": "stderr",
       "text": [
        "\r",
        "[2531 %] elapsed[sec]: 0.135 | ETA[sec]: -0.130 "
       ]
      },
      {
       "output_type": "stream",
       "stream": "stderr",
       "text": [
        "\r",
        "[2594 %] elapsed[sec]: 0.137 | ETA[sec]: -0.131 "
       ]
      },
      {
       "output_type": "stream",
       "stream": "stderr",
       "text": [
        "\r",
        "[2658 %] elapsed[sec]: 0.138 | ETA[sec]: -0.133 "
       ]
      },
      {
       "output_type": "stream",
       "stream": "stderr",
       "text": [
        "\r",
        "[2723 %] elapsed[sec]: 0.140 | ETA[sec]: -0.135 "
       ]
      },
      {
       "output_type": "stream",
       "stream": "stderr",
       "text": [
        "\r",
        "[2789 %] elapsed[sec]: 0.141 | ETA[sec]: -0.136 "
       ]
      },
      {
       "output_type": "stream",
       "stream": "stderr",
       "text": [
        "\r",
        "[2855 %] elapsed[sec]: 0.143 | ETA[sec]: -0.138 "
       ]
      },
      {
       "output_type": "stream",
       "stream": "stderr",
       "text": [
        "\r",
        "[2922 %] elapsed[sec]: 0.144 | ETA[sec]: -0.139 "
       ]
      },
      {
       "output_type": "stream",
       "stream": "stderr",
       "text": [
        "\r",
        "[2990 %] elapsed[sec]: 0.146 | ETA[sec]: -0.141 "
       ]
      },
      {
       "output_type": "stream",
       "stream": "stderr",
       "text": [
        "\r",
        "[3059 %] elapsed[sec]: 0.147 | ETA[sec]: -0.142 "
       ]
      },
      {
       "output_type": "stream",
       "stream": "stderr",
       "text": [
        "\r",
        "[3128 %] elapsed[sec]: 0.149 | ETA[sec]: -0.144 "
       ]
      },
      {
       "output_type": "stream",
       "stream": "stderr",
       "text": [
        "\r",
        "[3199 %] elapsed[sec]: 0.150 | ETA[sec]: -0.145 "
       ]
      },
      {
       "output_type": "stream",
       "stream": "stderr",
       "text": [
        "\r",
        "[3270 %] elapsed[sec]: 0.151 | ETA[sec]: -0.147 "
       ]
      },
      {
       "output_type": "stream",
       "stream": "stderr",
       "text": [
        "\r",
        "[3342 %] elapsed[sec]: 0.153 | ETA[sec]: -0.148 "
       ]
      },
      {
       "output_type": "stream",
       "stream": "stderr",
       "text": [
        "\r",
        "[3414 %] elapsed[sec]: 0.154 | ETA[sec]: -0.150 "
       ]
      },
      {
       "output_type": "stream",
       "stream": "stderr",
       "text": [
        "\r",
        "[3488 %] elapsed[sec]: 0.156 | ETA[sec]: -0.152 "
       ]
      },
      {
       "output_type": "stream",
       "stream": "stderr",
       "text": [
        "\r",
        "[3562 %] elapsed[sec]: 0.158 | ETA[sec]: -0.153 "
       ]
      },
      {
       "output_type": "stream",
       "stream": "stderr",
       "text": [
        "\r",
        "[3637 %] elapsed[sec]: 0.159 | ETA[sec]: -0.155 "
       ]
      },
      {
       "output_type": "stream",
       "stream": "stderr",
       "text": [
        "\r",
        "[3713 %] elapsed[sec]: 0.160 | ETA[sec]: -0.156 "
       ]
      },
      {
       "output_type": "stream",
       "stream": "stderr",
       "text": [
        "\r",
        "[3789 %] elapsed[sec]: 0.162 | ETA[sec]: -0.157 "
       ]
      },
      {
       "output_type": "stream",
       "stream": "stderr",
       "text": [
        "\r",
        "[3867 %] elapsed[sec]: 0.163 | ETA[sec]: -0.159 "
       ]
      },
      {
       "output_type": "stream",
       "stream": "stderr",
       "text": [
        "\r",
        "[3945 %] elapsed[sec]: 0.164 | ETA[sec]: -0.160 "
       ]
      },
      {
       "output_type": "stream",
       "stream": "stderr",
       "text": [
        "\r",
        "[4024 %] elapsed[sec]: 0.165 | ETA[sec]: -0.161 "
       ]
      },
      {
       "output_type": "stream",
       "stream": "stderr",
       "text": [
        "\r",
        "[4103 %] elapsed[sec]: 0.167 | ETA[sec]: -0.162 "
       ]
      },
      {
       "output_type": "stream",
       "stream": "stderr",
       "text": [
        "\r",
        "[4184 %] elapsed[sec]: 0.168 | ETA[sec]: -0.164 "
       ]
      },
      {
       "output_type": "stream",
       "stream": "stderr",
       "text": [
        "\r",
        "[4265 %] elapsed[sec]: 0.169 | ETA[sec]: -0.165 "
       ]
      },
      {
       "output_type": "stream",
       "stream": "stderr",
       "text": [
        "\r",
        "[4347 %] elapsed[sec]: 0.170 | ETA[sec]: -0.166 "
       ]
      },
      {
       "output_type": "stream",
       "stream": "stderr",
       "text": [
        "\r",
        "[4430 %] elapsed[sec]: 0.172 | ETA[sec]: -0.168 "
       ]
      },
      {
       "output_type": "stream",
       "stream": "stderr",
       "text": [
        "\r",
        "[4514 %] elapsed[sec]: 0.173 | ETA[sec]: -0.169 "
       ]
      },
      {
       "output_type": "stream",
       "stream": "stderr",
       "text": [
        "\r",
        "[4598 %] elapsed[sec]: 0.174 | ETA[sec]: -0.170 "
       ]
      },
      {
       "output_type": "stream",
       "stream": "stderr",
       "text": [
        "\r",
        "[4683 %] elapsed[sec]: 0.176 | ETA[sec]: -0.172 "
       ]
      },
      {
       "output_type": "stream",
       "stream": "stderr",
       "text": [
        "\r",
        "[4769 %] elapsed[sec]: 0.177 | ETA[sec]: -0.173 "
       ]
      },
      {
       "output_type": "stream",
       "stream": "stderr",
       "text": [
        "\r",
        "[4856 %] elapsed[sec]: 0.178 | ETA[sec]: -0.174 "
       ]
      },
      {
       "output_type": "stream",
       "stream": "stderr",
       "text": [
        "\r",
        "[4943 %] elapsed[sec]: 0.179 | ETA[sec]: -0.176 "
       ]
      },
      {
       "output_type": "stream",
       "stream": "stderr",
       "text": [
        "\r",
        "[5032 %] elapsed[sec]: 0.181 | ETA[sec]: -0.177 "
       ]
      },
      {
       "output_type": "stream",
       "stream": "stderr",
       "text": [
        "\r",
        "[5121 %] elapsed[sec]: 0.182 | ETA[sec]: -0.179 "
       ]
      },
      {
       "output_type": "stream",
       "stream": "stderr",
       "text": [
        "\r",
        "[5210 %] elapsed[sec]: 0.183 | ETA[sec]: -0.180 "
       ]
      },
      {
       "output_type": "stream",
       "stream": "stderr",
       "text": [
        "\r",
        "[5301 %] elapsed[sec]: 0.185 | ETA[sec]: -0.181 "
       ]
      },
      {
       "output_type": "stream",
       "stream": "stderr",
       "text": [
        "\r",
        "[5392 %] elapsed[sec]: 0.186 | ETA[sec]: -0.183 "
       ]
      },
      {
       "output_type": "stream",
       "stream": "stderr",
       "text": [
        "\r",
        "[5485 %] elapsed[sec]: 0.188 | ETA[sec]: -0.184 "
       ]
      },
      {
       "output_type": "stream",
       "stream": "stderr",
       "text": [
        "\r",
        "[5578 %] elapsed[sec]: 0.189 | ETA[sec]: -0.186 "
       ]
      },
      {
       "output_type": "stream",
       "stream": "stderr",
       "text": [
        "\r",
        "[5671 %] elapsed[sec]: 0.191 | ETA[sec]: -0.187 "
       ]
      },
      {
       "output_type": "stream",
       "stream": "stderr",
       "text": [
        "\r",
        "[5766 %] elapsed[sec]: 0.192 | ETA[sec]: -0.189 "
       ]
      },
      {
       "output_type": "stream",
       "stream": "stderr",
       "text": [
        "\r",
        "[5861 %] elapsed[sec]: 0.193 | ETA[sec]: -0.190 "
       ]
      },
      {
       "output_type": "stream",
       "stream": "stderr",
       "text": [
        "\r",
        "[5957 %] elapsed[sec]: 0.195 | ETA[sec]: -0.192 "
       ]
      },
      {
       "output_type": "stream",
       "stream": "stderr",
       "text": [
        "\r",
        "[6054 %] elapsed[sec]: 0.196 | ETA[sec]: -0.193 "
       ]
      },
      {
       "output_type": "stream",
       "stream": "stderr",
       "text": [
        "\r",
        "[6152 %] elapsed[sec]: 0.198 | ETA[sec]: -0.195 "
       ]
      },
      {
       "output_type": "stream",
       "stream": "stderr",
       "text": [
        "\r",
        "[6250 %] elapsed[sec]: 0.200 | ETA[sec]: -0.197 "
       ]
      },
      {
       "output_type": "stream",
       "stream": "stderr",
       "text": [
        "\r",
        "[6350 %] elapsed[sec]: 0.202 | ETA[sec]: -0.199 "
       ]
      },
      {
       "output_type": "stream",
       "stream": "stdout",
       "text": [
        "\n",
        "Title: \n",
        "                      Started: 09/22/2014 17:23:40\n",
        "                      Finished: 09/22/2014 17:23:40\n",
        "                      Total time elapsed: 0.000 sec"
       ]
      },
      {
       "output_type": "stream",
       "stream": "stderr",
       "text": [
        "\r",
        "[  0 %] elapsed[sec]: 0.000"
       ]
      },
      {
       "output_type": "stream",
       "stream": "stdout",
       "text": [
        "\n",
        "Saving sequence results/color-seed-123458.webm"
       ]
      },
      {
       "output_type": "stream",
       "stream": "stderr",
       "text": [
        "\r",
        "[  0 %] elapsed[sec]: 0.002 | ETA[sec]: 0.219 "
       ]
      },
      {
       "output_type": "stream",
       "stream": "stderr",
       "text": [
        "\r",
        "[  2 %] elapsed[sec]: 0.003 | ETA[sec]: 0.123 "
       ]
      },
      {
       "output_type": "stream",
       "stream": "stderr",
       "text": [
        "\r",
        "[  4 %] elapsed[sec]: 0.004 | ETA[sec]: 0.089 "
       ]
      },
      {
       "output_type": "stream",
       "stream": "stderr",
       "text": [
        "\r",
        "[  7 %] elapsed[sec]: 0.006 | ETA[sec]: 0.071 "
       ]
      },
      {
       "output_type": "stream",
       "stream": "stderr",
       "text": [
        "\r",
        "[ 11 %] elapsed[sec]: 0.008 | ETA[sec]: 0.057 "
       ]
      },
      {
       "output_type": "stream",
       "stream": "stderr",
       "text": [
        "\r",
        "[ 16 %] elapsed[sec]: 0.009 | ETA[sec]: 0.048 "
       ]
      },
      {
       "output_type": "stream",
       "stream": "stderr",
       "text": [
        "\r",
        "[ 21 %] elapsed[sec]: 0.011 | ETA[sec]: 0.041 "
       ]
      },
      {
       "output_type": "stream",
       "stream": "stderr",
       "text": [
        "\r",
        "[ 28 %] elapsed[sec]: 0.013 | ETA[sec]: 0.033 "
       ]
      },
      {
       "output_type": "stream",
       "stream": "stderr",
       "text": [
        "\r",
        "[ 35 %] elapsed[sec]: 0.014 | ETA[sec]: 0.026 "
       ]
      },
      {
       "output_type": "stream",
       "stream": "stderr",
       "text": [
        "\r",
        "[ 42 %] elapsed[sec]: 0.015 | ETA[sec]: 0.020 "
       ]
      },
      {
       "output_type": "stream",
       "stream": "stderr",
       "text": [
        "\r",
        "[ 51 %] elapsed[sec]: 0.017 | ETA[sec]: 0.016 "
       ]
      },
      {
       "output_type": "stream",
       "stream": "stderr",
       "text": [
        "\r",
        "[ 60 %] elapsed[sec]: 0.018 | ETA[sec]: 0.011 "
       ]
      },
      {
       "output_type": "stream",
       "stream": "stderr",
       "text": [
        "\r",
        "[ 71 %] elapsed[sec]: 0.019 | ETA[sec]: 0.008 "
       ]
      },
      {
       "output_type": "stream",
       "stream": "stderr",
       "text": [
        "\r",
        "[ 82 %] elapsed[sec]: 0.020 | ETA[sec]: 0.004 "
       ]
      },
      {
       "output_type": "stream",
       "stream": "stderr",
       "text": [
        "\r",
        "[ 93 %] elapsed[sec]: 0.021 | ETA[sec]: 0.001 "
       ]
      },
      {
       "output_type": "stream",
       "stream": "stderr",
       "text": [
        "\r",
        "[106 %] elapsed[sec]: 0.023 | ETA[sec]: -0.001 "
       ]
      },
      {
       "output_type": "stream",
       "stream": "stderr",
       "text": [
        "\r",
        "[119 %] elapsed[sec]: 0.025 | ETA[sec]: -0.004 "
       ]
      },
      {
       "output_type": "stream",
       "stream": "stderr",
       "text": [
        "\r",
        "[133 %] elapsed[sec]: 0.026 | ETA[sec]: -0.007 "
       ]
      },
      {
       "output_type": "stream",
       "stream": "stderr",
       "text": [
        "\r",
        "[148 %] elapsed[sec]: 0.027 | ETA[sec]: -0.009 "
       ]
      },
      {
       "output_type": "stream",
       "stream": "stderr",
       "text": [
        "\r",
        "[164 %] elapsed[sec]: 0.028 | ETA[sec]: -0.011 "
       ]
      },
      {
       "output_type": "stream",
       "stream": "stderr",
       "text": [
        "\r",
        "[180 %] elapsed[sec]: 0.030 | ETA[sec]: -0.013 "
       ]
      },
      {
       "output_type": "stream",
       "stream": "stderr",
       "text": [
        "\r",
        "[197 %] elapsed[sec]: 0.031 | ETA[sec]: -0.015 "
       ]
      },
      {
       "output_type": "stream",
       "stream": "stderr",
       "text": [
        "\r",
        "[215 %] elapsed[sec]: 0.032 | ETA[sec]: -0.017 "
       ]
      },
      {
       "output_type": "stream",
       "stream": "stderr",
       "text": [
        "\r",
        "[234 %] elapsed[sec]: 0.034 | ETA[sec]: -0.020 "
       ]
      },
      {
       "output_type": "stream",
       "stream": "stderr",
       "text": [
        "\r",
        "[253 %] elapsed[sec]: 0.036 | ETA[sec]: -0.022 "
       ]
      },
      {
       "output_type": "stream",
       "stream": "stderr",
       "text": [
        "\r",
        "[274 %] elapsed[sec]: 0.037 | ETA[sec]: -0.024 "
       ]
      },
      {
       "output_type": "stream",
       "stream": "stderr",
       "text": [
        "\r",
        "[295 %] elapsed[sec]: 0.039 | ETA[sec]: -0.026 "
       ]
      },
      {
       "output_type": "stream",
       "stream": "stderr",
       "text": [
        "\r",
        "[317 %] elapsed[sec]: 0.040 | ETA[sec]: -0.028 "
       ]
      },
      {
       "output_type": "stream",
       "stream": "stderr",
       "text": [
        "\r",
        "[339 %] elapsed[sec]: 0.042 | ETA[sec]: -0.030 "
       ]
      },
      {
       "output_type": "stream",
       "stream": "stderr",
       "text": [
        "\r",
        "[363 %] elapsed[sec]: 0.044 | ETA[sec]: -0.032 "
       ]
      },
      {
       "output_type": "stream",
       "stream": "stderr",
       "text": [
        "\r",
        "[387 %] elapsed[sec]: 0.047 | ETA[sec]: -0.035 "
       ]
      },
      {
       "output_type": "stream",
       "stream": "stderr",
       "text": [
        "\r",
        "[412 %] elapsed[sec]: 0.049 | ETA[sec]: -0.037 "
       ]
      },
      {
       "output_type": "stream",
       "stream": "stderr",
       "text": [
        "\r",
        "[438 %] elapsed[sec]: 0.050 | ETA[sec]: -0.039 "
       ]
      },
      {
       "output_type": "stream",
       "stream": "stderr",
       "text": [
        "\r",
        "[464 %] elapsed[sec]: 0.052 | ETA[sec]: -0.041 "
       ]
      },
      {
       "output_type": "stream",
       "stream": "stderr",
       "text": [
        "\r",
        "[492 %] elapsed[sec]: 0.054 | ETA[sec]: -0.043 "
       ]
      },
      {
       "output_type": "stream",
       "stream": "stderr",
       "text": [
        "\r",
        "[520 %] elapsed[sec]: 0.056 | ETA[sec]: -0.046 "
       ]
      },
      {
       "output_type": "stream",
       "stream": "stderr",
       "text": [
        "\r",
        "[549 %] elapsed[sec]: 0.058 | ETA[sec]: -0.048 "
       ]
      },
      {
       "output_type": "stream",
       "stream": "stderr",
       "text": [
        "\r",
        "[578 %] elapsed[sec]: 0.060 | ETA[sec]: -0.050 "
       ]
      },
      {
       "output_type": "stream",
       "stream": "stderr",
       "text": [
        "\r",
        "[609 %] elapsed[sec]: 0.062 | ETA[sec]: -0.052 "
       ]
      },
      {
       "output_type": "stream",
       "stream": "stderr",
       "text": [
        "\r",
        "[640 %] elapsed[sec]: 0.063 | ETA[sec]: -0.053 "
       ]
      },
      {
       "output_type": "stream",
       "stream": "stderr",
       "text": [
        "\r",
        "[672 %] elapsed[sec]: 0.065 | ETA[sec]: -0.055 "
       ]
      },
      {
       "output_type": "stream",
       "stream": "stderr",
       "text": [
        "\r",
        "[705 %] elapsed[sec]: 0.066 | ETA[sec]: -0.056 "
       ]
      },
      {
       "output_type": "stream",
       "stream": "stderr",
       "text": [
        "\r",
        "[739 %] elapsed[sec]: 0.067 | ETA[sec]: -0.058 "
       ]
      },
      {
       "output_type": "stream",
       "stream": "stderr",
       "text": [
        "\r",
        "[773 %] elapsed[sec]: 0.069 | ETA[sec]: -0.060 "
       ]
      },
      {
       "output_type": "stream",
       "stream": "stderr",
       "text": [
        "\r",
        "[808 %] elapsed[sec]: 0.071 | ETA[sec]: -0.062 "
       ]
      },
      {
       "output_type": "stream",
       "stream": "stderr",
       "text": [
        "\r",
        "[844 %] elapsed[sec]: 0.072 | ETA[sec]: -0.063 "
       ]
      },
      {
       "output_type": "stream",
       "stream": "stderr",
       "text": [
        "\r",
        "[881 %] elapsed[sec]: 0.073 | ETA[sec]: -0.065 "
       ]
      },
      {
       "output_type": "stream",
       "stream": "stderr",
       "text": [
        "\r",
        "[918 %] elapsed[sec]: 0.075 | ETA[sec]: -0.067 "
       ]
      },
      {
       "output_type": "stream",
       "stream": "stderr",
       "text": [
        "\r",
        "[957 %] elapsed[sec]: 0.076 | ETA[sec]: -0.068 "
       ]
      },
      {
       "output_type": "stream",
       "stream": "stderr",
       "text": [
        "\r",
        "[996 %] elapsed[sec]: 0.077 | ETA[sec]: -0.069 "
       ]
      },
      {
       "output_type": "stream",
       "stream": "stderr",
       "text": [
        "\r",
        "[1035 %] elapsed[sec]: 0.078 | ETA[sec]: -0.071 "
       ]
      },
      {
       "output_type": "stream",
       "stream": "stderr",
       "text": [
        "\r",
        "[1076 %] elapsed[sec]: 0.081 | ETA[sec]: -0.073 "
       ]
      },
      {
       "output_type": "stream",
       "stream": "stderr",
       "text": [
        "\r",
        "[1117 %] elapsed[sec]: 0.082 | ETA[sec]: -0.075 "
       ]
      },
      {
       "output_type": "stream",
       "stream": "stderr",
       "text": [
        "\r",
        "[1160 %] elapsed[sec]: 0.084 | ETA[sec]: -0.076 "
       ]
      },
      {
       "output_type": "stream",
       "stream": "stderr",
       "text": [
        "\r",
        "[1203 %] elapsed[sec]: 0.085 | ETA[sec]: -0.078 "
       ]
      },
      {
       "output_type": "stream",
       "stream": "stderr",
       "text": [
        "\r",
        "[1246 %] elapsed[sec]: 0.086 | ETA[sec]: -0.079 "
       ]
      },
      {
       "output_type": "stream",
       "stream": "stderr",
       "text": [
        "\r",
        "[1291 %] elapsed[sec]: 0.087 | ETA[sec]: -0.081 "
       ]
      },
      {
       "output_type": "stream",
       "stream": "stderr",
       "text": [
        "\r",
        "[1336 %] elapsed[sec]: 0.089 | ETA[sec]: -0.082 "
       ]
      },
      {
       "output_type": "stream",
       "stream": "stderr",
       "text": [
        "\r",
        "[1382 %] elapsed[sec]: 0.090 | ETA[sec]: -0.084 "
       ]
      },
      {
       "output_type": "stream",
       "stream": "stderr",
       "text": [
        "\r",
        "[1429 %] elapsed[sec]: 0.092 | ETA[sec]: -0.085 "
       ]
      },
      {
       "output_type": "stream",
       "stream": "stderr",
       "text": [
        "\r",
        "[1477 %] elapsed[sec]: 0.093 | ETA[sec]: -0.087 "
       ]
      },
      {
       "output_type": "stream",
       "stream": "stderr",
       "text": [
        "\r",
        "[1525 %] elapsed[sec]: 0.094 | ETA[sec]: -0.088 "
       ]
      },
      {
       "output_type": "stream",
       "stream": "stderr",
       "text": [
        "\r",
        "[1575 %] elapsed[sec]: 0.096 | ETA[sec]: -0.089 "
       ]
      },
      {
       "output_type": "stream",
       "stream": "stderr",
       "text": [
        "\r",
        "[1625 %] elapsed[sec]: 0.097 | ETA[sec]: -0.091 "
       ]
      },
      {
       "output_type": "stream",
       "stream": "stderr",
       "text": [
        "\r",
        "[1675 %] elapsed[sec]: 0.098 | ETA[sec]: -0.092 "
       ]
      },
      {
       "output_type": "stream",
       "stream": "stderr",
       "text": [
        "\r",
        "[1727 %] elapsed[sec]: 0.099 | ETA[sec]: -0.094 "
       ]
      },
      {
       "output_type": "stream",
       "stream": "stderr",
       "text": [
        "\r",
        "[1779 %] elapsed[sec]: 0.101 | ETA[sec]: -0.095 "
       ]
      },
      {
       "output_type": "stream",
       "stream": "stderr",
       "text": [
        "\r",
        "[1832 %] elapsed[sec]: 0.103 | ETA[sec]: -0.097 "
       ]
      },
      {
       "output_type": "stream",
       "stream": "stderr",
       "text": [
        "\r",
        "[1886 %] elapsed[sec]: 0.105 | ETA[sec]: -0.099 "
       ]
      },
      {
       "output_type": "stream",
       "stream": "stderr",
       "text": [
        "\r",
        "[1941 %] elapsed[sec]: 0.107 | ETA[sec]: -0.101 "
       ]
      },
      {
       "output_type": "stream",
       "stream": "stderr",
       "text": [
        "\r",
        "[1996 %] elapsed[sec]: 0.109 | ETA[sec]: -0.103 "
       ]
      },
      {
       "output_type": "stream",
       "stream": "stderr",
       "text": [
        "\r",
        "[2053 %] elapsed[sec]: 0.111 | ETA[sec]: -0.105 "
       ]
      },
      {
       "output_type": "stream",
       "stream": "stderr",
       "text": [
        "\r",
        "[2110 %] elapsed[sec]: 0.112 | ETA[sec]: -0.107 "
       ]
      },
      {
       "output_type": "stream",
       "stream": "stderr",
       "text": [
        "\r",
        "[2167 %] elapsed[sec]: 0.114 | ETA[sec]: -0.109 "
       ]
      },
      {
       "output_type": "stream",
       "stream": "stderr",
       "text": [
        "\r",
        "[2226 %] elapsed[sec]: 0.116 | ETA[sec]: -0.111 "
       ]
      },
      {
       "output_type": "stream",
       "stream": "stderr",
       "text": [
        "\r",
        "[2285 %] elapsed[sec]: 0.118 | ETA[sec]: -0.113 "
       ]
      },
      {
       "output_type": "stream",
       "stream": "stderr",
       "text": [
        "\r",
        "[2346 %] elapsed[sec]: 0.120 | ETA[sec]: -0.115 "
       ]
      },
      {
       "output_type": "stream",
       "stream": "stderr",
       "text": [
        "\r",
        "[2407 %] elapsed[sec]: 0.122 | ETA[sec]: -0.117 "
       ]
      },
      {
       "output_type": "stream",
       "stream": "stderr",
       "text": [
        "\r",
        "[2468 %] elapsed[sec]: 0.124 | ETA[sec]: -0.119 "
       ]
      },
      {
       "output_type": "stream",
       "stream": "stderr",
       "text": [
        "\r",
        "[2531 %] elapsed[sec]: 0.126 | ETA[sec]: -0.121 "
       ]
      },
      {
       "output_type": "stream",
       "stream": "stderr",
       "text": [
        "\r",
        "[2594 %] elapsed[sec]: 0.128 | ETA[sec]: -0.123 "
       ]
      },
      {
       "output_type": "stream",
       "stream": "stderr",
       "text": [
        "\r",
        "[2658 %] elapsed[sec]: 0.130 | ETA[sec]: -0.125 "
       ]
      },
      {
       "output_type": "stream",
       "stream": "stderr",
       "text": [
        "\r",
        "[2723 %] elapsed[sec]: 0.131 | ETA[sec]: -0.127 "
       ]
      },
      {
       "output_type": "stream",
       "stream": "stderr",
       "text": [
        "\r",
        "[2789 %] elapsed[sec]: 0.133 | ETA[sec]: -0.128 "
       ]
      },
      {
       "output_type": "stream",
       "stream": "stderr",
       "text": [
        "\r",
        "[2855 %] elapsed[sec]: 0.134 | ETA[sec]: -0.129 "
       ]
      },
      {
       "output_type": "stream",
       "stream": "stderr",
       "text": [
        "\r",
        "[2922 %] elapsed[sec]: 0.136 | ETA[sec]: -0.131 "
       ]
      },
      {
       "output_type": "stream",
       "stream": "stderr",
       "text": [
        "\r",
        "[2990 %] elapsed[sec]: 0.137 | ETA[sec]: -0.132 "
       ]
      },
      {
       "output_type": "stream",
       "stream": "stderr",
       "text": [
        "\r",
        "[3059 %] elapsed[sec]: 0.139 | ETA[sec]: -0.134 "
       ]
      },
      {
       "output_type": "stream",
       "stream": "stderr",
       "text": [
        "\r",
        "[3128 %] elapsed[sec]: 0.140 | ETA[sec]: -0.135 "
       ]
      },
      {
       "output_type": "stream",
       "stream": "stderr",
       "text": [
        "\r",
        "[3199 %] elapsed[sec]: 0.141 | ETA[sec]: -0.137 "
       ]
      },
      {
       "output_type": "stream",
       "stream": "stderr",
       "text": [
        "\r",
        "[3270 %] elapsed[sec]: 0.143 | ETA[sec]: -0.139 "
       ]
      },
      {
       "output_type": "stream",
       "stream": "stderr",
       "text": [
        "\r",
        "[3342 %] elapsed[sec]: 0.145 | ETA[sec]: -0.141 "
       ]
      },
      {
       "output_type": "stream",
       "stream": "stderr",
       "text": [
        "\r",
        "[3414 %] elapsed[sec]: 0.147 | ETA[sec]: -0.143 "
       ]
      },
      {
       "output_type": "stream",
       "stream": "stderr",
       "text": [
        "\r",
        "[3488 %] elapsed[sec]: 0.149 | ETA[sec]: -0.145 "
       ]
      },
      {
       "output_type": "stream",
       "stream": "stderr",
       "text": [
        "\r",
        "[3562 %] elapsed[sec]: 0.151 | ETA[sec]: -0.146 "
       ]
      },
      {
       "output_type": "stream",
       "stream": "stderr",
       "text": [
        "\r",
        "[3637 %] elapsed[sec]: 0.152 | ETA[sec]: -0.148 "
       ]
      },
      {
       "output_type": "stream",
       "stream": "stderr",
       "text": [
        "\r",
        "[3713 %] elapsed[sec]: 0.153 | ETA[sec]: -0.149 "
       ]
      },
      {
       "output_type": "stream",
       "stream": "stderr",
       "text": [
        "\r",
        "[3789 %] elapsed[sec]: 0.154 | ETA[sec]: -0.150 "
       ]
      },
      {
       "output_type": "stream",
       "stream": "stderr",
       "text": [
        "\r",
        "[3867 %] elapsed[sec]: 0.156 | ETA[sec]: -0.152 "
       ]
      },
      {
       "output_type": "stream",
       "stream": "stderr",
       "text": [
        "\r",
        "[3945 %] elapsed[sec]: 0.157 | ETA[sec]: -0.153 "
       ]
      },
      {
       "output_type": "stream",
       "stream": "stderr",
       "text": [
        "\r",
        "[4024 %] elapsed[sec]: 0.159 | ETA[sec]: -0.155 "
       ]
      },
      {
       "output_type": "stream",
       "stream": "stderr",
       "text": [
        "\r",
        "[4103 %] elapsed[sec]: 0.160 | ETA[sec]: -0.156 "
       ]
      },
      {
       "output_type": "stream",
       "stream": "stderr",
       "text": [
        "\r",
        "[4184 %] elapsed[sec]: 0.161 | ETA[sec]: -0.157 "
       ]
      },
      {
       "output_type": "stream",
       "stream": "stderr",
       "text": [
        "\r",
        "[4265 %] elapsed[sec]: 0.163 | ETA[sec]: -0.159 "
       ]
      },
      {
       "output_type": "stream",
       "stream": "stderr",
       "text": [
        "\r",
        "[4347 %] elapsed[sec]: 0.164 | ETA[sec]: -0.160 "
       ]
      },
      {
       "output_type": "stream",
       "stream": "stderr",
       "text": [
        "\r",
        "[4430 %] elapsed[sec]: 0.166 | ETA[sec]: -0.162 "
       ]
      },
      {
       "output_type": "stream",
       "stream": "stderr",
       "text": [
        "\r",
        "[4514 %] elapsed[sec]: 0.167 | ETA[sec]: -0.164 "
       ]
      },
      {
       "output_type": "stream",
       "stream": "stderr",
       "text": [
        "\r",
        "[4598 %] elapsed[sec]: 0.169 | ETA[sec]: -0.165 "
       ]
      },
      {
       "output_type": "stream",
       "stream": "stderr",
       "text": [
        "\r",
        "[4683 %] elapsed[sec]: 0.171 | ETA[sec]: -0.167 "
       ]
      },
      {
       "output_type": "stream",
       "stream": "stderr",
       "text": [
        "\r",
        "[4769 %] elapsed[sec]: 0.173 | ETA[sec]: -0.169 "
       ]
      },
      {
       "output_type": "stream",
       "stream": "stderr",
       "text": [
        "\r",
        "[4856 %] elapsed[sec]: 0.175 | ETA[sec]: -0.171 "
       ]
      },
      {
       "output_type": "stream",
       "stream": "stderr",
       "text": [
        "\r",
        "[4943 %] elapsed[sec]: 0.176 | ETA[sec]: -0.173 "
       ]
      },
      {
       "output_type": "stream",
       "stream": "stderr",
       "text": [
        "\r",
        "[5032 %] elapsed[sec]: 0.178 | ETA[sec]: -0.174 "
       ]
      },
      {
       "output_type": "stream",
       "stream": "stderr",
       "text": [
        "\r",
        "[5121 %] elapsed[sec]: 0.180 | ETA[sec]: -0.176 "
       ]
      },
      {
       "output_type": "stream",
       "stream": "stderr",
       "text": [
        "\r",
        "[5210 %] elapsed[sec]: 0.182 | ETA[sec]: -0.178 "
       ]
      },
      {
       "output_type": "stream",
       "stream": "stderr",
       "text": [
        "\r",
        "[5301 %] elapsed[sec]: 0.183 | ETA[sec]: -0.180 "
       ]
      },
      {
       "output_type": "stream",
       "stream": "stderr",
       "text": [
        "\r",
        "[5392 %] elapsed[sec]: 0.185 | ETA[sec]: -0.182 "
       ]
      },
      {
       "output_type": "stream",
       "stream": "stderr",
       "text": [
        "\r",
        "[5485 %] elapsed[sec]: 0.187 | ETA[sec]: -0.183 "
       ]
      },
      {
       "output_type": "stream",
       "stream": "stderr",
       "text": [
        "\r",
        "[5578 %] elapsed[sec]: 0.188 | ETA[sec]: -0.184 "
       ]
      },
      {
       "output_type": "stream",
       "stream": "stderr",
       "text": [
        "\r",
        "[5671 %] elapsed[sec]: 0.189 | ETA[sec]: -0.186 "
       ]
      },
      {
       "output_type": "stream",
       "stream": "stderr",
       "text": [
        "\r",
        "[5766 %] elapsed[sec]: 0.191 | ETA[sec]: -0.188 "
       ]
      },
      {
       "output_type": "stream",
       "stream": "stderr",
       "text": [
        "\r",
        "[5861 %] elapsed[sec]: 0.193 | ETA[sec]: -0.190 "
       ]
      },
      {
       "output_type": "stream",
       "stream": "stderr",
       "text": [
        "\r",
        "[5957 %] elapsed[sec]: 0.195 | ETA[sec]: -0.192 "
       ]
      },
      {
       "output_type": "stream",
       "stream": "stderr",
       "text": [
        "\r",
        "[6054 %] elapsed[sec]: 0.197 | ETA[sec]: -0.194 "
       ]
      },
      {
       "output_type": "stream",
       "stream": "stderr",
       "text": [
        "\r",
        "[6152 %] elapsed[sec]: 0.199 | ETA[sec]: -0.196 "
       ]
      },
      {
       "output_type": "stream",
       "stream": "stderr",
       "text": [
        "\r",
        "[6250 %] elapsed[sec]: 0.201 | ETA[sec]: -0.198 "
       ]
      },
      {
       "output_type": "stream",
       "stream": "stderr",
       "text": [
        "\r",
        "[6350 %] elapsed[sec]: 0.203 | ETA[sec]: -0.200 "
       ]
      },
      {
       "output_type": "stream",
       "stream": "stdout",
       "text": [
        "\n",
        "Title: \n",
        "                      Started: 09/22/2014 17:23:40\n",
        "                      Finished: 09/22/2014 17:23:41\n",
        "                      Total time elapsed: 0.000 sec"
       ]
      },
      {
       "output_type": "stream",
       "stream": "stderr",
       "text": [
        "\r",
        "[  0 %] elapsed[sec]: 0.000"
       ]
      },
      {
       "output_type": "stream",
       "stream": "stdout",
       "text": [
        "\n",
        "Saving sequence results/color-seed-123459.webm"
       ]
      },
      {
       "output_type": "stream",
       "stream": "stderr",
       "text": [
        "\r",
        "[  0 %] elapsed[sec]: 0.002 | ETA[sec]: 0.236 "
       ]
      },
      {
       "output_type": "stream",
       "stream": "stderr",
       "text": [
        "\r",
        "[  2 %] elapsed[sec]: 0.003 | ETA[sec]: 0.133 "
       ]
      },
      {
       "output_type": "stream",
       "stream": "stderr",
       "text": [
        "\r",
        "[  4 %] elapsed[sec]: 0.005 | ETA[sec]: 0.097 "
       ]
      },
      {
       "output_type": "stream",
       "stream": "stderr",
       "text": [
        "\r",
        "[  7 %] elapsed[sec]: 0.006 | ETA[sec]: 0.072 "
       ]
      },
      {
       "output_type": "stream",
       "stream": "stderr",
       "text": [
        "\r",
        "[ 11 %] elapsed[sec]: 0.008 | ETA[sec]: 0.057 "
       ]
      },
      {
       "output_type": "stream",
       "stream": "stderr",
       "text": [
        "\r",
        "[ 16 %] elapsed[sec]: 0.009 | ETA[sec]: 0.046 "
       ]
      },
      {
       "output_type": "stream",
       "stream": "stderr",
       "text": [
        "\r",
        "[ 21 %] elapsed[sec]: 0.010 | ETA[sec]: 0.037 "
       ]
      },
      {
       "output_type": "stream",
       "stream": "stderr",
       "text": [
        "\r",
        "[ 28 %] elapsed[sec]: 0.012 | ETA[sec]: 0.032 "
       ]
      },
      {
       "output_type": "stream",
       "stream": "stderr",
       "text": [
        "\r",
        "[ 35 %] elapsed[sec]: 0.014 | ETA[sec]: 0.027 "
       ]
      },
      {
       "output_type": "stream",
       "stream": "stderr",
       "text": [
        "\r",
        "[ 42 %] elapsed[sec]: 0.016 | ETA[sec]: 0.022 "
       ]
      },
      {
       "output_type": "stream",
       "stream": "stderr",
       "text": [
        "\r",
        "[ 51 %] elapsed[sec]: 0.018 | ETA[sec]: 0.017 "
       ]
      },
      {
       "output_type": "stream",
       "stream": "stderr",
       "text": [
        "\r",
        "[ 60 %] elapsed[sec]: 0.020 | ETA[sec]: 0.013 "
       ]
      },
      {
       "output_type": "stream",
       "stream": "stderr",
       "text": [
        "\r",
        "[ 71 %] elapsed[sec]: 0.022 | ETA[sec]: 0.009 "
       ]
      },
      {
       "output_type": "stream",
       "stream": "stderr",
       "text": [
        "\r",
        "[ 82 %] elapsed[sec]: 0.023 | ETA[sec]: 0.005 "
       ]
      },
      {
       "output_type": "stream",
       "stream": "stderr",
       "text": [
        "\r",
        "[ 93 %] elapsed[sec]: 0.024 | ETA[sec]: 0.002 "
       ]
      },
      {
       "output_type": "stream",
       "stream": "stderr",
       "text": [
        "\r",
        "[106 %] elapsed[sec]: 0.026 | ETA[sec]: -0.002 "
       ]
      },
      {
       "output_type": "stream",
       "stream": "stderr",
       "text": [
        "\r",
        "[119 %] elapsed[sec]: 0.027 | ETA[sec]: -0.004 "
       ]
      },
      {
       "output_type": "stream",
       "stream": "stderr",
       "text": [
        "\r",
        "[133 %] elapsed[sec]: 0.028 | ETA[sec]: -0.007 "
       ]
      },
      {
       "output_type": "stream",
       "stream": "stderr",
       "text": [
        "\r",
        "[148 %] elapsed[sec]: 0.029 | ETA[sec]: -0.010 "
       ]
      },
      {
       "output_type": "stream",
       "stream": "stderr",
       "text": [
        "\r",
        "[164 %] elapsed[sec]: 0.030 | ETA[sec]: -0.012 "
       ]
      },
      {
       "output_type": "stream",
       "stream": "stderr",
       "text": [
        "\r",
        "[180 %] elapsed[sec]: 0.032 | ETA[sec]: -0.014 "
       ]
      },
      {
       "output_type": "stream",
       "stream": "stderr",
       "text": [
        "\r",
        "[197 %] elapsed[sec]: 0.034 | ETA[sec]: -0.017 "
       ]
      },
      {
       "output_type": "stream",
       "stream": "stderr",
       "text": [
        "\r",
        "[215 %] elapsed[sec]: 0.035 | ETA[sec]: -0.019 "
       ]
      },
      {
       "output_type": "stream",
       "stream": "stderr",
       "text": [
        "\r",
        "[234 %] elapsed[sec]: 0.037 | ETA[sec]: -0.021 "
       ]
      },
      {
       "output_type": "stream",
       "stream": "stderr",
       "text": [
        "\r",
        "[253 %] elapsed[sec]: 0.038 | ETA[sec]: -0.023 "
       ]
      },
      {
       "output_type": "stream",
       "stream": "stderr",
       "text": [
        "\r",
        "[274 %] elapsed[sec]: 0.039 | ETA[sec]: -0.025 "
       ]
      },
      {
       "output_type": "stream",
       "stream": "stderr",
       "text": [
        "\r",
        "[295 %] elapsed[sec]: 0.040 | ETA[sec]: -0.027 "
       ]
      },
      {
       "output_type": "stream",
       "stream": "stderr",
       "text": [
        "\r",
        "[317 %] elapsed[sec]: 0.042 | ETA[sec]: -0.029 "
       ]
      },
      {
       "output_type": "stream",
       "stream": "stderr",
       "text": [
        "\r",
        "[339 %] elapsed[sec]: 0.043 | ETA[sec]: -0.030 "
       ]
      },
      {
       "output_type": "stream",
       "stream": "stderr",
       "text": [
        "\r",
        "[363 %] elapsed[sec]: 0.045 | ETA[sec]: -0.033 "
       ]
      },
      {
       "output_type": "stream",
       "stream": "stderr",
       "text": [
        "\r",
        "[387 %] elapsed[sec]: 0.046 | ETA[sec]: -0.034 "
       ]
      },
      {
       "output_type": "stream",
       "stream": "stderr",
       "text": [
        "\r",
        "[412 %] elapsed[sec]: 0.047 | ETA[sec]: -0.036 "
       ]
      },
      {
       "output_type": "stream",
       "stream": "stderr",
       "text": [
        "\r",
        "[438 %] elapsed[sec]: 0.049 | ETA[sec]: -0.038 "
       ]
      },
      {
       "output_type": "stream",
       "stream": "stderr",
       "text": [
        "\r",
        "[464 %] elapsed[sec]: 0.050 | ETA[sec]: -0.039 "
       ]
      },
      {
       "output_type": "stream",
       "stream": "stderr",
       "text": [
        "\r",
        "[492 %] elapsed[sec]: 0.051 | ETA[sec]: -0.041 "
       ]
      },
      {
       "output_type": "stream",
       "stream": "stderr",
       "text": [
        "\r",
        "[520 %] elapsed[sec]: 0.052 | ETA[sec]: -0.042 "
       ]
      },
      {
       "output_type": "stream",
       "stream": "stderr",
       "text": [
        "\r",
        "[549 %] elapsed[sec]: 0.054 | ETA[sec]: -0.044 "
       ]
      },
      {
       "output_type": "stream",
       "stream": "stderr",
       "text": [
        "\r",
        "[578 %] elapsed[sec]: 0.055 | ETA[sec]: -0.046 "
       ]
      },
      {
       "output_type": "stream",
       "stream": "stderr",
       "text": [
        "\r",
        "[609 %] elapsed[sec]: 0.057 | ETA[sec]: -0.048 "
       ]
      },
      {
       "output_type": "stream",
       "stream": "stderr",
       "text": [
        "\r",
        "[640 %] elapsed[sec]: 0.059 | ETA[sec]: -0.049 "
       ]
      },
      {
       "output_type": "stream",
       "stream": "stderr",
       "text": [
        "\r",
        "[672 %] elapsed[sec]: 0.060 | ETA[sec]: -0.051 "
       ]
      },
      {
       "output_type": "stream",
       "stream": "stderr",
       "text": [
        "\r",
        "[705 %] elapsed[sec]: 0.061 | ETA[sec]: -0.052 "
       ]
      },
      {
       "output_type": "stream",
       "stream": "stderr",
       "text": [
        "\r",
        "[739 %] elapsed[sec]: 0.062 | ETA[sec]: -0.054 "
       ]
      },
      {
       "output_type": "stream",
       "stream": "stderr",
       "text": [
        "\r",
        "[773 %] elapsed[sec]: 0.064 | ETA[sec]: -0.055 "
       ]
      },
      {
       "output_type": "stream",
       "stream": "stderr",
       "text": [
        "\r",
        "[808 %] elapsed[sec]: 0.065 | ETA[sec]: -0.057 "
       ]
      },
      {
       "output_type": "stream",
       "stream": "stderr",
       "text": [
        "\r",
        "[844 %] elapsed[sec]: 0.066 | ETA[sec]: -0.058 "
       ]
      },
      {
       "output_type": "stream",
       "stream": "stderr",
       "text": [
        "\r",
        "[881 %] elapsed[sec]: 0.067 | ETA[sec]: -0.060 "
       ]
      },
      {
       "output_type": "stream",
       "stream": "stderr",
       "text": [
        "\r",
        "[918 %] elapsed[sec]: 0.069 | ETA[sec]: -0.061 "
       ]
      },
      {
       "output_type": "stream",
       "stream": "stderr",
       "text": [
        "\r",
        "[957 %] elapsed[sec]: 0.070 | ETA[sec]: -0.063 "
       ]
      },
      {
       "output_type": "stream",
       "stream": "stderr",
       "text": [
        "\r",
        "[996 %] elapsed[sec]: 0.071 | ETA[sec]: -0.064 "
       ]
      },
      {
       "output_type": "stream",
       "stream": "stderr",
       "text": [
        "\r",
        "[1035 %] elapsed[sec]: 0.072 | ETA[sec]: -0.065 "
       ]
      },
      {
       "output_type": "stream",
       "stream": "stderr",
       "text": [
        "\r",
        "[1076 %] elapsed[sec]: 0.073 | ETA[sec]: -0.067 "
       ]
      },
      {
       "output_type": "stream",
       "stream": "stderr",
       "text": [
        "\r",
        "[1117 %] elapsed[sec]: 0.075 | ETA[sec]: -0.068 "
       ]
      },
      {
       "output_type": "stream",
       "stream": "stderr",
       "text": [
        "\r",
        "[1160 %] elapsed[sec]: 0.076 | ETA[sec]: -0.070 "
       ]
      },
      {
       "output_type": "stream",
       "stream": "stderr",
       "text": [
        "\r",
        "[1203 %] elapsed[sec]: 0.079 | ETA[sec]: -0.072 "
       ]
      },
      {
       "output_type": "stream",
       "stream": "stderr",
       "text": [
        "\r",
        "[1246 %] elapsed[sec]: 0.081 | ETA[sec]: -0.074 "
       ]
      },
      {
       "output_type": "stream",
       "stream": "stderr",
       "text": [
        "\r",
        "[1291 %] elapsed[sec]: 0.082 | ETA[sec]: -0.076 "
       ]
      },
      {
       "output_type": "stream",
       "stream": "stderr",
       "text": [
        "\r",
        "[1336 %] elapsed[sec]: 0.084 | ETA[sec]: -0.078 "
       ]
      },
      {
       "output_type": "stream",
       "stream": "stderr",
       "text": [
        "\r",
        "[1382 %] elapsed[sec]: 0.086 | ETA[sec]: -0.080 "
       ]
      },
      {
       "output_type": "stream",
       "stream": "stderr",
       "text": [
        "\r",
        "[1429 %] elapsed[sec]: 0.088 | ETA[sec]: -0.082 "
       ]
      },
      {
       "output_type": "stream",
       "stream": "stderr",
       "text": [
        "\r",
        "[1477 %] elapsed[sec]: 0.090 | ETA[sec]: -0.084 "
       ]
      },
      {
       "output_type": "stream",
       "stream": "stderr",
       "text": [
        "\r",
        "[1525 %] elapsed[sec]: 0.092 | ETA[sec]: -0.086 "
       ]
      },
      {
       "output_type": "stream",
       "stream": "stderr",
       "text": [
        "\r",
        "[1575 %] elapsed[sec]: 0.094 | ETA[sec]: -0.088 "
       ]
      },
      {
       "output_type": "stream",
       "stream": "stderr",
       "text": [
        "\r",
        "[1625 %] elapsed[sec]: 0.096 | ETA[sec]: -0.090 "
       ]
      },
      {
       "output_type": "stream",
       "stream": "stderr",
       "text": [
        "\r",
        "[1675 %] elapsed[sec]: 0.098 | ETA[sec]: -0.092 "
       ]
      },
      {
       "output_type": "stream",
       "stream": "stderr",
       "text": [
        "\r",
        "[1727 %] elapsed[sec]: 0.100 | ETA[sec]: -0.094 "
       ]
      },
      {
       "output_type": "stream",
       "stream": "stderr",
       "text": [
        "\r",
        "[1779 %] elapsed[sec]: 0.103 | ETA[sec]: -0.097 "
       ]
      },
      {
       "output_type": "stream",
       "stream": "stderr",
       "text": [
        "\r",
        "[1832 %] elapsed[sec]: 0.105 | ETA[sec]: -0.099 "
       ]
      },
      {
       "output_type": "stream",
       "stream": "stderr",
       "text": [
        "\r",
        "[1886 %] elapsed[sec]: 0.107 | ETA[sec]: -0.101 "
       ]
      },
      {
       "output_type": "stream",
       "stream": "stderr",
       "text": [
        "\r",
        "[1941 %] elapsed[sec]: 0.108 | ETA[sec]: -0.103 "
       ]
      },
      {
       "output_type": "stream",
       "stream": "stderr",
       "text": [
        "\r",
        "[1996 %] elapsed[sec]: 0.110 | ETA[sec]: -0.105 "
       ]
      },
      {
       "output_type": "stream",
       "stream": "stderr",
       "text": [
        "\r",
        "[2053 %] elapsed[sec]: 0.112 | ETA[sec]: -0.106 "
       ]
      },
      {
       "output_type": "stream",
       "stream": "stderr",
       "text": [
        "\r",
        "[2110 %] elapsed[sec]: 0.113 | ETA[sec]: -0.108 "
       ]
      },
      {
       "output_type": "stream",
       "stream": "stderr",
       "text": [
        "\r",
        "[2167 %] elapsed[sec]: 0.115 | ETA[sec]: -0.109 "
       ]
      },
      {
       "output_type": "stream",
       "stream": "stderr",
       "text": [
        "\r",
        "[2226 %] elapsed[sec]: 0.116 | ETA[sec]: -0.111 "
       ]
      },
      {
       "output_type": "stream",
       "stream": "stderr",
       "text": [
        "\r",
        "[2285 %] elapsed[sec]: 0.118 | ETA[sec]: -0.113 "
       ]
      },
      {
       "output_type": "stream",
       "stream": "stderr",
       "text": [
        "\r",
        "[2346 %] elapsed[sec]: 0.120 | ETA[sec]: -0.115 "
       ]
      },
      {
       "output_type": "stream",
       "stream": "stderr",
       "text": [
        "\r",
        "[2407 %] elapsed[sec]: 0.122 | ETA[sec]: -0.117 "
       ]
      },
      {
       "output_type": "stream",
       "stream": "stderr",
       "text": [
        "\r",
        "[2468 %] elapsed[sec]: 0.124 | ETA[sec]: -0.119 "
       ]
      },
      {
       "output_type": "stream",
       "stream": "stderr",
       "text": [
        "\r",
        "[2531 %] elapsed[sec]: 0.126 | ETA[sec]: -0.121 "
       ]
      },
      {
       "output_type": "stream",
       "stream": "stderr",
       "text": [
        "\r",
        "[2594 %] elapsed[sec]: 0.127 | ETA[sec]: -0.122 "
       ]
      },
      {
       "output_type": "stream",
       "stream": "stderr",
       "text": [
        "\r",
        "[2658 %] elapsed[sec]: 0.129 | ETA[sec]: -0.124 "
       ]
      },
      {
       "output_type": "stream",
       "stream": "stderr",
       "text": [
        "\r",
        "[2723 %] elapsed[sec]: 0.131 | ETA[sec]: -0.126 "
       ]
      },
      {
       "output_type": "stream",
       "stream": "stderr",
       "text": [
        "\r",
        "[2789 %] elapsed[sec]: 0.132 | ETA[sec]: -0.128 "
       ]
      },
      {
       "output_type": "stream",
       "stream": "stderr",
       "text": [
        "\r",
        "[2855 %] elapsed[sec]: 0.134 | ETA[sec]: -0.130 "
       ]
      },
      {
       "output_type": "stream",
       "stream": "stderr",
       "text": [
        "\r",
        "[2922 %] elapsed[sec]: 0.136 | ETA[sec]: -0.131 "
       ]
      },
      {
       "output_type": "stream",
       "stream": "stderr",
       "text": [
        "\r",
        "[2990 %] elapsed[sec]: 0.137 | ETA[sec]: -0.132 "
       ]
      },
      {
       "output_type": "stream",
       "stream": "stderr",
       "text": [
        "\r",
        "[3059 %] elapsed[sec]: 0.138 | ETA[sec]: -0.134 "
       ]
      },
      {
       "output_type": "stream",
       "stream": "stderr",
       "text": [
        "\r",
        "[3128 %] elapsed[sec]: 0.139 | ETA[sec]: -0.135 "
       ]
      },
      {
       "output_type": "stream",
       "stream": "stderr",
       "text": [
        "\r",
        "[3199 %] elapsed[sec]: 0.141 | ETA[sec]: -0.136 "
       ]
      },
      {
       "output_type": "stream",
       "stream": "stderr",
       "text": [
        "\r",
        "[3270 %] elapsed[sec]: 0.142 | ETA[sec]: -0.138 "
       ]
      },
      {
       "output_type": "stream",
       "stream": "stderr",
       "text": [
        "\r",
        "[3342 %] elapsed[sec]: 0.144 | ETA[sec]: -0.140 "
       ]
      },
      {
       "output_type": "stream",
       "stream": "stderr",
       "text": [
        "\r",
        "[3414 %] elapsed[sec]: 0.145 | ETA[sec]: -0.141 "
       ]
      },
      {
       "output_type": "stream",
       "stream": "stderr",
       "text": [
        "\r",
        "[3488 %] elapsed[sec]: 0.147 | ETA[sec]: -0.143 "
       ]
      },
      {
       "output_type": "stream",
       "stream": "stderr",
       "text": [
        "\r",
        "[3562 %] elapsed[sec]: 0.148 | ETA[sec]: -0.144 "
       ]
      },
      {
       "output_type": "stream",
       "stream": "stderr",
       "text": [
        "\r",
        "[3637 %] elapsed[sec]: 0.150 | ETA[sec]: -0.146 "
       ]
      },
      {
       "output_type": "stream",
       "stream": "stderr",
       "text": [
        "\r",
        "[3713 %] elapsed[sec]: 0.151 | ETA[sec]: -0.147 "
       ]
      },
      {
       "output_type": "stream",
       "stream": "stderr",
       "text": [
        "\r",
        "[3789 %] elapsed[sec]: 0.153 | ETA[sec]: -0.149 "
       ]
      },
      {
       "output_type": "stream",
       "stream": "stderr",
       "text": [
        "\r",
        "[3867 %] elapsed[sec]: 0.155 | ETA[sec]: -0.151 "
       ]
      },
      {
       "output_type": "stream",
       "stream": "stderr",
       "text": [
        "\r",
        "[3945 %] elapsed[sec]: 0.156 | ETA[sec]: -0.152 "
       ]
      },
      {
       "output_type": "stream",
       "stream": "stderr",
       "text": [
        "\r",
        "[4024 %] elapsed[sec]: 0.158 | ETA[sec]: -0.154 "
       ]
      },
      {
       "output_type": "stream",
       "stream": "stderr",
       "text": [
        "\r",
        "[4103 %] elapsed[sec]: 0.160 | ETA[sec]: -0.156 "
       ]
      },
      {
       "output_type": "stream",
       "stream": "stderr",
       "text": [
        "\r",
        "[4184 %] elapsed[sec]: 0.162 | ETA[sec]: -0.158 "
       ]
      },
      {
       "output_type": "stream",
       "stream": "stderr",
       "text": [
        "\r",
        "[4265 %] elapsed[sec]: 0.164 | ETA[sec]: -0.160 "
       ]
      },
      {
       "output_type": "stream",
       "stream": "stderr",
       "text": [
        "\r",
        "[4347 %] elapsed[sec]: 0.166 | ETA[sec]: -0.163 "
       ]
      },
      {
       "output_type": "stream",
       "stream": "stderr",
       "text": [
        "\r",
        "[4430 %] elapsed[sec]: 0.168 | ETA[sec]: -0.164 "
       ]
      },
      {
       "output_type": "stream",
       "stream": "stderr",
       "text": [
        "\r",
        "[4514 %] elapsed[sec]: 0.169 | ETA[sec]: -0.166 "
       ]
      },
      {
       "output_type": "stream",
       "stream": "stderr",
       "text": [
        "\r",
        "[4598 %] elapsed[sec]: 0.171 | ETA[sec]: -0.167 "
       ]
      },
      {
       "output_type": "stream",
       "stream": "stderr",
       "text": [
        "\r",
        "[4683 %] elapsed[sec]: 0.172 | ETA[sec]: -0.168 "
       ]
      },
      {
       "output_type": "stream",
       "stream": "stderr",
       "text": [
        "\r",
        "[4769 %] elapsed[sec]: 0.173 | ETA[sec]: -0.169 "
       ]
      },
      {
       "output_type": "stream",
       "stream": "stderr",
       "text": [
        "\r",
        "[4856 %] elapsed[sec]: 0.174 | ETA[sec]: -0.171 "
       ]
      },
      {
       "output_type": "stream",
       "stream": "stderr",
       "text": [
        "\r",
        "[4943 %] elapsed[sec]: 0.176 | ETA[sec]: -0.172 "
       ]
      },
      {
       "output_type": "stream",
       "stream": "stderr",
       "text": [
        "\r",
        "[5032 %] elapsed[sec]: 0.177 | ETA[sec]: -0.174 "
       ]
      },
      {
       "output_type": "stream",
       "stream": "stderr",
       "text": [
        "\r",
        "[5121 %] elapsed[sec]: 0.179 | ETA[sec]: -0.176 "
       ]
      },
      {
       "output_type": "stream",
       "stream": "stderr",
       "text": [
        "\r",
        "[5210 %] elapsed[sec]: 0.181 | ETA[sec]: -0.178 "
       ]
      },
      {
       "output_type": "stream",
       "stream": "stderr",
       "text": [
        "\r",
        "[5301 %] elapsed[sec]: 0.183 | ETA[sec]: -0.180 "
       ]
      },
      {
       "output_type": "stream",
       "stream": "stderr",
       "text": [
        "\r",
        "[5392 %] elapsed[sec]: 0.185 | ETA[sec]: -0.182 "
       ]
      },
      {
       "output_type": "stream",
       "stream": "stderr",
       "text": [
        "\r",
        "[5485 %] elapsed[sec]: 0.187 | ETA[sec]: -0.184 "
       ]
      },
      {
       "output_type": "stream",
       "stream": "stderr",
       "text": [
        "\r",
        "[5578 %] elapsed[sec]: 0.189 | ETA[sec]: -0.186 "
       ]
      },
      {
       "output_type": "stream",
       "stream": "stderr",
       "text": [
        "\r",
        "[5671 %] elapsed[sec]: 0.191 | ETA[sec]: -0.188 "
       ]
      },
      {
       "output_type": "stream",
       "stream": "stderr",
       "text": [
        "\r",
        "[5766 %] elapsed[sec]: 0.193 | ETA[sec]: -0.189 "
       ]
      },
      {
       "output_type": "stream",
       "stream": "stderr",
       "text": [
        "\r",
        "[5861 %] elapsed[sec]: 0.194 | ETA[sec]: -0.191 "
       ]
      },
      {
       "output_type": "stream",
       "stream": "stderr",
       "text": [
        "\r",
        "[5957 %] elapsed[sec]: 0.196 | ETA[sec]: -0.193 "
       ]
      },
      {
       "output_type": "stream",
       "stream": "stderr",
       "text": [
        "\r",
        "[6054 %] elapsed[sec]: 0.198 | ETA[sec]: -0.195 "
       ]
      },
      {
       "output_type": "stream",
       "stream": "stderr",
       "text": [
        "\r",
        "[6152 %] elapsed[sec]: 0.199 | ETA[sec]: -0.196 "
       ]
      },
      {
       "output_type": "stream",
       "stream": "stderr",
       "text": [
        "\r",
        "[6250 %] elapsed[sec]: 0.201 | ETA[sec]: -0.198 "
       ]
      },
      {
       "output_type": "stream",
       "stream": "stderr",
       "text": [
        "\r",
        "[6350 %] elapsed[sec]: 0.203 | ETA[sec]: -0.200 "
       ]
      },
      {
       "output_type": "stream",
       "stream": "stdout",
       "text": [
        "\n",
        "Title: \n",
        "                      Started: 09/22/2014 17:23:41\n",
        "                      Finished: 09/22/2014 17:23:41\n",
        "                      Total time elapsed: 0.000 sec"
       ]
      },
      {
       "output_type": "stream",
       "stream": "stderr",
       "text": [
        "\r",
        "[  0 %] elapsed[sec]: 0.000"
       ]
      },
      {
       "output_type": "stream",
       "stream": "stdout",
       "text": [
        "\n",
        "Saving sequence results/color-seed-123460.webm"
       ]
      },
      {
       "output_type": "stream",
       "stream": "stderr",
       "text": [
        "\r",
        "[  0 %] elapsed[sec]: 0.002 | ETA[sec]: 0.302 "
       ]
      },
      {
       "output_type": "stream",
       "stream": "stderr",
       "text": [
        "\r",
        "[  2 %] elapsed[sec]: 0.004 | ETA[sec]: 0.157 "
       ]
      },
      {
       "output_type": "stream",
       "stream": "stderr",
       "text": [
        "\r",
        "[  4 %] elapsed[sec]: 0.005 | ETA[sec]: 0.103 "
       ]
      },
      {
       "output_type": "stream",
       "stream": "stderr",
       "text": [
        "\r",
        "[  7 %] elapsed[sec]: 0.006 | ETA[sec]: 0.075 "
       ]
      },
      {
       "output_type": "stream",
       "stream": "stderr",
       "text": [
        "\r",
        "[ 11 %] elapsed[sec]: 0.008 | ETA[sec]: 0.059 "
       ]
      },
      {
       "output_type": "stream",
       "stream": "stderr",
       "text": [
        "\r",
        "[ 16 %] elapsed[sec]: 0.009 | ETA[sec]: 0.047 "
       ]
      },
      {
       "output_type": "stream",
       "stream": "stderr",
       "text": [
        "\r",
        "[ 21 %] elapsed[sec]: 0.011 | ETA[sec]: 0.038 "
       ]
      },
      {
       "output_type": "stream",
       "stream": "stderr",
       "text": [
        "\r",
        "[ 28 %] elapsed[sec]: 0.012 | ETA[sec]: 0.032 "
       ]
      },
      {
       "output_type": "stream",
       "stream": "stderr",
       "text": [
        "\r",
        "[ 35 %] elapsed[sec]: 0.014 | ETA[sec]: 0.027 "
       ]
      },
      {
       "output_type": "stream",
       "stream": "stderr",
       "text": [
        "\r",
        "[ 42 %] elapsed[sec]: 0.016 | ETA[sec]: 0.022 "
       ]
      },
      {
       "output_type": "stream",
       "stream": "stderr",
       "text": [
        "\r",
        "[ 51 %] elapsed[sec]: 0.018 | ETA[sec]: 0.017 "
       ]
      },
      {
       "output_type": "stream",
       "stream": "stderr",
       "text": [
        "\r",
        "[ 60 %] elapsed[sec]: 0.020 | ETA[sec]: 0.013 "
       ]
      },
      {
       "output_type": "stream",
       "stream": "stderr",
       "text": [
        "\r",
        "[ 71 %] elapsed[sec]: 0.022 | ETA[sec]: 0.009 "
       ]
      },
      {
       "output_type": "stream",
       "stream": "stderr",
       "text": [
        "\r",
        "[ 82 %] elapsed[sec]: 0.024 | ETA[sec]: 0.005 "
       ]
      },
      {
       "output_type": "stream",
       "stream": "stderr",
       "text": [
        "\r",
        "[ 93 %] elapsed[sec]: 0.026 | ETA[sec]: 0.002 "
       ]
      },
      {
       "output_type": "stream",
       "stream": "stderr",
       "text": [
        "\r",
        "[106 %] elapsed[sec]: 0.028 | ETA[sec]: -0.002 "
       ]
      },
      {
       "output_type": "stream",
       "stream": "stderr",
       "text": [
        "\r",
        "[119 %] elapsed[sec]: 0.030 | ETA[sec]: -0.005 "
       ]
      },
      {
       "output_type": "stream",
       "stream": "stderr",
       "text": [
        "\r",
        "[133 %] elapsed[sec]: 0.033 | ETA[sec]: -0.008 "
       ]
      },
      {
       "output_type": "stream",
       "stream": "stderr",
       "text": [
        "\r",
        "[148 %] elapsed[sec]: 0.035 | ETA[sec]: -0.011 "
       ]
      },
      {
       "output_type": "stream",
       "stream": "stderr",
       "text": [
        "\r",
        "[164 %] elapsed[sec]: 0.037 | ETA[sec]: -0.014 "
       ]
      },
      {
       "output_type": "stream",
       "stream": "stderr",
       "text": [
        "\r",
        "[180 %] elapsed[sec]: 0.039 | ETA[sec]: -0.017 "
       ]
      },
      {
       "output_type": "stream",
       "stream": "stderr",
       "text": [
        "\r",
        "[197 %] elapsed[sec]: 0.041 | ETA[sec]: -0.020 "
       ]
      },
      {
       "output_type": "stream",
       "stream": "stderr",
       "text": [
        "\r",
        "[215 %] elapsed[sec]: 0.042 | ETA[sec]: -0.023 "
       ]
      },
      {
       "output_type": "stream",
       "stream": "stderr",
       "text": [
        "\r",
        "[234 %] elapsed[sec]: 0.044 | ETA[sec]: -0.025 "
       ]
      },
      {
       "output_type": "stream",
       "stream": "stderr",
       "text": [
        "\r",
        "[253 %] elapsed[sec]: 0.046 | ETA[sec]: -0.028 "
       ]
      },
      {
       "output_type": "stream",
       "stream": "stderr",
       "text": [
        "\r",
        "[274 %] elapsed[sec]: 0.048 | ETA[sec]: -0.030 "
       ]
      },
      {
       "output_type": "stream",
       "stream": "stderr",
       "text": [
        "\r",
        "[295 %] elapsed[sec]: 0.049 | ETA[sec]: -0.033 "
       ]
      },
      {
       "output_type": "stream",
       "stream": "stderr",
       "text": [
        "\r",
        "[317 %] elapsed[sec]: 0.051 | ETA[sec]: -0.035 "
       ]
      },
      {
       "output_type": "stream",
       "stream": "stderr",
       "text": [
        "\r",
        "[339 %] elapsed[sec]: 0.053 | ETA[sec]: -0.037 "
       ]
      },
      {
       "output_type": "stream",
       "stream": "stderr",
       "text": [
        "\r",
        "[363 %] elapsed[sec]: 0.054 | ETA[sec]: -0.039 "
       ]
      },
      {
       "output_type": "stream",
       "stream": "stderr",
       "text": [
        "\r",
        "[387 %] elapsed[sec]: 0.056 | ETA[sec]: -0.041 "
       ]
      },
      {
       "output_type": "stream",
       "stream": "stderr",
       "text": [
        "\r",
        "[412 %] elapsed[sec]: 0.058 | ETA[sec]: -0.044 "
       ]
      },
      {
       "output_type": "stream",
       "stream": "stderr",
       "text": [
        "\r",
        "[438 %] elapsed[sec]: 0.059 | ETA[sec]: -0.045 "
       ]
      },
      {
       "output_type": "stream",
       "stream": "stderr",
       "text": [
        "\r",
        "[464 %] elapsed[sec]: 0.060 | ETA[sec]: -0.047 "
       ]
      },
      {
       "output_type": "stream",
       "stream": "stderr",
       "text": [
        "\r",
        "[492 %] elapsed[sec]: 0.062 | ETA[sec]: -0.049 "
       ]
      },
      {
       "output_type": "stream",
       "stream": "stderr",
       "text": [
        "\r",
        "[520 %] elapsed[sec]: 0.064 | ETA[sec]: -0.052 "
       ]
      },
      {
       "output_type": "stream",
       "stream": "stderr",
       "text": [
        "\r",
        "[549 %] elapsed[sec]: 0.066 | ETA[sec]: -0.054 "
       ]
      },
      {
       "output_type": "stream",
       "stream": "stderr",
       "text": [
        "\r",
        "[578 %] elapsed[sec]: 0.067 | ETA[sec]: -0.056 "
       ]
      },
      {
       "output_type": "stream",
       "stream": "stderr",
       "text": [
        "\r",
        "[609 %] elapsed[sec]: 0.069 | ETA[sec]: -0.058 "
       ]
      },
      {
       "output_type": "stream",
       "stream": "stderr",
       "text": [
        "\r",
        "[640 %] elapsed[sec]: 0.071 | ETA[sec]: -0.060 "
       ]
      },
      {
       "output_type": "stream",
       "stream": "stderr",
       "text": [
        "\r",
        "[672 %] elapsed[sec]: 0.073 | ETA[sec]: -0.062 "
       ]
      },
      {
       "output_type": "stream",
       "stream": "stderr",
       "text": [
        "\r",
        "[705 %] elapsed[sec]: 0.074 | ETA[sec]: -0.063 "
       ]
      },
      {
       "output_type": "stream",
       "stream": "stderr",
       "text": [
        "\r",
        "[739 %] elapsed[sec]: 0.075 | ETA[sec]: -0.065 "
       ]
      },
      {
       "output_type": "stream",
       "stream": "stderr",
       "text": [
        "\r",
        "[773 %] elapsed[sec]: 0.077 | ETA[sec]: -0.067 "
       ]
      },
      {
       "output_type": "stream",
       "stream": "stderr",
       "text": [
        "\r",
        "[808 %] elapsed[sec]: 0.079 | ETA[sec]: -0.069 "
       ]
      },
      {
       "output_type": "stream",
       "stream": "stderr",
       "text": [
        "\r",
        "[844 %] elapsed[sec]: 0.080 | ETA[sec]: -0.071 "
       ]
      },
      {
       "output_type": "stream",
       "stream": "stderr",
       "text": [
        "\r",
        "[881 %] elapsed[sec]: 0.082 | ETA[sec]: -0.072 "
       ]
      },
      {
       "output_type": "stream",
       "stream": "stderr",
       "text": [
        "\r",
        "[918 %] elapsed[sec]: 0.083 | ETA[sec]: -0.074 "
       ]
      },
      {
       "output_type": "stream",
       "stream": "stderr",
       "text": [
        "\r",
        "[957 %] elapsed[sec]: 0.084 | ETA[sec]: -0.075 "
       ]
      },
      {
       "output_type": "stream",
       "stream": "stderr",
       "text": [
        "\r",
        "[996 %] elapsed[sec]: 0.086 | ETA[sec]: -0.077 "
       ]
      },
      {
       "output_type": "stream",
       "stream": "stderr",
       "text": [
        "\r",
        "[1035 %] elapsed[sec]: 0.088 | ETA[sec]: -0.079 "
       ]
      },
      {
       "output_type": "stream",
       "stream": "stderr",
       "text": [
        "\r",
        "[1076 %] elapsed[sec]: 0.089 | ETA[sec]: -0.081 "
       ]
      },
      {
       "output_type": "stream",
       "stream": "stderr",
       "text": [
        "\r",
        "[1117 %] elapsed[sec]: 0.091 | ETA[sec]: -0.083 "
       ]
      },
      {
       "output_type": "stream",
       "stream": "stderr",
       "text": [
        "\r",
        "[1160 %] elapsed[sec]: 0.093 | ETA[sec]: -0.085 "
       ]
      },
      {
       "output_type": "stream",
       "stream": "stderr",
       "text": [
        "\r",
        "[1203 %] elapsed[sec]: 0.095 | ETA[sec]: -0.087 "
       ]
      },
      {
       "output_type": "stream",
       "stream": "stderr",
       "text": [
        "\r",
        "[1246 %] elapsed[sec]: 0.097 | ETA[sec]: -0.089 "
       ]
      },
      {
       "output_type": "stream",
       "stream": "stderr",
       "text": [
        "\r",
        "[1291 %] elapsed[sec]: 0.098 | ETA[sec]: -0.090 "
       ]
      },
      {
       "output_type": "stream",
       "stream": "stderr",
       "text": [
        "\r",
        "[1336 %] elapsed[sec]: 0.100 | ETA[sec]: -0.092 "
       ]
      },
      {
       "output_type": "stream",
       "stream": "stderr",
       "text": [
        "\r",
        "[1382 %] elapsed[sec]: 0.101 | ETA[sec]: -0.094 "
       ]
      },
      {
       "output_type": "stream",
       "stream": "stderr",
       "text": [
        "\r",
        "[1429 %] elapsed[sec]: 0.103 | ETA[sec]: -0.095 "
       ]
      },
      {
       "output_type": "stream",
       "stream": "stderr",
       "text": [
        "\r",
        "[1477 %] elapsed[sec]: 0.104 | ETA[sec]: -0.097 "
       ]
      },
      {
       "output_type": "stream",
       "stream": "stderr",
       "text": [
        "\r",
        "[1525 %] elapsed[sec]: 0.105 | ETA[sec]: -0.098 "
       ]
      },
      {
       "output_type": "stream",
       "stream": "stderr",
       "text": [
        "\r",
        "[1575 %] elapsed[sec]: 0.107 | ETA[sec]: -0.100 "
       ]
      },
      {
       "output_type": "stream",
       "stream": "stderr",
       "text": [
        "\r",
        "[1625 %] elapsed[sec]: 0.108 | ETA[sec]: -0.101 "
       ]
      },
      {
       "output_type": "stream",
       "stream": "stderr",
       "text": [
        "\r",
        "[1675 %] elapsed[sec]: 0.109 | ETA[sec]: -0.102 "
       ]
      },
      {
       "output_type": "stream",
       "stream": "stderr",
       "text": [
        "\r",
        "[1727 %] elapsed[sec]: 0.111 | ETA[sec]: -0.105 "
       ]
      },
      {
       "output_type": "stream",
       "stream": "stderr",
       "text": [
        "\r",
        "[1779 %] elapsed[sec]: 0.113 | ETA[sec]: -0.106 "
       ]
      },
      {
       "output_type": "stream",
       "stream": "stderr",
       "text": [
        "\r",
        "[1832 %] elapsed[sec]: 0.114 | ETA[sec]: -0.108 "
       ]
      },
      {
       "output_type": "stream",
       "stream": "stderr",
       "text": [
        "\r",
        "[1886 %] elapsed[sec]: 0.116 | ETA[sec]: -0.109 "
       ]
      },
      {
       "output_type": "stream",
       "stream": "stderr",
       "text": [
        "\r",
        "[1941 %] elapsed[sec]: 0.117 | ETA[sec]: -0.111 "
       ]
      },
      {
       "output_type": "stream",
       "stream": "stderr",
       "text": [
        "\r",
        "[1996 %] elapsed[sec]: 0.119 | ETA[sec]: -0.113 "
       ]
      },
      {
       "output_type": "stream",
       "stream": "stderr",
       "text": [
        "\r",
        "[2053 %] elapsed[sec]: 0.120 | ETA[sec]: -0.114 "
       ]
      },
      {
       "output_type": "stream",
       "stream": "stderr",
       "text": [
        "\r",
        "[2110 %] elapsed[sec]: 0.122 | ETA[sec]: -0.116 "
       ]
      },
      {
       "output_type": "stream",
       "stream": "stderr",
       "text": [
        "\r",
        "[2167 %] elapsed[sec]: 0.124 | ETA[sec]: -0.118 "
       ]
      },
      {
       "output_type": "stream",
       "stream": "stderr",
       "text": [
        "\r",
        "[2226 %] elapsed[sec]: 0.125 | ETA[sec]: -0.120 "
       ]
      },
      {
       "output_type": "stream",
       "stream": "stderr",
       "text": [
        "\r",
        "[2285 %] elapsed[sec]: 0.128 | ETA[sec]: -0.122 "
       ]
      },
      {
       "output_type": "stream",
       "stream": "stderr",
       "text": [
        "\r",
        "[2346 %] elapsed[sec]: 0.130 | ETA[sec]: -0.124 "
       ]
      },
      {
       "output_type": "stream",
       "stream": "stderr",
       "text": [
        "\r",
        "[2407 %] elapsed[sec]: 0.132 | ETA[sec]: -0.126 "
       ]
      },
      {
       "output_type": "stream",
       "stream": "stderr",
       "text": [
        "\r",
        "[2468 %] elapsed[sec]: 0.134 | ETA[sec]: -0.128 "
       ]
      },
      {
       "output_type": "stream",
       "stream": "stderr",
       "text": [
        "\r",
        "[2531 %] elapsed[sec]: 0.135 | ETA[sec]: -0.130 "
       ]
      },
      {
       "output_type": "stream",
       "stream": "stderr",
       "text": [
        "\r",
        "[2594 %] elapsed[sec]: 0.137 | ETA[sec]: -0.132 "
       ]
      },
      {
       "output_type": "stream",
       "stream": "stderr",
       "text": [
        "\r",
        "[2658 %] elapsed[sec]: 0.139 | ETA[sec]: -0.133 "
       ]
      },
      {
       "output_type": "stream",
       "stream": "stderr",
       "text": [
        "\r",
        "[2723 %] elapsed[sec]: 0.140 | ETA[sec]: -0.135 "
       ]
      },
      {
       "output_type": "stream",
       "stream": "stderr",
       "text": [
        "\r",
        "[2789 %] elapsed[sec]: 0.141 | ETA[sec]: -0.136 "
       ]
      },
      {
       "output_type": "stream",
       "stream": "stderr",
       "text": [
        "\r",
        "[2855 %] elapsed[sec]: 0.142 | ETA[sec]: -0.137 "
       ]
      },
      {
       "output_type": "stream",
       "stream": "stderr",
       "text": [
        "\r",
        "[2922 %] elapsed[sec]: 0.144 | ETA[sec]: -0.139 "
       ]
      },
      {
       "output_type": "stream",
       "stream": "stderr",
       "text": [
        "\r",
        "[2990 %] elapsed[sec]: 0.146 | ETA[sec]: -0.141 "
       ]
      },
      {
       "output_type": "stream",
       "stream": "stderr",
       "text": [
        "\r",
        "[3059 %] elapsed[sec]: 0.147 | ETA[sec]: -0.142 "
       ]
      },
      {
       "output_type": "stream",
       "stream": "stderr",
       "text": [
        "\r",
        "[3128 %] elapsed[sec]: 0.148 | ETA[sec]: -0.144 "
       ]
      },
      {
       "output_type": "stream",
       "stream": "stderr",
       "text": [
        "\r",
        "[3199 %] elapsed[sec]: 0.149 | ETA[sec]: -0.145 "
       ]
      },
      {
       "output_type": "stream",
       "stream": "stderr",
       "text": [
        "\r",
        "[3270 %] elapsed[sec]: 0.151 | ETA[sec]: -0.146 "
       ]
      },
      {
       "output_type": "stream",
       "stream": "stderr",
       "text": [
        "\r",
        "[3342 %] elapsed[sec]: 0.152 | ETA[sec]: -0.147 "
       ]
      },
      {
       "output_type": "stream",
       "stream": "stderr",
       "text": [
        "\r",
        "[3414 %] elapsed[sec]: 0.153 | ETA[sec]: -0.149 "
       ]
      },
      {
       "output_type": "stream",
       "stream": "stderr",
       "text": [
        "\r",
        "[3488 %] elapsed[sec]: 0.154 | ETA[sec]: -0.150 "
       ]
      },
      {
       "output_type": "stream",
       "stream": "stderr",
       "text": [
        "\r",
        "[3562 %] elapsed[sec]: 0.156 | ETA[sec]: -0.152 "
       ]
      },
      {
       "output_type": "stream",
       "stream": "stderr",
       "text": [
        "\r",
        "[3637 %] elapsed[sec]: 0.158 | ETA[sec]: -0.154 "
       ]
      },
      {
       "output_type": "stream",
       "stream": "stderr",
       "text": [
        "\r",
        "[3713 %] elapsed[sec]: 0.159 | ETA[sec]: -0.155 "
       ]
      },
      {
       "output_type": "stream",
       "stream": "stderr",
       "text": [
        "\r",
        "[3789 %] elapsed[sec]: 0.161 | ETA[sec]: -0.156 "
       ]
      },
      {
       "output_type": "stream",
       "stream": "stderr",
       "text": [
        "\r",
        "[3867 %] elapsed[sec]: 0.162 | ETA[sec]: -0.158 "
       ]
      },
      {
       "output_type": "stream",
       "stream": "stderr",
       "text": [
        "\r",
        "[3945 %] elapsed[sec]: 0.163 | ETA[sec]: -0.159 "
       ]
      },
      {
       "output_type": "stream",
       "stream": "stderr",
       "text": [
        "\r",
        "[4024 %] elapsed[sec]: 0.164 | ETA[sec]: -0.160 "
       ]
      },
      {
       "output_type": "stream",
       "stream": "stderr",
       "text": [
        "\r",
        "[4103 %] elapsed[sec]: 0.166 | ETA[sec]: -0.162 "
       ]
      },
      {
       "output_type": "stream",
       "stream": "stderr",
       "text": [
        "\r",
        "[4184 %] elapsed[sec]: 0.168 | ETA[sec]: -0.164 "
       ]
      },
      {
       "output_type": "stream",
       "stream": "stderr",
       "text": [
        "\r",
        "[4265 %] elapsed[sec]: 0.169 | ETA[sec]: -0.165 "
       ]
      },
      {
       "output_type": "stream",
       "stream": "stderr",
       "text": [
        "\r",
        "[4347 %] elapsed[sec]: 0.171 | ETA[sec]: -0.167 "
       ]
      },
      {
       "output_type": "stream",
       "stream": "stderr",
       "text": [
        "\r",
        "[4430 %] elapsed[sec]: 0.172 | ETA[sec]: -0.168 "
       ]
      },
      {
       "output_type": "stream",
       "stream": "stderr",
       "text": [
        "\r",
        "[4514 %] elapsed[sec]: 0.173 | ETA[sec]: -0.169 "
       ]
      },
      {
       "output_type": "stream",
       "stream": "stderr",
       "text": [
        "\r",
        "[4598 %] elapsed[sec]: 0.175 | ETA[sec]: -0.171 "
       ]
      },
      {
       "output_type": "stream",
       "stream": "stderr",
       "text": [
        "\r",
        "[4683 %] elapsed[sec]: 0.176 | ETA[sec]: -0.172 "
       ]
      },
      {
       "output_type": "stream",
       "stream": "stderr",
       "text": [
        "\r",
        "[4769 %] elapsed[sec]: 0.177 | ETA[sec]: -0.173 "
       ]
      },
      {
       "output_type": "stream",
       "stream": "stderr",
       "text": [
        "\r",
        "[4856 %] elapsed[sec]: 0.179 | ETA[sec]: -0.175 "
       ]
      },
      {
       "output_type": "stream",
       "stream": "stderr",
       "text": [
        "\r",
        "[4943 %] elapsed[sec]: 0.181 | ETA[sec]: -0.177 "
       ]
      },
      {
       "output_type": "stream",
       "stream": "stderr",
       "text": [
        "\r",
        "[5032 %] elapsed[sec]: 0.182 | ETA[sec]: -0.178 "
       ]
      },
      {
       "output_type": "stream",
       "stream": "stderr",
       "text": [
        "\r",
        "[5121 %] elapsed[sec]: 0.183 | ETA[sec]: -0.180 "
       ]
      },
      {
       "output_type": "stream",
       "stream": "stderr",
       "text": [
        "\r",
        "[5210 %] elapsed[sec]: 0.185 | ETA[sec]: -0.181 "
       ]
      },
      {
       "output_type": "stream",
       "stream": "stderr",
       "text": [
        "\r",
        "[5301 %] elapsed[sec]: 0.186 | ETA[sec]: -0.183 "
       ]
      },
      {
       "output_type": "stream",
       "stream": "stderr",
       "text": [
        "\r",
        "[5392 %] elapsed[sec]: 0.188 | ETA[sec]: -0.184 "
       ]
      },
      {
       "output_type": "stream",
       "stream": "stderr",
       "text": [
        "\r",
        "[5485 %] elapsed[sec]: 0.189 | ETA[sec]: -0.186 "
       ]
      },
      {
       "output_type": "stream",
       "stream": "stderr",
       "text": [
        "\r",
        "[5578 %] elapsed[sec]: 0.191 | ETA[sec]: -0.187 "
       ]
      },
      {
       "output_type": "stream",
       "stream": "stderr",
       "text": [
        "\r",
        "[5671 %] elapsed[sec]: 0.192 | ETA[sec]: -0.189 "
       ]
      },
      {
       "output_type": "stream",
       "stream": "stderr",
       "text": [
        "\r",
        "[5766 %] elapsed[sec]: 0.194 | ETA[sec]: -0.190 "
       ]
      },
      {
       "output_type": "stream",
       "stream": "stderr",
       "text": [
        "\r",
        "[5861 %] elapsed[sec]: 0.195 | ETA[sec]: -0.192 "
       ]
      },
      {
       "output_type": "stream",
       "stream": "stderr",
       "text": [
        "\r",
        "[5957 %] elapsed[sec]: 0.196 | ETA[sec]: -0.193 "
       ]
      },
      {
       "output_type": "stream",
       "stream": "stderr",
       "text": [
        "\r",
        "[6054 %] elapsed[sec]: 0.197 | ETA[sec]: -0.194 "
       ]
      },
      {
       "output_type": "stream",
       "stream": "stderr",
       "text": [
        "\r",
        "[6152 %] elapsed[sec]: 0.199 | ETA[sec]: -0.195 "
       ]
      },
      {
       "output_type": "stream",
       "stream": "stderr",
       "text": [
        "\r",
        "[6250 %] elapsed[sec]: 0.200 | ETA[sec]: -0.197 "
       ]
      },
      {
       "output_type": "stream",
       "stream": "stderr",
       "text": [
        "\r",
        "[6350 %] elapsed[sec]: 0.202 | ETA[sec]: -0.199 "
       ]
      },
      {
       "output_type": "stream",
       "stream": "stdout",
       "text": [
        "\n",
        "Title: \n",
        "                      Started: 09/22/2014 17:23:42\n",
        "                      Finished: 09/22/2014 17:23:42\n",
        "                      Total time elapsed: 0.000 sec"
       ]
      },
      {
       "output_type": "stream",
       "stream": "stderr",
       "text": [
        "\r",
        "[  0 %] elapsed[sec]: 0.000"
       ]
      },
      {
       "output_type": "stream",
       "stream": "stdout",
       "text": [
        "\n",
        "Saving sequence results/color-seed-123461.webm"
       ]
      },
      {
       "output_type": "stream",
       "stream": "stderr",
       "text": [
        "\r",
        "[  0 %] elapsed[sec]: 0.002 | ETA[sec]: 0.217 "
       ]
      },
      {
       "output_type": "stream",
       "stream": "stderr",
       "text": [
        "\r",
        "[  2 %] elapsed[sec]: 0.003 | ETA[sec]: 0.122 "
       ]
      },
      {
       "output_type": "stream",
       "stream": "stderr",
       "text": [
        "\r",
        "[  4 %] elapsed[sec]: 0.004 | ETA[sec]: 0.084 "
       ]
      },
      {
       "output_type": "stream",
       "stream": "stderr",
       "text": [
        "\r",
        "[  7 %] elapsed[sec]: 0.005 | ETA[sec]: 0.063 "
       ]
      },
      {
       "output_type": "stream",
       "stream": "stderr",
       "text": [
        "\r",
        "[ 11 %] elapsed[sec]: 0.006 | ETA[sec]: 0.049 "
       ]
      },
      {
       "output_type": "stream",
       "stream": "stderr",
       "text": [
        "\r",
        "[ 16 %] elapsed[sec]: 0.008 | ETA[sec]: 0.039 "
       ]
      },
      {
       "output_type": "stream",
       "stream": "stderr",
       "text": [
        "\r",
        "[ 21 %] elapsed[sec]: 0.009 | ETA[sec]: 0.032 "
       ]
      },
      {
       "output_type": "stream",
       "stream": "stderr",
       "text": [
        "\r",
        "[ 28 %] elapsed[sec]: 0.010 | ETA[sec]: 0.026 "
       ]
      },
      {
       "output_type": "stream",
       "stream": "stderr",
       "text": [
        "\r",
        "[ 35 %] elapsed[sec]: 0.011 | ETA[sec]: 0.021 "
       ]
      },
      {
       "output_type": "stream",
       "stream": "stderr",
       "text": [
        "\r",
        "[ 42 %] elapsed[sec]: 0.013 | ETA[sec]: 0.017 "
       ]
      },
      {
       "output_type": "stream",
       "stream": "stderr",
       "text": [
        "\r",
        "[ 51 %] elapsed[sec]: 0.014 | ETA[sec]: 0.013 "
       ]
      },
      {
       "output_type": "stream",
       "stream": "stderr",
       "text": [
        "\r",
        "[ 60 %] elapsed[sec]: 0.015 | ETA[sec]: 0.010 "
       ]
      },
      {
       "output_type": "stream",
       "stream": "stderr",
       "text": [
        "\r",
        "[ 71 %] elapsed[sec]: 0.016 | ETA[sec]: 0.007 "
       ]
      },
      {
       "output_type": "stream",
       "stream": "stderr",
       "text": [
        "\r",
        "[ 82 %] elapsed[sec]: 0.017 | ETA[sec]: 0.004 "
       ]
      },
      {
       "output_type": "stream",
       "stream": "stderr",
       "text": [
        "\r",
        "[ 93 %] elapsed[sec]: 0.019 | ETA[sec]: 0.001 "
       ]
      },
      {
       "output_type": "stream",
       "stream": "stderr",
       "text": [
        "\r",
        "[106 %] elapsed[sec]: 0.020 | ETA[sec]: -0.001 "
       ]
      },
      {
       "output_type": "stream",
       "stream": "stderr",
       "text": [
        "\r",
        "[119 %] elapsed[sec]: 0.022 | ETA[sec]: -0.004 "
       ]
      },
      {
       "output_type": "stream",
       "stream": "stderr",
       "text": [
        "\r",
        "[133 %] elapsed[sec]: 0.024 | ETA[sec]: -0.006 "
       ]
      },
      {
       "output_type": "stream",
       "stream": "stderr",
       "text": [
        "\r",
        "[148 %] elapsed[sec]: 0.025 | ETA[sec]: -0.008 "
       ]
      },
      {
       "output_type": "stream",
       "stream": "stderr",
       "text": [
        "\r",
        "[164 %] elapsed[sec]: 0.027 | ETA[sec]: -0.011 "
       ]
      },
      {
       "output_type": "stream",
       "stream": "stderr",
       "text": [
        "\r",
        "[180 %] elapsed[sec]: 0.029 | ETA[sec]: -0.013 "
       ]
      },
      {
       "output_type": "stream",
       "stream": "stderr",
       "text": [
        "\r",
        "[197 %] elapsed[sec]: 0.031 | ETA[sec]: -0.015 "
       ]
      },
      {
       "output_type": "stream",
       "stream": "stderr",
       "text": [
        "\r",
        "[215 %] elapsed[sec]: 0.033 | ETA[sec]: -0.018 "
       ]
      },
      {
       "output_type": "stream",
       "stream": "stderr",
       "text": [
        "\r",
        "[234 %] elapsed[sec]: 0.035 | ETA[sec]: -0.020 "
       ]
      },
      {
       "output_type": "stream",
       "stream": "stderr",
       "text": [
        "\r",
        "[253 %] elapsed[sec]: 0.037 | ETA[sec]: -0.022 "
       ]
      },
      {
       "output_type": "stream",
       "stream": "stderr",
       "text": [
        "\r",
        "[274 %] elapsed[sec]: 0.039 | ETA[sec]: -0.025 "
       ]
      },
      {
       "output_type": "stream",
       "stream": "stderr",
       "text": [
        "\r",
        "[295 %] elapsed[sec]: 0.040 | ETA[sec]: -0.027 "
       ]
      },
      {
       "output_type": "stream",
       "stream": "stderr",
       "text": [
        "\r",
        "[317 %] elapsed[sec]: 0.042 | ETA[sec]: -0.029 "
       ]
      },
      {
       "output_type": "stream",
       "stream": "stderr",
       "text": [
        "\r",
        "[339 %] elapsed[sec]: 0.044 | ETA[sec]: -0.031 "
       ]
      },
      {
       "output_type": "stream",
       "stream": "stderr",
       "text": [
        "\r",
        "[363 %] elapsed[sec]: 0.046 | ETA[sec]: -0.033 "
       ]
      },
      {
       "output_type": "stream",
       "stream": "stderr",
       "text": [
        "\r",
        "[387 %] elapsed[sec]: 0.048 | ETA[sec]: -0.036 "
       ]
      },
      {
       "output_type": "stream",
       "stream": "stderr",
       "text": [
        "\r",
        "[412 %] elapsed[sec]: 0.050 | ETA[sec]: -0.038 "
       ]
      },
      {
       "output_type": "stream",
       "stream": "stderr",
       "text": [
        "\r",
        "[438 %] elapsed[sec]: 0.053 | ETA[sec]: -0.041 "
       ]
      },
      {
       "output_type": "stream",
       "stream": "stderr",
       "text": [
        "\r",
        "[464 %] elapsed[sec]: 0.054 | ETA[sec]: -0.042 "
       ]
      },
      {
       "output_type": "stream",
       "stream": "stderr",
       "text": [
        "\r",
        "[492 %] elapsed[sec]: 0.055 | ETA[sec]: -0.044 "
       ]
      },
      {
       "output_type": "stream",
       "stream": "stderr",
       "text": [
        "\r",
        "[520 %] elapsed[sec]: 0.057 | ETA[sec]: -0.046 "
       ]
      },
      {
       "output_type": "stream",
       "stream": "stderr",
       "text": [
        "\r",
        "[549 %] elapsed[sec]: 0.058 | ETA[sec]: -0.048 "
       ]
      },
      {
       "output_type": "stream",
       "stream": "stderr",
       "text": [
        "\r",
        "[578 %] elapsed[sec]: 0.060 | ETA[sec]: -0.049 "
       ]
      },
      {
       "output_type": "stream",
       "stream": "stderr",
       "text": [
        "\r",
        "[609 %] elapsed[sec]: 0.061 | ETA[sec]: -0.051 "
       ]
      },
      {
       "output_type": "stream",
       "stream": "stderr",
       "text": [
        "\r",
        "[640 %] elapsed[sec]: 0.062 | ETA[sec]: -0.053 "
       ]
      },
      {
       "output_type": "stream",
       "stream": "stderr",
       "text": [
        "\r",
        "[672 %] elapsed[sec]: 0.063 | ETA[sec]: -0.054 "
       ]
      },
      {
       "output_type": "stream",
       "stream": "stderr",
       "text": [
        "\r",
        "[705 %] elapsed[sec]: 0.065 | ETA[sec]: -0.056 "
       ]
      },
      {
       "output_type": "stream",
       "stream": "stderr",
       "text": [
        "\r",
        "[739 %] elapsed[sec]: 0.066 | ETA[sec]: -0.057 "
       ]
      },
      {
       "output_type": "stream",
       "stream": "stderr",
       "text": [
        "\r",
        "[773 %] elapsed[sec]: 0.068 | ETA[sec]: -0.059 "
       ]
      },
      {
       "output_type": "stream",
       "stream": "stderr",
       "text": [
        "\r",
        "[808 %] elapsed[sec]: 0.069 | ETA[sec]: -0.061 "
       ]
      },
      {
       "output_type": "stream",
       "stream": "stderr",
       "text": [
        "\r",
        "[844 %] elapsed[sec]: 0.071 | ETA[sec]: -0.062 "
       ]
      },
      {
       "output_type": "stream",
       "stream": "stderr",
       "text": [
        "\r",
        "[881 %] elapsed[sec]: 0.072 | ETA[sec]: -0.064 "
       ]
      },
      {
       "output_type": "stream",
       "stream": "stderr",
       "text": [
        "\r",
        "[918 %] elapsed[sec]: 0.073 | ETA[sec]: -0.066 "
       ]
      },
      {
       "output_type": "stream",
       "stream": "stderr",
       "text": [
        "\r",
        "[957 %] elapsed[sec]: 0.075 | ETA[sec]: -0.067 "
       ]
      },
      {
       "output_type": "stream",
       "stream": "stderr",
       "text": [
        "\r",
        "[996 %] elapsed[sec]: 0.077 | ETA[sec]: -0.069 "
       ]
      },
      {
       "output_type": "stream",
       "stream": "stderr",
       "text": [
        "\r",
        "[1035 %] elapsed[sec]: 0.079 | ETA[sec]: -0.071 "
       ]
      },
      {
       "output_type": "stream",
       "stream": "stderr",
       "text": [
        "\r",
        "[1076 %] elapsed[sec]: 0.080 | ETA[sec]: -0.073 "
       ]
      },
      {
       "output_type": "stream",
       "stream": "stderr",
       "text": [
        "\r",
        "[1117 %] elapsed[sec]: 0.082 | ETA[sec]: -0.075 "
       ]
      },
      {
       "output_type": "stream",
       "stream": "stderr",
       "text": [
        "\r",
        "[1160 %] elapsed[sec]: 0.083 | ETA[sec]: -0.076 "
       ]
      },
      {
       "output_type": "stream",
       "stream": "stderr",
       "text": [
        "\r",
        "[1203 %] elapsed[sec]: 0.084 | ETA[sec]: -0.077 "
       ]
      },
      {
       "output_type": "stream",
       "stream": "stderr",
       "text": [
        "\r",
        "[1246 %] elapsed[sec]: 0.086 | ETA[sec]: -0.079 "
       ]
      },
      {
       "output_type": "stream",
       "stream": "stderr",
       "text": [
        "\r",
        "[1291 %] elapsed[sec]: 0.088 | ETA[sec]: -0.081 "
       ]
      },
      {
       "output_type": "stream",
       "stream": "stderr",
       "text": [
        "\r",
        "[1336 %] elapsed[sec]: 0.089 | ETA[sec]: -0.083 "
       ]
      },
      {
       "output_type": "stream",
       "stream": "stderr",
       "text": [
        "\r",
        "[1382 %] elapsed[sec]: 0.091 | ETA[sec]: -0.084 "
       ]
      },
      {
       "output_type": "stream",
       "stream": "stderr",
       "text": [
        "\r",
        "[1429 %] elapsed[sec]: 0.092 | ETA[sec]: -0.085 "
       ]
      },
      {
       "output_type": "stream",
       "stream": "stderr",
       "text": [
        "\r",
        "[1477 %] elapsed[sec]: 0.093 | ETA[sec]: -0.087 "
       ]
      },
      {
       "output_type": "stream",
       "stream": "stderr",
       "text": [
        "\r",
        "[1525 %] elapsed[sec]: 0.094 | ETA[sec]: -0.088 "
       ]
      },
      {
       "output_type": "stream",
       "stream": "stderr",
       "text": [
        "\r",
        "[1575 %] elapsed[sec]: 0.096 | ETA[sec]: -0.090 "
       ]
      },
      {
       "output_type": "stream",
       "stream": "stderr",
       "text": [
        "\r",
        "[1625 %] elapsed[sec]: 0.097 | ETA[sec]: -0.091 "
       ]
      },
      {
       "output_type": "stream",
       "stream": "stderr",
       "text": [
        "\r",
        "[1675 %] elapsed[sec]: 0.099 | ETA[sec]: -0.093 "
       ]
      },
      {
       "output_type": "stream",
       "stream": "stderr",
       "text": [
        "\r",
        "[1727 %] elapsed[sec]: 0.101 | ETA[sec]: -0.095 "
       ]
      },
      {
       "output_type": "stream",
       "stream": "stderr",
       "text": [
        "\r",
        "[1779 %] elapsed[sec]: 0.102 | ETA[sec]: -0.096 "
       ]
      },
      {
       "output_type": "stream",
       "stream": "stderr",
       "text": [
        "\r",
        "[1832 %] elapsed[sec]: 0.103 | ETA[sec]: -0.097 "
       ]
      },
      {
       "output_type": "stream",
       "stream": "stderr",
       "text": [
        "\r",
        "[1886 %] elapsed[sec]: 0.104 | ETA[sec]: -0.099 "
       ]
      },
      {
       "output_type": "stream",
       "stream": "stderr",
       "text": [
        "\r",
        "[1941 %] elapsed[sec]: 0.106 | ETA[sec]: -0.100 "
       ]
      },
      {
       "output_type": "stream",
       "stream": "stderr",
       "text": [
        "\r",
        "[1996 %] elapsed[sec]: 0.107 | ETA[sec]: -0.102 "
       ]
      },
      {
       "output_type": "stream",
       "stream": "stderr",
       "text": [
        "\r",
        "[2053 %] elapsed[sec]: 0.108 | ETA[sec]: -0.103 "
       ]
      },
      {
       "output_type": "stream",
       "stream": "stderr",
       "text": [
        "\r",
        "[2110 %] elapsed[sec]: 0.110 | ETA[sec]: -0.105 "
       ]
      },
      {
       "output_type": "stream",
       "stream": "stderr",
       "text": [
        "\r",
        "[2167 %] elapsed[sec]: 0.111 | ETA[sec]: -0.106 "
       ]
      },
      {
       "output_type": "stream",
       "stream": "stderr",
       "text": [
        "\r",
        "[2226 %] elapsed[sec]: 0.112 | ETA[sec]: -0.107 "
       ]
      },
      {
       "output_type": "stream",
       "stream": "stderr",
       "text": [
        "\r",
        "[2285 %] elapsed[sec]: 0.113 | ETA[sec]: -0.108 "
       ]
      },
      {
       "output_type": "stream",
       "stream": "stderr",
       "text": [
        "\r",
        "[2346 %] elapsed[sec]: 0.115 | ETA[sec]: -0.110 "
       ]
      },
      {
       "output_type": "stream",
       "stream": "stderr",
       "text": [
        "\r",
        "[2407 %] elapsed[sec]: 0.116 | ETA[sec]: -0.111 "
       ]
      },
      {
       "output_type": "stream",
       "stream": "stderr",
       "text": [
        "\r",
        "[2468 %] elapsed[sec]: 0.117 | ETA[sec]: -0.112 "
       ]
      },
      {
       "output_type": "stream",
       "stream": "stderr",
       "text": [
        "\r",
        "[2531 %] elapsed[sec]: 0.119 | ETA[sec]: -0.114 "
       ]
      },
      {
       "output_type": "stream",
       "stream": "stderr",
       "text": [
        "\r",
        "[2594 %] elapsed[sec]: 0.121 | ETA[sec]: -0.116 "
       ]
      },
      {
       "output_type": "stream",
       "stream": "stderr",
       "text": [
        "\r",
        "[2658 %] elapsed[sec]: 0.123 | ETA[sec]: -0.118 "
       ]
      },
      {
       "output_type": "stream",
       "stream": "stderr",
       "text": [
        "\r",
        "[2723 %] elapsed[sec]: 0.125 | ETA[sec]: -0.120 "
       ]
      },
      {
       "output_type": "stream",
       "stream": "stderr",
       "text": [
        "\r",
        "[2789 %] elapsed[sec]: 0.127 | ETA[sec]: -0.122 "
       ]
      },
      {
       "output_type": "stream",
       "stream": "stderr",
       "text": [
        "\r",
        "[2855 %] elapsed[sec]: 0.128 | ETA[sec]: -0.123 "
       ]
      },
      {
       "output_type": "stream",
       "stream": "stderr",
       "text": [
        "\r",
        "[2922 %] elapsed[sec]: 0.129 | ETA[sec]: -0.125 "
       ]
      },
      {
       "output_type": "stream",
       "stream": "stderr",
       "text": [
        "\r",
        "[2990 %] elapsed[sec]: 0.130 | ETA[sec]: -0.126 "
       ]
      },
      {
       "output_type": "stream",
       "stream": "stderr",
       "text": [
        "\r",
        "[3059 %] elapsed[sec]: 0.132 | ETA[sec]: -0.127 "
       ]
      },
      {
       "output_type": "stream",
       "stream": "stderr",
       "text": [
        "\r",
        "[3128 %] elapsed[sec]: 0.133 | ETA[sec]: -0.129 "
       ]
      },
      {
       "output_type": "stream",
       "stream": "stderr",
       "text": [
        "\r",
        "[3199 %] elapsed[sec]: 0.134 | ETA[sec]: -0.130 "
       ]
      },
      {
       "output_type": "stream",
       "stream": "stderr",
       "text": [
        "\r",
        "[3270 %] elapsed[sec]: 0.135 | ETA[sec]: -0.131 "
       ]
      },
      {
       "output_type": "stream",
       "stream": "stderr",
       "text": [
        "\r",
        "[3342 %] elapsed[sec]: 0.137 | ETA[sec]: -0.133 "
       ]
      },
      {
       "output_type": "stream",
       "stream": "stderr",
       "text": [
        "\r",
        "[3414 %] elapsed[sec]: 0.138 | ETA[sec]: -0.134 "
       ]
      },
      {
       "output_type": "stream",
       "stream": "stderr",
       "text": [
        "\r",
        "[3488 %] elapsed[sec]: 0.140 | ETA[sec]: -0.136 "
       ]
      },
      {
       "output_type": "stream",
       "stream": "stderr",
       "text": [
        "\r",
        "[3562 %] elapsed[sec]: 0.142 | ETA[sec]: -0.138 "
       ]
      },
      {
       "output_type": "stream",
       "stream": "stderr",
       "text": [
        "\r",
        "[3637 %] elapsed[sec]: 0.144 | ETA[sec]: -0.140 "
       ]
      },
      {
       "output_type": "stream",
       "stream": "stderr",
       "text": [
        "\r",
        "[3713 %] elapsed[sec]: 0.145 | ETA[sec]: -0.141 "
       ]
      },
      {
       "output_type": "stream",
       "stream": "stderr",
       "text": [
        "\r",
        "[3789 %] elapsed[sec]: 0.146 | ETA[sec]: -0.142 "
       ]
      },
      {
       "output_type": "stream",
       "stream": "stderr",
       "text": [
        "\r",
        "[3867 %] elapsed[sec]: 0.148 | ETA[sec]: -0.144 "
       ]
      },
      {
       "output_type": "stream",
       "stream": "stderr",
       "text": [
        "\r",
        "[3945 %] elapsed[sec]: 0.149 | ETA[sec]: -0.145 "
       ]
      },
      {
       "output_type": "stream",
       "stream": "stderr",
       "text": [
        "\r",
        "[4024 %] elapsed[sec]: 0.151 | ETA[sec]: -0.147 "
       ]
      },
      {
       "output_type": "stream",
       "stream": "stderr",
       "text": [
        "\r",
        "[4103 %] elapsed[sec]: 0.152 | ETA[sec]: -0.149 "
       ]
      },
      {
       "output_type": "stream",
       "stream": "stderr",
       "text": [
        "\r",
        "[4184 %] elapsed[sec]: 0.153 | ETA[sec]: -0.150 "
       ]
      },
      {
       "output_type": "stream",
       "stream": "stderr",
       "text": [
        "\r",
        "[4265 %] elapsed[sec]: 0.155 | ETA[sec]: -0.151 "
       ]
      },
      {
       "output_type": "stream",
       "stream": "stderr",
       "text": [
        "\r",
        "[4347 %] elapsed[sec]: 0.156 | ETA[sec]: -0.152 "
       ]
      },
      {
       "output_type": "stream",
       "stream": "stderr",
       "text": [
        "\r",
        "[4430 %] elapsed[sec]: 0.157 | ETA[sec]: -0.154 "
       ]
      },
      {
       "output_type": "stream",
       "stream": "stderr",
       "text": [
        "\r",
        "[4514 %] elapsed[sec]: 0.158 | ETA[sec]: -0.155 "
       ]
      },
      {
       "output_type": "stream",
       "stream": "stderr",
       "text": [
        "\r",
        "[4598 %] elapsed[sec]: 0.160 | ETA[sec]: -0.156 "
       ]
      },
      {
       "output_type": "stream",
       "stream": "stderr",
       "text": [
        "\r",
        "[4683 %] elapsed[sec]: 0.161 | ETA[sec]: -0.157 "
       ]
      },
      {
       "output_type": "stream",
       "stream": "stderr",
       "text": [
        "\r",
        "[4769 %] elapsed[sec]: 0.163 | ETA[sec]: -0.159 "
       ]
      },
      {
       "output_type": "stream",
       "stream": "stderr",
       "text": [
        "\r",
        "[4856 %] elapsed[sec]: 0.165 | ETA[sec]: -0.161 "
       ]
      },
      {
       "output_type": "stream",
       "stream": "stderr",
       "text": [
        "\r",
        "[4943 %] elapsed[sec]: 0.166 | ETA[sec]: -0.162 "
       ]
      },
      {
       "output_type": "stream",
       "stream": "stderr",
       "text": [
        "\r",
        "[5032 %] elapsed[sec]: 0.167 | ETA[sec]: -0.164 "
       ]
      },
      {
       "output_type": "stream",
       "stream": "stderr",
       "text": [
        "\r",
        "[5121 %] elapsed[sec]: 0.168 | ETA[sec]: -0.165 "
       ]
      },
      {
       "output_type": "stream",
       "stream": "stderr",
       "text": [
        "\r",
        "[5210 %] elapsed[sec]: 0.170 | ETA[sec]: -0.166 "
       ]
      },
      {
       "output_type": "stream",
       "stream": "stderr",
       "text": [
        "\r",
        "[5301 %] elapsed[sec]: 0.171 | ETA[sec]: -0.168 "
       ]
      },
      {
       "output_type": "stream",
       "stream": "stderr",
       "text": [
        "\r",
        "[5392 %] elapsed[sec]: 0.172 | ETA[sec]: -0.169 "
       ]
      },
      {
       "output_type": "stream",
       "stream": "stderr",
       "text": [
        "\r",
        "[5485 %] elapsed[sec]: 0.174 | ETA[sec]: -0.171 "
       ]
      },
      {
       "output_type": "stream",
       "stream": "stderr",
       "text": [
        "\r",
        "[5578 %] elapsed[sec]: 0.175 | ETA[sec]: -0.172 "
       ]
      },
      {
       "output_type": "stream",
       "stream": "stderr",
       "text": [
        "\r",
        "[5671 %] elapsed[sec]: 0.176 | ETA[sec]: -0.173 "
       ]
      },
      {
       "output_type": "stream",
       "stream": "stderr",
       "text": [
        "\r",
        "[5766 %] elapsed[sec]: 0.178 | ETA[sec]: -0.174 "
       ]
      },
      {
       "output_type": "stream",
       "stream": "stderr",
       "text": [
        "\r",
        "[5861 %] elapsed[sec]: 0.179 | ETA[sec]: -0.176 "
       ]
      },
      {
       "output_type": "stream",
       "stream": "stderr",
       "text": [
        "\r",
        "[5957 %] elapsed[sec]: 0.180 | ETA[sec]: -0.177 "
       ]
      },
      {
       "output_type": "stream",
       "stream": "stderr",
       "text": [
        "\r",
        "[6054 %] elapsed[sec]: 0.181 | ETA[sec]: -0.178 "
       ]
      },
      {
       "output_type": "stream",
       "stream": "stderr",
       "text": [
        "\r",
        "[6152 %] elapsed[sec]: 0.182 | ETA[sec]: -0.179 "
       ]
      },
      {
       "output_type": "stream",
       "stream": "stderr",
       "text": [
        "\r",
        "[6250 %] elapsed[sec]: 0.184 | ETA[sec]: -0.181 "
       ]
      },
      {
       "output_type": "stream",
       "stream": "stderr",
       "text": [
        "\r",
        "[6350 %] elapsed[sec]: 0.185 | ETA[sec]: -0.182 "
       ]
      },
      {
       "output_type": "stream",
       "stream": "stdout",
       "text": [
        "\n",
        "Title: \n",
        "                      Started: 09/22/2014 17:23:42\n",
        "                      Finished: 09/22/2014 17:23:43\n",
        "                      Total time elapsed: 0.000 sec"
       ]
      },
      {
       "output_type": "stream",
       "stream": "stderr",
       "text": [
        "\r",
        "[  0 %] elapsed[sec]: 0.000"
       ]
      },
      {
       "output_type": "stream",
       "stream": "stdout",
       "text": [
        "\n",
        "Saving sequence results/color-seed-123462.webm"
       ]
      },
      {
       "output_type": "stream",
       "stream": "stderr",
       "text": [
        "\r",
        "[  0 %] elapsed[sec]: 0.002 | ETA[sec]: 0.225 "
       ]
      },
      {
       "output_type": "stream",
       "stream": "stderr",
       "text": [
        "\r",
        "[  2 %] elapsed[sec]: 0.003 | ETA[sec]: 0.128 "
       ]
      },
      {
       "output_type": "stream",
       "stream": "stderr",
       "text": [
        "\r",
        "[  4 %] elapsed[sec]: 0.005 | ETA[sec]: 0.099 "
       ]
      },
      {
       "output_type": "stream",
       "stream": "stderr",
       "text": [
        "\r",
        "[  7 %] elapsed[sec]: 0.007 | ETA[sec]: 0.079 "
       ]
      },
      {
       "output_type": "stream",
       "stream": "stderr",
       "text": [
        "\r",
        "[ 11 %] elapsed[sec]: 0.008 | ETA[sec]: 0.064 "
       ]
      },
      {
       "output_type": "stream",
       "stream": "stderr",
       "text": [
        "\r",
        "[ 16 %] elapsed[sec]: 0.010 | ETA[sec]: 0.052 "
       ]
      },
      {
       "output_type": "stream",
       "stream": "stderr",
       "text": [
        "\r",
        "[ 21 %] elapsed[sec]: 0.012 | ETA[sec]: 0.043 "
       ]
      },
      {
       "output_type": "stream",
       "stream": "stderr",
       "text": [
        "\r",
        "[ 28 %] elapsed[sec]: 0.014 | ETA[sec]: 0.035 "
       ]
      },
      {
       "output_type": "stream",
       "stream": "stderr",
       "text": [
        "\r",
        "[ 35 %] elapsed[sec]: 0.015 | ETA[sec]: 0.027 "
       ]
      },
      {
       "output_type": "stream",
       "stream": "stderr",
       "text": [
        "\r",
        "[ 42 %] elapsed[sec]: 0.016 | ETA[sec]: 0.021 "
       ]
      },
      {
       "output_type": "stream",
       "stream": "stderr",
       "text": [
        "\r",
        "[ 51 %] elapsed[sec]: 0.017 | ETA[sec]: 0.016 "
       ]
      },
      {
       "output_type": "stream",
       "stream": "stderr",
       "text": [
        "\r",
        "[ 60 %] elapsed[sec]: 0.018 | ETA[sec]: 0.012 "
       ]
      },
      {
       "output_type": "stream",
       "stream": "stderr",
       "text": [
        "\r",
        "[ 71 %] elapsed[sec]: 0.020 | ETA[sec]: 0.008 "
       ]
      },
      {
       "output_type": "stream",
       "stream": "stderr",
       "text": [
        "\r",
        "[ 82 %] elapsed[sec]: 0.021 | ETA[sec]: 0.005 "
       ]
      },
      {
       "output_type": "stream",
       "stream": "stderr",
       "text": [
        "\r",
        "[ 93 %] elapsed[sec]: 0.023 | ETA[sec]: 0.002 "
       ]
      },
      {
       "output_type": "stream",
       "stream": "stderr",
       "text": [
        "\r",
        "[106 %] elapsed[sec]: 0.025 | ETA[sec]: -0.001 "
       ]
      },
      {
       "output_type": "stream",
       "stream": "stderr",
       "text": [
        "\r",
        "[119 %] elapsed[sec]: 0.028 | ETA[sec]: -0.005 "
       ]
      },
      {
       "output_type": "stream",
       "stream": "stderr",
       "text": [
        "\r",
        "[133 %] elapsed[sec]: 0.030 | ETA[sec]: -0.008 "
       ]
      },
      {
       "output_type": "stream",
       "stream": "stderr",
       "text": [
        "\r",
        "[148 %] elapsed[sec]: 0.032 | ETA[sec]: -0.010 "
       ]
      },
      {
       "output_type": "stream",
       "stream": "stderr",
       "text": [
        "\r",
        "[164 %] elapsed[sec]: 0.034 | ETA[sec]: -0.013 "
       ]
      },
      {
       "output_type": "stream",
       "stream": "stderr",
       "text": [
        "\r",
        "[180 %] elapsed[sec]: 0.036 | ETA[sec]: -0.016 "
       ]
      },
      {
       "output_type": "stream",
       "stream": "stderr",
       "text": [
        "\r",
        "[197 %] elapsed[sec]: 0.038 | ETA[sec]: -0.019 "
       ]
      },
      {
       "output_type": "stream",
       "stream": "stderr",
       "text": [
        "\r",
        "[215 %] elapsed[sec]: 0.040 | ETA[sec]: -0.021 "
       ]
      },
      {
       "output_type": "stream",
       "stream": "stderr",
       "text": [
        "\r",
        "[234 %] elapsed[sec]: 0.042 | ETA[sec]: -0.024 "
       ]
      },
      {
       "output_type": "stream",
       "stream": "stderr",
       "text": [
        "\r",
        "[253 %] elapsed[sec]: 0.044 | ETA[sec]: -0.027 "
       ]
      },
      {
       "output_type": "stream",
       "stream": "stderr",
       "text": [
        "\r",
        "[274 %] elapsed[sec]: 0.046 | ETA[sec]: -0.029 "
       ]
      },
      {
       "output_type": "stream",
       "stream": "stderr",
       "text": [
        "\r",
        "[295 %] elapsed[sec]: 0.048 | ETA[sec]: -0.032 "
       ]
      },
      {
       "output_type": "stream",
       "stream": "stderr",
       "text": [
        "\r",
        "[317 %] elapsed[sec]: 0.050 | ETA[sec]: -0.034 "
       ]
      },
      {
       "output_type": "stream",
       "stream": "stderr",
       "text": [
        "\r",
        "[339 %] elapsed[sec]: 0.052 | ETA[sec]: -0.037 "
       ]
      },
      {
       "output_type": "stream",
       "stream": "stderr",
       "text": [
        "\r",
        "[363 %] elapsed[sec]: 0.054 | ETA[sec]: -0.039 "
       ]
      },
      {
       "output_type": "stream",
       "stream": "stderr",
       "text": [
        "\r",
        "[387 %] elapsed[sec]: 0.056 | ETA[sec]: -0.042 "
       ]
      },
      {
       "output_type": "stream",
       "stream": "stderr",
       "text": [
        "\r",
        "[412 %] elapsed[sec]: 0.058 | ETA[sec]: -0.044 "
       ]
      },
      {
       "output_type": "stream",
       "stream": "stderr",
       "text": [
        "\r",
        "[438 %] elapsed[sec]: 0.060 | ETA[sec]: -0.046 "
       ]
      },
      {
       "output_type": "stream",
       "stream": "stderr",
       "text": [
        "\r",
        "[464 %] elapsed[sec]: 0.061 | ETA[sec]: -0.048 "
       ]
      },
      {
       "output_type": "stream",
       "stream": "stderr",
       "text": [
        "\r",
        "[492 %] elapsed[sec]: 0.063 | ETA[sec]: -0.050 "
       ]
      },
      {
       "output_type": "stream",
       "stream": "stderr",
       "text": [
        "\r",
        "[520 %] elapsed[sec]: 0.064 | ETA[sec]: -0.052 "
       ]
      },
      {
       "output_type": "stream",
       "stream": "stderr",
       "text": [
        "\r",
        "[549 %] elapsed[sec]: 0.065 | ETA[sec]: -0.053 "
       ]
      },
      {
       "output_type": "stream",
       "stream": "stderr",
       "text": [
        "\r",
        "[578 %] elapsed[sec]: 0.067 | ETA[sec]: -0.055 "
       ]
      },
      {
       "output_type": "stream",
       "stream": "stderr",
       "text": [
        "\r",
        "[609 %] elapsed[sec]: 0.068 | ETA[sec]: -0.057 "
       ]
      },
      {
       "output_type": "stream",
       "stream": "stderr",
       "text": [
        "\r",
        "[640 %] elapsed[sec]: 0.069 | ETA[sec]: -0.058 "
       ]
      },
      {
       "output_type": "stream",
       "stream": "stderr",
       "text": [
        "\r",
        "[672 %] elapsed[sec]: 0.071 | ETA[sec]: -0.060 "
       ]
      },
      {
       "output_type": "stream",
       "stream": "stderr",
       "text": [
        "\r",
        "[705 %] elapsed[sec]: 0.072 | ETA[sec]: -0.062 "
       ]
      },
      {
       "output_type": "stream",
       "stream": "stderr",
       "text": [
        "\r",
        "[739 %] elapsed[sec]: 0.074 | ETA[sec]: -0.064 "
       ]
      },
      {
       "output_type": "stream",
       "stream": "stderr",
       "text": [
        "\r",
        "[773 %] elapsed[sec]: 0.076 | ETA[sec]: -0.066 "
       ]
      },
      {
       "output_type": "stream",
       "stream": "stderr",
       "text": [
        "\r",
        "[808 %] elapsed[sec]: 0.077 | ETA[sec]: -0.068 "
       ]
      },
      {
       "output_type": "stream",
       "stream": "stderr",
       "text": [
        "\r",
        "[844 %] elapsed[sec]: 0.079 | ETA[sec]: -0.069 "
       ]
      },
      {
       "output_type": "stream",
       "stream": "stderr",
       "text": [
        "\r",
        "[881 %] elapsed[sec]: 0.080 | ETA[sec]: -0.071 "
       ]
      },
      {
       "output_type": "stream",
       "stream": "stderr",
       "text": [
        "\r",
        "[918 %] elapsed[sec]: 0.081 | ETA[sec]: -0.073 "
       ]
      },
      {
       "output_type": "stream",
       "stream": "stderr",
       "text": [
        "\r",
        "[957 %] elapsed[sec]: 0.083 | ETA[sec]: -0.074 "
       ]
      },
      {
       "output_type": "stream",
       "stream": "stderr",
       "text": [
        "\r",
        "[996 %] elapsed[sec]: 0.084 | ETA[sec]: -0.076 "
       ]
      },
      {
       "output_type": "stream",
       "stream": "stderr",
       "text": [
        "\r",
        "[1035 %] elapsed[sec]: 0.086 | ETA[sec]: -0.077 "
       ]
      },
      {
       "output_type": "stream",
       "stream": "stderr",
       "text": [
        "\r",
        "[1076 %] elapsed[sec]: 0.088 | ETA[sec]: -0.079 "
       ]
      },
      {
       "output_type": "stream",
       "stream": "stderr",
       "text": [
        "\r",
        "[1117 %] elapsed[sec]: 0.089 | ETA[sec]: -0.081 "
       ]
      },
      {
       "output_type": "stream",
       "stream": "stderr",
       "text": [
        "\r",
        "[1160 %] elapsed[sec]: 0.091 | ETA[sec]: -0.083 "
       ]
      },
      {
       "output_type": "stream",
       "stream": "stderr",
       "text": [
        "\r",
        "[1203 %] elapsed[sec]: 0.092 | ETA[sec]: -0.084 "
       ]
      },
      {
       "output_type": "stream",
       "stream": "stderr",
       "text": [
        "\r",
        "[1246 %] elapsed[sec]: 0.093 | ETA[sec]: -0.086 "
       ]
      },
      {
       "output_type": "stream",
       "stream": "stderr",
       "text": [
        "\r",
        "[1291 %] elapsed[sec]: 0.094 | ETA[sec]: -0.087 "
       ]
      },
      {
       "output_type": "stream",
       "stream": "stderr",
       "text": [
        "\r",
        "[1336 %] elapsed[sec]: 0.095 | ETA[sec]: -0.088 "
       ]
      },
      {
       "output_type": "stream",
       "stream": "stderr",
       "text": [
        "\r",
        "[1382 %] elapsed[sec]: 0.097 | ETA[sec]: -0.090 "
       ]
      },
      {
       "output_type": "stream",
       "stream": "stderr",
       "text": [
        "\r",
        "[1429 %] elapsed[sec]: 0.098 | ETA[sec]: -0.092 "
       ]
      },
      {
       "output_type": "stream",
       "stream": "stderr",
       "text": [
        "\r",
        "[1477 %] elapsed[sec]: 0.100 | ETA[sec]: -0.093 "
       ]
      },
      {
       "output_type": "stream",
       "stream": "stderr",
       "text": [
        "\r",
        "[1525 %] elapsed[sec]: 0.101 | ETA[sec]: -0.094 "
       ]
      },
      {
       "output_type": "stream",
       "stream": "stderr",
       "text": [
        "\r",
        "[1575 %] elapsed[sec]: 0.103 | ETA[sec]: -0.096 "
       ]
      },
      {
       "output_type": "stream",
       "stream": "stderr",
       "text": [
        "\r",
        "[1625 %] elapsed[sec]: 0.104 | ETA[sec]: -0.098 "
       ]
      },
      {
       "output_type": "stream",
       "stream": "stderr",
       "text": [
        "\r",
        "[1675 %] elapsed[sec]: 0.105 | ETA[sec]: -0.099 "
       ]
      },
      {
       "output_type": "stream",
       "stream": "stderr",
       "text": [
        "\r",
        "[1727 %] elapsed[sec]: 0.106 | ETA[sec]: -0.100 "
       ]
      },
      {
       "output_type": "stream",
       "stream": "stderr",
       "text": [
        "\r",
        "[1779 %] elapsed[sec]: 0.108 | ETA[sec]: -0.102 "
       ]
      },
      {
       "output_type": "stream",
       "stream": "stderr",
       "text": [
        "\r",
        "[1832 %] elapsed[sec]: 0.109 | ETA[sec]: -0.103 "
       ]
      },
      {
       "output_type": "stream",
       "stream": "stderr",
       "text": [
        "\r",
        "[1886 %] elapsed[sec]: 0.110 | ETA[sec]: -0.104 "
       ]
      },
      {
       "output_type": "stream",
       "stream": "stderr",
       "text": [
        "\r",
        "[1941 %] elapsed[sec]: 0.111 | ETA[sec]: -0.106 "
       ]
      },
      {
       "output_type": "stream",
       "stream": "stderr",
       "text": [
        "\r",
        "[1996 %] elapsed[sec]: 0.113 | ETA[sec]: -0.107 "
       ]
      },
      {
       "output_type": "stream",
       "stream": "stderr",
       "text": [
        "\r",
        "[2053 %] elapsed[sec]: 0.114 | ETA[sec]: -0.108 "
       ]
      },
      {
       "output_type": "stream",
       "stream": "stderr",
       "text": [
        "\r",
        "[2110 %] elapsed[sec]: 0.115 | ETA[sec]: -0.110 "
       ]
      },
      {
       "output_type": "stream",
       "stream": "stderr",
       "text": [
        "\r",
        "[2167 %] elapsed[sec]: 0.116 | ETA[sec]: -0.111 "
       ]
      },
      {
       "output_type": "stream",
       "stream": "stderr",
       "text": [
        "\r",
        "[2226 %] elapsed[sec]: 0.117 | ETA[sec]: -0.112 "
       ]
      },
      {
       "output_type": "stream",
       "stream": "stderr",
       "text": [
        "\r",
        "[2285 %] elapsed[sec]: 0.119 | ETA[sec]: -0.114 "
       ]
      },
      {
       "output_type": "stream",
       "stream": "stderr",
       "text": [
        "\r",
        "[2346 %] elapsed[sec]: 0.121 | ETA[sec]: -0.115 "
       ]
      },
      {
       "output_type": "stream",
       "stream": "stderr",
       "text": [
        "\r",
        "[2407 %] elapsed[sec]: 0.122 | ETA[sec]: -0.117 "
       ]
      },
      {
       "output_type": "stream",
       "stream": "stderr",
       "text": [
        "\r",
        "[2468 %] elapsed[sec]: 0.125 | ETA[sec]: -0.120 "
       ]
      },
      {
       "output_type": "stream",
       "stream": "stderr",
       "text": [
        "\r",
        "[2531 %] elapsed[sec]: 0.127 | ETA[sec]: -0.122 "
       ]
      },
      {
       "output_type": "stream",
       "stream": "stderr",
       "text": [
        "\r",
        "[2594 %] elapsed[sec]: 0.128 | ETA[sec]: -0.124 "
       ]
      },
      {
       "output_type": "stream",
       "stream": "stderr",
       "text": [
        "\r",
        "[2658 %] elapsed[sec]: 0.130 | ETA[sec]: -0.125 "
       ]
      },
      {
       "output_type": "stream",
       "stream": "stderr",
       "text": [
        "\r",
        "[2723 %] elapsed[sec]: 0.131 | ETA[sec]: -0.126 "
       ]
      },
      {
       "output_type": "stream",
       "stream": "stderr",
       "text": [
        "\r",
        "[2789 %] elapsed[sec]: 0.132 | ETA[sec]: -0.128 "
       ]
      },
      {
       "output_type": "stream",
       "stream": "stderr",
       "text": [
        "\r",
        "[2855 %] elapsed[sec]: 0.134 | ETA[sec]: -0.129 "
       ]
      },
      {
       "output_type": "stream",
       "stream": "stderr",
       "text": [
        "\r",
        "[2922 %] elapsed[sec]: 0.136 | ETA[sec]: -0.131 "
       ]
      },
      {
       "output_type": "stream",
       "stream": "stderr",
       "text": [
        "\r",
        "[2990 %] elapsed[sec]: 0.137 | ETA[sec]: -0.132 "
       ]
      },
      {
       "output_type": "stream",
       "stream": "stderr",
       "text": [
        "\r",
        "[3059 %] elapsed[sec]: 0.138 | ETA[sec]: -0.134 "
       ]
      },
      {
       "output_type": "stream",
       "stream": "stderr",
       "text": [
        "\r",
        "[3128 %] elapsed[sec]: 0.139 | ETA[sec]: -0.135 "
       ]
      },
      {
       "output_type": "stream",
       "stream": "stderr",
       "text": [
        "\r",
        "[3199 %] elapsed[sec]: 0.141 | ETA[sec]: -0.136 "
       ]
      },
      {
       "output_type": "stream",
       "stream": "stderr",
       "text": [
        "\r",
        "[3270 %] elapsed[sec]: 0.142 | ETA[sec]: -0.138 "
       ]
      },
      {
       "output_type": "stream",
       "stream": "stderr",
       "text": [
        "\r",
        "[3342 %] elapsed[sec]: 0.144 | ETA[sec]: -0.139 "
       ]
      },
      {
       "output_type": "stream",
       "stream": "stderr",
       "text": [
        "\r",
        "[3414 %] elapsed[sec]: 0.145 | ETA[sec]: -0.141 "
       ]
      },
      {
       "output_type": "stream",
       "stream": "stderr",
       "text": [
        "\r",
        "[3488 %] elapsed[sec]: 0.146 | ETA[sec]: -0.142 "
       ]
      },
      {
       "output_type": "stream",
       "stream": "stderr",
       "text": [
        "\r",
        "[3562 %] elapsed[sec]: 0.148 | ETA[sec]: -0.144 "
       ]
      },
      {
       "output_type": "stream",
       "stream": "stderr",
       "text": [
        "\r",
        "[3637 %] elapsed[sec]: 0.150 | ETA[sec]: -0.146 "
       ]
      },
      {
       "output_type": "stream",
       "stream": "stderr",
       "text": [
        "\r",
        "[3713 %] elapsed[sec]: 0.151 | ETA[sec]: -0.147 "
       ]
      },
      {
       "output_type": "stream",
       "stream": "stderr",
       "text": [
        "\r",
        "[3789 %] elapsed[sec]: 0.153 | ETA[sec]: -0.149 "
       ]
      },
      {
       "output_type": "stream",
       "stream": "stderr",
       "text": [
        "\r",
        "[3867 %] elapsed[sec]: 0.154 | ETA[sec]: -0.150 "
       ]
      },
      {
       "output_type": "stream",
       "stream": "stderr",
       "text": [
        "\r",
        "[3945 %] elapsed[sec]: 0.155 | ETA[sec]: -0.151 "
       ]
      },
      {
       "output_type": "stream",
       "stream": "stderr",
       "text": [
        "\r",
        "[4024 %] elapsed[sec]: 0.156 | ETA[sec]: -0.152 "
       ]
      },
      {
       "output_type": "stream",
       "stream": "stderr",
       "text": [
        "\r",
        "[4103 %] elapsed[sec]: 0.157 | ETA[sec]: -0.154 "
       ]
      },
      {
       "output_type": "stream",
       "stream": "stderr",
       "text": [
        "\r",
        "[4184 %] elapsed[sec]: 0.159 | ETA[sec]: -0.155 "
       ]
      },
      {
       "output_type": "stream",
       "stream": "stderr",
       "text": [
        "\r",
        "[4265 %] elapsed[sec]: 0.160 | ETA[sec]: -0.156 "
       ]
      },
      {
       "output_type": "stream",
       "stream": "stderr",
       "text": [
        "\r",
        "[4347 %] elapsed[sec]: 0.161 | ETA[sec]: -0.157 "
       ]
      },
      {
       "output_type": "stream",
       "stream": "stderr",
       "text": [
        "\r",
        "[4430 %] elapsed[sec]: 0.163 | ETA[sec]: -0.159 "
       ]
      },
      {
       "output_type": "stream",
       "stream": "stderr",
       "text": [
        "\r",
        "[4514 %] elapsed[sec]: 0.165 | ETA[sec]: -0.161 "
       ]
      },
      {
       "output_type": "stream",
       "stream": "stderr",
       "text": [
        "\r",
        "[4598 %] elapsed[sec]: 0.166 | ETA[sec]: -0.163 "
       ]
      },
      {
       "output_type": "stream",
       "stream": "stderr",
       "text": [
        "\r",
        "[4683 %] elapsed[sec]: 0.167 | ETA[sec]: -0.164 "
       ]
      },
      {
       "output_type": "stream",
       "stream": "stderr",
       "text": [
        "\r",
        "[4769 %] elapsed[sec]: 0.169 | ETA[sec]: -0.165 "
       ]
      },
      {
       "output_type": "stream",
       "stream": "stderr",
       "text": [
        "\r",
        "[4856 %] elapsed[sec]: 0.170 | ETA[sec]: -0.167 "
       ]
      },
      {
       "output_type": "stream",
       "stream": "stderr",
       "text": [
        "\r",
        "[4943 %] elapsed[sec]: 0.172 | ETA[sec]: -0.168 "
       ]
      },
      {
       "output_type": "stream",
       "stream": "stderr",
       "text": [
        "\r",
        "[5032 %] elapsed[sec]: 0.174 | ETA[sec]: -0.170 "
       ]
      },
      {
       "output_type": "stream",
       "stream": "stderr",
       "text": [
        "\r",
        "[5121 %] elapsed[sec]: 0.176 | ETA[sec]: -0.172 "
       ]
      },
      {
       "output_type": "stream",
       "stream": "stderr",
       "text": [
        "\r",
        "[5210 %] elapsed[sec]: 0.177 | ETA[sec]: -0.173 "
       ]
      },
      {
       "output_type": "stream",
       "stream": "stderr",
       "text": [
        "\r",
        "[5301 %] elapsed[sec]: 0.178 | ETA[sec]: -0.175 "
       ]
      },
      {
       "output_type": "stream",
       "stream": "stderr",
       "text": [
        "\r",
        "[5392 %] elapsed[sec]: 0.179 | ETA[sec]: -0.176 "
       ]
      },
      {
       "output_type": "stream",
       "stream": "stderr",
       "text": [
        "\r",
        "[5485 %] elapsed[sec]: 0.180 | ETA[sec]: -0.177 "
       ]
      },
      {
       "output_type": "stream",
       "stream": "stderr",
       "text": [
        "\r",
        "[5578 %] elapsed[sec]: 0.182 | ETA[sec]: -0.178 "
       ]
      },
      {
       "output_type": "stream",
       "stream": "stderr",
       "text": [
        "\r",
        "[5671 %] elapsed[sec]: 0.183 | ETA[sec]: -0.180 "
       ]
      },
      {
       "output_type": "stream",
       "stream": "stderr",
       "text": [
        "\r",
        "[5766 %] elapsed[sec]: 0.184 | ETA[sec]: -0.181 "
       ]
      },
      {
       "output_type": "stream",
       "stream": "stderr",
       "text": [
        "\r",
        "[5861 %] elapsed[sec]: 0.185 | ETA[sec]: -0.182 "
       ]
      },
      {
       "output_type": "stream",
       "stream": "stderr",
       "text": [
        "\r",
        "[5957 %] elapsed[sec]: 0.187 | ETA[sec]: -0.184 "
       ]
      },
      {
       "output_type": "stream",
       "stream": "stderr",
       "text": [
        "\r",
        "[6054 %] elapsed[sec]: 0.188 | ETA[sec]: -0.185 "
       ]
      },
      {
       "output_type": "stream",
       "stream": "stderr",
       "text": [
        "\r",
        "[6152 %] elapsed[sec]: 0.189 | ETA[sec]: -0.186 "
       ]
      },
      {
       "output_type": "stream",
       "stream": "stderr",
       "text": [
        "\r",
        "[6250 %] elapsed[sec]: 0.191 | ETA[sec]: -0.188 "
       ]
      },
      {
       "output_type": "stream",
       "stream": "stderr",
       "text": [
        "\r",
        "[6350 %] elapsed[sec]: 0.192 | ETA[sec]: -0.189 "
       ]
      },
      {
       "output_type": "stream",
       "stream": "stdout",
       "text": [
        "\n",
        "Title: \n",
        "                      Started: 09/22/2014 17:23:43\n",
        "                      Finished: 09/22/2014 17:23:43\n",
        "                      Total time elapsed: 0.000 sec"
       ]
      },
      {
       "output_type": "stream",
       "stream": "stdout",
       "text": [
        "\n"
       ]
      }
     ],
     "prompt_number": 5
    },
    {
     "cell_type": "heading",
     "level": 2,
     "metadata": {},
     "source": [
      "Testing the speed"
     ]
    },
    {
     "cell_type": "code",
     "collapsed": false,
     "input": [
      "%run test_speed.py"
     ],
     "language": "python",
     "metadata": {},
     "outputs": [
      {
       "output_type": "stream",
       "stream": "stderr",
       "text": [
        "/usr/local/lib/python2.7/site-packages/traits/has_traits.py:1536: FutureWarning: comparison to `None` will result in an elementwise object comparison in the future.\n",
        "  setattr( self, name, value )\n",
        "/usr/local/lib/python2.7/site-packages/traits/has_traits.py:1541: FutureWarning: comparison to `None` will result in an elementwise object comparison in the future.\n",
        "  setattr( self, name, value )\n"
       ]
      }
     ],
     "prompt_number": 6
    },
    {
     "cell_type": "heading",
     "level": 2,
     "metadata": {},
     "source": [
      "Exploring the orientation component of the envelope around a grating.\n"
     ]
    },
    {
     "cell_type": "code",
     "collapsed": false,
     "input": [
      "%run test_grating.py"
     ],
     "language": "python",
     "metadata": {},
     "outputs": [],
     "prompt_number": 9
    },
    {
     "cell_type": "code",
     "collapsed": false,
     "input": [
      "%run test_radial.py"
     ],
     "language": "python",
     "metadata": {},
     "outputs": [
      {
       "ename": "AttributeError",
       "evalue": "'NoneType' object has no attribute 'shape'",
       "output_type": "pyerr",
       "traceback": [
        "\u001b[0;31m---------------------------------------------------------------------------\u001b[0m\n\u001b[0;31mAttributeError\u001b[0m                            Traceback (most recent call last)",
        "\u001b[0;32m/Users/lolo/Dropbox/science/MotionClouds/test_radial.py\u001b[0m in \u001b[0;36m<module>\u001b[0;34m()\u001b[0m\n\u001b[1;32m     17\u001b[0m \u001b[0mfx\u001b[0m\u001b[0;34m,\u001b[0m \u001b[0mfy\u001b[0m\u001b[0;34m,\u001b[0m \u001b[0mft\u001b[0m \u001b[0;34m=\u001b[0m \u001b[0mmc\u001b[0m\u001b[0;34m.\u001b[0m\u001b[0mget_grids\u001b[0m\u001b[0;34m(\u001b[0m\u001b[0mmc\u001b[0m\u001b[0;34m.\u001b[0m\u001b[0mN_X\u001b[0m\u001b[0;34m,\u001b[0m \u001b[0mmc\u001b[0m\u001b[0;34m.\u001b[0m\u001b[0mN_Y\u001b[0m\u001b[0;34m,\u001b[0m \u001b[0mmc\u001b[0m\u001b[0;34m.\u001b[0m\u001b[0mN_frame\u001b[0m\u001b[0;34m)\u001b[0m\u001b[0;34m\u001b[0m\u001b[0m\n\u001b[1;32m     18\u001b[0m \u001b[0;34m\u001b[0m\u001b[0m\n\u001b[0;32m---> 19\u001b[0;31m \u001b[0mmc\u001b[0m\u001b[0;34m.\u001b[0m\u001b[0mfigures_MC\u001b[0m\u001b[0;34m(\u001b[0m\u001b[0mfx\u001b[0m\u001b[0;34m,\u001b[0m \u001b[0mfy\u001b[0m\u001b[0;34m,\u001b[0m \u001b[0mft\u001b[0m\u001b[0;34m,\u001b[0m \u001b[0mname\u001b[0m\u001b[0;34m,\u001b[0m \u001b[0mB_theta\u001b[0m\u001b[0;34m=\u001b[0m\u001b[0mB_theta\u001b[0m\u001b[0;34m)\u001b[0m\u001b[0;34m\u001b[0m\u001b[0m\n\u001b[0m\u001b[1;32m     20\u001b[0m \u001b[0mverbose\u001b[0m \u001b[0;34m=\u001b[0m \u001b[0mFalse\u001b[0m\u001b[0;34m\u001b[0m\u001b[0m\n\u001b[1;32m     21\u001b[0m \u001b[0;34m\u001b[0m\u001b[0m\n",
        "\u001b[0;32m/usr/local/lib/python2.7/site-packages/MotionClouds/MotionClouds.pyc\u001b[0m in \u001b[0;36mfigures_MC\u001b[0;34m(fx, fy, ft, name, V_X, V_Y, do_figs, do_movie, B_V, sf_0, B_sf, loggabor, theta, B_theta, alpha, vext, seed, impulse, do_amp, verbose)\u001b[0m\n\u001b[1;32m    607\u001b[0m     \u001b[0;32melse\u001b[0m\u001b[0;34m:\u001b[0m\u001b[0;34m\u001b[0m\u001b[0m\n\u001b[1;32m    608\u001b[0m         figures(z=None, name=name, vext=vext, do_figs=do_figs, do_movie=do_movie,\n\u001b[0;32m--> 609\u001b[0;31m                     seed=seed, impulse=impulse, verbose=verbose, do_amp=do_amp)\n\u001b[0m\u001b[1;32m    610\u001b[0m \u001b[0;34m\u001b[0m\u001b[0m\n\u001b[1;32m    611\u001b[0m def figures(z=None, name='MC', vext=vext, do_movie=True, do_figs=True,\n",
        "\u001b[0;32m/usr/local/lib/python2.7/site-packages/MotionClouds/MotionClouds.pyc\u001b[0m in \u001b[0;36mfigures\u001b[0;34m(z, name, vext, do_movie, do_figs, seed, impulse, verbose, masking, do_amp)\u001b[0m\n\u001b[1;32m    615\u001b[0m \u001b[0;34m\u001b[0m\u001b[0m\n\u001b[1;32m    616\u001b[0m     \u001b[0;32mif\u001b[0m \u001b[0;34m(\u001b[0m\u001b[0;34m(\u001b[0m\u001b[0mMAYAVI\u001b[0m \u001b[0;34m==\u001b[0m \u001b[0;34m'Import'\u001b[0m\u001b[0;34m)\u001b[0m \u001b[0;32mor\u001b[0m \u001b[0mMAYAVI\u001b[0m\u001b[0;34m[\u001b[0m\u001b[0;34m:\u001b[0m\u001b[0;36m2\u001b[0m\u001b[0;34m]\u001b[0m\u001b[0;34m==\u001b[0m\u001b[0;34m'Ok'\u001b[0m\u001b[0;34m)\u001b[0m \u001b[0;32mand\u001b[0m \u001b[0mdo_figs\u001b[0m \u001b[0;32mand\u001b[0m \u001b[0mcheck_if_anim_exist\u001b[0m\u001b[0;34m(\u001b[0m\u001b[0mname\u001b[0m\u001b[0;34m,\u001b[0m \u001b[0mvext\u001b[0m\u001b[0;34m=\u001b[0m\u001b[0mext\u001b[0m\u001b[0;34m)\u001b[0m\u001b[0;34m:\u001b[0m\u001b[0;34m\u001b[0m\u001b[0m\n\u001b[0;32m--> 617\u001b[0;31m         \u001b[0mvisualize\u001b[0m\u001b[0;34m(\u001b[0m\u001b[0mz\u001b[0m\u001b[0;34m,\u001b[0m \u001b[0mname\u001b[0m\u001b[0;34m=\u001b[0m\u001b[0mos\u001b[0m\u001b[0;34m.\u001b[0m\u001b[0mpath\u001b[0m\u001b[0;34m.\u001b[0m\u001b[0mjoin\u001b[0m\u001b[0;34m(\u001b[0m\u001b[0mfigpath\u001b[0m\u001b[0;34m,\u001b[0m \u001b[0mname\u001b[0m\u001b[0;34m)\u001b[0m\u001b[0;34m)\u001b[0m           \u001b[0;31m# Visualize the Fourier Spectrum\u001b[0m\u001b[0;34m\u001b[0m\u001b[0m\n\u001b[0m\u001b[1;32m    618\u001b[0m \u001b[0;34m\u001b[0m\u001b[0m\n\u001b[1;32m    619\u001b[0m     \u001b[0;32mif\u001b[0m \u001b[0;34m(\u001b[0m\u001b[0mdo_movie\u001b[0m \u001b[0;32mand\u001b[0m \u001b[0mcheck_if_anim_exist\u001b[0m\u001b[0;34m(\u001b[0m\u001b[0mname\u001b[0m\u001b[0;34m,\u001b[0m \u001b[0mvext\u001b[0m\u001b[0;34m=\u001b[0m\u001b[0mvext\u001b[0m\u001b[0;34m)\u001b[0m\u001b[0;34m)\u001b[0m \u001b[0;32mor\u001b[0m \u001b[0;34m(\u001b[0m\u001b[0;34m(\u001b[0m\u001b[0;34m(\u001b[0m\u001b[0mMAYAVI\u001b[0m \u001b[0;34m==\u001b[0m \u001b[0;34m'Import'\u001b[0m\u001b[0;34m)\u001b[0m \u001b[0;32mor\u001b[0m \u001b[0mMAYAVI\u001b[0m\u001b[0;34m[\u001b[0m\u001b[0;34m:\u001b[0m\u001b[0;36m2\u001b[0m\u001b[0;34m]\u001b[0m\u001b[0;34m==\u001b[0m\u001b[0;34m'Ok'\u001b[0m\u001b[0;34m)\u001b[0m \u001b[0;32mand\u001b[0m \u001b[0mdo_figs\u001b[0m \u001b[0;32mand\u001b[0m \u001b[0mcheck_if_anim_exist\u001b[0m\u001b[0;34m(\u001b[0m\u001b[0mname\u001b[0m \u001b[0;34m+\u001b[0m \u001b[0;34m'_cube'\u001b[0m\u001b[0;34m,\u001b[0m \u001b[0mvext\u001b[0m\u001b[0;34m=\u001b[0m\u001b[0mext\u001b[0m\u001b[0;34m)\u001b[0m\u001b[0;34m)\u001b[0m\u001b[0;34m:\u001b[0m\u001b[0;34m\u001b[0m\u001b[0m\n",
        "\u001b[0;32m/usr/local/lib/python2.7/site-packages/MotionClouds/MotionClouds.pyc\u001b[0m in \u001b[0;36mvisualize\u001b[0;34m(z, azimuth, elevation, thresholds, opacities, name, ext, do_axis, do_grids, draw_projections, colorbar, f_N, f_tN, figsize)\u001b[0m\n\u001b[1;32m    260\u001b[0m     \u001b[0mimport_mayavi\u001b[0m\u001b[0;34m(\u001b[0m\u001b[0;34m)\u001b[0m\u001b[0;34m\u001b[0m\u001b[0m\n\u001b[1;32m    261\u001b[0m \u001b[0;34m\u001b[0m\u001b[0m\n\u001b[0;32m--> 262\u001b[0;31m     \u001b[0mN_X\u001b[0m\u001b[0;34m,\u001b[0m \u001b[0mN_Y\u001b[0m\u001b[0;34m,\u001b[0m \u001b[0mN_frame\u001b[0m \u001b[0;34m=\u001b[0m \u001b[0mz\u001b[0m\u001b[0;34m.\u001b[0m\u001b[0mshape\u001b[0m\u001b[0;34m\u001b[0m\u001b[0m\n\u001b[0m\u001b[1;32m    263\u001b[0m     \u001b[0mfx\u001b[0m\u001b[0;34m,\u001b[0m \u001b[0mfy\u001b[0m\u001b[0;34m,\u001b[0m \u001b[0mft\u001b[0m \u001b[0;34m=\u001b[0m \u001b[0mget_grids\u001b[0m\u001b[0;34m(\u001b[0m\u001b[0mN_X\u001b[0m\u001b[0;34m,\u001b[0m \u001b[0mN_Y\u001b[0m\u001b[0;34m,\u001b[0m \u001b[0mN_frame\u001b[0m\u001b[0;34m,\u001b[0m \u001b[0msparse\u001b[0m\u001b[0;34m=\u001b[0m\u001b[0mFalse\u001b[0m\u001b[0;34m)\u001b[0m\u001b[0;34m\u001b[0m\u001b[0m\n\u001b[1;32m    264\u001b[0m \u001b[0;34m\u001b[0m\u001b[0m\n",
        "\u001b[0;31mAttributeError\u001b[0m: 'NoneType' object has no attribute 'shape'"
       ]
      }
     ],
     "prompt_number": 8
    },
    {
     "cell_type": "code",
     "collapsed": false,
     "input": [
      "%cd -b root"
     ],
     "language": "python",
     "metadata": {},
     "outputs": []
    }
   ],
   "metadata": {}
  }
 ]
}